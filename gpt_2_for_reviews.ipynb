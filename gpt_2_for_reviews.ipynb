{
  "nbformat": 4,
  "nbformat_minor": 0,
  "metadata": {
    "colab": {
      "name": "gpt_2_for_reviews.ipynb",
      "version": "0.3.2",
      "provenance": [],
      "collapsed_sections": []
    },
    "kernelspec": {
      "name": "python3",
      "display_name": "Python 3"
    },
    "accelerator": "GPU"
  },
  "cells": [
    {
      "cell_type": "markdown",
      "metadata": {
        "id": "5u6MjGQAuzWN",
        "colab_type": "text"
      },
      "source": [
        "# Sample Steam Reviews with GPT-2\n",
        "Code inspired from https://github.com/woctezuma/sample-steam-reviews-with-gpt-2"
      ]
    },
    {
      "cell_type": "markdown",
      "metadata": {
        "id": "2KjP9yVVveN1",
        "colab_type": "text"
      },
      "source": [
        "## Setting the GPT-2 model"
      ]
    },
    {
      "cell_type": "markdown",
      "metadata": {
        "colab_type": "text",
        "id": "A1zEYHxh304_"
      },
      "source": [
        "Install the Python package\n",
        "\n",
        "Reference: https://github.com/minimaxir/gpt-2-simple"
      ]
    },
    {
      "cell_type": "code",
      "metadata": {
        "id": "_1ruwgwCuEHd",
        "colab_type": "code",
        "outputId": "794b6492-fe54-4e80-f138-eb73c34a1e44",
        "colab": {
          "base_uri": "https://localhost:8080/",
          "height": 201
        }
      },
      "source": [
        "!pip install gpt_2_simple"
      ],
      "execution_count": 1,
      "outputs": [
        {
          "output_type": "stream",
          "text": [
            "Requirement already satisfied: gpt_2_simple in /usr/local/lib/python3.6/dist-packages (0.4.2)\n",
            "Requirement already satisfied: toposort in /usr/local/lib/python3.6/dist-packages (from gpt_2_simple) (1.5)\n",
            "Requirement already satisfied: regex in /usr/local/lib/python3.6/dist-packages (from gpt_2_simple) (2018.1.10)\n",
            "Requirement already satisfied: numpy in /usr/local/lib/python3.6/dist-packages (from gpt_2_simple) (1.16.3)\n",
            "Requirement already satisfied: requests in /usr/local/lib/python3.6/dist-packages (from gpt_2_simple) (2.21.0)\n",
            "Requirement already satisfied: tqdm in /usr/local/lib/python3.6/dist-packages (from gpt_2_simple) (4.28.1)\n",
            "Requirement already satisfied: idna<2.9,>=2.5 in /usr/local/lib/python3.6/dist-packages (from requests->gpt_2_simple) (2.8)\n",
            "Requirement already satisfied: urllib3<1.25,>=1.21.1 in /usr/local/lib/python3.6/dist-packages (from requests->gpt_2_simple) (1.24.2)\n",
            "Requirement already satisfied: certifi>=2017.4.17 in /usr/local/lib/python3.6/dist-packages (from requests->gpt_2_simple) (2019.3.9)\n",
            "Requirement already satisfied: chardet<3.1.0,>=3.0.2 in /usr/local/lib/python3.6/dist-packages (from requests->gpt_2_simple) (3.0.4)\n"
          ],
          "name": "stdout"
        }
      ]
    },
    {
      "cell_type": "markdown",
      "metadata": {
        "id": "nTkq7wEQwEkZ",
        "colab_type": "text"
      },
      "source": [
        "Download the pre-trained model"
      ]
    },
    {
      "cell_type": "code",
      "metadata": {
        "id": "_pdkhHU6wd12",
        "colab_type": "code",
        "colab": {}
      },
      "source": [
        "import gpt_2_simple as gpt2\n",
        "from datetime import datetime\n",
        "from google.colab import files"
      ],
      "execution_count": 0,
      "outputs": []
    },
    {
      "cell_type": "markdown",
      "metadata": {
        "id": "0ggC2Mc75BnB",
        "colab_type": "text"
      },
      "source": [
        "## Downloading GPT-2"
      ]
    },
    {
      "cell_type": "markdown",
      "metadata": {
        "id": "6r3939YUqT9K",
        "colab_type": "text"
      },
      "source": [
        "Choose between `117M` and `345M` models"
      ]
    },
    {
      "cell_type": "code",
      "metadata": {
        "id": "NW4vZzlyqOnc",
        "colab_type": "code",
        "colab": {}
      },
      "source": [
        "# model_name = '117M'\n",
        "model_name = '345M'"
      ],
      "execution_count": 0,
      "outputs": []
    },
    {
      "cell_type": "markdown",
      "metadata": {
        "id": "4_hrBy2DqR5M",
        "colab_type": "text"
      },
      "source": [
        "Download"
      ]
    },
    {
      "cell_type": "code",
      "metadata": {
        "id": "_-If30nT4ZCb",
        "colab_type": "code",
        "outputId": "9b6161ae-c213-42a6-d7c3-7005830046f3",
        "colab": {
          "base_uri": "https://localhost:8080/",
          "height": 146
        }
      },
      "source": [
        "gpt2.download_gpt2(model_name=model_name)"
      ],
      "execution_count": 4,
      "outputs": [
        {
          "output_type": "stream",
          "text": [
            "Fetching checkpoint: 1.00kit [00:00, 292kit/s]                                                      \n",
            "Fetching encoder.json: 1.04Mit [00:00, 40.5Mit/s]                                                   \n",
            "Fetching hparams.json: 1.00kit [00:00, 609kit/s]                                                    \n",
            "Fetching model.ckpt.data-00000-of-00001: 1.42Git [00:23, 59.2Mit/s]                                 \n",
            "Fetching model.ckpt.index: 11.0kit [00:00, 3.06Mit/s]                                               \n",
            "Fetching model.ckpt.meta: 927kit [00:00, 42.2Mit/s]                                                 \n",
            "Fetching vocab.bpe: 457kit [00:00, 38.6Mit/s]                                                       \n"
          ],
          "name": "stderr"
        }
      ]
    },
    {
      "cell_type": "markdown",
      "metadata": {
        "id": "e9sI2rah5OyB",
        "colab_type": "text"
      },
      "source": [
        "## Uploading a Text File to be Trained to Colaboratory"
      ]
    },
    {
      "cell_type": "markdown",
      "metadata": {
        "id": "r82T8yOm8jyL",
        "colab_type": "text"
      },
      "source": [
        "#### Either get the data by yourself"
      ]
    },
    {
      "cell_type": "code",
      "metadata": {
        "id": "CsEEvL5b8IDE",
        "colab_type": "code",
        "outputId": "31f2bf25-60c1-49d7-aa0a-b5bdb9814850",
        "colab": {
          "base_uri": "https://localhost:8080/",
          "height": 72
        }
      },
      "source": [
        "!curl -O https://raw.githubusercontent.com/woctezuma/sample-steam-reviews-with-gpt-2/master/export_review_data.py"
      ],
      "execution_count": 5,
      "outputs": [
        {
          "output_type": "stream",
          "text": [
            "  % Total    % Received % Xferd  Average Speed   Time    Time     Time  Current\n",
            "                                 Dload  Upload   Total   Spent    Left  Speed\n",
            "\r  0     0    0     0    0     0      0      0 --:--:-- --:--:-- --:--:--     0\r100  7198  100  7198    0     0  43361      0 --:--:-- --:--:-- --:--:-- 43361\n"
          ],
          "name": "stdout"
        }
      ]
    },
    {
      "cell_type": "code",
      "metadata": {
        "id": "zJLNxAhg8IQz",
        "colab_type": "code",
        "outputId": "f9d4a4d4-8de0-4a7e-f065-6907b0d92b1b",
        "colab": {
          "base_uri": "https://localhost:8080/",
          "height": 72
        }
      },
      "source": [
        "!curl -O https://raw.githubusercontent.com/woctezuma/sample-steam-reviews-with-gpt-2/master/requirements.txt"
      ],
      "execution_count": 6,
      "outputs": [
        {
          "output_type": "stream",
          "text": [
            "  % Total    % Received % Xferd  Average Speed   Time    Time     Time  Current\n",
            "                                 Dload  Upload   Total   Spent    Left  Speed\n",
            "\r  0     0    0     0    0     0      0      0 --:--:-- --:--:-- --:--:--     0\r100    37  100    37    0     0    253      0 --:--:-- --:--:-- --:--:--   253\n"
          ],
          "name": "stdout"
        }
      ]
    },
    {
      "cell_type": "code",
      "metadata": {
        "id": "HMhEG1Xi8UZF",
        "colab_type": "code",
        "outputId": "2ebf50ba-1177-4039-8436-b13a8a58a65a",
        "colab": {
          "base_uri": "https://localhost:8080/",
          "height": 164
        }
      },
      "source": [
        "!pip install -r requirements.txt"
      ],
      "execution_count": 7,
      "outputs": [
        {
          "output_type": "stream",
          "text": [
            "Requirement already satisfied: steamreviews==0.8.0 in /usr/local/lib/python3.6/dist-packages (from -r requirements.txt (line 1)) (0.8.0)\n",
            "Requirement already satisfied: langdetect==1.0.7 in /usr/local/lib/python3.6/dist-packages (from -r requirements.txt (line 2)) (1.0.7)\n",
            "Requirement already satisfied: requests in /usr/local/lib/python3.6/dist-packages (from steamreviews==0.8.0->-r requirements.txt (line 1)) (2.21.0)\n",
            "Requirement already satisfied: six in /usr/local/lib/python3.6/dist-packages (from langdetect==1.0.7->-r requirements.txt (line 2)) (1.12.0)\n",
            "Requirement already satisfied: chardet<3.1.0,>=3.0.2 in /usr/local/lib/python3.6/dist-packages (from requests->steamreviews==0.8.0->-r requirements.txt (line 1)) (3.0.4)\n",
            "Requirement already satisfied: urllib3<1.25,>=1.21.1 in /usr/local/lib/python3.6/dist-packages (from requests->steamreviews==0.8.0->-r requirements.txt (line 1)) (1.24.2)\n",
            "Requirement already satisfied: idna<2.9,>=2.5 in /usr/local/lib/python3.6/dist-packages (from requests->steamreviews==0.8.0->-r requirements.txt (line 1)) (2.8)\n",
            "Requirement already satisfied: certifi>=2017.4.17 in /usr/local/lib/python3.6/dist-packages (from requests->steamreviews==0.8.0->-r requirements.txt (line 1)) (2019.3.9)\n"
          ],
          "name": "stdout"
        }
      ]
    },
    {
      "cell_type": "code",
      "metadata": {
        "id": "LWekXOQGBD1j",
        "colab_type": "code",
        "colab": {}
      },
      "source": [
        "# app_id = 583950 # Artifact\n",
        "app_id = 369990\n",
        "\n",
        "# num_days = 28*3 # slightly less than 3 months\n",
        "num_days = -1 # no time limit if negative"
      ],
      "execution_count": 0,
      "outputs": []
    },
    {
      "cell_type": "code",
      "metadata": {
        "id": "A9sMp0WC8aP7",
        "colab_type": "code",
        "outputId": "6c7c4ac6-760d-4e22-be43-4fa9e1291a65",
        "colab": {
          "base_uri": "https://localhost:8080/",
          "height": 164
        }
      },
      "source": [
        "from export_review_data import apply_workflow_for_app_id\n",
        "\n",
        "apply_workflow_for_app_id(app_id,\n",
        "                          num_days=num_days)"
      ],
      "execution_count": 9,
      "outputs": [
        {
          "output_type": "stream",
          "text": [
            "[appID = 369990] expected #reviews = 856\n",
            "#reviews = 856\n",
            "Filtering out reviews which were not written in english.\n",
            "#reviews = 856\n",
            "Filtering out reviews with strictly fewer than 150 characters.\n",
            "#reviews = 504\n",
            "Filtering out reviews which were not detected as written in en.\n",
            "#reviews = 501\n"
          ],
          "name": "stdout"
        }
      ]
    },
    {
      "cell_type": "markdown",
      "metadata": {
        "id": "7LPbkB998g-B",
        "colab_type": "text"
      },
      "source": [
        "#### Or get a data snapshot from me\n",
        "\n",
        "Currently only possible for Artifact, as an example, because the recommended way is to run the code above for the game of your choice instead."
      ]
    },
    {
      "cell_type": "code",
      "metadata": {
        "id": "FIR9fBid5U2w",
        "colab_type": "code",
        "colab": {}
      },
      "source": [
        "!mkdir -p data/\n",
        "\n",
        "## Either Artifact (recent reviews):\n",
        "# !curl -O https://raw.githubusercontent.com/woctezuma/sample-steam-reviews-with-gpt-2/master/data/with_delimiters/583950.txt\n",
        "# !mv 583950.txt data/\n",
        "\n",
        "## Or Crusader Kings II (all the English reviews):\n",
        "# !curl -O https://raw.githubusercontent.com/wiki/woctezuma/sample-steam-reviews-with-gpt-2/data/with_delimiters/203770.txt\n",
        "# !mv 203770.txt data/"
      ],
      "execution_count": 0,
      "outputs": []
    },
    {
      "cell_type": "markdown",
      "metadata": {
        "id": "AjmpOgoa5y7Q",
        "colab_type": "text"
      },
      "source": [
        "## Finetune GPT-2"
      ]
    },
    {
      "cell_type": "code",
      "metadata": {
        "id": "cu5ctG0DBLIe",
        "colab_type": "code",
        "colab": {}
      },
      "source": [
        "file_name = 'data/' + str(app_id) + '.txt'\n",
        "\n",
        "run_name = model_name + '_reviews_' + str(app_id)"
      ],
      "execution_count": 0,
      "outputs": []
    },
    {
      "cell_type": "code",
      "metadata": {
        "id": "Bfg4HYZl56JJ",
        "colab_type": "code",
        "outputId": "2392d8bc-61f9-4e89-ba80-fb037ba02f12",
        "colab": {
          "base_uri": "https://localhost:8080/",
          "height": 4151
        }
      },
      "source": [
        "sess = gpt2.start_tf_sess()\n",
        "\n",
        "gpt2.finetune(sess,\n",
        "              run_name=run_name,\n",
        "              dataset=file_name,\n",
        "              model_name=model_name,\n",
        "              steps=1000,\n",
        "              restore_from='fresh',   # change to 'latest' to resume training\n",
        "              print_every=10,   # how many steps between printing progress\n",
        "              sample_every=200,   # how many steps to print a demo sample\n",
        "              save_every=500   # how many steps between saving checkpoint              \n",
        "              )"
      ],
      "execution_count": 12,
      "outputs": [
        {
          "output_type": "stream",
          "text": [
            "WARNING:tensorflow:From /usr/local/lib/python3.6/dist-packages/tensorflow/python/framework/op_def_library.py:263: colocate_with (from tensorflow.python.framework.ops) is deprecated and will be removed in a future version.\n",
            "Instructions for updating:\n",
            "Colocations handled automatically by placer.\n",
            "WARNING:tensorflow:From /usr/local/lib/python3.6/dist-packages/gpt_2_simple/src/sample.py:51: to_float (from tensorflow.python.ops.math_ops) is deprecated and will be removed in a future version.\n",
            "Instructions for updating:\n",
            "Use tf.cast instead.\n",
            "WARNING:tensorflow:From /usr/local/lib/python3.6/dist-packages/gpt_2_simple/src/sample.py:53: multinomial (from tensorflow.python.ops.random_ops) is deprecated and will be removed in a future version.\n",
            "Instructions for updating:\n",
            "Use tf.random.categorical instead.\n",
            "WARNING:tensorflow:From /usr/local/lib/python3.6/dist-packages/tensorflow/python/ops/math_ops.py:3066: to_int32 (from tensorflow.python.ops.math_ops) is deprecated and will be removed in a future version.\n",
            "Instructions for updating:\n",
            "Use tf.cast instead.\n",
            "WARNING:tensorflow:From /usr/local/lib/python3.6/dist-packages/tensorflow/python/ops/math_grad.py:102: div (from tensorflow.python.ops.math_ops) is deprecated and will be removed in a future version.\n",
            "Instructions for updating:\n",
            "Deprecated in favor of operator or tf.math.divide.\n",
            "Loading checkpoint models/345M/model.ckpt\n",
            "WARNING:tensorflow:From /usr/local/lib/python3.6/dist-packages/tensorflow/python/training/saver.py:1266: checkpoint_exists (from tensorflow.python.training.checkpoint_management) is deprecated and will be removed in a future version.\n",
            "Instructions for updating:\n",
            "Use standard file APIs to check for files with this prefix.\n",
            "INFO:tensorflow:Restoring parameters from models/345M/model.ckpt\n"
          ],
          "name": "stdout"
        },
        {
          "output_type": "stream",
          "text": [
            "\r  0%|          | 0/1 [00:00<?, ?it/s]"
          ],
          "name": "stderr"
        },
        {
          "output_type": "stream",
          "text": [
            "Loading dataset...\n"
          ],
          "name": "stdout"
        },
        {
          "output_type": "stream",
          "text": [
            "\r100%|██████████| 1/1 [00:00<00:00,  1.43it/s]\n"
          ],
          "name": "stderr"
        },
        {
          "output_type": "stream",
          "text": [
            "dataset has 92284 tokens\n",
            "Training...\n",
            "[10 | 22.46] loss=2.77 avg=2.77\n",
            "[20 | 37.61] loss=2.97 avg=2.87\n",
            "[30 | 52.90] loss=2.85 avg=2.86\n",
            "[40 | 68.37] loss=2.29 avg=2.72\n",
            "[50 | 83.96] loss=2.05 avg=2.58\n",
            "[60 | 99.61] loss=2.24 avg=2.52\n",
            "[70 | 115.40] loss=2.76 avg=2.56\n",
            "[80 | 131.28] loss=2.00 avg=2.49\n",
            "[90 | 147.19] loss=2.42 avg=2.48\n",
            "[100 | 163.11] loss=2.55 avg=2.49\n",
            "[110 | 179.09] loss=3.25 avg=2.56\n",
            "[120 | 195.12] loss=2.45 avg=2.55\n",
            "[130 | 211.21] loss=1.63 avg=2.47\n",
            "[140 | 227.35] loss=1.86 avg=2.43\n",
            "[150 | 243.55] loss=1.49 avg=2.36\n",
            "[160 | 259.81] loss=2.78 avg=2.39\n",
            "[170 | 276.12] loss=2.77 avg=2.41\n",
            "[180 | 292.48] loss=2.32 avg=2.41\n",
            "[190 | 308.87] loss=2.99 avg=2.44\n",
            "[200 | 325.27] loss=1.83 avg=2.41\n",
            "======== SAMPLE 1 ========\n",
            "comb] <|endoftext|>\n",
            "<|startoftext|>I was never one to get along, but when two friends decided to make a game together I was hooked and completely smitten.\n",
            "The gameplay is complex, dynamic, and a pleasure to play. There's a ton of options that all influence the course of the game (which may affect how you play) and while all this is going on there's also strategy, which is what makes it fun.\n",
            "The graphics, sound and overall design of the game are top notch, and I love the art work there's for both male and female characters. The music is amazing and if you like boardgames check this one out.<|endoftext|>\n",
            "<|startoftext|>A little confusing at first.  But it's not too difficult. It can be frustrating if play for too long.\n",
            "I recommend giving it a chance.  You will get a game on when you learn your options.\n",
            "You may find it hard to figure out what to do, or when you just do something and it's not working.  It is a very good learning curve.\n",
            "You will slowly learn how to control your movements, and the various cards that can accomplish the same thing.\n",
            "All players play from the same deck, so any strategy will have to consist of getting that deck to zero by the end of the set.  You can't plan much, you have to pay the consequences of your actions at every turn; so when you can't do something, you just have to roll a dice to move?  If so, the next turn is very long and very dicey.  So you have to be patient enough to not be penalized for your actions, or you could be sent to jail.\n",
            "Also, all players have the same set of stats:  Intelligence , Willpower , Luck , and so on.  And while some stats are more useful than others, all players will usually score more than others in each game.\n",
            "I think the basic idea is brilliant; though the gameplay is complicated and you must be careful not to screw up, the core of the game is incredibly simple and intuitive.\n",
            "I really enjoyed this game, though I probably won't stick it around for very long.<|endoftext|>\n",
            "<|startoftext|>[b]From the developer [url=http://steamcommunity.com/sharedfiles/filedetails/?id=74313168840&searchtext=Steam|reviews]Alexey Bokulev[/url] comes from Russia and plays exclusively with [url=http://steamcommunity.com/groups/Evil-Devil-Mods]Evil[/url] on steam.  The game is [url=http://steamcommunity.com/groups/EvilDevil_Mods]a strategic turnbased multiplayer boardgame[/url] and [url=http://steamcommunity.com/groups/EvilDevilMods#curation]here[/url](/evil).  I've had some really good experience with this game and am looking forward to some great games with the EvilDevils on Steam![/url]... [url=http://steamcommunity.com/groups/EvilDevil_Mods#curation]here[/url](/evil).  As a side note, I think the people who bought this game should read these great reviews on steam:[/url]<|endoftext|>\n",
            "<|startoftext|>I haven't finished The Evil Within yet, and as such it is difficult to rate this game due to it being relatively new. However, I think the review below is quite positive... I have yet to encounter a situation where I feel this game leaves the screen completely blank for me to do something, however the ability to change my location and/or movement is extremely helpful in certain situations...\n",
            "I have yet to experience any crashes or gameplay bugs, though on occasion I've had to reset the game due to unexpected things...\n",
            "And while I've made sure to make some new friends who've played this game with me in ranked games, I still think the amount of friendly competition on steam is fairly low... the fact that games sometimes start with everyone losing the last person to 100% and it's actually pretty cool when your friends/foe/rival have a few points ahead gives the game some intrigue... but again, this is new to me. [i]If it were up to me, this game would have made it to #1 on steam and become a #1 selling boardgame.[/i]\n",
            "The game itself is fun and has a lot of potential to make you cry with its amazing visual effects and gameplay... the music is wonderful, I find it very fitting to play in the background when there are enemies near... and this isn't just the music... [i]The game contains ambient music which contributes to the overall eerie atmosphere of the game.[/i]\n",
            "The AI in\n",
            "\n",
            "[210 | 366.81] loss=0.90 avg=2.33\n",
            "[220 | 383.23] loss=2.09 avg=2.32\n",
            "[230 | 399.67] loss=2.21 avg=2.31\n",
            "[240 | 416.14] loss=1.45 avg=2.27\n",
            "[250 | 432.65] loss=2.05 avg=2.26\n",
            "[260 | 449.12] loss=0.45 avg=2.18\n",
            "[270 | 465.59] loss=0.51 avg=2.11\n",
            "[280 | 482.04] loss=0.97 avg=2.06\n",
            "[290 | 498.50] loss=1.41 avg=2.04\n",
            "[300 | 514.96] loss=2.00 avg=2.04\n",
            "[310 | 531.40] loss=0.99 avg=2.00\n",
            "[320 | 547.85] loss=1.09 avg=1.97\n",
            "[330 | 564.34] loss=0.48 avg=1.91\n",
            "[340 | 580.84] loss=0.86 avg=1.88\n",
            "[350 | 597.36] loss=0.29 avg=1.82\n",
            "[360 | 613.88] loss=1.05 avg=1.80\n",
            "[370 | 630.43] loss=0.62 avg=1.76\n",
            "[380 | 647.00] loss=0.71 avg=1.73\n",
            "[390 | 663.56] loss=0.25 avg=1.68\n",
            "[400 | 680.13] loss=0.92 avg=1.66\n",
            "======== SAMPLE 1 ========\n",
            "end of the game, it will take forever to find a ranked match (there are limited slots and the game is still new) and even when you do, you wont have much fun because novices tend to spam the \"hide\" button so quickly.\n",
            "So, in the end, it was more fun to laugh than to play:D<|endoftext|>\n",
            "<|startoftext|>The game is an exercise in frustration. . . and it gets worse each rank. . .\n",
            "If you think this game is easy just wait and you will get frustrated. . .and then another frustration will set in. . .\n",
            "And so you just keep playing hoping the AI wont fuck you up even more.<|endoftext|>\n",
            "<|startoftext|>First off, I really did enjoy the game when I first saw it.  I then proceeded to get depressed for several days straight trying to get back into it.  I finally gave up and went back to sleep.  I woke up and f***ed the s*** out of myself.  Honestly though, I should have started a blog years ago about this game...\n",
            "I can't even begin to describe how frustrated I get by every turn that goes by, where the game stops to take a long inventory, lists EVERYTHING, EVERYBODY went to jail, the board is entirely gone, and you are reduced to having to improvise as you try to reach a working plan on how to get back into the game.\n",
            "For a game concept, this game screams \"Jail Simulator 15 Edition.\"  And rightly so.\n",
            "But what exactly are you playing if you are not playing against the AI?  Is the game purely theoretical if you cannot achieve a 1 on 1 match with the AI?  Or has the AI increased in difficulty as the game progress?  Or are you losing races just like you did not earn your victory points?  Or are you just grinding, which is making the game last forever?\n",
            "In short, you are losing because the game is designed to make you rage like hell, and it works.  So, shut up, gamer.  I can't believe you have not played this game yet.  I doubt you have.  I bet you have not rage quitted your computer, slumped over, and sobbing your eyes out.\n",
            "Grow some balls to play this game.<|endoftext|>\n",
            "<|startoftext|>First, I would like to say when I first came across this I had never heard of it, and had never played it at all. I was however, introduced to it through a cross-platform game. I bought the game after reading the reviews and saw the game had good reviews and decided to give it a try. I am truly impressed with the quality and thoughtfulness of the design. As with almost all games I play, I would probably bring it to my friends first, although since I play with a group I usually go straight to the ranked games. The game is well designed and it seems as though the devs put a lot of thought into the game and actively encourage players to play their game. There is a detailed ranking system, well done leaderboards and very slick advertisements. The game is however not without its flaws. Despite the positive reviews, I was not enthused by the prospect of gaining or losing skill points like I normally am after playing games such as Gwent. I would have loved to see the customization options for each skill and gain some sort of progression.<|endoftext|>\n",
            "<|startoftext|>Great game. Easy to learn, difficult to master. Great and versatile option for both single and multiplayer. 7.5/10.\n",
            "Pros\n",
            "-Good game mechanics\n",
            "-Good music\n",
            "-Amazing artwork\n",
            "-Cons\n",
            "-Hard work required\"\n",
            "From here you can go to the forums, look at the Steam sales and see that the game got very popular very quickly. The developers put a lot of effort into improving the game from the ground up and I am very pleased with the quality and variety of the updates that were made. They even added new skins to the game as well as cosmetics (I believe male characters have them). There is even a team league as well as a standard league. I would suggest to check it out as they do make an entertaining game. In the meantime, they also added a new character to the game which I like and would enjoy playing for myself.\n",
            "The cons just keep coming though, the biggest one being that you are not able to customize your character much like you could on a PC version. I was impressed with the customization options though, which again, I found to be very extensive.\n",
            "The main downside to this game that I found was that it took a long time to find a game to join in. There is only one matchmaking facility and it was pretty difficult. Once I found one though, it was quite simple. I typed in the code for the\n",
            "\n",
            "[410 | 718.62] loss=1.83 avg=1.66\n",
            "[420 | 735.20] loss=0.49 avg=1.63\n",
            "[430 | 751.77] loss=0.88 avg=1.61\n",
            "[440 | 768.36] loss=1.16 avg=1.60\n",
            "[450 | 784.95] loss=0.24 avg=1.56\n",
            "[460 | 801.54] loss=0.31 avg=1.52\n",
            "[470 | 818.13] loss=0.38 avg=1.49\n",
            "[480 | 834.74] loss=0.41 avg=1.47\n",
            "[490 | 851.33] loss=0.22 avg=1.43\n",
            "[500 | 867.93] loss=0.65 avg=1.41\n",
            "Saving checkpoint/345M_reviews_369990/model-500\n",
            "[510 | 896.77] loss=0.14 avg=1.38\n",
            "[520 | 913.03] loss=0.54 avg=1.36\n",
            "[530 | 929.37] loss=0.23 avg=1.33\n",
            "[540 | 945.74] loss=0.53 avg=1.31\n",
            "[550 | 962.17] loss=0.32 avg=1.29\n",
            "[560 | 978.56] loss=0.39 avg=1.27\n",
            "[570 | 994.98] loss=0.31 avg=1.25\n",
            "[580 | 1011.39] loss=0.39 avg=1.23\n",
            "[590 | 1027.81] loss=0.39 avg=1.21\n",
            "[600 | 1044.25] loss=0.33 avg=1.19\n",
            "======== SAMPLE 1 ========\n",
            " any number of ways to cover their tracks. These include: stealing money, getting fired, taking illegal drugs, committing suicide, and so on. It's not uncommon, but it's happened to me and thousands of other players. Even when they're just trying to cover their tracks, they still get into trouble. It's infuriating.\n",
            "It gets better\n",
            "Sometimes the game will ask you to settle for a lower ranking than you actually have. Other times the game will penalize you for being in the lower ranks for a certain number of turns. Regardless of the situation, you'll always have to play somewhere between positive and negative to get back into the game. As a result, you'll always have opportunities to improve your game and experience as you go around the board improving your skills while playing at the top. It's incredibly efficient and almost no effort at all.\n",
            "There's also luck involved. There's always the possibility that you can play a card and get back up to some positive number. You could gamble a few pips in the craps and get some money, or you could try to get some notoriety as a gambler and win the game there. The card doesn't have to be a dice roll, it could be a card played by the space you're standing on. The choice is yours.\n",
            "There's character selection too. Different approaches to the same problem, same problems. This is the fundamental design of the game, it's how you determine which characters and which cards you can play. It's easy to play a silly card to get back up on your feet and go somewhere, but it takes some time to build up resources and experience. You'll have to make hard choices along the way. How much can you risk to gain some advantages? What's the most efficient use of limited resources? These are the things that define character build and each character has a different playstyle.\n",
            "There are a lot of options, you'll have to think a few turns ahead to find the one that best fits the situation. Different approaches to the same problem, same problems. This is the basic game, it's how you play.\n",
            "Buy this game, get this experience\n",
            "If you're into fast-paced board games then this is right up your street. There's a lot of initiative involved in deciding how you want to move and what you want to do. GMs decide how long you can play, what you can do, but you decide how far you want to travel, what you want to do (spend turns trying to get a boat load of credits, get sacked and spend turns trying to get back to where you came from, and so on). It's a difficult game to master, lots of dice rolls and frustration.\n",
            "It's a good game, hope it's your last try.\n",
            "***\n",
            "Seen this game at Gremlins Inc 2016, it performed extremely well I saw some people complaining about the game being too RNG based. I was hoping for a more \"accident\" based game. The game really isn't, it's designed so that you can't help but feel you are participating in something big. RNG can be a powerful thing, but it can also be a hinderance, you have to be able to cope with the possibility of RNG wherever it may be. The game really shines in the situation of having a plan B, BFF, or even an ally. The risk is still too high for me to recommend.\n",
            "I didn't feel the game was \"perfect\" in every way, but I felt it was close enough. I had some issues with the tutorial, it was too long and hard to understand what was going on. Maybe it was because I'm a beginner when it comes to board games, but I was trying to do something and couldn't seem to find the tutorial until I saw it in the reviews. If you're a hardcore board game player and have spent any time getting into this genre, this should be in your library. It's a well designed game with fun mechanics, but it's not without its flaws. I didn't feel it was \"perfect\" and it certainly wasn't my cup of tea, but I ended up returning it because it was sooooo frustrating. It didn't feel like a \"perfect\" game, but I gave it a pass. Perhaps it was because I was playing in the coop, but I think you need the players to \"accidentally\" meet in the lobby when you're the last one standing. There's no way in hell I'm ever going to be the last one standing in a game like this. Sometimes you've just got to \"accidentally\" get back up and go.\n",
            "It's worth the initial investment, but I can't recommend it highly. Replay value is low, but so's the enjoyment.  I suspect most people wouldn't mind playing it with friends again, but friends shouldn't play it together, it can interfere.  Even if it doesn't, I'd still recommend it.  It\n",
            "\n",
            "[610 | 1082.65] loss=0.13 avg=1.17\n",
            "[620 | 1099.12] loss=0.41 avg=1.15\n",
            "[630 | 1115.61] loss=0.19 avg=1.13\n",
            "[640 | 1132.12] loss=0.29 avg=1.11\n",
            "[650 | 1148.63] loss=0.74 avg=1.11\n",
            "[660 | 1165.16] loss=0.40 avg=1.09\n",
            "[670 | 1181.68] loss=0.14 avg=1.07\n",
            "[680 | 1198.20] loss=0.15 avg=1.05\n",
            "[690 | 1214.72] loss=0.11 avg=1.03\n",
            "[700 | 1231.25] loss=0.07 avg=1.01\n",
            "[710 | 1247.80] loss=0.28 avg=1.00\n",
            "[720 | 1264.36] loss=0.15 avg=0.98\n",
            "[730 | 1280.95] loss=0.13 avg=0.97\n",
            "[740 | 1297.50] loss=0.11 avg=0.95\n",
            "[750 | 1314.07] loss=0.14 avg=0.94\n",
            "[760 | 1330.64] loss=0.08 avg=0.92\n",
            "[770 | 1347.23] loss=0.18 avg=0.91\n",
            "[780 | 1363.82] loss=0.13 avg=0.89\n",
            "[790 | 1380.40] loss=0.09 avg=0.88\n",
            "[800 | 1396.99] loss=0.10 avg=0.86\n",
            "======== SAMPLE 1 ========\n",
            " in their multiplayer matches.  Basically if you like chance you can fuck with their wokens but if you want to focus on mastering the flow of the game you'll need to take a longer look at the options.\n",
            "One of the best parts of the game has to be the customization.  You can get tattoos, makeup, and pretty much anything else you want.  All the cards give you stat bonuses or exactitude bonuses as well as some negative effects.  Basically anything can happen and it's up to you to figure out why.  Basically every card is a dice to be played and you are going to need to learn to accept these as part of the game.  Once you do, the customization feels quite nice.\n",
            "There are single-player and multiplayer modes, ranked and non-ranked.  Single-player has a few things going for it, such as the ability to play the cards in any order and change any one card on the board to suit your liking.  Non-ranked has a few things going against it, such as being relatively new to the game (newer than me).  Also keep in mind that playing multiplayer online against other people can get a bit intense.  As a result I don't think there is a realistic opportunity for competitive gaming here other than the server-side options.\n",
            "Along with this comes a nice range of accessibility features, such as emoticons, which are handy for quieter games.  Unfortunately most of these are located in the multiplayer interface, so you are unable to easily type your comments or post gameplay videos.  This is unfortunate as it makes the game more tailor made to be enjoyed with players with disabilities.\n",
            "I hope that these accessibility features are implemented into future updates, as I really enjoy playing this with my friends.\n",
            "I especially enjoy playing with a friend/new player.  This allows us to have more fun together and hopefully more accessible games in the future.\n",
            "I would recommend this game to anyone who enjoys board games; exploring randomly generated spaces, interacting with people randomly, and generally having a good time.\n",
            "You can find me on Steam playing most of my games alongside a few other gamers, usually around lvl-15 or so.  It's rarely the case where I'm winning but when I do it's pretty fun to be sure my skillset matches what I have.\n",
            "Currently I'm pretty hooked on this game; only major complaint is that the game is way too long; it's something I'd like to have included into a normal game, but since I play this way, it's something I want to have included as well.  Normally I'm happy with shorter games, but this one is getting long enough that it's dragging out my match.\n",
            "Besides that, I really recommend this game.  The mechanics are clever and the overall enjoyment is great.  I don't feel I'm winning every time, but I keep trying and hoping.  It's a clever game with well thought out mechanics.  Hopefully someone manages to get a retail version sometime.\n",
            "Probably my biggest gripe is that the game is way too reliant on luck.  Other games I play rely on luck a lot more--like, I lose a game during the season just to be on the safe side and move on to the next one.  I feel that if I had my druthers I could probably win this game.--<|endoftext|>\n",
            "<|startoftext|>My girlfriend and I have had lots of fun with this game. It is a great party title, with lots of opportunities to catch your friends out and think deviously!\n",
            "The gremlins have a playful character to them and the game is well polished, clearly demonstrating the developers' commitment to quality.\n",
            "A real life equivalent wouldn't do this well on Steam, either.\n",
            "Seen something amazing?\":[h1]Maybe Not[/h1]\n",
            "Gremlins Inc is a wonderfully designed digital board game, with engaging characterisation and a rich and challenging gameplay.\n",
            "Kicking ass and taking names is easy as pie, and messing with the Gremlin family is fun as hell too.\n",
            "The competition is fierce, the game community is deep and the online community is tremendous.\n",
            "If you like board games at all and have ever wanted to build something of your own, get this!\n",
            "It's the BEST!\n",
            "Purchase this now!\n",
            "You won't be disappointed!\n",
            "[b]Pros:[/b]\n",
            "-Beautiful artwork and lush backdrops\n",
            "-Fun and Challenging gameplay\n",
            "-Great music\n",
            "-Wildly unpredictable gameplay​ Cons:\n",
            "-A bit too luck based for me\n",
            "-Some games you just get fucked over, others you can turn the table and change places with ease\n",
            "-Overall not a bad game, but nothing to write home about\n",
            "Recommendation:[/b]\n",
            "Get this now!\n",
            "You won't be disappointed!\n",
            "[h1]Like Chess? Like Monopoly? Like Tetris? Yeah, like\n",
            "\n",
            "[810 | 1435.44] loss=0.07 avg=0.85\n",
            "[820 | 1452.04] loss=0.09 avg=0.84\n",
            "[830 | 1468.66] loss=0.10 avg=0.82\n",
            "[840 | 1485.30] loss=0.18 avg=0.81\n",
            "[850 | 1501.97] loss=0.25 avg=0.80\n",
            "[860 | 1518.59] loss=0.10 avg=0.79\n",
            "[870 | 1535.22] loss=0.07 avg=0.78\n",
            "[880 | 1551.81] loss=0.03 avg=0.76\n",
            "[890 | 1568.38] loss=0.03 avg=0.75\n",
            "[900 | 1584.95] loss=0.07 avg=0.74\n",
            "[910 | 1601.51] loss=0.47 avg=0.74\n",
            "[920 | 1618.06] loss=0.08 avg=0.73\n",
            "[930 | 1634.61] loss=0.22 avg=0.72\n",
            "[940 | 1651.15] loss=0.10 avg=0.71\n",
            "[950 | 1667.68] loss=0.03 avg=0.70\n",
            "[960 | 1684.24] loss=0.08 avg=0.69\n",
            "[970 | 1700.79] loss=0.05 avg=0.68\n",
            "[980 | 1717.37] loss=0.08 avg=0.67\n",
            "[990 | 1733.97] loss=0.06 avg=0.66\n",
            "[1000 | 1750.59] loss=0.07 avg=0.65\n",
            "Saving checkpoint/345M_reviews_369990/model-1000\n",
            "WARNING:tensorflow:From /usr/local/lib/python3.6/dist-packages/tensorflow/python/training/saver.py:966: remove_checkpoint (from tensorflow.python.training.checkpoint_management) is deprecated and will be removed in a future version.\n",
            "Instructions for updating:\n",
            "Use standard file APIs to delete files with this prefix.\n"
          ],
          "name": "stdout"
        }
      ]
    },
    {
      "cell_type": "markdown",
      "metadata": {
        "id": "-BK1U2dRuR6I",
        "colab_type": "text"
      },
      "source": [
        "## Save a Trained Model Checkpoint"
      ]
    },
    {
      "cell_type": "code",
      "metadata": {
        "id": "csfQ7zoi5gWu",
        "colab_type": "code",
        "colab": {}
      },
      "source": [
        "# gpt2.mount_gdrive()"
      ],
      "execution_count": 0,
      "outputs": []
    },
    {
      "cell_type": "code",
      "metadata": {
        "id": "OHD_aIEhMVcI",
        "colab_type": "code",
        "colab": {}
      },
      "source": [
        "# !tar -cvf review-model-checkpoint.tar checkpoint/345M_reviews_583950/"
      ],
      "execution_count": 0,
      "outputs": []
    },
    {
      "cell_type": "code",
      "metadata": {
        "id": "fdiJ9ZumMoho",
        "colab_type": "code",
        "colab": {}
      },
      "source": [
        "# !scp review-model-checkpoint.tar '/content/drive/My Drive/'"
      ],
      "execution_count": 0,
      "outputs": []
    },
    {
      "cell_type": "markdown",
      "metadata": {
        "id": "buHDxtUIfikS",
        "colab_type": "text"
      },
      "source": [
        "## Load a Trained Model Checkpoint"
      ]
    },
    {
      "cell_type": "code",
      "metadata": {
        "id": "shTR7bzRgTkS",
        "colab_type": "code",
        "colab": {}
      },
      "source": [
        "# gpt2.mount_gdrive()"
      ],
      "execution_count": 0,
      "outputs": []
    },
    {
      "cell_type": "code",
      "metadata": {
        "id": "JILs1rBXfiEA",
        "colab_type": "code",
        "colab": {}
      },
      "source": [
        "# !scp '/content/drive/My Drive/review-model-checkpoint.tar' ."
      ],
      "execution_count": 0,
      "outputs": []
    },
    {
      "cell_type": "code",
      "metadata": {
        "id": "pL0sD3oTfqil",
        "colab_type": "code",
        "colab": {}
      },
      "source": [
        "# !tar -xvf review-model-checkpoint.tar"
      ],
      "execution_count": 0,
      "outputs": []
    },
    {
      "cell_type": "markdown",
      "metadata": {
        "id": "vX8KFoKR6g-o",
        "colab_type": "text"
      },
      "source": [
        "## Generate Text From The Trained Model"
      ]
    },
    {
      "cell_type": "code",
      "metadata": {
        "id": "R2RBA9hMIFlQ",
        "colab_type": "code",
        "colab": {}
      },
      "source": [
        "temperature=0.7 # Default is 0.7, but you may want to increase the temperature, especially if your dataset is small, to avoid copying text.\n",
        "\n",
        "num_samples = 3\n",
        "num_batches = 3 # Unique to GPT-2, you can pass a batch_size to generate multiple samples in parallel, giving a massive speedup."
      ],
      "execution_count": 0,
      "outputs": []
    },
    {
      "cell_type": "code",
      "metadata": {
        "id": "KYC30GEi6kPv",
        "colab_type": "code",
        "outputId": "32ed659d-295b-4ad6-df08-0e845ae09bb4",
        "colab": {
          "base_uri": "https://localhost:8080/",
          "height": 3361
        }
      },
      "source": [
        "gen_texts_A = gpt2.generate(sess,\n",
        "              run_name=run_name,\n",
        "              nsamples=num_samples,\n",
        "              batch_size=num_batches,              \n",
        "              temperature=temperature,\n",
        "              return_as_list=True)\n",
        "\n",
        "print('\\n\\n--- SEPARATOR ---\\n\\n'.join(gen_texts_A))"
      ],
      "execution_count": 20,
      "outputs": [
        {
          "output_type": "stream",
          "text": [
            "Warden of the broken world\n",
            "- 1/3 luck\n",
            "- 1/3 skill\n",
            "- 1/3 cards to be used\n",
            "- 1/3 victory points\n",
            "- 1/3 money\n",
            "- 1/3 votes\n",
            "- 1/3 captures\n",
            "- 1/3 assassinations\n",
            "- 1/3 captures and detentions\n",
            "- 1/3 executions\n",
            "- 1/3 gambling\n",
            "- 1/3 court appearances\n",
            "- 1/3 illegal gambling dens\n",
            "- 1/3 mine cart accidents\n",
            "- 1 temple\n",
            "- 1 swamp\n",
            "- 1 desert\n",
            "- 1 mountains\n",
            "- 1 secret\n",
            "- 2 casinos\n",
            "- 1 secret temple\n",
            "- 1 court appearance\n",
            "- 1 stolen car\n",
            "- 1 stolen letter\n",
            "- 1 court victory\n",
            "- 1 court defeat\n",
            "- 1 jail break\n",
            "- 1 jail break and 2 jail breaks\n",
            "- 1 jail time\n",
            "- 3 votes\n",
            "- 1 judge overturned ruling\n",
            "- 1 jail time and 2x votes\n",
            "- 1 jail time and 2x votes\n",
            "- 1 stolen car and 1x vote\n",
            "- 2x misfortunes\n",
            "- 1x bankruptcy\n",
            "- 10x illegal\n",
            "- 1x bribe\n",
            "- 1x illegal and 10x unethical\n",
            "- 10x misfortunes and 1x betrayal\n",
            "- 5x illegal and 5x unethical\n",
            "- 10x illegal and 10x unethical\n",
            "- 1x bribe and 10x misfortunes\n",
            "- 2x misfortunes\n",
            "- 1x betrayal\n",
            "- 10X illegal and 10X unethical\n",
            "- 100x illegal and 100x unethical\n",
            "- 1x bribe and 10x misfortunes\n",
            "- 2x misfortunes\n",
            "- 1x betrayal\n",
            "- 10X illegal and 10X unethical\n",
            "- 100x illegal and 100x unethical\n",
            "- 1x bribe and 10x misfortunes\n",
            "- 2x misfortunes\n",
            "- 1x betrayal\n",
            "- 10X illegal and 10X unethical\n",
            "- 100x illegal and 100x unethical\n",
            "- 1x bribe and 10X misfortunes\n",
            "- 2X misfortunes\n",
            "- 1x betrayal\n",
            "- 10X illegal and 10X unethical\n",
            "- 100x illegal and 100x unethical\n",
            "- 1x bribe and 10X misfortunes\n",
            "- 2X misfortunes\n",
            "- 1x betrayal\n",
            "- 10X illegal and 10X unethical\n",
            "- 100x illegal and 100x unethical\n",
            "- 1x bribe and 10X misfortunes\n",
            "- 2X misfortunes\n",
            "- 1x betrayal\n",
            "- 10X illegal and 10X unethical\n",
            "- 100x illegal and 100x unethical\n",
            "- 1x bribe and 10X misfortunes\n",
            "- 2X misfortunes\n",
            "- 1x betrayal\n",
            "- 10X illegal and 10X unethical\n",
            "- 100x illegal and 100x unethical\n",
            "- 1x bribe and 10X misfortunes\n",
            "- 2X misfortunes\n",
            "- 1x betrayal\n",
            "- 10X illegal and 10X unethical\n",
            "- 100x illegal and 100x unethical\n",
            "- 1x bribe and 10X misfortunes\n",
            "- 2X misfortunes\n",
            "- 1x betrayal\n",
            "- 10X illegal and 10X unethical\n",
            "- 100x illegal and 100x unethical\n",
            "- 1x bribe and 10X misfortunes\n",
            "- 2X misfortunes\n",
            "- 1x betrayal\n",
            "- 10X illegal and 10X unethical\n",
            "- 100x illegal and 100x unethical\n",
            "- 1x bribe and 10X misfortunes\n",
            "- 2X misfortunes\n",
            "- 1x betrayal\n",
            "- 10X illegal and 10X unethical\n",
            "- 100x illegal and 100x unethical\n",
            "- 1x bribe and 10X misfortunes\n",
            "- 2X misfortunes\n",
            "- 1x betrayal\n",
            "- 10X illegal and 10X unethical\n",
            "- 100x illegal and 100x unethical\n",
            "- 1x betrayal\n",
            "- 10X illegal and 10X unethical\n",
            "- 100x illegal and 100x unethical\n",
            "- 1x betrayal\n",
            "- 10X illegal and 10X unethical\n",
            "- 100x illegal and 100x unethical\n",
            "- 1x bribe and 10X misfortunes\n",
            "- 2X misfortunes\n",
            "- 1x betrayal\n",
            "- 10X illegal and 10X unethical\n",
            "- 100x illegal and 100x unethical\n",
            "- 1x betrayal\n",
            "- 10X illegal and 10X unethical\n",
            "- 100x illegal and 100x unethical\n",
            "- 1x bribe and 10X misfortunes\n",
            "- 2X misfortunes\n",
            "- 1x betrayal\n",
            "- 10X illegal and 10X unethical\n",
            "- 100x illegal and 100x unethical\n",
            "- 1x betrayal\n",
            "- 10X illegal and 10X unethical\n",
            "- 100x illegal and 100x\n",
            "- 1x betrayal\n",
            "- 10X illegal and 10X fraudulent\n",
            "- 100x illegal and 100x\n",
            "- 1x betrayal\n",
            "- 10X illegal and 10X fraudulent\n",
            "- 100x illegal and 100x\n",
            "- 1x betrayal\n",
            "- 10X illegal\n",
            "\n",
            "--- SEPARATOR ---\n",
            "\n",
            "The founder of popular board game chain, Hasbro, has died at the age of 74. He founded the company with the idea of making board games and eventually turned into one of the most influential figures in the industry.\n",
            "Hasbro Games is best known for their popular board game series, which spans more than 220 games, but also includes numerous card games and virtual board games. The company's success is largely attributed to the fact that they provide a virtual board game and a card game within a virtual board game, which means that you can play almost any card game you like within a virtual board game. This allows you to play with your friends and other players from around the world.\n",
            "In addition to their popular board game series, the company publishes several other titles, including several digital board games, which are well worth playing.\n",
            "Hasbro Games is partially owned by Walt Disney Co. and is published by the Walt Disney Group. Their digital board games are well worth your money. They provide a good selection and variety of games.\n",
            "You can contact the developers of Hasbro Games directly: greg@hasbrogames.com\n",
            "[h1]Staff Information[/h1]\n",
            "[b]Name: Gavin Terrell [b]Occupation: Student, Game Developer, Entrepreneur, Atheist, Recovering Christian, Praying to the Devil, Keeping Track of Cogs, Obtaining Info From the Depths, Going to Jail, Bringing Down The House, Keeping The Scorecard, Receiving The Golden Gun, Dump The Witch, and Disappearing. [/b]\n",
            "Gavin Terrell is a game developer and student at the University of Toronto. He was the lead developer on the critically acclaimed board game, 'Spelljammer', which was nominated for a Gold Award at the 2007 Game Developers Conference and won the 2007 Sim of the Year Award. In addition to 'Spelljammer', Gavin has written for various publications such as Gizmodo, Slashdot, and more. You can find him on the Steam Workshop discussing various game modes and strategies.\n",
            "Gavin is married with two children. Gavin enjoys playing various card games and is a big fan of all things board related. He also enjoys cooking and drinking with his friends.\n",
            "[h1]Why Should I Play Him?[/h1]\n",
            "Well, first of all, he is my opponent during the match. I hope that he knows that I am looking for a revenge and that I will repay him for all the grief he has caused me. Apart from that, I have no interest in winning this game. I am solely interested in securing the most points and winning the game within the shortest amount of time. As it stands, the game is long and boring. If this was a real game, I would probably choose a different opponent because, well, one opponent can take you out in an instant.\n",
            "The gameplay itself is fairly standard for board games. You have six cards - each card has a dice number on it, which determines how many places on the board the player can move (as soon as cards are used, they are replaced by new cards, so you always have six cards at hand). Cards have both an effect that can only be activated on certain types of spaces, and a picture of a dice. That picture is how many places you can go - you can use a card to move to any spot on the board.\n",
            "The six cards are used to activate various rules of the game. The picture is pretty, but limited, and you can use a card to activate a rule of the game only when you drew the picture. For example, if you want to activate the \"Go To Jail\", you need to go to the \"Investigate\" spot on the board. Once you there, you can use the money you get to pay for the \"Go To Jail\" spot, and if you use the \"Investigate\" spot, you need to pay a cop to investigate you. The game itself is fairly standard fare - lots of dice rolls, lots of cards, and most of it bad news.\n",
            "One of the biggest learning curves in this game is learning how to navigate the town both smartly and efficiently. You will need to do this while juggling your studies, which can get pretty tough if you are not careful. The game itself is organized into several play spaces, each with a different feel. You can use a card to move to the specific space, then use a card to move across the board to the next space, or even play a card to move across the board at high speed (see below for an example of how to play a card at a certain spot).\n",
            "The game itself is divided into several parts - the tutorial, the multiplayer lobby, and the multiplayer match itself. During the tutorial, you will learn how to properly use a card, then progress to the next part of the tutorial, where you learn how to properly use a different card, and so on. During the multiplayer lobby, you will need to play matches to get the experience\n",
            "\n",
            "--- SEPARATOR ---\n",
            "\n",
            "|<\n",
            "<|>Game is great but it needs two things.\n",
            "1. More maps!\n",
            "2. Offline mode.\n",
            "That is about it, great for backstabbing if frustrating playing against the computer.<|>10/10<|>\n",
            "<|>If you like turn based strategy I would reccommed it.\n",
            "However I would not reccommed it to anyone who is not a hardcore gamer or who is not playing regularly, because the gameplay is not for everyone.<|>Sorry for not adding this sooner.<|>Any% No DLC No DLC Yes DLC\n",
            "More maps,Yes more Yes reccommed\n",
            "Very good game,Good job,I would recommend this game to my friends.<|>9/10<|>\n",
            "<|>Game is great but it needs two things.\n",
            "1. More maps!\n",
            "2. Offline mode.\n",
            "That is about it, great for backstabbing if frustrating playing against the computer.<|>10/10<|>\n",
            "<|>Great game, great music, great graphics, great sounds...loved every second of it...hoping to get new maps and such soon, but it seems they have thrown in the towel on that front...hopefully more new maps will be released...<|>\n",
            "<|>Any% No DLC No DLC Yes DLC\n",
            "Ruins of Sodor (ゼッコロストーム, Sutokoro Sutonāzu?) is a board game that started as a side project of sorts (that I can still play) and has since gone on to become one of the most highly regarded and respected board games in the world.\n",
            "As a longtime fan and player of board games, I couldn't get enough of this game, and it quickly became one of my favorite digital board games ever. The development of this game was incredible, from the initial concept by the developers themselves, to the final product which is simply amazing.\n",
            "Many people who read this might be interested in trying out some of the upcoming DLC or new board game modes, as the game is still in very early stages and already has several new items in the shop.\n",
            "The developers of this game are still active, and you can still hear from them talking about how excited they are to get new items and items soon!<|endoftext|>\n",
            "<|startoftext|>A board game that encourages strategic planning and potentially chaotic gameplay, if the endless hours in a random session ring a bell. I play it with friends who are far away while just chilling and chatting in discord. It's chaotic fun if you are not that competitive and don't care about the \"monopoly\" part of board game. I recommend it if you have friends who love board games.<|endoftext|>\n",
            "<|startoftext|>This game is chaotic. Difficult to play, even by online standards. Luck is a factor, but so is randomness, and the game lasts a good 50-60 turns. If you don't like chaotic games, then don't buy this game. If you do, then refund<|endoftext|>\n",
            "<|startoftext|>I don't believe I even heard of this game before it was released (and I received a coupon for it in my inventory)...or I just ignored it.   At first I was thinking 'nah, not my cup of tea' ... but then I started reading the reviews and accessed the web site to learn more about it and decided to give it a try.   8 hours of play into it now and I have to say, I'm glad I did, I really like it.   I'm glad I took the plunge.  In-fact, I've been looking around for other similar games (haven't really found any though).\n",
            "I especially like the pace of the game (i.e. if I need to take a break, I can just walk away for a little while and it will be waiting on my turn when i come back (of course, some times I end up in jail too!) ... although I won't do that if I was playing multi-player.\n",
            "I keep forgetting I have Chaos Cards available which can really help win the game especially towards the end when the additional malice won't matter anymore.  At least that's what I've used them for so far.\n",
            "I did find that the high contrast option does make it more comfortable and the user interface is nice.\n",
            "I don't feel I'm quite good enough to try multi-player yet, but it shouldn't be too much longer.  I've won some of the easier single-player sessions a few times, really just trying to learn the ins and outs of it at this point.<|endoftext|>\n",
            "<|startoftext|>I encountered bugs with several cards during my first training match (after completing the Tutorial). It bugged every match so I couldn't move my piece anymore\n"
          ],
          "name": "stdout"
        }
      ]
    },
    {
      "cell_type": "code",
      "metadata": {
        "id": "jrZBWas662k_",
        "colab_type": "code",
        "outputId": "3ebd572f-639e-45e5-9b27-945f9a1714e1",
        "colab": {
          "base_uri": "https://localhost:8080/",
          "height": 368
        }
      },
      "source": [
        "gen_texts_B = gpt2.generate(sess,\n",
        "              run_name=run_name,\n",
        "              nsamples=num_samples,\n",
        "              batch_size=num_batches,\n",
        "              temperature=temperature,\n",
        "              prefix='<|startoftext|>I love',\n",
        "              truncate='<|endoftext|>',\n",
        "              return_as_list=True)\n",
        "\n",
        "print('\\n\\n--- SEPARATOR ---\\n\\n'.join(gen_texts_B))"
      ],
      "execution_count": 21,
      "outputs": [
        {
          "output_type": "stream",
          "text": [
            "<|startoftext|>I love board games and this one is legend!\n",
            "Great art style, great sounds and loads of fun.\n",
            "You can customize the game to your liking, different game modes, different board designs, and even have some characters that win based on dice rolls... so long as they are not the same as yours.\n",
            "You can also recruit other players to your team and play team mode, which is very welcomed news as other than in-game sound effects you can't get anywhere else.\n",
            "The game also has a nice community, and even though it is in Chinese, it is still very active.\n",
            "So if you like board games and im sure you do, this one is a must play!\n",
            "Buy it and come back for more!\n",
            "\n",
            "--- SEPARATOR ---\n",
            "\n",
            "<|startoftext|>I love this game when I just want to chill and listen to music. When I need a break from playing the computer game I just head to the music shop and there  I pay full price and wait 20 minutes for it to load...nevermind waiting for 15 minutes for a normal game...still recommend this game to my friends.\n",
            "Sometimes you just need a break from playing the computer game you know? Well wait till you see this game!\n",
            "You will like this game!\n",
            "You will laugh, you will cry, and you will be desperately in need of more of these soon. Well worth the money.\n",
            "\n",
            "--- SEPARATOR ---\n",
            "\n",
            "<|startoftext|>I love this game when I just want to chill and listen to music. When I need a break from playing the game I just pick it up and go to sleep. Sometimes I play random and goof off, sometimes I'll send my buddy to jail, and sometimes some random guy will come and mess me up. I love the theme and artwork. I always have a good conversation with my buddies when I pick this game up. :)\n"
          ],
          "name": "stdout"
        }
      ]
    },
    {
      "cell_type": "code",
      "metadata": {
        "id": "VEAeBOlS7eCY",
        "colab_type": "code",
        "outputId": "0b894564-a7c2-4e3a-cedd-0abfbd046c15",
        "colab": {
          "base_uri": "https://localhost:8080/",
          "height": 1782
        }
      },
      "source": [
        "gen_texts_C = gpt2.generate(sess,\n",
        "              run_name=run_name,\n",
        "              nsamples=num_samples,\n",
        "              batch_size=num_batches,\n",
        "              temperature=temperature,\n",
        "              prefix='<|startoftext|>I hate',\n",
        "              truncate='<|endoftext|>',\n",
        "              return_as_list=True)\n",
        "\n",
        "print('\\n\\n--- SEPARATOR ---\\n\\n'.join(gen_texts_C))"
      ],
      "execution_count": 22,
      "outputs": [
        {
          "output_type": "stream",
          "text": [
            "<|startoftext|>I hate this game. Not because it's poorly designed, more that it's poorly implemented. The interface is strange, the cards are inconsistent, and most of all, the gameplay revolves around scheming, stealing, and essentially being a bad guy to the bitter end. While I understand that the motivation for playing the game is to lose, and while some of that motivation may be good, it's very rare that you can actually achieve that by playing the game and winning versus the AI. If you can't, you may as well be playing chess.\n",
            "\n",
            "--- SEPARATOR ---\n",
            "\n",
            "<|startoftext|>I hate board games. I really, really hate them. And I'm not even the best player on the board. But I'm writing this so 1. that at least some of my fellow players/audience members can learn about it, and 2. that at least some of my fellow players/audience members can be put in jail by it. And believe me, I've been put in jail multiple times my entire life. But I always end up winning anyway, because luck's like that. Anyway, this is a great and fun board game. Even though there is luck involved, it's pretty rare to get truly \"grounded\" in 30 seconds flat and become \"incapacitated\" by it. This game has a very unique design style and a ton of little tricks up its sleeve, which makes it tons fun to play. The game's been around for a while and I've played a ton of it, so I've got a decent idea of what to expect. In terms of mechanics, I really like what I'm used to and what's been done before. There's a ton of potential to go further and do even better with this game, if developers Gremlins Inc. and their partners at Devolver Digital decide to invest more time and resources into it.\n",
            "The game's been around for a while now and I'm enjoying it. There's a ton of potential to go further and do even better with this game, if developers Gremlins Inc. and their partners at Devolver Digital decide to invest more time and resources into it.\n",
            "[h1]Gameplay[/h1]\n",
            "PROS:\n",
            "-deep strategic gameplay\n",
            "-fun gameplay with friends/strangers/other players\n",
            "-many cards with unique effects\n",
            "-deep game mechanics with ways to win\n",
            "-wacky prizes\n",
            "-strategic gameplay with cards\n",
            "CONS\n",
            "-ran too long (1 hour plus a match or 2)\n",
            "-didn't cover all RNG with good easter eggs\n",
            "-didn't cap hit spots well\n",
            "[h1]Art & Sounds[/h1]\n",
            "PROS:\n",
            "-nice\n",
            "-deep\n",
            "-loved the look of the game\n",
            "-grandiose\n",
            "-awesome\n",
            "-still learning the basics\n",
            "-still learning the basics\n",
            "-still learning the basics\n",
            "-still learning the basics\n",
            "-still learning the basics\n",
            "-still learning the basics\n",
            "CONS\n",
            "-pretty hard due to RNG and RNG hybrids\n",
            "-hard to learn the basics\n",
            "-requires a constant internet connection to play\n",
            "-requires a constant internet connection to play\n",
            "-requires a constant internet connection to play\n",
            "-requires a constant internet connection to play\n",
            "-requires a constant internet connection to play\n",
            "-requires a constant internet connection to play\n",
            "-requires a constant internet connection to play\n",
            "-requires a constant internet connection to play\n",
            "-requires a constant internet connection to play\n",
            "-requires a constant internet connection to play\n",
            "-requires a constant internet connection to play\n",
            "-requires a constant internet connection to play\n",
            "-requires a constant internet connection to play\n",
            "-requires a constant internet connection to play\n",
            "-requires a constant internet connection to play\n",
            "-requires a constant internet connection to play\n",
            "-requires a constant internet connection to play\n",
            "-requires a constant internet connection to play\n",
            "-requires a constant internet connection to play\n",
            "-requires a constant internet connection to play\n",
            "-requires a constant internet connection to play\n",
            "-requires a constant internet connection to play\n",
            "-requires a constant internet connection to play\n",
            "-requires a constant internet connection to play\n",
            "-requires a constant internet connection to play\n",
            "-requires a constant internet connection to play\n",
            "-requires a constant internet connection to play\n",
            "-requires a constant internet connection to play\n",
            "-requires a constant internet connection to play\n",
            "-requires a constant internet connection to play\n",
            "-requires a constant internet connection to play\n",
            "-requires a constant internet connection to play\n",
            "-requires a constant internet connection to play\n",
            "-requires a constant internet connection to play\n",
            "-requires a constant internet connection to play\n",
            "-requires a constant internet connection to play\n",
            "-requires a constant internet connection to play\n",
            "-requires a constant internet connection to play\n",
            "-requires a constant internet connection to play\n",
            "-requires a constant internet connection to play\n",
            "-requires a constant internet connection to play\n",
            "-requires a constant internet connection to play\n",
            "-requires a constant internet connection to play\n",
            "-requires a constant internet connection to play\n",
            "-requires a constant internet connection to play\n",
            "-requires a constant internet connection to play\n",
            "-requires a constant internet connection to play\n",
            "-requires a constant internet connection to play\n",
            "-requires a constant internet connection to play\n",
            "-requires a constant internet connection to play\n",
            "-requires a constant internet connection to play\n",
            "-requires a constant internet connection to play\n",
            "-requires a constant internet connection to play\n",
            "-requires a constant internet connection to play\n",
            "-requires a constant internet connection to play\n",
            "-requires a constant internet connection to play\n",
            "-requires a constant internet connection\n",
            "\n",
            "--- SEPARATOR ---\n",
            "\n",
            "<|startoftext|>I hate board games. So if you do not like that type of game, this should be it. Great strategic play out of 3 cards. Nothing like seeing your plan worked out and your enemy's making the same mistake twice is exciting and challenging. At the same time, the gameplay is still fairly new, and it is refreshing to play against the AI. It is also still a bit buggy (even with the latest patch), and I've had some fun with it, but against the AI it's just too random. If you like this type of game, definitely get it. It is a good game, and you should buy it.\n"
          ],
          "name": "stdout"
        }
      ]
    },
    {
      "cell_type": "code",
      "metadata": {
        "id": "jX8KxDY27hJ0",
        "colab_type": "code",
        "outputId": "80377115-b478-4b5b-b78b-7b768037a790",
        "colab": {
          "base_uri": "https://localhost:8080/",
          "height": 1084
        }
      },
      "source": [
        "gen_texts_D = gpt2.generate(sess,\n",
        "              run_name=run_name,\n",
        "              nsamples=num_samples,\n",
        "              batch_size=num_batches,\n",
        "              temperature=temperature,\n",
        "              prefix='<|startoftext|>Please',\n",
        "              truncate='<|endoftext|>',\n",
        "              return_as_list=True)\n",
        "\n",
        "print('\\n\\n--- SEPARATOR ---\\n\\n'.join(gen_texts_D))"
      ],
      "execution_count": 23,
      "outputs": [
        {
          "output_type": "stream",
          "text": [
            "<|startoftext|>Please do not redistribute without my express written permission.\n",
            "This project was made possible because of the generous support from the following people:\n",
            "Aaron Yudkowsky - Creator of 'Gremlins, Inc.'\n",
            "Aaron Powell - Co-creator of 'Pillars of Eternity'\n",
            "Andy Gavin - Co-creator of 'Gremlins, Inc.'\n",
            "Brian Crecente - Co-creator of 'Gremlins, Inc.'\n",
            "Brian Greene - Co-creator of 'Gremlins, Inc.'\n",
            "Brian Lang - Co-creator of 'Gremlins, Inc.'\n",
            "Chris Avellone - Creator of 'Super Smash Bros. Melee'\n",
            "Chris Pizzello - Co-creator of 'Super Smash Bros. Melee'\n",
            "Dan Greenawalt - Co-creator of 'Gremlins, Inc.'\n",
            "Dave Gross - Co-creator of 'Gremlins, Inc.'\n",
            "Eduard Klimov - Co-creator of 'Gremlins, Inc.'\n",
            "Fatal1ty - Co-creator of 'StarCraft II'\n",
            "Gremlin - Co-creator of 'StarCraft II'\n",
            "Havoc - Co-creator of 'StarCraft II'\n",
            "Iris - Co-creator of 'StarCraft II'\n",
            "Jaedong - Co-creator of 'StarCraft II'\n",
            "KuroKy - Co-creator of 'StarCraft II'\n",
            "Luminosity - Co-creator of 'StarCraft II'\n",
            "Mvp - Co-creator of 'StarCraft II'\n",
            "NaDaDaDaDa - Co-creator of 'StarCraft II'\n",
            "Polt - Co-creator of 'StarCraft II'\n",
            "Quanticum - Co-creator of 'StarCraft II'\n",
            "ShahZaM! - Co-creator of 'StarCraft II'\n",
            "Sniper - Co-creator of 'StarCraft II'\n",
            "TaKe[/spoiler]\n",
            "[spoiler]Is this a strategic or a card game? How you choose to play depends on your ability to land on the right spot on the board.\n",
            "[spoiler]There are many paths to victory, but managing to get there in the nick of time is a massively help.\n",
            "[spoiler]If you are the kind of person who likes randomly assigning luck bonuses to people, then this is not the game for you.\n",
            "[spoiler]If you like to build up stat blocks and try to predict what your opponents are going to do, then this is not the game for you.\n",
            "[spoiler]If you like to complain about the RNG in the game, then complain about the RNG in the game from beginning to end.\n",
            "[spoiler]It is just not fun.  The game is not challenging enough.\n",
            "[spoiler]If you like card games, and you like trying to plan your next move, then this is not the game for you.\n",
            "[spoiler]If you like playing with friends, make sure to add this game to your friends list.\n",
            "[spoiler]If you like making deals, and you like complaining about the RNG in the game, then complain about the RNG in the game from beginning to end.\n",
            "[spoiler]Not fun at all. Not challenging at all.\n",
            "[spoiler]It is just mean.\n",
            "[spoiler]It is not cruel.\n",
            "[spoiler]It is not mean.\n",
            "[spoiler]It is not cruel.\n",
            "[spoiler]Just mean.\n",
            "[spoiler]Nothing more, nothing less.\n",
            "[spoiler]Everything should be in here.\n",
            "[spoiler]If you like board games, and all things considered, this is a must have.\n",
            "\n",
            "--- SEPARATOR ---\n",
            "\n",
            "<|startoftext|>Please note:\n",
            "This game may involve alcohol or drugs.\n",
            "I recommend that people not buy this game if you are a bitter, illogical person.\n",
            "If you are a person who likes to argue and cause problems, then buy it. Otherwise, skip this game.\n",
            "\n",
            "--- SEPARATOR ---\n",
            "\n",
            "<|startoftext|>Please do not download this game and play it with your friends. This game is intended for ONE-ON-ONE DEVELOPMENT ONLY! Prepare to get bullied!''\n",
            "The bullying starts small and grows larger the more you play. And that's not saying nothing about the fact that this game is broken down into pieces and shuffled into random hands, lose values wise, which often leaves you with negative cash flow. But still, IGOT this game for the single player. It's a great digital single player whose primary function is toOWER THE BANKER!\n"
          ],
          "name": "stdout"
        }
      ]
    },
    {
      "cell_type": "code",
      "metadata": {
        "id": "ppNhFzjPIVZN",
        "colab_type": "code",
        "outputId": "38430ed2-e230-4943-e700-b53ccb836133",
        "colab": {
          "base_uri": "https://localhost:8080/",
          "height": 864
        }
      },
      "source": [
        "gen_texts_E = gpt2.generate(sess,\n",
        "              run_name=run_name,\n",
        "              nsamples=num_samples,\n",
        "              batch_size=num_batches,\n",
        "              temperature=temperature,\n",
        "              prefix='<|startoftext|>This game has near infinite replay value',\n",
        "              truncate='<|endoftext|>',\n",
        "              return_as_list=True)\n",
        "\n",
        "print('\\n\\n--- SEPARATOR ---\\n\\n'.join(gen_texts_E))"
      ],
      "execution_count": 24,
      "outputs": [
        {
          "output_type": "stream",
          "text": [
            "<|startoftext|>This game has near infinite replay value if you like board games. I personally don't have much time to play multiplayer but if you do, I can recommend this game as a really fun and possibly challenging game. 10/10.\n",
            "\n",
            "--- SEPARATOR ---\n",
            "\n",
            "<|startoftext|>This game has near infinite replay value if you like this genre of game: teaming, cards,islands, money,islands, court, casinos, factories, and so on. The ability to team with a friend to try to win the game makes this a very good multiplayer strategy! The gameplay itself is rather deep and it's not always obvious which routes to take, but you have to pay attention when you pass certain spots. The cost/benefit analysis is rather complex, but bear with me. It's not impossible, but it's not that hard. There are some really solid mechanics, and the game always seems to be in good spirit. Though I would like to have more variety in my team mateships, so I can play with more women, so I can have a good time overall.\n",
            "This game has a very nice community, and the devs are very active in the community. There's a nice looking map and a lively chat in the team arena. It's a shame that the game isn't fully playable, as it's really engaging and entertaining. Though I'm a little biased towards the 'take that' style of play, I can really enjoy this game when it's fully functional. Though I'm not a fan of the music, the sound effects, or the menu graphics, I can live with that as they're just... nice. Though I do like the visual aspect, I don't dislike it, as it's hiss.\n",
            "\n",
            "--- SEPARATOR ---\n",
            "\n",
            "<|startoftext|>This game has near infinite replay value if you like board games.\n",
            "You can add or remove cards, play against other players, choose your own fate, then play against the AI to try and win.\n",
            "The AI is not hard to beat at the beginning, it's just a matter of learning the cards, watching intently as you play, and waiting for random misfortune cards to happen.\n",
            "Once you learn the cards, you can unleash havoc on the board, rob your opponents of their money, etc.\n",
            "The construction kit includes everything you need to construct your own makeshift board and center section, including a mess hall, a wardrobe, a bank, a stockpile, and a court.\n",
            "The court is not located in the middle of the map, it's a separate location that you must pass to access the trash, a location where you can apply your own flavor text, and a few other things.\n",
            "The trash can also hold 1 votes, 10 gold, 1 dirt, and 1 pitiful.\n",
            "If you score a touchdown, you can keep it and use it to improve your score, which will earn you more money.\n",
            "If you score a touchdown and lose it, you can keep it and use it for movement, which will earn you more money.\n",
            "If you score a touchdown and win it, you can keep it and use it for going to the bank, which will earn you money.\n",
            "If you score a touchdown and lose it, you can keep it and use it for going to the jail, which will earn you money.\n",
            "If you score a touchdown and win it, you can keep it and use it for going to the casino, which will incur a loss.\n",
            "If you score a touchdown and lose it, you can keep it and use it for going to the hospital, which will incur a hospitalization.\n",
            "If you score a touchdown and lose it, you can keep it and use it for going to the mosque, which will incur a tax.\n",
            "If you score a touchdown and win it, you can keep it and use it for going to the library, which will incur a debt.\n",
            "If you score a touchdown and lose it, you can keep it and use it for going to the mosque, which will incur a debt.\n",
            "If you score a touchdown and win it, you can keep it and use it for going to the bookstore, which will incur a debt.\n",
            "If you score a touchdown and lose it, you can keep it and use it for going to the casino, which will incur a loss.\n",
            "If you score a touchdown and win it, you can keep it and use it for going to the hospital, which will incur a debt.\n",
            "If you score a touchdown and lose it, you can keep it and use it for going to the library, which will incur a debt.\n",
            "If you score a touchdown and win it, you can keep it and use it for going to the hospital, which will incur a debt.\n",
            "If you score a touchdown and lose it, you can keep it and use it for going to the library, which will incur a debt.\n",
            "If you score a touchdown and win it, you can keep it and use it for going to the library, which will incur a debt.\n",
            "If you score a touchdown and lose it, you can keep it and use it for going to the hospital, which will incur a debt.\n",
            "If you score a touchdown and win it, you can keep it and use it for going to the hospital, which will incur a debt.\n",
            "If you score a touchdown and lose it, you can keep it and use it for going to the hospital, which will incur a debt.\n",
            "If you score a touchdown and win it, you can keep it and use it for going to the hospital, which will incur a debt.\n",
            "If you score a touchdown and lose it, you can keep it and use it for going to the hospital, which will incur a debt.\n",
            "If you score a touchdown and win it, you can keep it and use it for going to the hospital, which will incur a debt.\n",
            "If you score a touchdown and lose it, you can keep it and use it for going to the hospital, which will incur a debt.\n",
            "If you score a touchdown and win it, you can keep it and use it for going to the hospital, which will incur a debt.\n",
            "If you score a touchdown and lose it, you can keep it and use it for going to the hospital, which will incur a debt.\n",
            "If you score a touchdown and win it, you can keep it and use it for going to the hospital, which will incur a debt.\n",
            "If you score a touchdown and lose it, you can keep it and use it for going to the hospital, which will incur a debt.\n",
            "If you score a touchdown and win it, you can keep it and use it for going to the hospital, which will incur a debt.\n",
            "If you score a touchdown and lose it, you can keep it and use it for going\n"
          ],
          "name": "stdout"
        }
      ]
    },
    {
      "cell_type": "markdown",
      "metadata": {
        "id": "JMlAC87jkZkx",
        "colab_type": "text"
      },
      "source": [
        "## Copy the Generated Text to Google Drive"
      ]
    },
    {
      "cell_type": "code",
      "metadata": {
        "id": "nyL0qToNjhG5",
        "colab_type": "code",
        "colab": {}
      },
      "source": [
        "output_file_name = 'output_' + str(app_id) + '.md'"
      ],
      "execution_count": 0,
      "outputs": []
    },
    {
      "cell_type": "code",
      "metadata": {
        "id": "joHIx0aaYVKr",
        "colab_type": "code",
        "colab": {}
      },
      "source": [
        "with open(output_file_name, 'w') as f:\n",
        "  \n",
        "  f.write('## Game\\n\\n')\n",
        "  f.write('[<img alt=\"game name\" src=\"https://steamcdn-a.akamaihd.net/steam/apps/{}/header.jpg\" width=\"150\">](https://store.steampowered.com/app/{})\\n\\n'.format(app_id, app_id))\n",
        "  \n",
        "  f.write('## Reviews generated unconditionally\\n\\n')\n",
        "  for (i, gen_text) in enumerate(gen_texts_A):\n",
        "    f.write('{}.\\n\\n'.format(i+1))\n",
        "    f.write('> {}\\n\\n'.format(gen_text))\n",
        "    \n",
        "  f.write('## Reviews starting with I love\\n\\n')\n",
        "  for (i, gen_text) in enumerate(gen_texts_B):\n",
        "    f.write('{}.\\n\\n'.format(i+1))\n",
        "    f.write('> {}\\n\\n'.format(gen_text))\n",
        "    \n",
        "  f.write('## Reviews starting with I hate\\n\\n')    \n",
        "  for (i, gen_text) in enumerate(gen_texts_C):\n",
        "    f.write('{}.\\n\\n'.format(i+1))\n",
        "    f.write('> {}\\n\\n'.format(gen_text))\n",
        "  \n",
        "  f.write('## Reviews starting with Please\\n\\n')  \n",
        "  for (i, gen_text) in enumerate(gen_texts_D):\n",
        "    f.write('{}.\\n\\n'.format(i+1))\n",
        "    f.write('> {}\\n\\n'.format(gen_text))\n",
        "  \n",
        "  f.write('## Reviews starting with This game has near infinite replay value\\n\\n')  \n",
        "  for (i, gen_text) in enumerate(gen_texts_E):\n",
        "    f.write('{}.\\n\\n'.format(i+1))\n",
        "    f.write('> {}\\n\\n'.format(gen_text))\n",
        "   "
      ],
      "execution_count": 0,
      "outputs": []
    },
    {
      "cell_type": "code",
      "metadata": {
        "id": "hcLRTVI1bBon",
        "colab_type": "code",
        "colab": {
          "base_uri": "https://localhost:8080/",
          "height": 35
        },
        "outputId": "0b73d0ab-3215-43c2-9ff5-2e29d4212584"
      },
      "source": [
        "gpt2.mount_gdrive()"
      ],
      "execution_count": 27,
      "outputs": [
        {
          "output_type": "stream",
          "text": [
            "Drive already mounted at /content/drive; to attempt to forcibly remount, call drive.mount(\"/content/drive\", force_remount=True).\n"
          ],
          "name": "stdout"
        }
      ]
    },
    {
      "cell_type": "code",
      "metadata": {
        "id": "yTsKdSSIajwK",
        "colab_type": "code",
        "colab": {
          "base_uri": "https://localhost:8080/",
          "height": 35
        },
        "outputId": "8d290b95-4c22-4ccb-e05a-e5453059796f"
      },
      "source": [
        "import shutil\n",
        "\n",
        "shutil.copyfile(output_file_name, '/content/drive/My Drive/' + output_file_name)"
      ],
      "execution_count": 28,
      "outputs": [
        {
          "output_type": "execute_result",
          "data": {
            "text/plain": [
              "'/content/drive/My Drive/output_369990.md'"
            ]
          },
          "metadata": {
            "tags": []
          },
          "execution_count": 28
        }
      ]
    }
  ]
}
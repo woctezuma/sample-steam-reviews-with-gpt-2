{
  "nbformat": 4,
  "nbformat_minor": 0,
  "metadata": {
    "colab": {
      "name": "gpt_2_for_reviews.ipynb",
      "version": "0.3.2",
      "provenance": [],
      "collapsed_sections": []
    },
    "kernelspec": {
      "name": "python3",
      "display_name": "Python 3"
    },
    "accelerator": "GPU"
  },
  "cells": [
    {
      "cell_type": "markdown",
      "metadata": {
        "id": "5u6MjGQAuzWN",
        "colab_type": "text"
      },
      "source": [
        "# Sample Steam Reviews with GPT-2\n",
        "Code inspired from https://github.com/woctezuma/sample-steam-reviews-with-gpt-2"
      ]
    },
    {
      "cell_type": "markdown",
      "metadata": {
        "id": "2KjP9yVVveN1",
        "colab_type": "text"
      },
      "source": [
        "## Setting the GPT-2 model"
      ]
    },
    {
      "cell_type": "markdown",
      "metadata": {
        "colab_type": "text",
        "id": "A1zEYHxh304_"
      },
      "source": [
        "Install the Python package\n",
        "\n",
        "Reference: https://github.com/minimaxir/gpt-2-simple"
      ]
    },
    {
      "cell_type": "code",
      "metadata": {
        "id": "_1ruwgwCuEHd",
        "colab_type": "code",
        "outputId": "217272c3-ca96-49d6-e238-e90c6717157f",
        "colab": {
          "base_uri": "https://localhost:8080/",
          "height": 348
        }
      },
      "source": [
        "!pip install gpt_2_simple"
      ],
      "execution_count": 1,
      "outputs": [
        {
          "output_type": "stream",
          "text": [
            "Collecting gpt_2_simple\n",
            "  Downloading https://files.pythonhosted.org/packages/10/fa/9ff4ce16abea04d2069d9065da862990b4036d85a5d061ea21ca5e441120/gpt_2_simple-0.4.2.tar.gz\n",
            "Requirement already satisfied: regex in /usr/local/lib/python3.6/dist-packages (from gpt_2_simple) (2018.1.10)\n",
            "Requirement already satisfied: requests in /usr/local/lib/python3.6/dist-packages (from gpt_2_simple) (2.21.0)\n",
            "Requirement already satisfied: tqdm in /usr/local/lib/python3.6/dist-packages (from gpt_2_simple) (4.28.1)\n",
            "Requirement already satisfied: numpy in /usr/local/lib/python3.6/dist-packages (from gpt_2_simple) (1.16.3)\n",
            "Collecting toposort (from gpt_2_simple)\n",
            "  Downloading https://files.pythonhosted.org/packages/e9/8a/321cd8ea5f4a22a06e3ba30ef31ec33bea11a3443eeb1d89807640ee6ed4/toposort-1.5-py2.py3-none-any.whl\n",
            "Requirement already satisfied: urllib3<1.25,>=1.21.1 in /usr/local/lib/python3.6/dist-packages (from requests->gpt_2_simple) (1.24.2)\n",
            "Requirement already satisfied: certifi>=2017.4.17 in /usr/local/lib/python3.6/dist-packages (from requests->gpt_2_simple) (2019.3.9)\n",
            "Requirement already satisfied: idna<2.9,>=2.5 in /usr/local/lib/python3.6/dist-packages (from requests->gpt_2_simple) (2.8)\n",
            "Requirement already satisfied: chardet<3.1.0,>=3.0.2 in /usr/local/lib/python3.6/dist-packages (from requests->gpt_2_simple) (3.0.4)\n",
            "Building wheels for collected packages: gpt-2-simple\n",
            "  Building wheel for gpt-2-simple (setup.py) ... \u001b[?25l\u001b[?25hdone\n",
            "  Stored in directory: /root/.cache/pip/wheels/4a/86/24/ff73926776a4da5522f7eabb4bc6d87c9932989f9df61b8c84\n",
            "Successfully built gpt-2-simple\n",
            "Installing collected packages: toposort, gpt-2-simple\n",
            "Successfully installed gpt-2-simple-0.4.2 toposort-1.5\n"
          ],
          "name": "stdout"
        }
      ]
    },
    {
      "cell_type": "markdown",
      "metadata": {
        "id": "nTkq7wEQwEkZ",
        "colab_type": "text"
      },
      "source": [
        "Download the pre-trained model"
      ]
    },
    {
      "cell_type": "code",
      "metadata": {
        "id": "_pdkhHU6wd12",
        "colab_type": "code",
        "colab": {}
      },
      "source": [
        "import gpt_2_simple as gpt2\n",
        "from datetime import datetime\n",
        "from google.colab import files"
      ],
      "execution_count": 0,
      "outputs": []
    },
    {
      "cell_type": "markdown",
      "metadata": {
        "id": "0ggC2Mc75BnB",
        "colab_type": "text"
      },
      "source": [
        "## Downloading GPT-2"
      ]
    },
    {
      "cell_type": "markdown",
      "metadata": {
        "id": "6r3939YUqT9K",
        "colab_type": "text"
      },
      "source": [
        "Choose between `117M` and `345M` models"
      ]
    },
    {
      "cell_type": "code",
      "metadata": {
        "id": "NW4vZzlyqOnc",
        "colab_type": "code",
        "colab": {}
      },
      "source": [
        "# model_name = '117M'\n",
        "model_name = '345M'"
      ],
      "execution_count": 0,
      "outputs": []
    },
    {
      "cell_type": "markdown",
      "metadata": {
        "id": "4_hrBy2DqR5M",
        "colab_type": "text"
      },
      "source": [
        "Download"
      ]
    },
    {
      "cell_type": "code",
      "metadata": {
        "id": "_-If30nT4ZCb",
        "colab_type": "code",
        "outputId": "f7923572-053d-4bf1-a0d0-1fa43166f3fa",
        "colab": {
          "base_uri": "https://localhost:8080/",
          "height": 146
        }
      },
      "source": [
        "gpt2.download_gpt2(model_name=model_name)"
      ],
      "execution_count": 4,
      "outputs": [
        {
          "output_type": "stream",
          "text": [
            "Fetching checkpoint: 1.00kit [00:00, 307kit/s]                                                      \n",
            "Fetching encoder.json: 1.04Mit [00:00, 53.9Mit/s]                                                   \n",
            "Fetching hparams.json: 1.00kit [00:00, 614kit/s]                                                    \n",
            "Fetching model.ckpt.data-00000-of-00001: 1.42Git [00:28, 49.1Mit/s]                                 \n",
            "Fetching model.ckpt.index: 11.0kit [00:00, 2.57Mit/s]                                               \n",
            "Fetching model.ckpt.meta: 927kit [00:00, 42.9Mit/s]                                                 \n",
            "Fetching vocab.bpe: 457kit [00:00, 38.2Mit/s]                                                       \n"
          ],
          "name": "stderr"
        }
      ]
    },
    {
      "cell_type": "markdown",
      "metadata": {
        "id": "e9sI2rah5OyB",
        "colab_type": "text"
      },
      "source": [
        "## Uploading a Text File to be Trained to Colaboratory"
      ]
    },
    {
      "cell_type": "markdown",
      "metadata": {
        "id": "r82T8yOm8jyL",
        "colab_type": "text"
      },
      "source": [
        "#### Either get the data by yourself"
      ]
    },
    {
      "cell_type": "code",
      "metadata": {
        "id": "CsEEvL5b8IDE",
        "colab_type": "code",
        "outputId": "98b358e0-e6ce-47a3-e1fc-bbd6e63e9d21",
        "colab": {
          "base_uri": "https://localhost:8080/",
          "height": 72
        }
      },
      "source": [
        "!curl -O https://raw.githubusercontent.com/woctezuma/sample-steam-reviews-with-gpt-2/master/export_review_data.py"
      ],
      "execution_count": 6,
      "outputs": [
        {
          "output_type": "stream",
          "text": [
            "  % Total    % Received % Xferd  Average Speed   Time    Time     Time  Current\n",
            "                                 Dload  Upload   Total   Spent    Left  Speed\n",
            "\r  0     0    0     0    0     0      0      0 --:--:-- --:--:-- --:--:--     0\r100  7198  100  7198    0     0  49986      0 --:--:-- --:--:-- --:--:-- 49986\n"
          ],
          "name": "stdout"
        }
      ]
    },
    {
      "cell_type": "code",
      "metadata": {
        "id": "zJLNxAhg8IQz",
        "colab_type": "code",
        "outputId": "5edb6d43-8706-48f4-d972-931d8abe8223",
        "colab": {
          "base_uri": "https://localhost:8080/",
          "height": 72
        }
      },
      "source": [
        "!curl -O https://raw.githubusercontent.com/woctezuma/sample-steam-reviews-with-gpt-2/master/requirements.txt"
      ],
      "execution_count": 7,
      "outputs": [
        {
          "output_type": "stream",
          "text": [
            "  % Total    % Received % Xferd  Average Speed   Time    Time     Time  Current\n",
            "                                 Dload  Upload   Total   Spent    Left  Speed\n",
            "\r  0     0    0     0    0     0      0      0 --:--:-- --:--:-- --:--:--     0\r100    37  100    37    0     0    262      0 --:--:-- --:--:-- --:--:--   262\n"
          ],
          "name": "stdout"
        }
      ]
    },
    {
      "cell_type": "code",
      "metadata": {
        "id": "HMhEG1Xi8UZF",
        "colab_type": "code",
        "outputId": "d2ebebb5-a9cb-42eb-8dc2-228dc06d573f",
        "colab": {
          "base_uri": "https://localhost:8080/",
          "height": 329
        }
      },
      "source": [
        "!pip install -r requirements.txt"
      ],
      "execution_count": 8,
      "outputs": [
        {
          "output_type": "stream",
          "text": [
            "Collecting steamreviews==0.8.0 (from -r requirements.txt (line 1))\n",
            "  Downloading https://files.pythonhosted.org/packages/c9/2c/556162233faa4c854f66d5f3e4a4495dc294c72e897711aa83c6fa742a86/steamreviews-0.8.0-py3-none-any.whl\n",
            "Collecting langdetect==1.0.7 (from -r requirements.txt (line 2))\n",
            "\u001b[?25l  Downloading https://files.pythonhosted.org/packages/59/59/4bc44158a767a6d66de18c4136c8aa90491d56cc951c10b74dd1e13213c9/langdetect-1.0.7.zip (998kB)\n",
            "\u001b[K     |████████████████████████████████| 1.0MB 3.4MB/s \n",
            "\u001b[?25hRequirement already satisfied: requests in /usr/local/lib/python3.6/dist-packages (from steamreviews==0.8.0->-r requirements.txt (line 1)) (2.21.0)\n",
            "Requirement already satisfied: six in /usr/local/lib/python3.6/dist-packages (from langdetect==1.0.7->-r requirements.txt (line 2)) (1.12.0)\n",
            "Requirement already satisfied: certifi>=2017.4.17 in /usr/local/lib/python3.6/dist-packages (from requests->steamreviews==0.8.0->-r requirements.txt (line 1)) (2019.3.9)\n",
            "Requirement already satisfied: idna<2.9,>=2.5 in /usr/local/lib/python3.6/dist-packages (from requests->steamreviews==0.8.0->-r requirements.txt (line 1)) (2.8)\n",
            "Requirement already satisfied: urllib3<1.25,>=1.21.1 in /usr/local/lib/python3.6/dist-packages (from requests->steamreviews==0.8.0->-r requirements.txt (line 1)) (1.24.2)\n",
            "Requirement already satisfied: chardet<3.1.0,>=3.0.2 in /usr/local/lib/python3.6/dist-packages (from requests->steamreviews==0.8.0->-r requirements.txt (line 1)) (3.0.4)\n",
            "Building wheels for collected packages: langdetect\n",
            "  Building wheel for langdetect (setup.py) ... \u001b[?25l\u001b[?25hdone\n",
            "  Stored in directory: /root/.cache/pip/wheels/ec/0c/a9/1647275e7ef5014e7b83ff30105180e332867d65e7617ddafe\n",
            "Successfully built langdetect\n",
            "Installing collected packages: steamreviews, langdetect\n",
            "Successfully installed langdetect-1.0.7 steamreviews-0.8.0\n"
          ],
          "name": "stdout"
        }
      ]
    },
    {
      "cell_type": "code",
      "metadata": {
        "id": "LWekXOQGBD1j",
        "colab_type": "code",
        "colab": {}
      },
      "source": [
        "app_id = 583950\n",
        "\n",
        "num_days = 28*3 # slightly less than 3 months"
      ],
      "execution_count": 0,
      "outputs": []
    },
    {
      "cell_type": "code",
      "metadata": {
        "id": "A9sMp0WC8aP7",
        "colab_type": "code",
        "colab": {
          "base_uri": "https://localhost:8080/",
          "height": 164
        },
        "outputId": "327f7d69-8ee6-4cfb-cbe8-6a2989ec9a36"
      },
      "source": [
        "from export_review_data import apply_workflow_for_app_id\n",
        "\n",
        "apply_workflow_for_app_id(app_id,\n",
        "                          num_days=num_days)"
      ],
      "execution_count": 10,
      "outputs": [
        {
          "output_type": "stream",
          "text": [
            "[appID = 583950] expected #reviews = 8712\n",
            "#reviews = 341\n",
            "Filtering out reviews which were not written in english.\n",
            "#reviews = 341\n",
            "Filtering out reviews with strictly fewer than 150 characters.\n",
            "#reviews = 129\n",
            "Filtering out reviews which were not detected as written in en.\n",
            "#reviews = 127\n"
          ],
          "name": "stdout"
        }
      ]
    },
    {
      "cell_type": "markdown",
      "metadata": {
        "id": "7LPbkB998g-B",
        "colab_type": "text"
      },
      "source": [
        "#### Or get a data snapshot from me\n",
        "\n",
        "Currently only possible for Artifact, as an example, because the recommended way is to run the code above for the game of your choice instead."
      ]
    },
    {
      "cell_type": "code",
      "metadata": {
        "id": "FIR9fBid5U2w",
        "colab_type": "code",
        "colab": {}
      },
      "source": [
        "# !mkdir -p data/\n",
        "\n",
        "## Either Artifact (recent reviews):\n",
        "# !curl -O https://raw.githubusercontent.com/woctezuma/sample-steam-reviews-with-gpt-2/master/data/with_delimiters/583950.txt\n",
        "# !mv 583950.txt data/\n",
        "\n",
        "## Or Crusader Kings II (all the English reviews):\n",
        "# !curl -O https://raw.githubusercontent.com/wiki/woctezuma/sample-steam-reviews-with-gpt-2/data/with_delimiters/203770.txt\n",
        "# !mv 203770.txt data/"
      ],
      "execution_count": 0,
      "outputs": []
    },
    {
      "cell_type": "markdown",
      "metadata": {
        "id": "AjmpOgoa5y7Q",
        "colab_type": "text"
      },
      "source": [
        "## Finetune GPT-2"
      ]
    },
    {
      "cell_type": "code",
      "metadata": {
        "id": "cu5ctG0DBLIe",
        "colab_type": "code",
        "colab": {}
      },
      "source": [
        "file_name = 'data/' + str(app_id) + '.txt'\n",
        "\n",
        "run_name = model_name + '_reviews_' + str(app_id)"
      ],
      "execution_count": 0,
      "outputs": []
    },
    {
      "cell_type": "code",
      "metadata": {
        "id": "Bfg4HYZl56JJ",
        "colab_type": "code",
        "outputId": "39c14781-e766-4482-fd0c-79c659e16f02",
        "colab": {
          "base_uri": "https://localhost:8080/",
          "height": 4500
        }
      },
      "source": [
        "sess = gpt2.start_tf_sess()\n",
        "\n",
        "gpt2.finetune(sess,\n",
        "              run_name=run_name,\n",
        "              dataset=file_name,\n",
        "              model_name=model_name,\n",
        "              steps=1000,\n",
        "              restore_from='fresh',   # change to 'latest' to resume training\n",
        "              print_every=10,   # how many steps between printing progress\n",
        "              sample_every=200,   # how many steps to print a demo sample\n",
        "              save_every=500   # how many steps between saving checkpoint              \n",
        "              )"
      ],
      "execution_count": 13,
      "outputs": [
        {
          "output_type": "stream",
          "text": [
            "WARNING:tensorflow:From /usr/local/lib/python3.6/dist-packages/tensorflow/python/framework/op_def_library.py:263: colocate_with (from tensorflow.python.framework.ops) is deprecated and will be removed in a future version.\n",
            "Instructions for updating:\n",
            "Colocations handled automatically by placer.\n",
            "WARNING:tensorflow:From /usr/local/lib/python3.6/dist-packages/gpt_2_simple/src/sample.py:51: to_float (from tensorflow.python.ops.math_ops) is deprecated and will be removed in a future version.\n",
            "Instructions for updating:\n",
            "Use tf.cast instead.\n",
            "WARNING:tensorflow:From /usr/local/lib/python3.6/dist-packages/gpt_2_simple/src/sample.py:53: multinomial (from tensorflow.python.ops.random_ops) is deprecated and will be removed in a future version.\n",
            "Instructions for updating:\n",
            "Use tf.random.categorical instead.\n",
            "WARNING:tensorflow:From /usr/local/lib/python3.6/dist-packages/tensorflow/python/ops/math_ops.py:3066: to_int32 (from tensorflow.python.ops.math_ops) is deprecated and will be removed in a future version.\n",
            "Instructions for updating:\n",
            "Use tf.cast instead.\n",
            "WARNING:tensorflow:From /usr/local/lib/python3.6/dist-packages/tensorflow/python/ops/math_grad.py:102: div (from tensorflow.python.ops.math_ops) is deprecated and will be removed in a future version.\n",
            "Instructions for updating:\n",
            "Deprecated in favor of operator or tf.math.divide.\n",
            "Loading checkpoint models/345M/model.ckpt\n",
            "WARNING:tensorflow:From /usr/local/lib/python3.6/dist-packages/tensorflow/python/training/saver.py:1266: checkpoint_exists (from tensorflow.python.training.checkpoint_management) is deprecated and will be removed in a future version.\n",
            "Instructions for updating:\n",
            "Use standard file APIs to check for files with this prefix.\n",
            "INFO:tensorflow:Restoring parameters from models/345M/model.ckpt\n"
          ],
          "name": "stdout"
        },
        {
          "output_type": "stream",
          "text": [
            "\r  0%|          | 0/1 [00:00<?, ?it/s]"
          ],
          "name": "stderr"
        },
        {
          "output_type": "stream",
          "text": [
            "Loading dataset...\n"
          ],
          "name": "stdout"
        },
        {
          "output_type": "stream",
          "text": [
            "\r100%|██████████| 1/1 [00:00<00:00,  4.97it/s]\n"
          ],
          "name": "stderr"
        },
        {
          "output_type": "stream",
          "text": [
            "dataset has 18070 tokens\n",
            "Training...\n",
            "[10 | 24.08] loss=3.13 avg=3.13\n",
            "[20 | 39.45] loss=2.91 avg=3.02\n",
            "[30 | 54.94] loss=1.83 avg=2.62\n",
            "[40 | 70.59] loss=1.98 avg=2.46\n",
            "[50 | 86.41] loss=1.15 avg=2.19\n",
            "[60 | 102.39] loss=1.08 avg=2.00\n",
            "[70 | 118.53] loss=0.56 avg=1.79\n",
            "[80 | 134.65] loss=0.65 avg=1.64\n",
            "[90 | 150.91] loss=0.73 avg=1.54\n",
            "[100 | 167.28] loss=0.13 avg=1.39\n",
            "[110 | 183.72] loss=0.85 avg=1.34\n",
            "[120 | 200.25] loss=0.10 avg=1.23\n",
            "[130 | 216.82] loss=0.22 avg=1.15\n",
            "[140 | 233.46] loss=0.12 avg=1.07\n",
            "[150 | 250.16] loss=0.18 avg=1.00\n",
            "[160 | 266.92] loss=0.07 avg=0.94\n",
            "[170 | 283.73] loss=0.04 avg=0.88\n",
            "[180 | 300.60] loss=0.21 avg=0.84\n",
            "[190 | 317.45] loss=0.11 avg=0.80\n",
            "[200 | 334.24] loss=0.04 avg=0.76\n",
            "======== SAMPLE 1 ========\n",
            " that then-candidate Trump promised \"major league\" crowds of fans for the convention (the last time I checked, that was probably more of a joke than anything else).\n",
            "Here we are, almost there. The hard work is behind us.\n",
            "Thank you to everyone who supported us from the beginning -- we couldn't have done it without you.<|endoftext|>\n",
            "<|startoftext|>This game had the potential to be a smash hit, and instead it's sunk to half. Disappointing, especially since it was a huge part of my gaming history.\n",
            "People who enjoyed the basics of the game will probably still enjoy it, but its not going to be for everyone.\n",
            "I'm not complaining about real money purchases, I spent a lot of money and had a lot of fun with it. For some it was a hobby, for others a regular part of their gaming routine. For me it was all of them.<|endoftext|>\n",
            "<|startoftext|>This game had some good ideas, but it's not really interesting enough to warrant the payment model. Furthermore, the card game market is already saturated with good ideas that I don't want to play, and they are substantially cheaper.\n",
            "Do yourself a favor and pick up Slay the Spire to fill the card game itch.<|endoftext|>\n",
            "<|startoftext|>It was clear 4 months ago that this game badly needed an update. It is lacking so many features. Now the playerbase has left, the game is basically dead and I wish I could get a refund.<|endoftext|>\n",
            "<|startoftext|>Expected a fresh new skill based card game. Instead I was playing pretty long games (because my opponents took all the time in the world before they decied to pass a round..) that were heavily influenced by starting hero placement, creep placement and bullshit random arrows. Nothing feels better than losing a 40 min long game cuz of one stupid RNG aspect of the game. I mean I know there will always be RNG in card games and as a former Hearthstone player I am used to it. But there is so much unnecessary RNG already and there will be more and more as they add new cards. I really hoped it would be like hearthstone in the beggining where there was very limited RNG that felt much less impactful than in this game. :(<|endoftext|>\n",
            "<|startoftext|>No one plays the game. Bad idea to launch this game without any progression for players. I got the game for free but like other anonymous respondents said, don't bother.  Also, the chat is terrible. I get tons of \"Oh, I didn't know that\" and \"That was my first time\" inane comments.\n",
            "That being said, this game has it right from the start: Card games should be about competition. It should be a blast; enjoy the ride.<|endoftext|>\n",
            "<|startoftext|>The best card game. Definitely buy this game. Got it as a gift from a friend. Totally recommend it.<|endoftext|>\n",
            "<|startoftext|>An excellent card game, with a more-than-average randomness and a nice flavour.  My favourite card game I have ever played. A complete and utter joy to play. Aaaaand then the game ends...\n",
            "No more player portraits, creep placement is random, arrows are cheap, play is fast and flowy, there is a whole lot of strategy involved.\n",
            "This game should be free.\n",
            "No words to express how much we love this game, it's so simple to learn and plays like a dream. Aaaaaand then the game is dead.\n",
            "(ok, not really dead, but it is closing)<|endoftext|>\n",
            "<|startoftext|>Love it! Failed launch, but still playable after some time. Aaaaaand then the game is dead. (ok, not really dead, but it is closing)<|endoftext|>\n",
            "<|startoftext|>Sorry, but this game is not for everyone.\n",
            "Not for me, at least not yet. However, if Cards Against Humanity is any indication, I might want to cancel my refund.<|endoftext|>\n",
            "<|startoftext|>This game makes me want to curl up and rethink my life decisions. Great for realizing your life is garbage and this game stole $20 just to shove the fact that life is shit in your face.<|endoftext|>\n",
            "<|startoftext|>Seriously what the fuck, Valve? This game is fucking awesome if properly maintained, and I am even ready to throw hell lots of money into it. Aaaaand then what? No more art, music, voice actors, whatever it takes to keep the game alive. And why should I have to\n",
            "\n",
            "[210 | 376.90] loss=0.08 avg=0.72\n",
            "[220 | 393.69] loss=0.03 avg=0.69\n",
            "[230 | 410.46] loss=0.11 avg=0.66\n",
            "[240 | 427.23] loss=0.71 avg=0.66\n",
            "[250 | 443.99] loss=0.03 avg=0.63\n",
            "[260 | 460.81] loss=0.09 avg=0.61\n",
            "[270 | 477.68] loss=0.06 avg=0.59\n",
            "[280 | 494.55] loss=0.05 avg=0.57\n",
            "[290 | 511.35] loss=0.06 avg=0.55\n",
            "[300 | 528.12] loss=0.18 avg=0.53\n",
            "[310 | 544.89] loss=0.01 avg=0.51\n",
            "[320 | 561.62] loss=0.06 avg=0.50\n",
            "[330 | 578.36] loss=0.05 avg=0.48\n",
            "[340 | 595.12] loss=0.09 avg=0.47\n",
            "[350 | 611.87] loss=0.05 avg=0.45\n",
            "[360 | 628.58] loss=0.04 avg=0.44\n",
            "[370 | 645.31] loss=0.03 avg=0.43\n",
            "[380 | 662.03] loss=0.06 avg=0.41\n",
            "[390 | 678.72] loss=0.04 avg=0.40\n",
            "[400 | 695.44] loss=0.04 avg=0.39\n",
            "======== SAMPLE 1 ========\n",
            " like I said it's a turn based card game, so its lower skill ceiling than Hearthstone. But hey look I said it was low skill ceiling so maybe I'll try playtesting Hearthstone later today :)<|endoftext|>\n",
            "<|startoftext|>What the hell happened here?\n",
            "I quite enjoyed the game but now it's tumbleweed.\n",
            "Being competitive with a game that cost money to buy required more money to play which kinda put me off.\n",
            "All the same to see it so dead now just a few weeks after launch.\n",
            "Oh well. Back to Gwent<|endoftext|>\n",
            "<|startoftext|>No one plays it. Bad idea to launch a game without any progression for players. I got it as a gift from a friend but unlike Hearthstone for example, I didn't see any point in learning the mechanics - no ranking, no free tournaments, nothing.  How can they launch this game like that is beyond me. Now it has received some updates but...no one really cares anymore. Like other comments said, Dota Auto Chess is better than this...<|endoftext|>\n",
            "<|startoftext|>The game itself is amazing; hugely intellectual, with a ton of fun. The current player base is highly competitive and competent wich is also nice.\n",
            "Valve's business decisions, including the marketing of the product, the applied monetization model next to the current market trends among the consumers, and the executed rollout plan of the game? Nah.\n",
            "The story of artifact('s first few months?) will become a negative example in the textbooks, about how to screw up with a perfect product in your hands.\n",
            "However If valve fixes the current issues in the game (like fixing the incentives of a player driven by the current rewarding system and the current competitive system) there is a huge potential in the game.\n",
            "So all in all; impressive job from the game designers and the developers, and aggravatingly bad decisions from the business area.<|endoftext|>\n",
            "<|startoftext|>Was a really fun game for a minute there, but radio silence, lack of design cohesion and far too much store friction caused this one to plummet pretty fast. Devs have abandoned ship.<|endoftext|>\n",
            "<|startoftext|>I'm not happy to write this review, the game is good and well made, every cards has his lore and voice acting, the three boards mechanics is not so complicated and you can master it after a couple of hours (the time you need to practice with the most common cards).\n",
            "What is wrong with this game is the microtransaction system, if you want to build your deck you need to pay, there is no trading with friends or other people but right now the cards are very cheap on the market (because the game is dead), but let me say that if you want to play for fun with pre-build decks you can for free.\n",
            "What is more wrong with this game is Valve, they killed the game after two months, last update was at the end of January and right now there is no info about the future of the game, they also fired RG and other members of the team.\n",
            "The game is dead and Valve killed it since start.\n",
            "There is rumors out there that maybe it will become free to play \"in a few months\", i will not talk about this rumor because is a rumor, i don't want rumors from a 4Chan user, i want an official statement from Valve.\n",
            "The game is dead and Valve killed it.\n",
            "(ok, ok, there is other 99 wrong things but who cares, the game is dead and Valve killed it.)<|endoftext|>\n",
            "<|startoftext|>This game is was good at the beginning, now valve is more money hungry than pubg. I wouldnt recommend this at all unless they update the living poop out of it.<|endoftext|>\n",
            "<|startoftext|>Game is dead. Most recent user analytics I looked at said less than 500 daily players. I'd highly doubt Valve will invest any more into this game. Do not buy.<|endoftext|>\n",
            "<|startoftext|>Remember when Valve was a mark of quality? Of course you don't. That was like 10 years ago.\n",
            "Everyone who ever had any skill at all that worked at Valve has long since left the company.<|endoftext|>\n",
            "<|startoftext|>Honestly the game is boring. It's one thing to release a $20 game with cards you have to pay for inside the game with microtransactions, but even I would have forgiven this if the game were at least fun. It's not though. Don't recommend, even if the game goes F2P.<|endoftext|>\n",
            "<|startoftext|>Please save the artifact valve. I will not modify my review until Valve make\n",
            "\n",
            "[410 | 734.05] loss=0.02 avg=0.38\n",
            "[420 | 750.76] loss=0.01 avg=0.37\n",
            "[430 | 767.46] loss=0.14 avg=0.36\n",
            "[440 | 784.15] loss=0.04 avg=0.35\n",
            "[450 | 800.85] loss=0.03 avg=0.35\n",
            "[460 | 817.55] loss=0.04 avg=0.34\n",
            "[470 | 834.26] loss=0.01 avg=0.33\n",
            "[480 | 850.98] loss=0.03 avg=0.32\n",
            "[490 | 867.72] loss=0.04 avg=0.31\n",
            "[500 | 884.49] loss=0.03 avg=0.31\n",
            "Saving checkpoint/345M_reviews_583950/model-500\n",
            "[510 | 913.37] loss=0.03 avg=0.30\n",
            "[520 | 930.13] loss=0.02 avg=0.29\n",
            "[530 | 947.00] loss=0.03 avg=0.29\n",
            "[540 | 963.77] loss=0.02 avg=0.28\n",
            "[550 | 980.48] loss=0.03 avg=0.27\n",
            "[560 | 997.18] loss=0.04 avg=0.27\n",
            "[570 | 1013.92] loss=0.02 avg=0.26\n",
            "[580 | 1030.70] loss=0.02 avg=0.26\n",
            "[590 | 1047.47] loss=0.04 avg=0.25\n",
            "[600 | 1064.30] loss=0.03 avg=0.25\n",
            "======== SAMPLE 1 ========\n",
            " for the game was a bit more, but it was not that bad. I wanted to play for a weekend, but it was not possible since all my characters died.\n",
            "This game could have been offered free, with the option to buy a Deluxe version with more cards and more tournaments.\n",
            "They could have offered a weekly or level reward plan, with more rewards and smaller monthly payments.\n",
            "They could have offered free access to all their events and tournaments, with the option to buy a package with access to all their events and tournaments for $20.\n",
            "They could have offered to split the card packs into 3 parts, with the possibility of buying a Complete set for $20.\n",
            "They could have offered to split the ticket gauntlets into 2 parts, with the possibility of buying a Complete set for $10.\n",
            "They could have offered to split the cash shop into 2 parts, with the possibility of buying a Complete set for $10.\n",
            "They could have offered to split the Crafting grid into 2 parts, with the possibility of buying a Complete set for $10.\n",
            "They could have offered to split the Arena into 2 parts, with the possibility of buying a Complete set for $10.\n",
            "They could have offered to split the P2W into 2 parts, with the possibility of buying a Complete set for $20.\n",
            "They could have offered to split the VIP ladders into 2 parts, with the possibility of buying a Complete set for $20.\n",
            "They could have offered to split the Black decks into 2 parts, with the possibility of buying a Complete set for $20.\n",
            "They could have offered to split the White decks into 2 parts, with the possibility of buying a Complete set for $20.\n",
            "They could have offered to split the Blue decks into 2 parts, with the possibility of buying a Complete set for $20.\n",
            "They could have offered to split the Red decks into 2 parts, with the possibility of buying a Complete set for $20.\n",
            "They could have offered to split the Green decks into 2 parts, with the possibility of selling cards for money, with the possibility of splitting the profit into two parts, with the possibility of selling cards for free, with the possibility of buying a Complete set for $20.\n",
            "They could have offered to split the Blue decks into 2 parts, with the possibility of selling tickets to tournaments for money, with the possibility of splitting the profit into two parts, with the possibility of selling tickets to free, with the possibility of buying a Complete set for $20.\n",
            "They could have offered to split the Red decks into 2 parts, with the possibility of selling passes to players for money, with the possibility of splitting the profit into two parts, with the possibility of selling passes to free, with the possibility of buying a Complete set for $20.\n",
            "They could have offered to split the Green decks into 2 parts, with the possibility of selling passes to create your deck of your liking, with the possibility of splitting the profit into two parts, with the possibility of selling passes to free, with the possibility of buying a Complete set for $20.\n",
            "They could have offered to sell your passes for money, with the possibility of buying a Complete set for $20.\n",
            "They could have offered to split the Black decks into 2 parts with the possibility of buying a Complete set for $20.\n",
            "They could have offered to sell your passes for money, with the possibility of buying a Complete set for $20.\n",
            "They could have offered to sell your passes for money, with the possibility of buying a Complete set for $20.\n",
            "They could have offered to sell your passes for money, with the possibility of buying a Complete set for $20.\n",
            "They could have offered to split the Blue decks into 2 parts with the possibility of selling a Complete set for $20.\n",
            "They could have offered to sell your passes for money, with the possibility of buying a Complete set for $20.\n",
            "They could have offered to sell your passes for money, with the possibility of buying a Complete set for $20.\n",
            "They could have offered to split the Red decks into 2 parts with the possibility of selling a Complete set for $20.\n",
            "They could have offered to sell your passes for money, with the possibility of buying a Complete set for $20.\n",
            "They could have offered to split the Black decks into 2 parts with the possibility of selling a Complete set for $20.\n",
            "They could have offered to sell your passes for money, with the possibility of buying a Complete set for $20.\n",
            "They could have offered to sell your passes for money, with the possibility of buying a Complete set for $20.\n",
            "They could have offered to split the Red decks into 2 parts with the possibility of selling a Complete set for $20.\n",
            "They could have offered to split the Blue decks into 2 parts with the possibility of selling a Complete set for $20.\n",
            "They could have offered to sell your passes for money, with the possibility of buying a Complete set for $20.\n",
            "They could have offered to\n",
            "\n",
            "[610 | 1102.83] loss=0.02 avg=0.24\n",
            "[620 | 1119.55] loss=0.02 avg=0.24\n",
            "[630 | 1136.33] loss=0.02 avg=0.23\n",
            "[640 | 1153.19] loss=0.05 avg=0.23\n",
            "[650 | 1170.01] loss=0.02 avg=0.22\n",
            "[660 | 1186.79] loss=0.19 avg=0.22\n",
            "[670 | 1203.53] loss=0.06 avg=0.22\n",
            "[680 | 1220.31] loss=0.06 avg=0.22\n",
            "[690 | 1237.05] loss=0.04 avg=0.21\n",
            "[700 | 1253.76] loss=0.03 avg=0.21\n",
            "[710 | 1270.47] loss=0.02 avg=0.21\n",
            "[720 | 1287.20] loss=0.02 avg=0.20\n",
            "[730 | 1303.91] loss=0.04 avg=0.20\n",
            "[740 | 1320.64] loss=0.05 avg=0.20\n",
            "[750 | 1337.34] loss=0.04 avg=0.19\n",
            "[760 | 1354.04] loss=0.04 avg=0.19\n",
            "[770 | 1370.75] loss=0.06 avg=0.19\n",
            "[780 | 1387.49] loss=0.03 avg=0.19\n",
            "[790 | 1404.18] loss=0.07 avg=0.18\n",
            "[800 | 1420.88] loss=0.03 avg=0.18\n",
            "======== SAMPLE 1 ========\n",
            " tier on top of the overpriced miniatures and vehicles.  A lot of the discussions on the forums and in the review section revolve around Rng or the lack thereof. While I understand that some people are more critical than others, I feel that there is a massive amount of potential in Artifact.\n",
            "There are many other games that could enjoy the same treatment, from Hearthstone to TagPro to Minesweeper to TagPro to Dota 2 to name a few. While I understand that some people enjoy playing both against the bot and against global opponents, I feel that there is a massive amount of potential in Artifact.\n",
            "[b]Gameplay:[/b]\n",
            "The core gameplay mechanics of Artifact are still intact. You sit down, load up a deck, and wait for the cards to appear in your deck. You build an army, use it to conquer the globe, and destroy the ancient evils that threaten to destroy our once great civilization.\n",
            "[b]Graphics/Sound:[/b] 4/10. This could have been a 5/10 game without the use of any visual bells and whistles. It is, however, saddening that this could have been a better game.\n",
            "[b]Content/Services:[/b] Lack of content/commucation, mainly because of poor communication, leads many to believe that there is fraud or that there is some sort of underground economy that is not publicly displayed. Essentially, this game has few, if any, fans.\n",
            "[b]Replay Value:[/b] Yes. This is the type of game that you have to play multiple times to get more out of it.\n",
            "[b]Overall Score:[/b] 9/10.\n",
            "[i]Played in 2018 - .[/i]<|endoftext|>\n",
            "<|startoftext|>This game makes me want to curl up and rethink my life decisions. Great for realizing your life is garbage and this game stole $20 just to shove the fact that this lost me $20 brought to lightening speed and furiousness. This game stole $20 just to shove the fact that lost me $20 admitted to in front of thousands of people. I will not re-purchase this game<|endoftext|>\n",
            "<|startoftext|>Great Game, too bad it's a dead game with no future, even if Valve fix all the issues they have.<|endoftext|>\n",
            "<|startoftext|>I have purchased this game several times and enjoy playing both against the bot and against global opponents. Each time I buy a pack or currency I get 5-10% discount on the full price. I usually buy 2-3 sets and enjoy the variety of the card packs.<|endoftext|>\n",
            "<|startoftext|>I have never written a review before, but I will make an exception for this one.\n",
            "If you ever find yourself in need of anything from a card game, this is the game for you. Great for beginning Hearthstone players as well as professional gamers. Artifact looks and acts much like Dota 2, except with less clutter and more consistent gameplay.\n",
            "I don't think it deserves the amount of hate it received, certainly not the best TCG out there but surely not the worst.<|endoftext|>\n",
            "<|startoftext|>Great Game, too bad it's a dead game with no future, even if Valve fix all the issues they have.<|endoftext|>\n",
            "<|startoftext|>I've never written a review before, but I will make an exception for this one.\n",
            "You are actively working to remove negative feedback (\"The game is dead\") into the game. There is a huge amount of potential in the game, and you need to make sure that this potential is utilized. There is a huge amount of stress and anger in the game, and it needs to be put right away. You have my assurance that you are doing so.\n",
            "I hope this doesn't seem like a huge deal to some, but bear with me... I'm a casual card player, and I've been playing Dota 2 since January 2013. I have several competitive decks on NA and EU servers, and enjoy winning them all. There is a reason why casuals prefer to play online games over the console versions; you can control who sees your deck (tagpro.gg) or the queue (qxc.pro). You also have a reason to fear bots (esp. aggro). You don't have to be a better player to enjoy the game, just better.<|endoftext|>\n",
            "<|startoftext|>It's actually such a good game, cannot understand why people aren't playing this, best card game out there atm. Please somebody come on so i can play against more than one person<|endoftext|>\n",
            "<|startoftext|>The gameplay itself is deep and immersive.  Enough randomness to prevent the\n",
            "\n",
            "[810 | 1459.30] loss=0.11 avg=0.18\n",
            "[820 | 1476.00] loss=0.04 avg=0.18\n",
            "[830 | 1492.71] loss=0.02 avg=0.17\n",
            "[840 | 1509.41] loss=0.09 avg=0.17\n",
            "[850 | 1526.13] loss=0.02 avg=0.17\n",
            "[860 | 1542.82] loss=0.04 avg=0.17\n",
            "[870 | 1559.52] loss=0.05 avg=0.17\n",
            "[880 | 1576.25] loss=0.04 avg=0.16\n",
            "[890 | 1592.99] loss=0.02 avg=0.16\n",
            "[900 | 1609.79] loss=0.03 avg=0.16\n",
            "[910 | 1626.63] loss=0.04 avg=0.16\n",
            "[920 | 1643.48] loss=0.02 avg=0.15\n",
            "[930 | 1660.30] loss=0.01 avg=0.15\n",
            "[940 | 1677.06] loss=0.04 avg=0.15\n",
            "[950 | 1693.80] loss=0.02 avg=0.15\n",
            "[960 | 1710.55] loss=0.03 avg=0.15\n",
            "[970 | 1727.30] loss=0.03 avg=0.14\n",
            "[980 | 1744.06] loss=0.02 avg=0.14\n",
            "[990 | 1760.76] loss=0.03 avg=0.14\n",
            "[1000 | 1777.47] loss=0.02 avg=0.14\n",
            "Saving checkpoint/345M_reviews_583950/model-1000\n",
            "WARNING:tensorflow:From /usr/local/lib/python3.6/dist-packages/tensorflow/python/training/saver.py:966: remove_checkpoint (from tensorflow.python.training.checkpoint_management) is deprecated and will be removed in a future version.\n",
            "Instructions for updating:\n",
            "Use standard file APIs to delete files with this prefix.\n"
          ],
          "name": "stdout"
        }
      ]
    },
    {
      "cell_type": "markdown",
      "metadata": {
        "id": "-BK1U2dRuR6I",
        "colab_type": "text"
      },
      "source": [
        "## Save a Trained Model Checkpoint"
      ]
    },
    {
      "cell_type": "code",
      "metadata": {
        "id": "u1gvytO-5ick",
        "colab_type": "code",
        "colab": {}
      },
      "source": [
        "checkpoint_folder = 'checkpoint/' + run_name"
      ],
      "execution_count": 0,
      "outputs": []
    },
    {
      "cell_type": "code",
      "metadata": {
        "id": "csfQ7zoi5gWu",
        "colab_type": "code",
        "colab": {}
      },
      "source": [
        "# gpt2.mount_gdrive()"
      ],
      "execution_count": 0,
      "outputs": []
    },
    {
      "cell_type": "code",
      "metadata": {
        "id": "JQhpz42DuO6v",
        "colab_type": "code",
        "colab": {}
      },
      "source": [
        "# gpt2.copy_checkpoint_to_gdrive(checkpoint_folder=checkpoint_folder)"
      ],
      "execution_count": 0,
      "outputs": []
    },
    {
      "cell_type": "markdown",
      "metadata": {
        "id": "BEwkRvCn6XZW",
        "colab_type": "text"
      },
      "source": [
        "## Load a Trained Model Checkpoint"
      ]
    },
    {
      "cell_type": "code",
      "metadata": {
        "id": "0d_XlyRsuMm_",
        "colab_type": "code",
        "colab": {}
      },
      "source": [
        "# gpt2.copy_checkpoint_from_gdrive(checkpoint_folder=checkpoint_folder)"
      ],
      "execution_count": 0,
      "outputs": []
    },
    {
      "cell_type": "code",
      "metadata": {
        "id": "dqDaWVAo6cn9",
        "colab_type": "code",
        "colab": {}
      },
      "source": [
        "# sess = gpt2.start_tf_sess()\n",
        "\n",
        "# gpt2.load_gpt2(sess,\n",
        "#                run_name=run_name)"
      ],
      "execution_count": 0,
      "outputs": []
    },
    {
      "cell_type": "markdown",
      "metadata": {
        "id": "vX8KFoKR6g-o",
        "colab_type": "text"
      },
      "source": [
        "## Generate Text From The Trained Model"
      ]
    },
    {
      "cell_type": "code",
      "metadata": {
        "id": "R2RBA9hMIFlQ",
        "colab_type": "code",
        "colab": {}
      },
      "source": [
        "temperature=0.7 # Default is 0.7, but you may want to increase the temperature, especially if your dataset is small, to avoid copying text.\n",
        "\n",
        "num_samples = 3\n",
        "num_batches = 3 # Unique to GPT-2, you can pass a batch_size to generate multiple samples in parallel, giving a massive speedup."
      ],
      "execution_count": 0,
      "outputs": []
    },
    {
      "cell_type": "code",
      "metadata": {
        "id": "KYC30GEi6kPv",
        "colab_type": "code",
        "outputId": "23bf925c-10ba-481c-b81e-b122ee91fc5a",
        "colab": {
          "base_uri": "https://localhost:8080/",
          "height": 1708
        }
      },
      "source": [
        "gpt2.generate(sess,\n",
        "              run_name=run_name,\n",
        "              nsamples=num_samples,\n",
        "              batch_size=num_batches,\n",
        "              temperature=temperature)              "
      ],
      "execution_count": 21,
      "outputs": [
        {
          "output_type": "stream",
          "text": [
            "It's hard to believe that this game had such a successful beta period, but it did. It's been almost two months and it hasn't changed a bit. The game is dead and Valve killed it since start.\n",
            "There is rumors out there that it will become free to play \"in a few months\", i will not talk about this rumor because is a rumor, i don't want rumors from a 4Chan user, i want an official statement from Valve.\n",
            "The game is dead and Valve killed it.\n",
            "(ok, ok, there is other 99 wrong things but who cares, the game is dead and Valve killed it.)<|endoftext|>\n",
            "<|startoftext|>This game is dead and Valve killed it.\n",
            "(ok, ok, there is other 99 wrong things but who cares, the game is dead and Valve killed it.)<|endoftext|>\n",
            "<|startoftext|>Dead on Arrival game. Don't buy it. It's a dead game. Do yourself a favor and pick up Slay the Spire to fill the last vestiges of nostalgia.<|endoftext|>\n",
            "<|startoftext|>This game is dead and Valve killed it.\n",
            "(ok, ok, there is other 99 wrong things but who cares, the game is dead and Valve killed it.)<|endoftext|>\n",
            "<|startoftext|>This game is dead and Valve killed it.\n",
            "(ok, ok, there is other 99 wrong things but who cares, the game is dead and Valve killed it.)<|endoftext|>\n",
            "<|startoftext|>The game was dead stable and bug free until recently. Then, while playing other online card games, I noticed a HUGE issue... The game is dead and Valve killed it.\n",
            "No response from the game's lead developer, or from the team managing the game. No updates, guides, or anything else Valve related anymore. Just silence and burn.\n",
            "This game could've been much better, but Valve didn't even try.<|endoftext|>\n",
            "<|startoftext|>Dead on Arrival game. Really like that game. The gameplay is awesome, the cards are awesome, and the market is awesome. But the game is dead and Valve killed it.\n",
            "No response from the game's lead developer, or from the team managing the game. No updates, guides, or anything else Valve related anymore. Just silence and burn.\n",
            "This game could've been much better, but Valve didn't even try.<|endoftext|>\n",
            "<|startoftext|>The game was dead and Valve killed it.\n",
            "No response from the game's lead developer, or from the team managing the game. No updates, guides, or anything else Valve related anymore. Just silence and burn.\n",
            "This game could've been much better, but Valve didn't even try.<|endoftext|>\n",
            "<|startoftext|>The game was dead and Valve killed it.\n",
            "No response from the game's lead developer, or from the team managing the game. No updates, guides, or anything else Valve related anymore. Just silence and burn.\n",
            "This game could've been much better, but Valve didn't even try.<|endoftext|>\n",
            "<|startoftext|>The game was dead and Valve killed it.\n",
            "No response from the game's lead developer, or from the team managing the game. No updates, guides, or anything else Valve related anymore. Just silence and burn.\n",
            "This game could've been much better, but Valve didn't even try.<|endoftext|>\n",
            "<|startoftext|>The game was dead and Valve killed it.\n",
            "No response from the game's lead developer, or from the team managing the game. No updates, guides, or anything else Valve related anymore. Just silence and burn.\n",
            "This game could've been much better, but Valve didn't even try.<|endoftext|>\n",
            "<|startoftext|>Dead on Arrival game. Really like that game. The gameplay is awesome, the cards are awesome, and the market is awesome. But the game is dead and Valve killed it.\n",
            "No response from the game's lead developer, or from the team managing the game. No updates, guides, or anything else Valve related anymore. Just silence and burn.\n",
            "This game could've been much better, but Valve didn't even try.<|endoftext|>\n",
            "<|startoftext|>Dead on Arrival game. Really like that game. The gameplay is awesome, the cards are awesome, and the market is awesome. But the game is dead and Valve killed it.\n",
            "No response from the game's lead developer, or from the team managing the game. No updates, guides, or anything else Valve related anymore. Just silence and burn.\n",
            "This game could've been much\n",
            "====================\n",
            "\n",
            "The other day, I was playing ranked matchmaking against a better player and he invited me to play against him/her/it. I didn't really have anything going on at the time except for the fact that I love Dota and Valve has nothing but good things to say about it. I hope things will get better for Artifact!<|endoftext|>\n",
            "<|startoftext|>The games have been great. Creating a fun and engaging game with a focus on the player. The mechanics are solid and the game play is fast and furious. There is a free draft mode allowing you to have really fun games with a gauntlet system. Draft ===\n",
            "=======\n",
            "Even with these advantages, Artifact is still fundamentally broken as a strategy game in draft mode.\n",
            "The impact of some end game cards is such that no victory is guaranteed until the very end.\n",
            "It could be possible to take these cards into account in constructed mode while planning your next moves, but the draft really is just a huge lottery since those card are often rare and seldom picked.\n",
            "Strategy is still important, but all your efforts to carefully plan a 3 turns move can be put instantly to the trash in draft mode.\n",
            "This draft mode is full of good intentions and it did gave me 125h of play before realizing this rabbit hole is full of more fools than Arthur ends here <|endoftext|>\n",
            "<|startoftext|>This game made me realize how much I am addicted to Dota. It is also one of the best card games out there. This is a good game. I hope valve will make major update worth to continue to play.<|endoftext|>\n",
            "<|startoftext|>I still play every game after 100 hours. If you dont like the mechanics, the game is not worth to me. And yes, even with all the improvements, there is no CS:GO clone. This game is for hardcore card gamers only. There is no negotiating with terrorists, you can always buy a full deck and continue to play.\n",
            "This game is deeply strategic and games always feel like real nail-biters. But there is no bluffing involved, so there is no room for error. This is a game for sure, but I feel a lot of what is great about CCG's can be found in Artifact, and if you like CCG's and Dota, you might really want to cancel the auto-attack and not last hit just yet :)\n",
            "Artifact is deeply strategic and I have never seen a game this deep and rewarding. If you enjoy CCG's and Dota, you might really want to cancel the auto-attack and not last hit just yet :)<|endoftext|>\n",
            "<|startoftext|>I quite enjoyed playing Artifact. I never really played online card games because I wasn't good at it but I have to admit that Artifact is a lot of fun. I'm looking forward to seeing the game be released on mobile!<|endoftext|>\n",
            "<|startoftext|>I like the game better than hearthstone. I like being able to get cards directly rather than randomly. There's less random effects than hearthstone. This is a good game.<|endoftext|>\n",
            "<|startoftext|>Total garbage. At least I got my money back selling the cards which is nearly impossible now, since 99% of cards are worthless and you don't get 10 packs for buying the game anymore, only 5. (I know, I know, you can get packs by playing. But keep in mind this game had 60k people at launch and now it has 500). For all of you saying the game is not pay2win and it's cheaper to build a deck than Hearthstone, you're just fanboys.... I've been playing Hearthstone for a year now and I have several competitive decks, and I only bought the welcome pack, which is the cheapest. The only thing Artifact does better than Hearthstone (and basically every other card game) is that all cards you get are marketable and tradable. It's an interesting game, but Valve is greedy af. This should be free2play. Don't buy it, you will regret it.<|endoftext|>\n",
            "<|startoftext|>I have never written a review before, but I will make an exception for this one.\n",
            "The game is irritating, you get 5 card packs which makes no difference at all because it has no balance. If you dont want to spend extra money in card boosters, the only way to get boosters are either with tickets, or leveling Up. Good luck on that, because you will face opponents 20, 30 levels higher than you with way better cards. You get nearly no XP after each match (20 to 50) when you need 1000 or more to level up in the beggining.\n",
            "Matches can last for more than half an hour, depending on the situation, and the way that cards are deployed on\n",
            "====================\n",
            "\n",
            "Getting a new deck is never an easy task, but at least you can buy new cards! That's not to say it's easy to improve on the existing content, but it is much easier than it was with the GOAT.\n",
            "The market is a complete mess.  Valve needs to decide whether this will be an open market game (if so, stop giving out free cards/packs) or to scrap either the up-front fee, or scrap the ticketing system.\n",
            "I'm taking a break since I can no longer get regular match ups in phantom or keeper drafts when playing for stakes, and I'm not interested in the lower competition level of the free leagues.<|endoftext|>\n",
            "<|startoftext|>Game is actually extremely fun and well made mechanically. Draft Mode is amazingly fun. It really doesn't require much money to play and slowly up your collection if you use card recycles intelligently, but the system could definitely be better.<|endoftext|>\n",
            "<|startoftext|>I think Artifact has some good ideas, it certainly is an interesting game even if it didn't work out community wise. This is an interesting attempt at converting DotA into a card game and I do hope that this doesn't deter other companies from taking such risks.\n",
            "I think it's worth a shot, play with the preconstructed decks with some friends (because of the tiny community)<|endoftext|>\n",
            "<|startoftext|>+okay mechanics\n",
            "+expands on Dota2 Lore\n",
            "-filled with microtransactions in a 20$ game\n",
            "-unrealistic prices\n",
            "-pretty fucking boring\n",
            "-cash grab 20$ for a shit show\n",
            "-i tried to refund but i couldn't\n",
            "Don't buy, Valve forgot who they are<|endoftext|>\n",
            "<|startoftext|>I was discussing the future of this game on twitch, telling them that Valve CANNOT think of keeping the game as it is. I told them that Valve WILL implement mechanics to get cards for free. I was wrong.\n",
            "Valve created a game with high competition already on the board, but, the competition is f2p and cards can be obtained for free. Whoever came up with the idea that the market needed another card game, but this time you have to pay for everything, is hopefully no longer working in the gaming industry.<|endoftext|>\n",
            "<|startoftext|>Not bad at least for me. However, lack of patches makes it boring. And as the first patch, call to arm is not really a balanced one. I recommend it because I loved it, but I really dislike valve right now.<|endoftext|>\n",
            "<|startoftext|>I had High expectations with the game, played it on day 1 release. after a few days I stopped playing. Just got bored with the mechanics and It's not fun to be honest. Heads should roll. Wasted money :(<|endoftext|>\n",
            "<|startoftext|>Game breaking bug locks up the game so you can't take any actions other than passing your turn but your opponent still can. Guess how old this bug is Valve?\n",
            "3 Months! Disgustingly ridiculous. Where is the support for this game? In it for the long haul? Laughable.  Link to said reported bug.\n",
            "https://www.reddit.com/r/Artifact/comments/9ykml5/major_gamebreaking_bug/<|endoftext|>\n",
            "<|startoftext|>Artifact\n",
            "Basic idea:\n",
            "You build an army (color pie, but lore wise, seem to be from the same faction), around leaders (heroes from Dota). You attack the enemy base, and destroy the ancient, or create a break through in the enemy lines, via blowing up the towers. The resource system of cards, and a built in sideboard of sorts, dictate how each game plays out.\n",
            "The bad:\n",
            "WAY TOO MUCH RANDOMNESS!\n",
            "No control, or consistent pattern on the random creeps placement.\n",
            "No consistent attack pattern with each individual piece.\n",
            "Leader pieces placement at start of the game are random, and do not reflect how they are arranged in your strategy.\n",
            "On top of the inherently random nature of the decks, and the shop, results in games that feel like you have little to no control on the flow of the game.\n",
            "(Suggested fix; Allow a player to pick between options on creep placement, when building his or her deck: whether that be more reinforcements to the weakest lane, or more to the strongest lane (Measured by number of leaders in a lane) or allowing for a random placement. In any of the cases, the player effectively controls for a randomness, that is fairly vexing in game.\n",
            "Please make the random attacks be consistent; Allow a player to pick between options on attacks, when building his\n",
            "====================\n",
            "\n"
          ],
          "name": "stdout"
        }
      ]
    },
    {
      "cell_type": "code",
      "metadata": {
        "id": "jrZBWas662k_",
        "colab_type": "code",
        "outputId": "6afa14c0-91bc-4725-89e0-bc69a6415a77",
        "colab": {
          "base_uri": "https://localhost:8080/",
          "height": 404
        }
      },
      "source": [
        "gpt2.generate(sess,\n",
        "              run_name=run_name,\n",
        "              nsamples=num_samples,\n",
        "              batch_size=num_batches,\n",
        "              temperature=temperature,\n",
        "              prefix='<|startoftext|>I love',\n",
        "              truncate='<|endoftext|>')"
      ],
      "execution_count": 22,
      "outputs": [
        {
          "output_type": "stream",
          "text": [
            "<|startoftext|>I love Artifact. Yes, even now I'm still playing and enjoying it. The issues with the game are all (in my opinion). They are not systemic and they do not affect the gameplay. They are, however, pretty boring. I'm looking forward to whatever they do with it from here. As to the financial cost, I played Magic the Gathering for years, and I've played Hearthstone for years as well, sinking more than reasonable amounts of money into both of those games than I ever intended. Rng card packs, Three $70 expansions a year, or grind, grind, grind, dailies, grind, grind, grind, dailies etc etc. At the time of writing this, it cost less than $10 to get all of the Black cards in existence, and less or around $20 for any other colour. The market took a bit to settle, but friends and free modes were there till they did. I know several friends who made money on this system. I would hope that some kind of regional version of the game could get put out though....\n",
            "In it for the long Haul!  o7\n",
            "====================\n",
            "\n",
            "<|startoftext|>I love Artifact. Yes, even now I'm still playing and enjoying it. The issues with the game are all (in my opinion) solvable with time. While I understand that sometimes games don't live up to the hype, I feel a lot of what is great about Artifact can be found in other games, and if you like strategy, you might enjoy Scythe. The issues I have are all (in my opinion) solvable with better mechanics. While I understand that sometimes a game just needs an update, I feel a lot of what is great about Scythe can be found in F2P.\n",
            "====================\n",
            "\n",
            "<|startoftext|>I love this game. It's very fun and addictive but there are many flaws in this game that makes me very angry.\n",
            "As it is right now, I would not recommend this game for these 4 main reasons .\n",
            "Problem 1: If you ever play DOTA, you know how important a TP scroll is. Well someone forgot to tell valve this because you can be stuck the whole game and not be able to buy a  TP scroll even with with 1 Billion Gold.\n",
            "Why can't you buy a tp scroll you ask? Well someone decided to make it appear randomly in the shop so if i doesn't appear you can't buy it even with all the gold in the world.   And you basically lose the game. Stupid? Yes.\n",
            "Solution 1:  Make the TP scrolls non random by allowing players to buy it every 2 turns.\n",
            "Problem 2: In DOTA, creeps waves spawn in every lane which makes sense. Unlike this game, creeps appear randomly and if they don't spawn in your lane, well u basically lose. Which makes no sense.\n",
            "Solution 2: Make creeps spawn evenly in each lane.\n",
            "Problem 3: The chat mechanic in this game is so bad. There is 0 general /guild chat room. Talking to your opponent is so hard and annoying it's not even worth it.\n",
            "Solution 3:  Make a general/guild chat room so when people log in, they can chat. Also make chatting easier for players during game play so they can communicate with their opponent and have ignore option as well in case the opponents are rude.\n",
            "Problem 4: There is no leaderboard or ladder ranking system for competition and rewards, aside from just gaining levels.\n",
            "Solution 4: Have a player ranking play system, so players who climb the ladder will have greater rewards and recognition than those who are on the lower rank.\n",
            "====================\n",
            "\n"
          ],
          "name": "stdout"
        }
      ]
    },
    {
      "cell_type": "code",
      "metadata": {
        "id": "VEAeBOlS7eCY",
        "colab_type": "code",
        "outputId": "ad1be67a-ffe8-4b65-f354-82245b73f626",
        "colab": {
          "base_uri": "https://localhost:8080/",
          "height": 276
        }
      },
      "source": [
        "gpt2.generate(sess,\n",
        "              run_name=run_name,\n",
        "              nsamples=num_samples,\n",
        "              batch_size=num_batches,\n",
        "              temperature=temperature,\n",
        "              prefix='<|startoftext|>I hate',\n",
        "              truncate='<|endoftext|>')              "
      ],
      "execution_count": 23,
      "outputs": [
        {
          "output_type": "stream",
          "text": [
            "<|startoftext|>I hate to break it to you, but this is going to be a late game match for sure. I am hoping that Gwent will evolve and do something better with it, but I am not holding my breath. Dont buy it \n",
            "====================\n",
            "\n",
            "<|startoftext|>I hate to break it to you, but this is going to be a late game match for sure. I do love the fact that creeps can be purchased in two different prices: normal for 1cents each, or more if you want to buy a \"rare\" unit.\n",
            "What is worse, instead of just letting the game die and the economy die, they actually changed the base unit price of the game!  How can they do this is beyond me.  I do love the fact that creeps can be purchased in two different prices: normal for 1cents each, or more if you want to buy a \"rare\" unit.What is worse, instead of just letting the game die and the economy die, they actually changed the base unit price of the game!  How can they do this is beyond me.\n",
            "They should've stuck to the basic creeps and creep patches. They could've done something better with it, like a total make-over with better ways to explore the game like Gwent.\n",
            "Anyways, enjoy the game and don't kill it since start.\n",
            "====================\n",
            "\n",
            "<|startoftext|>I hate to break it to you, but this is going to be a late game match for sure. I expect a shit show and a resurgence, but no, there is just silence. Words in the wind.\n",
            "P.S. I feel cheated.\n",
            "====================\n",
            "\n"
          ],
          "name": "stdout"
        }
      ]
    },
    {
      "cell_type": "code",
      "metadata": {
        "id": "jX8KxDY27hJ0",
        "colab_type": "code",
        "outputId": "41e9dc38-dec4-477b-e762-58471e31372d",
        "colab": {
          "base_uri": "https://localhost:8080/",
          "height": 276
        }
      },
      "source": [
        "gpt2.generate(sess,\n",
        "              run_name=run_name,\n",
        "              nsamples=num_samples,\n",
        "              batch_size=num_batches,\n",
        "              temperature=temperature,\n",
        "              prefix='<|startoftext|>Please',\n",
        "              truncate='<|endoftext|>')"
      ],
      "execution_count": 24,
      "outputs": [
        {
          "output_type": "stream",
          "text": [
            "<|startoftext|>Please save the artifact valve. I will not modify my review until Valve make a big update.\n",
            "Personally to say, it is not a bad game. Since we cannot get any information about what are the fxxking valve doing to save this game. People are less and less confidential about the game. So they just left, they could back if Valve change a lot.\n",
            "Please save it Valve.\n",
            "====================\n",
            "\n",
            "<|startoftext|>Please save the artifact valve. I will not modify my review until Valve make a big update.\n",
            "Personally to say, it is not a bad game. Since we cannot get any information about what are the fxxking valve doing to save this game. People are less and less confidential about the game. So they just left, they could back if Valve change a lot.\n",
            "Please save it Valve.\n",
            "====================\n",
            "\n",
            "<|startoftext|>Please update as soon as possible!\n",
            "====================\n",
            "\n"
          ],
          "name": "stdout"
        }
      ]
    },
    {
      "cell_type": "code",
      "metadata": {
        "id": "ppNhFzjPIVZN",
        "colab_type": "code",
        "outputId": "9ea10404-4ad6-4e5f-9977-6e29c3331476",
        "colab": {
          "base_uri": "https://localhost:8080/",
          "height": 368
        }
      },
      "source": [
        "gpt2.generate(sess,\n",
        "              run_name=run_name,\n",
        "              nsamples=num_samples,\n",
        "              batch_size=num_batches,\n",
        "              temperature=temperature,\n",
        "              prefix='<|startoftext|>This game has near infinite replay value',\n",
        "              truncate='<|endoftext|>')              "
      ],
      "execution_count": 25,
      "outputs": [
        {
          "output_type": "stream",
          "text": [
            "<|startoftext|>This game has near infinite replay value, and I've even started playing constructed right after I finish playing constructed. This is definitely a game for beginners, and I've gotten a lot out of it so far. But there are serious issues with the game that makes me very angry.\n",
            "First, the market.  Valve sold the game on the premise of competitive support and tournaments and events and regular content patches, and then when people purchased their product, they wordlessly abandoned it and their audience along with it.\n",
            "Second, the microtransactions.  Normally I wouldn't buy a game that cost money to play, but this is a bit steep for a card game.  But let me say that if you don't want to spend extra money in card boosters, you can buy any of the regular boosters now.\n",
            "And last, the game is basically dead.  There is no communication to the player base about MAJOR overhauls Artifact desperately needs to be successful and fun.\n",
            "But most importantly, the game is not pay2win.  Valve killed the game after two months, last update was at the end of January and right now there is no info about the future of the game, they also fired RG and other members of the team.\n",
            "The game is dead and Valve killed it since start.\n",
            "There is rumors out there that maybe it will become free to play \"in a few months\", i will not talk about this rumor because is a rumor, i don't want rumors from a 4Chan user, i want an official statement from Valve.\n",
            "The game is dead and Valve killed it.\n",
            "(ok, ok, there is other 99 wrong things but who cares, the game is dead and Valve killed it.)\n",
            "====================\n",
            "\n",
            "<|startoftext|>This game has near infinite replay value, and I've even started playing constructed mode.\n",
            "====================\n",
            "\n",
            "<|startoftext|>This game has near infinite replay value, and I've never even tried to learn how to play this game, I'm just curious what the fxxking secret is behind this game that I haven't even tried.\n",
            "[b]How to play]: There are no mulligans, random creep lane spawns, random spawn positions in lanes, attack arrows, secret shop, TP scrolls, lack of consistent card draw, bad card / hero power balance...make games (especially close ones) feel decided by luck rather than skill.\n",
            "====================\n",
            "\n"
          ],
          "name": "stdout"
        }
      ]
    }
  ]
}
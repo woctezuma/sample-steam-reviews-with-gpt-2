{
  "nbformat": 4,
  "nbformat_minor": 0,
  "metadata": {
    "colab": {
      "name": "gpt_2_for_reviews.ipynb",
      "version": "0.3.2",
      "provenance": [],
      "collapsed_sections": []
    },
    "kernelspec": {
      "name": "python3",
      "display_name": "Python 3"
    },
    "accelerator": "GPU"
  },
  "cells": [
    {
      "metadata": {
        "id": "5u6MjGQAuzWN",
        "colab_type": "text"
      },
      "cell_type": "markdown",
      "source": [
        "# Sample Steam Reviews with GPT-2\n",
        "Code inspired from https://github.com/woctezuma/sample-steam-reviews-with-gpt-2"
      ]
    },
    {
      "metadata": {
        "id": "2KjP9yVVveN1",
        "colab_type": "text"
      },
      "cell_type": "markdown",
      "source": [
        "## Setting the GPT-2 model"
      ]
    },
    {
      "metadata": {
        "colab_type": "text",
        "id": "A1zEYHxh304_"
      },
      "cell_type": "markdown",
      "source": [
        "Install the Python package\n",
        "\n",
        "Reference: https://github.com/minimaxir/gpt-2-simple"
      ]
    },
    {
      "metadata": {
        "id": "_1ruwgwCuEHd",
        "colab_type": "code",
        "outputId": "6ccd3547-1e13-4730-fcdb-b515dba4db26",
        "colab": {
          "base_uri": "https://localhost:8080/",
          "height": 311
        }
      },
      "cell_type": "code",
      "source": [
        "!pip install gpt_2_simple"
      ],
      "execution_count": 1,
      "outputs": [
        {
          "output_type": "stream",
          "text": [
            "Collecting gpt_2_simple\n",
            "  Downloading https://files.pythonhosted.org/packages/b6/cf/4003c7d85425af353e15d938bc0d87a0bdedd6b00229e1f7808c2524b518/gpt_2_simple-0.2.tar.gz\n",
            "Requirement already satisfied: regex in /usr/local/lib/python3.6/dist-packages (from gpt_2_simple) (2018.1.10)\n",
            "Requirement already satisfied: requests in /usr/local/lib/python3.6/dist-packages (from gpt_2_simple) (2.18.4)\n",
            "Requirement already satisfied: tqdm in /usr/local/lib/python3.6/dist-packages (from gpt_2_simple) (4.28.1)\n",
            "Requirement already satisfied: numpy in /usr/local/lib/python3.6/dist-packages (from gpt_2_simple) (1.16.2)\n",
            "Requirement already satisfied: chardet<3.1.0,>=3.0.2 in /usr/local/lib/python3.6/dist-packages (from requests->gpt_2_simple) (3.0.4)\n",
            "Requirement already satisfied: certifi>=2017.4.17 in /usr/local/lib/python3.6/dist-packages (from requests->gpt_2_simple) (2019.3.9)\n",
            "Requirement already satisfied: urllib3<1.23,>=1.21.1 in /usr/local/lib/python3.6/dist-packages (from requests->gpt_2_simple) (1.22)\n",
            "Requirement already satisfied: idna<2.7,>=2.5 in /usr/local/lib/python3.6/dist-packages (from requests->gpt_2_simple) (2.6)\n",
            "Building wheels for collected packages: gpt-2-simple\n",
            "  Building wheel for gpt-2-simple (setup.py) ... \u001b[?25ldone\n",
            "\u001b[?25h  Stored in directory: /root/.cache/pip/wheels/51/d0/bd/293c80200f60bcd75a0f4028684e55e959da3a2727858d98a0\n",
            "Successfully built gpt-2-simple\n",
            "Installing collected packages: gpt-2-simple\n",
            "Successfully installed gpt-2-simple-0.2\n"
          ],
          "name": "stdout"
        }
      ]
    },
    {
      "metadata": {
        "id": "nTkq7wEQwEkZ",
        "colab_type": "text"
      },
      "cell_type": "markdown",
      "source": [
        "Download the pre-trained model"
      ]
    },
    {
      "metadata": {
        "id": "_pdkhHU6wd12",
        "colab_type": "code",
        "colab": {}
      },
      "cell_type": "code",
      "source": [
        "import gpt_2_simple as gpt2\n",
        "from datetime import datetime\n",
        "from google.colab import files"
      ],
      "execution_count": 0,
      "outputs": []
    },
    {
      "metadata": {
        "id": "0ggC2Mc75BnB",
        "colab_type": "text"
      },
      "cell_type": "markdown",
      "source": [
        "## Downloading GPT-2"
      ]
    },
    {
      "metadata": {
        "id": "_-If30nT4ZCb",
        "colab_type": "code",
        "outputId": "9edacb3f-f348-4d49-a958-f75650faacbd",
        "colab": {
          "base_uri": "https://localhost:8080/",
          "height": 146
        }
      },
      "cell_type": "code",
      "source": [
        "gpt2.download_gpt2()"
      ],
      "execution_count": 3,
      "outputs": [
        {
          "output_type": "stream",
          "text": [
            "Fetching checkpoint: 1.00kit [00:00, 332kit/s]                                                      \n",
            "Fetching encoder.json: 1.04Mit [00:00, 52.3Mit/s]                                                   \n",
            "Fetching hparams.json: 1.00kit [00:00, 592kit/s]                                                    \n",
            "Fetching model.ckpt.data-00000-of-00001: 498Mit [00:07, 69.5Mit/s]                                  \n",
            "Fetching model.ckpt.index: 6.00kit [00:00, 1.46Mit/s]                                               \n",
            "Fetching model.ckpt.meta: 472kit [00:00, 39.8Mit/s]                                                 \n",
            "Fetching vocab.bpe: 457kit [00:00, 42.1Mit/s]                                                       \n"
          ],
          "name": "stderr"
        }
      ]
    },
    {
      "metadata": {
        "id": "AkpviYXh4tHL",
        "colab_type": "text"
      },
      "cell_type": "markdown",
      "source": [
        "## Mounting Google Drive"
      ]
    },
    {
      "metadata": {
        "id": "0D4hzKfk4rIp",
        "colab_type": "code",
        "outputId": "cb39bd93-19eb-4dfb-ec47-a2bf546bad01",
        "colab": {
          "base_uri": "https://localhost:8080/",
          "height": 129
        }
      },
      "cell_type": "code",
      "source": [
        "gpt2.mount_gdrive()"
      ],
      "execution_count": 4,
      "outputs": [
        {
          "output_type": "stream",
          "text": [
            "Go to this URL in a browser: https://accounts.google.com/o/oauth2/auth?client_id=947318989803-6bn6qk8qdgf4n4g3pfee6491hc0brc4i.apps.googleusercontent.com&redirect_uri=urn%3Aietf%3Awg%3Aoauth%3A2.0%3Aoob&scope=email%20https%3A%2F%2Fwww.googleapis.com%2Fauth%2Fdocs.test%20https%3A%2F%2Fwww.googleapis.com%2Fauth%2Fdrive%20https%3A%2F%2Fwww.googleapis.com%2Fauth%2Fdrive.photos.readonly%20https%3A%2F%2Fwww.googleapis.com%2Fauth%2Fpeopleapi.readonly&response_type=code\n",
            "\n",
            "Enter your authorization code:\n",
            "··········\n",
            "Mounted at /content/drive\n"
          ],
          "name": "stdout"
        }
      ]
    },
    {
      "metadata": {
        "id": "e9sI2rah5OyB",
        "colab_type": "text"
      },
      "cell_type": "markdown",
      "source": [
        "## Uploading a Text File to be Trained to Colaboratory"
      ]
    },
    {
      "metadata": {
        "id": "r82T8yOm8jyL",
        "colab_type": "text"
      },
      "cell_type": "markdown",
      "source": [
        "#### Either get the data by yourself"
      ]
    },
    {
      "metadata": {
        "id": "CsEEvL5b8IDE",
        "colab_type": "code",
        "outputId": "95573657-42fb-447a-8c86-834e0a6feef6",
        "colab": {
          "base_uri": "https://localhost:8080/",
          "height": 72
        }
      },
      "cell_type": "code",
      "source": [
        "!curl -O https://raw.githubusercontent.com/woctezuma/sample-steam-reviews-with-gpt-2/master/export_review_data.py"
      ],
      "execution_count": 5,
      "outputs": [
        {
          "output_type": "stream",
          "text": [
            "  % Total    % Received % Xferd  Average Speed   Time    Time     Time  Current\n",
            "                                 Dload  Upload   Total   Spent    Left  Speed\n",
            "\r  0     0    0     0    0     0      0      0 --:--:-- --:--:-- --:--:--     0\r100  5303  100  5303    0     0  27619      0 --:--:-- --:--:-- --:--:-- 27619\n"
          ],
          "name": "stdout"
        }
      ]
    },
    {
      "metadata": {
        "id": "zJLNxAhg8IQz",
        "colab_type": "code",
        "outputId": "32b372e5-139b-4ab7-a492-d38c715e0aee",
        "colab": {
          "base_uri": "https://localhost:8080/",
          "height": 72
        }
      },
      "cell_type": "code",
      "source": [
        "!curl -O https://raw.githubusercontent.com/woctezuma/sample-steam-reviews-with-gpt-2/master/requirements.txt"
      ],
      "execution_count": 6,
      "outputs": [
        {
          "output_type": "stream",
          "text": [
            "  % Total    % Received % Xferd  Average Speed   Time    Time     Time  Current\n",
            "                                 Dload  Upload   Total   Spent    Left  Speed\n",
            "\r  0     0    0     0    0     0      0      0 --:--:-- --:--:-- --:--:--     0\r100    37  100    37    0     0    234      0 --:--:-- --:--:-- --:--:--   234\n"
          ],
          "name": "stdout"
        }
      ]
    },
    {
      "metadata": {
        "id": "HMhEG1Xi8UZF",
        "colab_type": "code",
        "outputId": "dcef4ae2-2fcf-4403-dca5-2217cab2a7d2",
        "colab": {
          "base_uri": "https://localhost:8080/",
          "height": 329
        }
      },
      "cell_type": "code",
      "source": [
        "!pip install -r requirements.txt"
      ],
      "execution_count": 7,
      "outputs": [
        {
          "output_type": "stream",
          "text": [
            "Collecting steamreviews==0.7.0 (from -r requirements.txt (line 1))\n",
            "  Downloading https://files.pythonhosted.org/packages/9d/32/96401f528f0c13f3750eb5e87ef47fcc473f9b940cf217ce69d6f9e448ad/steamreviews-0.7.0-py3-none-any.whl\n",
            "Collecting langdetect==1.0.7 (from -r requirements.txt (line 2))\n",
            "\u001b[?25l  Downloading https://files.pythonhosted.org/packages/59/59/4bc44158a767a6d66de18c4136c8aa90491d56cc951c10b74dd1e13213c9/langdetect-1.0.7.zip (998kB)\n",
            "\u001b[K    100% |████████████████████████████████| 1.0MB 22.2MB/s \n",
            "\u001b[?25hRequirement already satisfied: requests in /usr/local/lib/python3.6/dist-packages (from steamreviews==0.7.0->-r requirements.txt (line 1)) (2.18.4)\n",
            "Requirement already satisfied: six in /usr/local/lib/python3.6/dist-packages (from langdetect==1.0.7->-r requirements.txt (line 2)) (1.11.0)\n",
            "Requirement already satisfied: urllib3<1.23,>=1.21.1 in /usr/local/lib/python3.6/dist-packages (from requests->steamreviews==0.7.0->-r requirements.txt (line 1)) (1.22)\n",
            "Requirement already satisfied: idna<2.7,>=2.5 in /usr/local/lib/python3.6/dist-packages (from requests->steamreviews==0.7.0->-r requirements.txt (line 1)) (2.6)\n",
            "Requirement already satisfied: chardet<3.1.0,>=3.0.2 in /usr/local/lib/python3.6/dist-packages (from requests->steamreviews==0.7.0->-r requirements.txt (line 1)) (3.0.4)\n",
            "Requirement already satisfied: certifi>=2017.4.17 in /usr/local/lib/python3.6/dist-packages (from requests->steamreviews==0.7.0->-r requirements.txt (line 1)) (2019.3.9)\n",
            "Building wheels for collected packages: langdetect\n",
            "  Building wheel for langdetect (setup.py) ... \u001b[?25ldone\n",
            "\u001b[?25h  Stored in directory: /root/.cache/pip/wheels/ec/0c/a9/1647275e7ef5014e7b83ff30105180e332867d65e7617ddafe\n",
            "Successfully built langdetect\n",
            "Installing collected packages: steamreviews, langdetect\n",
            "Successfully installed langdetect-1.0.7 steamreviews-0.7.0\n"
          ],
          "name": "stdout"
        }
      ]
    },
    {
      "metadata": {
        "id": "LWekXOQGBD1j",
        "colab_type": "code",
        "colab": {}
      },
      "cell_type": "code",
      "source": [
        "app_id = 583950"
      ],
      "execution_count": 0,
      "outputs": []
    },
    {
      "metadata": {
        "id": "A9sMp0WC8aP7",
        "colab_type": "code",
        "outputId": "176e19f4-128e-4662-b751-dec4ab7a4077",
        "colab": {
          "base_uri": "https://localhost:8080/",
          "height": 164
        }
      },
      "cell_type": "code",
      "source": [
        "from export_review_data import apply_workflow_for_app_id\n",
        "\n",
        "apply_workflow_for_app_id(app_id)"
      ],
      "execution_count": 9,
      "outputs": [
        {
          "output_type": "stream",
          "text": [
            "[appID = 583950] expected #reviews = 8699\n",
            "#reviews = 177\n",
            "Filtering out reviews which were not written in english.\n",
            "#reviews = 177\n",
            "Filtering out reviews with strictly fewer than 150 characters.\n",
            "#reviews = 101\n",
            "Filtering out reviews which were not detected as written in en.\n",
            "#reviews = 101\n"
          ],
          "name": "stdout"
        }
      ]
    },
    {
      "metadata": {
        "id": "7LPbkB998g-B",
        "colab_type": "text"
      },
      "cell_type": "markdown",
      "source": [
        "#### Or get a data snapshot from me\n",
        "\n",
        "Currently only possible for Artifact, as an example, because the recommended way is to run the code above for the game of your choice instead."
      ]
    },
    {
      "metadata": {
        "id": "FIR9fBid5U2w",
        "colab_type": "code",
        "colab": {}
      },
      "cell_type": "code",
      "source": [
        "# !curl -O https://raw.githubusercontent.com/woctezuma/sample-steam-reviews-with-gpt-2/master/data/583950.txt\n",
        "# !mkdir data\n",
        "# !mv 583950.txt data/"
      ],
      "execution_count": 0,
      "outputs": []
    },
    {
      "metadata": {
        "id": "AjmpOgoa5y7Q",
        "colab_type": "text"
      },
      "cell_type": "markdown",
      "source": [
        "## Finetune GPT-2"
      ]
    },
    {
      "metadata": {
        "id": "cu5ctG0DBLIe",
        "colab_type": "code",
        "colab": {}
      },
      "cell_type": "code",
      "source": [
        "file_name = 'data/' + str(app_id) + '.txt'\n",
        "\n",
        "run_name = 'reviews_' + str(app_id)"
      ],
      "execution_count": 0,
      "outputs": []
    },
    {
      "metadata": {
        "id": "Bfg4HYZl56JJ",
        "colab_type": "code",
        "outputId": "dc84eefb-141c-43cf-8cc2-1ecf36573340",
        "colab": {
          "base_uri": "https://localhost:8080/",
          "height": 4629
        }
      },
      "cell_type": "code",
      "source": [
        "sess = gpt2.start_tf_sess()\n",
        "\n",
        "gpt2.finetune(sess,\n",
        "              run_name=run_name,\n",
        "              dataset=file_name,\n",
        "              steps=1000,\n",
        "              restore_from='fresh',   # change to 'latest' to resume training\n",
        "              print_every=10,   # how many steps between printing progress\n",
        "              sample_every=200,   # how many steps to print a demo sample\n",
        "              save_every=500   # how many steps between saving checkpoint              \n",
        "              )"
      ],
      "execution_count": 12,
      "outputs": [
        {
          "output_type": "stream",
          "text": [
            "WARNING:tensorflow:From /usr/local/lib/python3.6/dist-packages/tensorflow/python/framework/op_def_library.py:263: colocate_with (from tensorflow.python.framework.ops) is deprecated and will be removed in a future version.\n",
            "Instructions for updating:\n",
            "Colocations handled automatically by placer.\n",
            "WARNING:tensorflow:From /usr/local/lib/python3.6/dist-packages/gpt_2_simple/src/sample.py:51: to_float (from tensorflow.python.ops.math_ops) is deprecated and will be removed in a future version.\n",
            "Instructions for updating:\n",
            "Use tf.cast instead.\n",
            "WARNING:tensorflow:From /usr/local/lib/python3.6/dist-packages/gpt_2_simple/src/sample.py:53: multinomial (from tensorflow.python.ops.random_ops) is deprecated and will be removed in a future version.\n",
            "Instructions for updating:\n",
            "Use tf.random.categorical instead.\n",
            "WARNING:tensorflow:From /usr/local/lib/python3.6/dist-packages/tensorflow/python/ops/math_ops.py:3066: to_int32 (from tensorflow.python.ops.math_ops) is deprecated and will be removed in a future version.\n",
            "Instructions for updating:\n",
            "Use tf.cast instead.\n",
            "WARNING:tensorflow:From /usr/local/lib/python3.6/dist-packages/tensorflow/python/ops/math_grad.py:102: div (from tensorflow.python.ops.math_ops) is deprecated and will be removed in a future version.\n",
            "Instructions for updating:\n",
            "Deprecated in favor of operator or tf.math.divide.\n",
            "Loading checkpoint models/117M/model.ckpt\n",
            "WARNING:tensorflow:From /usr/local/lib/python3.6/dist-packages/tensorflow/python/training/saver.py:1266: checkpoint_exists (from tensorflow.python.training.checkpoint_management) is deprecated and will be removed in a future version.\n",
            "Instructions for updating:\n",
            "Use standard file APIs to check for files with this prefix.\n",
            "INFO:tensorflow:Restoring parameters from models/117M/model.ckpt\n"
          ],
          "name": "stdout"
        },
        {
          "output_type": "stream",
          "text": [
            "\r  0%|          | 0/1 [00:00<?, ?it/s]"
          ],
          "name": "stderr"
        },
        {
          "output_type": "stream",
          "text": [
            "Loading dataset...\n"
          ],
          "name": "stdout"
        },
        {
          "output_type": "stream",
          "text": [
            "\r100%|██████████| 1/1 [00:00<00:00,  3.05it/s]\n"
          ],
          "name": "stderr"
        },
        {
          "output_type": "stream",
          "text": [
            "dataset has 27628 tokens\n",
            "Training...\n",
            "[10 | 29.21] loss=3.10 avg=3.10\n",
            "[20 | 51.11] loss=2.79 avg=2.94\n",
            "[30 | 73.34] loss=2.49 avg=2.79\n",
            "[40 | 95.79] loss=1.99 avg=2.59\n",
            "[50 | 118.35] loss=1.35 avg=2.34\n",
            "[60 | 140.94] loss=1.22 avg=2.14\n",
            "[70 | 163.62] loss=0.83 avg=1.95\n",
            "[80 | 186.56] loss=0.67 avg=1.79\n",
            "[90 | 209.57] loss=0.43 avg=1.63\n",
            "[100 | 232.59] loss=0.24 avg=1.48\n",
            "[110 | 255.66] loss=0.21 avg=1.36\n",
            "[120 | 278.75] loss=0.12 avg=1.25\n",
            "[130 | 301.87] loss=0.08 avg=1.16\n",
            "[140 | 325.02] loss=0.08 avg=1.08\n",
            "[150 | 348.15] loss=0.08 avg=1.00\n",
            "[160 | 371.27] loss=0.06 avg=0.94\n",
            "[170 | 394.40] loss=0.05 avg=0.88\n",
            "[180 | 417.57] loss=0.05 avg=0.83\n",
            "[190 | 440.70] loss=0.04 avg=0.79\n",
            "======== SAMPLE 1 ========\n",
            " almost more compelling games (and also newer, more compelling games that rely more on surprise and card draw than on strategy than on direct standardplay matchmaking). That's really the only thing missing from this game right now, and I mean that in a lot of ways. You essentially have a single player campaign for this game (Moheli at least has a winning formula, and it looks like some pretty impressive Vulkan patches will do just that), and a monthly cycle of casual to grand prix tickets. And the answer is pretty damn good.\n",
            "URBAN LEGACY\n",
            "As a longtime CCG player, I've experienced a lot of games.  Been decent at a few... been disgusted with the economic system...  sucked the marrow out of a few... just wasn't that guy/girl type of game? I'll say it: not that that's wrong or anything... just that....\"awesome\" game design is important.  Wrap your hands around every other game and have a go at it.  Wrap your forearms around every other card game and have a go at it too.\n",
            "The combination of these games make up a pretty solid majority of my experience with them.  They do take a bit of getting used to, but they're good at it.\n",
            "The story is compelling, engaging, and very moving.  The three factions in this game are fairly straightforward to relate to: the average player consists of a single devoted fan, who interact via social media to draw or measure interest. The fan draws the card, and the equation is simple: they want a specific number of like-minded people to spend an average of every other card game they've played. The game follows a basic 5-5 linear progression, with 10-12 victories for every 10-14 victories for every similar collection. Eventually, the player with the most wins, and the most wins+consumers reaches the player with the most wins+consumers' most recent loss (a tiebreaking decision). You're left with a fairly straightforward set of three outcomes: you lose every time, or the game is fair.\n",
            "It's fun and engaging, and the combination of good mechanics and a relatively low RNG cost make for a really fun game.\n",
            "But there's always that second \"wow that was a while\" when you need to explain to a friend or colleague that something is really going on, or that your game is engaging. Those are the things that make a good game.\n",
            "But Support is awesome, and they're professional (and understanding) people. This is one of the best cards games I've ever played. It's a great game genre, and I'm really happy with how it turned out.\n",
            "Praise The Sun as always, Leg4ThRU! I've enjoyed every second of it, and I guarantee you this game isn't Half life 2. Damn it, was there any Frost card game before it?\n",
            "This game is good, but it's not Star Realms yet.\n",
            "It's a lame model for a game. In a lot of ways, it is.\n",
            "CREATURES\n",
            "There are a lot of creatures in this game. Many of them being very unique and creative ways of playing that I don't think anyone else is familiar with.  Some of them being very rare and valuable as toys.  Some of them being fundamentally very small and very cheap.  Some of them being completely unnecessary and expensive.  Some of them.  None of them are particularly innovative.\n",
            "It's difficult for me to sum it up.  It's expensive.  It's straight forwardness.\n",
            "It's a good game.\n",
            "It's a good game format.\n",
            "It's a great card game.\n",
            "URGENT: CONVINCEDomenting interest.  The cards in this game are so powerful, you literally have no idea what they do.  They're just too awesome to pass up.\n",
            "I LOVED ALL OF THE PROFILE parts of the game.  It was FUN.\n",
            "But then they came along and everything was gravy.\n",
            "ITS A F*CKING CARD GAME.  Don't get me wrong, it's a great game design, but the way that cards are laid out across the board is downright disgusting.  Some of the cards are inherently disgusting and should never be on the market.  There is NO OTHER WAY to get cards.  You read that correctly:  Your way.\n",
            "It's really a shame as there isn't any way to get cards without getting slapped with a fine.  I know, I know, stealing cards.\n",
            "However, there is a way to get cards without paying money.  There are a myriad of methods to obtain cards, some of which are more accessible to the average person than others.  The methods used to obtain cards are as follows:\n",
            "Transfer money.  Cheap methods of acquiring cards.\n",
            "Then there is also the Inflation (Letting go) rule.  This is a set of concepts that governs the rate at\n",
            "\n",
            "[200 | 476.98] loss=0.05 avg=0.75\n",
            "[210 | 500.11] loss=0.04 avg=0.71\n",
            "[220 | 523.18] loss=0.05 avg=0.68\n",
            "[230 | 546.29] loss=0.04 avg=0.65\n",
            "[240 | 569.38] loss=0.05 avg=0.62\n",
            "[250 | 592.46] loss=0.04 avg=0.59\n",
            "[260 | 615.55] loss=0.03 avg=0.57\n",
            "[270 | 638.68] loss=0.05 avg=0.55\n",
            "[280 | 661.79] loss=0.04 avg=0.53\n",
            "[290 | 684.92] loss=0.04 avg=0.51\n",
            "[300 | 708.05] loss=0.04 avg=0.49\n",
            "[310 | 731.18] loss=0.03 avg=0.47\n",
            "[320 | 754.27] loss=0.04 avg=0.46\n",
            "[330 | 777.34] loss=0.05 avg=0.44\n",
            "[340 | 800.41] loss=0.03 avg=0.43\n",
            "[350 | 823.52] loss=0.03 avg=0.41\n",
            "[360 | 846.63] loss=0.03 avg=0.40\n",
            "[370 | 869.73] loss=0.05 avg=0.39\n",
            "[380 | 892.83] loss=0.04 avg=0.38\n",
            "[390 | 915.91] loss=0.03 avg=0.37\n",
            "======== SAMPLE 1 ========\n",
            " of your starter decks then go ahead and draft them. Otherwise you'll get snowballed and you've wasted a ton of money.\n",
            "[*] Pro-tip: If you play MTG:GO you know how important a good draft position is. Make a wishful thinking person that is going to mistake a mistake for a successful one.\n",
            "[*] Pay close attention to the play-styles and what cards you get. Some of the more popular cards have playstyles that are nearly lost in translation. Some of them are even illegal in Gwent (Gwent Proity is free version).\n",
            "[*] Many cards do not belong on this earth. Many of them are fundamentally flawed and will never be used in their intended implementation.\n",
            "[*] Developers: Please get rid of this greedy game developer.\n",
            "[*] Valve: Love this game.\n",
            "[*] Bad Crypto: SteamCoin (cash minifier) or GungHo: a mobile version of this game (Gingerbread version)\n",
            "Do Not buy game. Valve made life harder for developers by making creating free to play games useless to developers. The only way to get more money is.. very likely.. you. to open a free game. The only way to get more cards is.. you. to open a card pack.\n",
            "Unlikely rewards: Free cards, packs, or even a lot of other useless items.\n",
            "[b]The most fun I had was card booster packs. They were good until I got bored of them. I don't really have any competitive urge anymore, other than playing Arena Commander.\n",
            "[list]\n",
            "[*] Randomness of win and lose cards.\n",
            "[*] Random card draws.\n",
            "[*] Random creep placement.\n",
            "[*] Random attack directions.\n",
            "[*] Random card cost changes.\n",
            "[*] Random secret creep draft.\n",
            "[*] Random draw of which item from your list you get to purchase at launch.\n",
            "[*] Random secret creep deck draft.\n",
            "[*] Random card actives to prevent random cards from getting to your wishlist.\n",
            "[*] Random card cost increases every time you play a card game.\n",
            "[*] Random creep deployment every time you play a card game.\n",
            "[*] Random card cost cuts every year.\n",
            "[*] Randomly-grab random cards from the air and wheel them across the map. (This is one of the most fun card games I've ever played)\n",
            "[*] Every game feels like a crummy mini golf tournament. Nothing feels better than losing a 5k taxicab ride to a random random random person.\n",
            "[*] It's not even worth buying the cards that killed it, it's the greedy greedy market!\n",
            "[*] Once a game is over, that previous favorite game from last year's cycle is still fresh in your fridge. You just leave it at that.\n",
            "[*] No point in getting cards again.\n",
            "[*] The market economy is ruined because games like this don't rely on paying for cards. They charge for the games only soup can make.\n",
            "[*] It takes a while to get used to, but it is worth it.\n",
            "[*] Once a game is over, you can't play it.\n",
            "[*] It's not even worth buying the cards again.\n",
            "[*] For a similar enough experience, just go play Hearthstone.\n",
            "[*] The product is dead. no new cards added.\n",
            "[*] The dead product is just a card game.\n",
            "[*] The game isn't dead. the only way to get cards is for you to leave the game.\n",
            "[*] Once a game is over, that game has already been cancelled.\n",
            "[*] Leaving the game doesn't make any economic sense, it's ridiculous.\n",
            "[*] Once a game is cancelled, you can't play it.\n",
            "[*] It's not even worth buying the cards.\n",
            "[*] The market economy is ruined. You can't build cards again.\n",
            "[*] Once a game is cancelled, you can't play it.\n",
            "[*] It's not even worth buying the cards.\n",
            "[*] The market is down. you can't play it.\n",
            "[*] It's not worth buying the cards.\n",
            "[*] The game is over. you can't play it.\n",
            "[*] It's too painful. You can play it. But you can't keep playing.\n",
            "[*] It's unrealistic.\n",
            "[*] Once a game is cancelled, you can't play it.\n",
            "[*] It's not worth buying the cards.\n",
            "[*] The game is over. you can't play it.\n",
            "[*] It's not worth buying the cards.\n",
            "[*] The game is lost. You can't play it.\n",
            "[*] It's too unrealistic.\n",
            "[*] Once a game is cancelled\n",
            "\n",
            "[400 | 950.23] loss=0.05 avg=0.36\n",
            "[410 | 973.28] loss=0.02 avg=0.35\n",
            "[420 | 996.36] loss=0.03 avg=0.34\n",
            "[430 | 1019.45] loss=0.04 avg=0.33\n",
            "[440 | 1042.60] loss=0.03 avg=0.32\n",
            "[450 | 1065.76] loss=0.04 avg=0.32\n",
            "[460 | 1088.89] loss=0.02 avg=0.31\n",
            "[470 | 1111.98] loss=0.04 avg=0.30\n",
            "[480 | 1135.08] loss=0.03 avg=0.29\n",
            "[490 | 1158.20] loss=0.03 avg=0.29\n",
            "Saving checkpoint/reviews_583950/model-500\n",
            "[500 | 1186.12] loss=0.03 avg=0.28\n",
            "[510 | 1209.26] loss=0.03 avg=0.27\n",
            "[520 | 1232.46] loss=0.03 avg=0.27\n",
            "[530 | 1255.51] loss=0.02 avg=0.26\n",
            "[540 | 1278.55] loss=0.03 avg=0.26\n",
            "[550 | 1301.60] loss=0.03 avg=0.25\n",
            "[560 | 1324.65] loss=0.03 avg=0.25\n",
            "[570 | 1347.69] loss=0.04 avg=0.24\n",
            "[580 | 1370.75] loss=0.02 avg=0.24\n",
            "[590 | 1393.81] loss=0.03 avg=0.23\n",
            "======== SAMPLE 1 ========\n",
            " Magic's ability to find ways to syphon money from people who aren't really interested in the game.  There's a lack of replay, and it gets worse each day.  The more cards are out on the market, the scarier it is to get cards you didn't need because you didn't pay for them in o0n24''. Thankfully Valve has taken a page from their playbook and is moving forward with a game that is free to play. If you're still reading this, know that this is a free to play game.  The only way to get more cards is via player pay, and the prices are pretty awful.  You start out with 20 card packs and 5 tickets.  That means you basically get nothing for playing this game for 5 hours. When you hit this point, you're probably going to get a few bad trades or poor decisions (in paper format) that will likely damage your business.  If you're still reading this, know that this is actually a pretty good game overall. And it's not just cards that are cheap. You can get rare cards too.  Can't say that is good for efficiency, but can be good for being able to get more cards.\n",
            "Read full review here.\n",
            " 4.  The pricing policy encourages you to buy packs before paying. This, by itself, is bad but it is not huge enough to prevent me from recommending this game to people. Pay for the game and you are left with 5+ packs for free. Then pay for the consumable item after that, even if that item is worth nothing. The number one reason to not recommend this game is that you can get cards for free with the market. You can get rare cards for free with the market, but you will be refunded if you spend another card in excess of what you paid for in game.\n",
            "Easy to play but tedious to master. The only way to get more cards is.. you guessed it right? It's true that you will be refunded if you do not spend more cards in your current game. This is because the game mode in is full of problems. You will be prompted to start a game with certain cards. You can start a new game without beginning a new game. You will also probably get a message saying that you cannot start a game with the cards you already have. This is because the game mode in which you start a new game is called the \"art mode\". You can't create a new deck with the same names as your friend, you have to find a way to play the deck you drew as well. So you will never win a reward because you won't be able to add your own spells. When you are done playing the game, you can't play another card from your hand because you have to return to the game a second time because the deck you drew as well is no longer playable. This really is the crux of the problem with the game mode in which you start a game. You can't create a new deck with the same names as your friend. You have to find a way to play the deck you drew as well. You can create decks from other cards, but you need to use other means of getting cards. Like I said, it's true that you will never win a reward because you won't be able to add decks to play with. But how do you get decks? Well, you can't find them if you aren't using a strategy that gives you the win. Like I said, it's really disappointing and I hope Valve can do something to revive this game. But once again, I'm the only one who is confused.\n",
            "This game is good.\n",
            "After all the hard work, is it really possible for a good player to win 100% of the time and still maintain a high standard of play?  The answer is yes.  It's all about skill, and perfectionism is an added skill in this game.  The occasional bad play can ruin the ride.  It's not even worth buying the game if you don't want to sink more money into it than some very lucky people.\n",
            "Also, do not buy the game unless you really want to learn the basics.  Theory: Learning the basic mechanics is straightforward, but new players are attracted to complexity too much to bear.  Theory: The most fun I had was in \"the derivative\" games, where the cards are the same on every screen.  The main card is the price of play, and the resources of the opponent are the same on every screen.  That's not fair.  Is it too restrictive or too random?  How do you make an open market for cards work?  We decide.\n",
            "I can learn the basic mechanics in the game, but it takes forever. Also, the tutorial is way too long.  How do you learn a new mechanic?  Read the manual.  Do not try to learn the basic mechanics in the game.  It is absolutely not possible to learn all the\n",
            "\n",
            "[600 | 1428.10] loss=0.03 avg=0.23\n",
            "[610 | 1451.17] loss=0.03 avg=0.22\n",
            "[620 | 1474.24] loss=0.03 avg=0.22\n",
            "[630 | 1497.28] loss=0.03 avg=0.21\n",
            "[640 | 1520.35] loss=0.03 avg=0.21\n",
            "[650 | 1543.40] loss=0.02 avg=0.21\n",
            "[660 | 1566.43] loss=0.04 avg=0.20\n",
            "[670 | 1589.46] loss=0.03 avg=0.20\n",
            "[680 | 1612.53] loss=0.03 avg=0.20\n",
            "[690 | 1635.60] loss=0.03 avg=0.19\n",
            "[700 | 1658.68] loss=0.02 avg=0.19\n",
            "[710 | 1681.76] loss=0.03 avg=0.19\n",
            "[720 | 1704.85] loss=0.02 avg=0.18\n",
            "[730 | 1727.95] loss=0.02 avg=0.18\n",
            "[740 | 1751.03] loss=0.03 avg=0.18\n",
            "[750 | 1774.14] loss=0.03 avg=0.17\n",
            "[760 | 1797.22] loss=0.02 avg=0.17\n",
            "[770 | 1820.27] loss=0.03 avg=0.17\n",
            "[780 | 1843.32] loss=0.02 avg=0.17\n",
            "[790 | 1866.37] loss=0.03 avg=0.16\n",
            "======== SAMPLE 1 ========\n",
            " time, you need to win the 4/5 games in Expert to obtain a new card. Once a card is available, it can be used in any order, so you have 90% chance to obtain a new card when you need it the most. This takes away from a lot of the planning in the game, but does make the process a lot more process based than some might think. I have never written a review for Artifact, but I will try not to think about it too much, but it does shake the game up a bit when someone else does.\n",
            "Artifact is a good game for a certain kind of player, I'm on the fence on whether or not I'm that kind of player. I'm enjoying Casual Phantom Draft for now but each time I run through a draft, I just find myself not wanting to touch the game for a few days.\n",
            "Artifact might be for you, but it's certainly not for everyone.\n",
            "The worst buy I made last year, for sure.\n",
            "Not only is the game devoid of any progression or anything to earn you cards (at least at launch, it seems they added it now, too little too late for me though), but it's also a very complex, high-skill game where SO many decisions you make across a single game have so much impact on its outcome, that half the time I don't know what I could've done right unlike other games such as Hearthstone, shadowverse, hell even magic.\n",
            "If you're a casual card game player, avoid this like the plague.\n",
            "Biggest regret of 2018.\n",
            "Pay for access, pay to win, pay to play outside of practice modes. Everything is pay, pay, pay.\n",
            "Gameplay itself is ok, but has some flaws. Match takes too long (around 40 minutes), and there's too much randomness for my liking.\n",
            "It's like playing in a Road Runner episode, only... you're Wile E. Coyote and nothing works the way it should.\n",
            "RNG. You get or you don't get the cards (like every cardgame), but on top of that, random items in the shop, random number of creep spawns, random position of creep in lane, random position of heroes in lane, random attack directions,  random-random-random everything in drafts.\n",
            "With MMR, you eventually get ppl close to your skill level, which means games are decided mostly by RNG. But... you need to win 5 before you lose 2.\n",
            "Now add real money to that mix. Pay for those tickets and packs only for game after game after game to be fucked by RNG (in  your favor or not). Fun, ha?\n",
            "Got this game for free. Probably would have paid for it if I hadn't. Glad I didn't in hindsight.\n",
            "I've enjoyed the times I played it, but never felt motivated to come back. The few times I returned were because I was trying to make an active effort to give it a fair chance.\n",
            "Unlike Hearthstone, I also didn't ever feel the urge to play \"just one more game\". This is mostly due to the fact that it is a much more complex game, and therefore each game is on average more taxxing to play than its more casual competitors. As great as it feels pulling off some creative tactics that bamboozle your opponents, it feels equally as crummy when it happens against you. This is mostly due to the amount of things to keep track of, and unless you have the patience to think through every possible outcome, you'll probably not have a great time.\n",
            "Here's a timeline of my experiences with the game:\n",
            "1. I started it up, and immediately wasn't sure if I should open packs or save them for keepers drafts.\n",
            "2. Decided to play a bunch of the premade deck events instead. (over the holidays)\n",
            "3. Was too busy to play for about a month.\n",
            "4. Came back, and the playerbase had essentially died.\n",
            "5. Haven't opened it since, and my packs are still sitting there uncracked.\n",
            "If it weren't for the fact that this game seems like a terrible product, and the marketing of it by the amount of companies who weren't aware of the potential of the game at all, I would be in a position to advice against purchasing it.\n",
            "BUT I DONT BUY, DONT BUY, NO ART, FINANCIAL MEMO, ANY MORE! What the?!?\n",
            "I have been using steam for 10 years and this is the first product I feel have really tried to screw me with its marketing and information when bying the product.\n",
            "The tutorial felt good and were well done. The gameplay seems intresting. I open my 5 packs packs and think OK now I'm gonna get into this! I test out a couple of bot matches to realize that they give 0 xp of progression. Ok, well then I'll try test my newly aquired skills against\n",
            "\n",
            "[800 | 1900.62] loss=0.02 avg=0.16\n",
            "[810 | 1923.65] loss=0.02 avg=0.16\n",
            "[820 | 1946.69] loss=0.03 avg=0.16\n",
            "[830 | 1969.73] loss=0.03 avg=0.15\n",
            "[840 | 1992.78] loss=0.04 avg=0.15\n",
            "[850 | 2015.85] loss=0.02 avg=0.15\n",
            "[860 | 2038.91] loss=0.03 avg=0.15\n",
            "[870 | 2061.99] loss=0.03 avg=0.15\n",
            "[880 | 2085.08] loss=0.03 avg=0.14\n",
            "[890 | 2108.19] loss=0.02 avg=0.14\n",
            "[900 | 2131.29] loss=0.02 avg=0.14\n",
            "[910 | 2154.38] loss=0.02 avg=0.14\n",
            "[920 | 2177.49] loss=0.02 avg=0.14\n",
            "[930 | 2200.60] loss=0.03 avg=0.13\n",
            "[940 | 2223.69] loss=0.02 avg=0.13\n",
            "[950 | 2246.75] loss=0.02 avg=0.13\n",
            "[960 | 2269.82] loss=0.03 avg=0.13\n",
            "[970 | 2292.88] loss=0.03 avg=0.13\n",
            "[980 | 2315.93] loss=0.02 avg=0.12\n",
            "[990 | 2338.99] loss=0.02 avg=0.12\n",
            "Saving checkpoint/reviews_583950/model-1000\n",
            "WARNING:tensorflow:From /usr/local/lib/python3.6/dist-packages/tensorflow/python/training/saver.py:966: remove_checkpoint (from tensorflow.python.training.checkpoint_management) is deprecated and will be removed in a future version.\n",
            "Instructions for updating:\n",
            "Use standard file APIs to delete files with this prefix.\n"
          ],
          "name": "stdout"
        }
      ]
    },
    {
      "metadata": {
        "id": "NAyu3yNP6Uls",
        "colab_type": "code",
        "colab": {}
      },
      "cell_type": "code",
      "source": [
        "# gpt2.copy_checkpoint_to_gdrive()"
      ],
      "execution_count": 0,
      "outputs": []
    },
    {
      "metadata": {
        "id": "BEwkRvCn6XZW",
        "colab_type": "text"
      },
      "cell_type": "markdown",
      "source": [
        "## Load a Trained Model Checkpoint"
      ]
    },
    {
      "metadata": {
        "id": "dELSgpoC6Z-O",
        "colab_type": "code",
        "colab": {}
      },
      "cell_type": "code",
      "source": [
        "# gpt2.copy_checkpoint_from_gdrive()"
      ],
      "execution_count": 0,
      "outputs": []
    },
    {
      "metadata": {
        "id": "dqDaWVAo6cn9",
        "colab_type": "code",
        "colab": {}
      },
      "cell_type": "code",
      "source": [
        "# sess = gpt2.start_tf_sess()\n",
        "\n",
        "# gpt2.load_gpt2(sess,\n",
        "#                run_name=run_name)"
      ],
      "execution_count": 0,
      "outputs": []
    },
    {
      "metadata": {
        "id": "vX8KFoKR6g-o",
        "colab_type": "text"
      },
      "cell_type": "markdown",
      "source": [
        "## Generate Text From The Trained Model"
      ]
    },
    {
      "metadata": {
        "id": "KYC30GEi6kPv",
        "colab_type": "code",
        "colab": {
          "base_uri": "https://localhost:8080/",
          "height": 1837
        },
        "outputId": "12e1a26e-c89c-4bcc-cbcc-399580950651"
      },
      "cell_type": "code",
      "source": [
        "num_samples = 3\n",
        "num_batches = 3 # Unique to GPT-2, you can pass a batch_size to generate multiple samples in parallel, giving a massive speedup.\n",
        "\n",
        "gpt2.generate(sess,\n",
        "              run_name=run_name,\n",
        "              nsamples=num_samples,\n",
        "              batch_size=num_batches)"
      ],
      "execution_count": 16,
      "outputs": [
        {
          "output_type": "stream",
          "text": [
            "Tldr\n",
            "Great Game, well thought, well executed, with a sleek UI and plenty of variety. Fun, ha?\n",
            "Got this game for free. It's addictive.\n",
            "Was very interested in the replay, and enjoyed it aplenty.\n",
            "Ya know the appeal of a fresh new player.\n",
            "Got the game after a couple of days, and was very competitive.\n",
            "Got the cards (2) and a copy of Dawn of the World to play which gave away the balance of the draft to random players in draft.\n",
            "Had fun, but not great.\n",
            "The cards (2) I GOT were too expensive to obtain for free.\n",
            "So many things done wrong, from the market for cards, to the pay to play mods, the gameplay that is ruined by auto-placing minions on the board randomly... just, don't buy it, it sucks\n",
            "It was clear 4 months ago that this game badly needed an update. It is lacking so many features. Now the playerbase has left, the game is dead and I wish I could get a refund.\n",
            "I come from a Prismata, Hearthstone, Eternal and MTGA background and really loved this game the most. But Valve obviously drop the ball on this one and I don't believe they'll be able to sustain the continuous need of a successful CCG with their no management infrastructure and no communication. I hope to proven wrong.\n",
            "I bought this game thinking it would be similar to magic or in the hopes something that seemed like it was worth my time. I like the aspect that you play it out like a dota match but then you dont get a regular amount of creeps in every lane? odd cause every dota clone I play gets the same ammount of minions in the lanes! I do love the fact that you can buy ANY card in the game.....only sad thing is there is no resale value. this could be a better game if they fix a few issues but for now id avoid playing this if your not a hard core card gamer or dota fan\n",
            "Was saying this since the devs started making first showmatches and videos. It's a dull, almost deterministic game.\n",
            "Has more semblance to slightly randomized chess than a card game.\n",
            "Has no hallmarks of a Richard Garfield game.\n",
            "The monetization model is naive and outdated.\n",
            "Other than solid production values, this game really has nothing going for it. Devs have promised they will redesign it - which is honestly the only way to save it. Save your time and money and wait for a rework.\n",
            "Seriously what the fuck, Valve? This game is fucking awesome if properly maintained, and I am even ready to throw hell lots of money into it. It has depth and everything else. A great game indeed. Aaaaand then the game is dead. REVIVE THIS FUCKING GAME VALVE\n",
            "What the hell happened here?\n",
            "I quite enjoyed the game but now it's tumbleweed.\n",
            "Being competitive with a game that cost money to buy required more money to play which kinda put me off.\n",
            "All the same to see it so dead now just a few weeks after launch.\n",
            "Oh well. Back to Gwent\n",
            "Never trusting Valve again.  Wasted money buying the full set.  Will not buy any DOTA battle passes or anything else Valve related anymore.\n",
            "They abandoned the game 1 month after release.\n",
            "The very beginning of Artifact was amazing. There weren't prebuilt decks pros recommended, and you could make your own decisions with your own strategies. Now the meta is all figured out, and you just buy the deck that gets you the win. I'm a casual card player, and I hate that aspect.\n",
            "No one plays it. Bad idea to launch a game without any progression for players. I got it as a gift from a friend but unlike Hearthstone for example, I didn't see any point in learning the mechanics - no ranking, no free tournaments, nothing.  How can they launch this game like that is beyond me. Now it has received some updates but...no one really cares anymore. Like other comments said, Dota Auto Chess is better than this...\n",
            "I will probably get a whole bunch of hate messages for that, but i don't care so i just gonna say it: THIS GAME IS ACTUALLY FUN.\n",
            "Praise The Sun as always, Leg4cy out\n",
            "I'm mixed on this game.  Simply put, this game is a lot of fun.  It's very unique with its gameplay, but for me personally, I never had any intention of playing anything aside of vs bots.  I don't really have any competitive urge anymore.  The issue I have is that vs AI has --NO-- experience gain.  That means no free card packs for playing.  It really takes away from the sense of accomplishment and building up when you have to go to the marketplace and choose what cards you want.\n",
            "I can't wait for the revamp to the game.  Gameplay\n",
            "====================\n",
            "\n",
            "I've had it for now. Game for a few days and play for as long as you need to while keeping score.\n",
            "Haven't gotten behind the paywall for constructed yet, but watching streamers I get the impression that this mode has some serious issues. I won't spend the extra money just to try it.\n",
            "I think the game has a lot of potential, but for now I must answer the question\n",
            "\"Does my life quality improve from spending time on Artifact?\"\n",
            "with a clear \"No\".\n",
            "I'll have more time for more fun things now.\n",
            "This game is actually very fun and theres a lot of complexity. There is no way that i can recommend this due to its monetization regarding tournaments, or even casual collecting of cards.\n",
            "packs are £1.59\n",
            "constructed must win 3 games before you get that ticket back, before you lose two games. if you win two additional games (up to 5) you get one or two packs respectively to open. again before you lose 2 games.\n",
            "the first draft tournament is one ticket, works as above for prize support and you DONT keep your cards you draft.\n",
            "the second draft game you spend two tickets and 5(!) packs to enter. basically same rewards as above, but you do keep your drafted cards too.\n",
            "there is no other way to obtain cards, apart from market or buy a pack.\n",
            "you can break down excess cards on a 20 to 1 basis for 1 ticket.\n",
            "I really do love this mechanically and this will be fun to play casually with friends, but i honestly cant recommend this because of its real world cardgame monetization into a virtual cardgame, where you can never get your money back as any cards you decide to sell goes straight back to your steam wallet.\n",
            "Holy cow.\n",
            "I won't go into details about the pricing model or the RNG as the main thrust of my critique; those issues have been more or less beat to death at this point.\n",
            "But WOW is this game boring. Like, unbelievably, mind-numbingly boring. Matches take a very long time for a CCG, and the action just isn't all that great. Perhaps it gets better at higher level play, but it just wasn't worth my time sticking around to find out. The starter decks feel so weak and lack synergy, so new players are welcomed to this overwrought game by stacks of cards that just feel so lame.\n",
            "GIven the alternatives on the market, in its current state, there is no way in hell I would recommend Artifact to a friend. Maybe to an enemy.\n",
            "Total garbage. At least I got my money back selling the cards which is nearly impossible now, since 99% of cards are worthless and you don't get 10 packs for buying the game anymore, only 5. (I know, I know, you can get packs by playing. But keep in mind this game had 60k people at launch and now it has 500). For all of you saying the game is not pay2win and it's cheaper to build a deck than Hearthstone, you're just fanboys.... I've been playing Hearthstone for a year now and I have several competitive decks, and I only bought the welcome pack, which is the cheapest. The only thing Artifact does better than Hearthstone (and basically every other card game) is that all cards you get are marketable and tradable. It's an interesting game, but Valve is greedy af. This should be free2play. Don't buy it, you will regret it.\n",
            "It's hard for me to openly and honestly recommend Artiact as it currently stands. The draft mode is probably the most compelling aspect of it, but every time I boot up the game and play a few games I end my session feeling exhausted. Not in the \"Ah that was a satisfying battle of wits way\" but more of a \"There's just a lot of information on screen\" kind of way.\n",
            "I feel like many of the systems in the game aren't there for gameplay, they're there to be similar to Dota 2, and while I appreciate the efforts, they just don't work well together.\n",
            "The two biggest pains points for me: Imbalance and Randomness.\n",
            "Card games do not have perfectly balanced cards, it's the nature of the beast and what ends up making draft formats funs. But Artifact is different in that it has Heroes. Unlike \"bombs\" you draft in, say, Magic: The Gathering, heroes are core to your strategy in the game, and keep coming back the entire game. They sway battles just by existing, sometimes in other lanes. The difference in a good hero and a bad one is GIGANTIC, to the point where having one or two key heroes in your draft can seriously carry you hard.\n",
            "Randomness is also huge in Artifact. It's built into the core game. Due to how position on units works, you have a 25% chance to attack a target to your left\n",
            "====================\n",
            "\n",
            "Is this game good? We can't know for sure, but it's certainly not perfect.\n",
            "Pros:\n",
            "Better visuals than most card games. Unique 3 lane gameplay allows for fun and varied gameplay styles. There are a ride range of cards at release and I can see some very big plays with certain decks builds.\n",
            "Cons:\n",
            "There is zero way to gain cards other than pay out of your pocket. Every other card game has a ingame currency where you can grind to progress but not here. I am already bored of this game as there's no method of progression.\n",
            "The game didn't accept my refund because of i open a box during the start of the game(force to open so that u can't get a refund)  The game is too hard to play only for 5 hours which was waste of my time and i highly recommend that you shouldn't buy this game\n",
            "keep getting bong by those rich kids. and no way to earn new card without adding more money . game play is really nc but how i gonna play card game with just trush cards\n",
            "The game itself doesn't look bad. In the beginning you will have tons of fun, building decks, opening your first 10 packs and luckily acquiring Axe as rare hero, just like I did.\n",
            "After that, I was playing around in the social plays and I was really enjoying the game.\n",
            "But later, it gets boring and boring. The cards that matter are so expensive! You will get stuck in a way that you can not expand your library if you don't spend some money in the market or by buying some packs.\n",
            "If you like being competitive (like I do), you have 5 tickets on the beginning and that's it... you need to satisfy yourself with the casual play or buy some tickets with real money.\n",
            "For those who have played MTG Arena you will understand my point here. MTG has a system that you can play for free. Are you going to take a long time until you build your deck? The answer is yes! But at least you have the feeling that you're moving forward with the deck you wanna build.\n",
            "As a result... ARTIFACT: no money = no cards = boredom\n",
            "Unfortunately!\n",
            "About 100 hours in now. can't say that I am a veteran, but can't say I didn't give it a shot, either.\n",
            "The pay-to-play-aspect didn't bother me too much in draft. Usually I make enough packs to recycle cards/sell cards for tickets and be playing endlessly, more or less. The inital price is justified thinking about how much time I could genuinely spend on the game.\n",
            "Drafting was a lot of fun for a while, but now that I have explored the process, the novelty fades.\n",
            "The endless RNG is becoming frustrating.\n",
            "Slowly farming booster packs isn't incentive enough to cover this up for me.\n",
            "Getting 3 very bad drafts in a row, losing a highly favored game to cheating death and I must say: I've had it for now.\n",
            "Haven't gotten behind the paywall for constructed yet, but watching streamers I get the impression that this mode has some serious issues. I won't spend the extra money just to try it.\n",
            "I think the game has a lot of potential, but for now I must answer the question\n",
            "\"Does my life quality improve from spending time on Artifact?\"\n",
            "with a clear \"No\".\n",
            "I'll have more time for more fun things now.\n",
            "This game is actually very fun and theres a lot of complexity. There is no way that i can recommend this due to its monetization regarding tournaments, or even casual collecting of cards.\n",
            "packs are £1.59\n",
            "constructed must win 3 games before you get that ticket back, before you lose two games. if you win two additional games (up to 5) you get one or two packs respectively to open. again before you lose 2 games.\n",
            "the first draft tournament is one ticket, works as above for prize support and you DONT keep your cards you draft.\n",
            "the second draft game you spend two tickets and 5(!) packs to enter. basically same rewards as above, but you do keep your drafted cards too.\n",
            "there is no other way to obtain cards, apart from market or buy a pack.\n",
            "you can break down excess cards on a 20 to 1 basis for 1 ticket.\n",
            "I really do love this mechanically and this will be fun to play casually with friends, but i honestly cant recommend this because of its real world cardgame monetization into a virtual cardgame, where you can never get your money back as any cards you decide to sell goes straight back to your steam wallet.\n",
            "Holy cow.\n",
            "I won't go into details about the pricing model or the RNG as the main thrust of my critique; those issues have been more or less beat to death at this point.\n",
            "But WOW is this game boring. Like, unbelievably, mind-numbingly boring\n",
            "====================\n",
            "\n"
          ],
          "name": "stdout"
        }
      ]
    },
    {
      "metadata": {
        "id": "jrZBWas662k_",
        "colab_type": "code",
        "colab": {
          "base_uri": "https://localhost:8080/",
          "height": 1561
        },
        "outputId": "6e2e0312-8140-4127-e9e8-5872a62b5165"
      },
      "cell_type": "code",
      "source": [
        "gpt2.generate(sess,\n",
        "              run_name=run_name,\n",
        "              nsamples=num_samples,\n",
        "              batch_size=num_batches,\n",
        "              prefix='I love Artifact')"
      ],
      "execution_count": 17,
      "outputs": [
        {
          "output_type": "stream",
          "text": [
            "I love Artifact and its lore is fantastic, the draft is really fun and free. If you're planning a grand prize, a draft, I'm sure you're well on your way to greater riches. Don't get me wrong, you probably heard lots of good stuff about this game. Valve made sure to organize a closed invite only closed beta closed tournament with all the good card professional players you all love, they surely loved this game too and weren't there only for the money. Ahm.\n",
            "Of course, you heard all the good stuff about Artifag from them and how they are happily still playing and streaming this best card game ever made, and also talking about it non-stop to their friends and their friends' mothers (and their mothers' friends' friends). You should follow them too and do it exactly as well (that is: continue playing Heartsone/Gwent/thatothergameyoulove, you don't have to think about it too much, you will do well sabotaging the competition). Valve carefully listened well to all their honest positive feedback, such game consisting of masterfully perfected core mechanics barely changed throughout the whole beta period. Even the official post-beta release is still lacking basic game functionality like chat, replays, any leaderboards or any rank system or any game history/statistics at all...\n",
            "Numbers don't lie. It is THAT good and E X C I T I N G! (now pat yourselves on the back Valve)\n",
            "As a good reviewer, I would tell you to definitely get this game. That is, if there are still people playing it by the time it goes free to play. :)\n",
            "Either way. May RNGesus have mercy on your green paper!\n",
            "For the game heralded as the \"most skill intensive\" DCG, almost all matches come down to RNG minion spawn or attack arrows.\n",
            "The devs saw the create mechanic in Hearthstone, and said, hold my beer.\n",
            "The game itself plays perfectly fine, if not a little on the way too slow side. It's a fine enough Magic style tabletop game with the added functions only a digital environment could achieve. It's fun at times, but not something I can really sit myself down for often enough.\n",
            "But I just cannot get behind the games monetization. One of the advantages of making a digital ccg over a physical one is that you can get rid of all the problems the distribution of physical card games have, like replacing paying for individual cards with things like Hearthstone's dusting system (which is admittedly on the stingy side when it comes to actually dusting cards but I digress).\n",
            "Not only does this game not try to break free of traditional methods of card distribution, it actively encourages it with how easy it is to just put cards onto the community market. The game is also twenty goddamn dollars at base, with the justification being they give you packs (which they just recently cut down to 5 from 10 btw), some event tickets (which are also for sale and your only way to enter the competitive ladder and drafts) and two semi-playable decks. But even games like Magic make and give away free decks to dip your toes into the game and figure the basics, and Hearthstone has the decency of things like Brawls and quests to earn more packs.\n",
            "The entry fee of $20 is utterly unjustified here for the actual beginner's experience. I wanted to give this game a chance since I love Mr Garfield's game designs, but I just can't. For a similar enough experience, just go play Magic.\n",
            "Amazing card game that I'm probably never going to play again because of 2 reasons. Why? Read on my brief comments below...\n",
            "After 50+ hours of gameplay, here are my 2 cents:\n",
            "[h1][b]1. NO PROGRESSION [/b][/h1] - why in the world wouldn't you add a progression and gamification/level system to a game like this? You absolutely cannot level up or feel the \"completition\" achievement in any of the game modes...\n",
            "[h1][b]2. EVENT TICKETS [/b][/h1]- now this one is a joke. Basically, if you want to play ranked (called \"expert\" in Artifact and earn packs) you need an event ticket that, guess what.... Can only be BOUGHT for like a $1 (or you can farm these tickets if you have high win-rate ratio in ranked), so basically you either need to be REALLY GOOD at the game to continue playing ranked or just spent bucks TO PLAY RANKED. Bear in mind, you've already bought the game for 20$.\n",
            "also:\n",
            "- - - NO PROFILE TAB TO VIEW ANY STATS\n",
            "- - - ZERO INTERACTION WITH OPPONENT\n",
            "Isn't this ridicolous?\n",
            "Enter the Pay2Pay era!\n",
            "Awesome production value, great mechanics, beautiful lore, but the game is built around a single purpose, to dump money\n",
            "====================\n",
            "\n",
            "I love Artifact, but if Valve is going to have a competitive card game, I don't think they'll be able to sustain the continuous need of a successful CCG with their no management infrastructure and no communication. I hope the E-Sports Game comes to fruition and that's awesome.\n",
            "I loved the game when it came out, but it's no good without the communication and good fun factor.\n",
            "I played it when it came out, and I'm even ready to throw hell lots of money into it.\n",
            "What's even worse is, when Valve comes back, there is absolutely no info about the reason for the change, only that they don't even give a shit what the market is like.\n",
            "I mean it has no idea what the market will look like.\n",
            "I'm even ready to throw hell lots of money into it.\n",
            "Wait for the rework. It's just boring.\n",
            "Replace Valve with a competent game design company.\n",
            "[*]Do you want to play with your custom deck? Go to community market and pay.\n",
            "[*]Do you want a new card? Take out your credit card.\n",
            "[*]There is simply no way to earn free cards (no reward system, no daily login bonus, no community challenge, nothing).[/list]\n",
            "Yes, you can win boosters by participating in runs. However, the ratio required to win cards is very low (4 wins for a maximum of 1 loss), so you will easily lose your tickets. By buying Artifact, you receive 5 tickets. Spend 1 ticket to (maybe) win a reward:\n",
            "[list][*]Win 3 games (with maximum 1 defeat) to win 1 ticket.\n",
            "[*]Win 4 games (with maximum 1 defeat) to win 1 ticket + 1 booster cards.\n",
            "[*]Win 5 games (with maximum 1 defeat) to win 1 ticket + 2 booster cards.\n",
            "[*]Lose 2 times, and your run stops.[/list]\n",
            "Finally, yes, you can play with all the cards in the game for free. This game mode is called the [i]Casual Phantom Draft[/i]. But the cards drawn are random, and will never belong to you. Once your deck is built with these cards, you participate for free in a run, in the same way as paid runs with tickets, except that you will never win anything. Once a condition of end of run occurs (5 victories for 1 maximum defeat, or 2 defeats), the run ends. You will need to redo a new deck with other cards.\n",
            "The reflection is long, if you lose a lot, you will spend a lot of time creating a deck against little time to play. You will be quickly disgusted with the game.\n",
            "I cannot recommend the game. It is riddled with RNG and I think it really suffers from poor design choices.\n",
            "I did enjoy my time with it for the first few days where I was immersed in the game, learning the mechanics and just enjoying the polished visuals and sound design which I think are better than any other card game I have played.\n",
            "However it didn't take long until the cracks started to appear. Almost every single thing that happens in the game has an underlying coin flip/dice roll that can decide an outcome. Creep spawns, hero deployment positions, random damage effects of cards like plague ward that could be the difference between upkeep-killing a hero or dealing 2 damage to a creep... Not to mention fundamentally poorly designed cards like Cheating Death whose existence alone proves that the game is just not very well thought-out.\n",
            "All in all, I might come back to it if the game receives a complete overhaul to its core mechanics or at the very least an interesting expansion. The problem is with the way that the economy is designed, Valve has left themselves in a position where they can't really balance cards...\n",
            "So really I don't know what can save this game from itself.\n",
            "TL;DR - I have mixed feelings about the game. Don't like the cost of playing / time investment. I don't think I would buy / play it, even if it were free to play. I also think that if this game came from any other developer, it would never get off the ground...But that's my opinion.\n",
            "For those wondering, I had a beta key, which translated into a free copy of the game.\n",
            "*Updated the review to try to reflect the game release.*\n",
            "What follows is my own opinion. I cannot speak for everyone, and believe everyone is entitled to their own opinion. If you have the spare cash and curious about the game, go ahead and buy it and make your own judgment.\n",
            "I've dabbled in a few card games in the past few years (now that they're popular), and by no means an expert. I've played MTG, Hearthstone, Elder Scrolls: Legends and a few others here and there, including some table tops with some personal friends. I will try not to compare Artifact too much to\n",
            "====================\n",
            "\n",
            "I love Artifact, but i don't think I would buy it if I could,\" wrote one critic.\n",
            "Valve has revealed a few details about the game that may change, but for now I'd avoid unless you really want to sink your teeth into the gameplay itself.\n",
            "What is new is the ability to make and break cards:\n",
            "Unfortunetly there isn't much to do outside of playing the game. You are essentially stuck in a slot machine, with no way to progress or progress your collection forward. You have loaded packs, synced up with your opponent, and accomplished most of the things that make a good game about Magic so interesting.\n",
            "[list]\n",
            "[*]The deckbuilding is so intensive and tedious. You will get matched against people 30 minutes in a game who are 20 minutes long. You will have 15-25 packs already filled out for you and your opponent.\n",
            "[*] Repeat for 2 turns.\n",
            "[*] Match is over and you can no longer play.\n",
            "[*] There is no way to win a Casual Constructed Gauntlet, if you don't buy cards. 90% of my opponents has the strongest heroes and cards in the entire collection.\n",
            "[*] Artifact is very fun playing against for 30 minutes a day, and I don't think I've ever felt so exhausted.\n",
            "[*] The card draw is so fast and so obvious, it makes for really fun games.\n",
            "[*] The mechanics of these cards are really good, and I am really excited to try them. The draws and reactions are so natural and fun. The combinations can be so cute, and the cards even have a purpose...\n",
            "[*] I don't think I've ever felt so exhausted playing Hearthstone.\n",
            "[*] The gameplay itself is really good, and makes for really fun games. There are a lot of card draws and reactions, and it's really fun to play against people who are very different from one another. It's just immense and you really have to take a step back and think about the overall situation rather than blindly following your simple game-plan.\n",
            "[*] The visual and audio design are fantastic, with a sleek menu system in the style of Dota, and an incredible amount of voiced lines for each card.\n",
            "[*] The three lane concept is cute, but sometimes so confusedhearted that I just can't seem to figure out what the hell is going on.\n",
            "[*] There is so much unnecessary RNG already, and there will be more and more as they add new cards. I'm even wondering how long will it take for the RNG to get worse? I mean I know there will always be RNG in card games, but there is so much unnecessary RNG already, and there will be so much more as they add new cards.\n",
            "[*] There is so much unnecessary voice acting to keep from getting boring, and I don't anticipate the problem to get much worse.\n",
            "[*] The only way to actually get feedback on game is to talk to actual players about it. Talking to streamers is so hard and annoying, and the reaction from streamers is so negative that it is almost painful to even contemplate it.\n",
            "[*] Talking to streamers is so much more than just talking about game. It's about being able to communicate in game. Making sense decisions are actually really hard and sometimes painful, and depending on which parts of the game you have no control over, and if you don't have control over where you draw the right cards, you have no good options for survival.\n",
            "[*] I really do love the fact that there is no masterplan, there is no roadmap, and there is no way to master the game without being perfect.\n",
            "[*] I also think that the amount of microtransactions in the game is pretty neat, as is the amount of differential trading ways to obtain cards.\n",
            "[*] The one thing that I've appreciated the most about the current meta is that it's all about skill and getting good at it.\n",
            "[*] Not only does this suggest a rapidly falling playerbase, but it also encourages players to just not play it.\n",
            "[*] Part of the problem with this system is that it's just not that good. The amount of things to keep track of is pretty vast, and you can get pretty bored with most of them. But this isn't to say that this isn't a great game. There are some interesting ideas and micro-transactions to the core mechanics, and while they're fun for a while, they just don't seem to bring all that much depth to the table, in my opinion.\n",
            "I'm not happy with the game. It's not complex with the current card set, and it's very straightforward with how you acquire cards.\n",
            "However, the gameplay itself is very engaging. There are plenty of things to keep track of, all being very rewarding to play with no real reason to play.\n",
            "Having said\n",
            "====================\n",
            "\n"
          ],
          "name": "stdout"
        }
      ]
    },
    {
      "metadata": {
        "id": "VEAeBOlS7eCY",
        "colab_type": "code",
        "colab": {
          "base_uri": "https://localhost:8080/",
          "height": 1176
        },
        "outputId": "09229042-aeaa-41b9-be23-a7d5df55efdd"
      },
      "cell_type": "code",
      "source": [
        "gpt2.generate(sess,\n",
        "              run_name=run_name,\n",
        "              nsamples=num_samples,\n",
        "              batch_size=num_batches,\n",
        "              prefix='I hate Artifact')"
      ],
      "execution_count": 18,
      "outputs": [
        {
          "output_type": "stream",
          "text": [
            "I hate Artifact and have spent more than dozens of Expert mode tickets. I also play Dota, so I gave it a shot. Boring.\n",
            "4. Valve's silence.\n",
            "I've enjoyed the game aplenty, and if you're still reading this by now, you're in luck. The game is alive with lore and insight is beyond me. Breath of the Wild is a great game, but Valve is silent as hell. I'm done.\n",
            "I'm not happy to write this review, the game is good and well made, every cards has his lore and voice acting, the three boards mechanics is not so complicated and you can master it after a couple of hours (the time you need to practice with the most common cards).\n",
            "What is wrong with this game is the microtransaction system, if you want to build your deck you need to pay, there is no trading with friends or other people but right now the cards are very cheap on the market (because the game is dead), but let me say that if you want to play for fun with pre-build decks you can for free.\n",
            "What is more wrong with this game is Valve, they killed the game after two months, last update was at the end of January and right now there is no info about the future of the game, they also fired RG and other members of the team.\n",
            "The game is dead and Valve killed it since start.\n",
            "There is rumors out there that maybe it will become free to play \"in a few months\", i will not talk about this rumor because is a rumor, i don't want rumors from a 4Chan user, i want an official statement from Valve.\n",
            "The game is dead and Valve killed it.\n",
            "(ok, ok, there is other 99 wrong things but who cares, the game is dead and Valve killed it.)\n",
            "Great Game, too bad it's a dead game with no future, even Dota Auto Chess has more hope than this.\n",
            "Yes I do own all the cards (roughly 250+ euro wasted)\n",
            "Since November 2018 they didn't bother to improve and with the very few people playing it, there is no hope for a future expansion. (I mean who would like to spend 200+ euro for another set, I might be stupid but not that stupid)\n",
            "I mean it has like 50 views on twitch....\n",
            "Even if you can overlook all the issues with how the game handles cards & microtransactions, a rapidly falling playerbase, a lack of meaningful progression, and its general poor launch - at it's core, Artifact's gameplay is an unsatisfying chore.\n",
            "There are very few times playing the game where random chance plays a small enough element for the average player to make a significant outplay, or carry out a game-long strategy outside of the premade 7+ mana game ending cards. The game includes a random element at each stage of gameplay - creep random lane spawns, attack direction arrows randomly generating, random card draw from your relatively large deck, random shop items each turn. This in my opinion leads to the vast majority of games being decided by which player draws the right random chance at a critical moment, rather than which player predicts the play of an enemy and plans around it.\n",
            "Sometimes all you needed to win a lost game was 1 card the whole game, a tp scroll to change a heroes lane after getting it deployed in a bad matchup for example, but the shop does not have a standard set of items, so you're out of luck. While winning, games feel very straightforward - you draw the right cards once or twice, and the game ends, in spite of losing your heroes over and over, or many misplays along the way. There is no clear path to victory without a good measure of luck, which makes a lot of your wins feel hollow and almost out of your hands.\n",
            "Having said all that, the visual and audio design are fantastic, with a sleek menu system in the style of Dota, and an incredible amount of voiced lines for each card. There is clear effort and care taken with every part of the game, which only makes me more disappointed at how much of a near miss this game was. I do not see a way for this game to see a meaningful revival in playerbase outside of a complete overhaul and rerelease of a lot of the core gameplay and monetization, and even that could be a roll of the dice.\n",
            "My favorite card game I have ever played. Sadly, I cannot give it a positive review in its current state. Microtransactions, P2W, (However I will say it is the cheapest card game in terms of purchasing a full collection) lack of updates/commucation from Valve, and lack of playerbase=unfair ranked MM.\n",
            "Until a roadmap is released, or the game is overhauled and updated completely with cosmetics, daily quests, and a revamped ladder system, this review will remain negative.\n",
            "Much more than just a bad game: this is definitive proof that Valve's corporate culture and flat hierarchy\n",
            "====================\n",
            "\n",
            "I hate Artifact, it's garbage. It should be free to play.\n",
            "I also want to mention that it's theoretically possible to increase your collection without spending more money. By winning 4 games in a draft you get your ticket back and a card pack. And this possibility is what made me ultimately buy the game.\n",
            "Now, with all that out the way. In it for the long Haul! Aidy Bryant-like experience. I felt a little like the game was made for me specifically. I was even pretty excited about her profile. I checked it out and said wow! I'm really into visual designers and have been playing TCGs for years. I was even pretty excited about the future of the game. I checked out boards like Chess, Mini-ITEMS like MojoEliquid, and I just can't wait for the fan experience to take a turn for the better. I also look forward to whatever they do with it from here.\n",
            "My to-last word to the developer: they've ruined a game that had tremendous potential. Theye they're like uncle Chad's blog... he doesn't give a shit what you think about the business, he just takes a shit for anything that implies otherwise.\n",
            "I'm not happy to write this review, the game is good and well made, every cards has his lore and voice acting, the three boards mechanics is not so complicated and you can master it after a couple of hours (the time you need to practice with the most common cards).\n",
            "What is wrong with this game is the microtransaction system, if you want to build your deck you need to pay, there is no trading with friends or other people but right now the cards are very cheap on the market (because the game is dead), but let me say that if you want to play for fun with pre-build decks you can for free.\n",
            "What is more wrong with this game is Valve, they killed the game after two months, last update was at the end of January and right now there is no info about the future of the game, they also fired RG and other members of the team.\n",
            "The game is dead and Valve killed it since start.\n",
            "There is rumors out there that maybe it will become free to play \"in a few months\", i will not talk about this rumor because is a rumor, i don't want rumors from a 4Chan user, i want an official statement from Valve.\n",
            "The game is dead and Valve killed it.\n",
            "(ok, ok, there is other 99 wrong things but who cares, the game is dead and Valve killed it.)\n",
            "Great Game, too bad it's a dead game with no future, even Dota Auto Chess has more hope than this.\n",
            "Yes I do own all the cards (roughly 250+ euro wasted)\n",
            "Since November 2018 they didn't bother to improve and with the very few people playing it, there is no hope for a future expansion. (I mean who would like to spend 200+ euro for another set, I might be stupid but not that stupid)\n",
            "I mean it has like 50 views on twitch....\n",
            "Even if you can overlook all the issues with how the game handles cards & microtransactions, a rapidly falling playerbase, a lack of meaningful progression, and its general poor launch - at it's core, Artifact's gameplay is an unsatisfying chore.\n",
            "There are very few times playing the game where random chance plays a small enough element for the average player to make a significant outplay, or carry out a game-long strategy outside of the premade 7+ mana game ending cards. The game includes a random element at each stage of gameplay - creep random lane spawns, attack direction arrows randomly generating, random card draw from your relatively large deck, random shop items each turn. This in my opinion leads to the vast majority of games being decided by which player draws the right random chance at a critical moment, rather than which player predicts the play of an enemy and plans around it.\n",
            "Sometimes all you needed to win a lost game was 1 card the whole game, a tp scroll to change a heroes lane after getting it deployed in a bad matchup for example, but the shop does not have a standard set of items, so you're out of luck. While winning, games feel very straightforward - you draw the right cards once or twice, and the game ends, in spite of losing your heroes over and over, or many misplays along the way. There is no clear path to victory without a good measure of luck, which makes a lot of your wins feel hollow and almost out of your hands.\n",
            "Having said all that, the visual and audio design are fantastic, with a sleek menu system in the style of Dota, and an incredible amount of voiced lines for each card. There is clear effort and care taken with every part of the game, which only makes me more disappointed at how much of a near miss this game was. I do not see a way for this game to see a meaningful revival in playerbase outside of\n",
            "====================\n",
            "\n",
            "I hate Artifact, it's a must buy for all card players!\n",
            "As much as I like Artifact, i dont recommend it for two reasons.First of all, the cards are so cheap. You can get 5 packs for just 1 ticket. I am sure many card players will say the same about deckbuilding games. Why? Because of the prices. You need 5 cards for the game, 2 more for a tp screen, 1 more for a screenshot, and 1 more for a dota screen. Get 'em while they also charge scratch $39 for those, and a couple of packs to get going.Oh wait, I was just thinking about how much fun that would be. Ahm.\n",
            "You need around 10 minutes (depending on how long I play) to practice with the cards, before the match starts. You can play for 15 minutes, before the match finishes.\n",
            "There is no practice mode, you need to win 5 before you lose 2.\n",
            "There is no community challenge, you need to win 5 before you lose 2.\n",
            "There is no ranked mode, you need to win 5 before you lose 2.\n",
            "There is no ticket mode, you need to win 5 before you lose 2.\n",
            "There is no ranked mode, you need to win 5 before you lose 2.\n",
            "There is no ranked mode, you need to win 5 before you lose 2.\n",
            "There is no ranked mode, you need to win 5 before you lose 2.\n",
            "Oh man i've played TCGs before but this s**t is insane. The RNG is off the charts where one random effect can ruin 30 minutes of carefull planning. Now i know games like this rely on RNG to draw cards but the abilities themselves are a hellhole. The only good thing is the limited time mode that's on right now but I have a feeling its not gonna last. Word of advice if you do buy it, sell all your rare and uncommon cards cause this game unlike DotA wont last long.\n",
            "The monetisation of Artifact has been done to death, ultimately people will decide if they want to put money into what I would say is a relatively cheap card game compared to others on the market, so instead I'm just going to discuss the gameplay.\n",
            "First up, the gameplay itself is very engaging. It's undeniable that matches are incredibly intense and absorbing experiences. There're plenty of things to keep track of without being too overwhelming, and the cards are fun to play around with even if there's a lack of fancy visual effects to everything. One of Artifact's least touted, but I believe best, features is that you're very rarely out of a match until you lose your last few structure points. I've eked out wins from opening positions that went disasterously and I've had victory snatched away from me in situations where I'd been ahead all game. That kind of balance in a card game, particularly in Artifact which has relatively few board clear effects, is pretty impressive.\n",
            "On a bad note about the gameplay, the learning curve to the strategy is somewhat fiddly. You make a lot of decisions in Artifact that, unfortunately, you never really get to find out if they were good or not. For instance, if you choose to abandon a lane then you'll never really know how it impacted the game outcome, even after the match finishes, because games generally run close anyway. You could argue that this just means that figuring out the strategic nuances in the game will take longer and so players will remain invested in playing, but it's sort of frustrating when you're trying to learn, and I suspect it's the kind of thing you only really have an understanding of after a considerable number of hours.\n",
            "However, engaging gameplay aside, Artifact does have one big problem at the moment and that's that there's not actually anything meaningful to do in it yet. There's no progression. If you play at the moment then you're just playing for the thrill of the matches themselves. The only meaningful progression available is the Expert Phantom Draft, which rewards card packs. If you're good then you can technically grind up a collection this way while still playing and enjoying the game. You could also get packs from Expert Constructed wins to expand your collection, however to play Constructed in the first place then you've probably paid to get a fair bit of the game collection already anyway. But that's it. There's no ladder, no visible ranked matchmaking (the casual matchmaking will put you against someone at your MMR, but it's not a visible number), no achievements, no campaign adventure, nothing.\n",
            "It's understandable that the game's essentially in early days and the game itself works beautifully, but there's just not a lot to do at the moment that earns you any kind of progression. Arguably, playing the game itself and getting more skillful at it is meaningful progression, but, let's face it, the gamers of today (myself included) want something visible to show for their time. Even an account level experience bar like in Dota\n",
            "====================\n",
            "\n"
          ],
          "name": "stdout"
        }
      ]
    },
    {
      "metadata": {
        "id": "jX8KxDY27hJ0",
        "colab_type": "code",
        "colab": {
          "base_uri": "https://localhost:8080/",
          "height": 1966
        },
        "outputId": "41479363-c62d-4da7-9906-189ec9bfbeeb"
      },
      "cell_type": "code",
      "source": [
        "gpt2.generate(sess,\n",
        "              run_name=run_name,\n",
        "              nsamples=num_samples,\n",
        "              batch_size=num_batches,\n",
        "              prefix='Please, Valve')"
      ],
      "execution_count": 19,
      "outputs": [
        {
          "output_type": "stream",
          "text": [
            "P, Valve, do not release game with all of the evidence to back it up.\n",
            "The game is dead and Valve killed it.\n",
            "Save yourself the headache.\n",
            "The game is dead and Valve killed it.\n",
            "If it weren't for the fact that this game had these terrible initial problems, and because Valve didn't provide any updates, we might not even be aware of the game is dead.\n",
            "Holy cow.\n",
            "I won't go into details about the taxes, because you're breaking the bank.\n",
            "Because I don't want taxes on this game.\n",
            "Because you're breaking the bank.\n",
            "Because you should pay the taxes.\n",
            "Because there is no other way to gain entry to this game.\n",
            "There is no other way to gain entry to this game.\n",
            "Game is dead and Valve killed it.\n",
            "Yes, you can win boosters by participating in runs.\n",
            "However, the ratio required to win cards is very low (4 wins for a maximum of 1 loss), so you will easily lose your tickets. By buying Artifact, you receive 5 tickets. Spend 1 ticket to (maybe) win a reward:\n",
            "[list][*]Win 3 games (with maximum 1 defeat) to win 1 ticket.\n",
            "[*]Win 4 games (with maximum 1 defeat) to win 1 ticket + 1 booster cards.\n",
            "[*]Win 5 games (with maximum 1 defeat) to win 1 ticket + 2 booster cards.\n",
            "[*]Lose 2 times, and your run stops.[/list]\n",
            "Finally, yes, you can play with all the cards in the game for free. This game mode is called the [i]Casual Phantom Draft[/i]. But the cards drawn are random, and will never belong to you. Once your deck is built with these cards, you participate for free in a run, in the same way as paid runs with tickets, except that you will never win anything. Once a condition of end of run occurs (5 victories for 1 maximum defeat, or 2 defeats), the run ends. You will need to redo a new deck with other cards.\n",
            "The reflection is long, if you lose a lot, you will spend a lot of time creating a deck against little time to play. You will be quickly disgusted with the game.\n",
            "I cannot recommend the game. It is riddled with RNG and I think it really suffers from poor design choices.\n",
            "I did enjoy my time with it for the first few days where I was immersed in the game, learning the mechanics and just enjoying the polished visuals and sound design which I think are better than any other card game I have played.\n",
            "However it didn't take long until the cracks started to appear. Almost every single thing that happens in the game has an underlying coin flip/dice roll that can decide an outcome. Creep spawns, hero deployment positions, random damage effects of cards like plague ward that could be the difference between upkeep-killing a hero or dealing 2 damage to a creep... Not to mention fundamentally poorly designed cards like Cheating Death whose existence alone proves that the game is just not very well thought-out.\n",
            "All in all, I might come back to it if the game receives a complete overhaul to its core mechanics or at the very least an interesting expansion. The problem is with the way that the economy is designed, Valve has left themselves in a position where they can't really balance cards...\n",
            "So really I don't know what can save this game from itself.\n",
            "TL;DR - I have mixed feelings about the game. Don't like the cost of playing / time investment. I don't think I would buy / play it, even if it were free to play. I also think that if this game came from any other developer, it would never get off the ground...But that's my opinion.\n",
            "For those wondering, I had a beta key, which translated into a free copy of the game.\n",
            "*Updated the review to try to reflect the game release.*\n",
            "What follows is my own opinion. I cannot speak for everyone, and believe everyone is entitled to their own opinion. If you have the spare cash and curious about the game, go ahead and buy it and make your own judgment.\n",
            "I've dabbled in a few card games in the past few years (now that they're popular), and by no means an expert. I've played MTG, Hearthstone, Elder Scrolls: Legends and a few others here and there, including some table tops with some personal friends. I will try not to compare Artifact too much to other games, but they also tend to be the baseline for comparison.\n",
            "Without further ado...\n",
            "Artifact brings its own spin on the electronic card game genre. It pulls from other card games like the colours + varying playstyles from MTG and the lanes function from Elder Scrolls: Legends, all the while implementing core concepts from Dota like lanes, item purchasing, heroes, creeps and abilities.\n",
            "Pros:\n",
            "+ Visuals are really nice. If you like the visual style\n",
            "====================\n",
            "\n",
            "P, Valve, do not!\n",
            "[*]Do you want a particular card? Go to the community market, and pay.\n",
            "[*]Do you want a ticket to try to win a reward? Take out your credit card.\n",
            "[*]There is simply no way to earn free cards (no reward system, no daily login bonus, no community challenge, nothing!).[/list]\n",
            "Yes, you can win boosters by participating in runs. However, the ratio required to win cards is very low (4 wins for a maximum of 1 loss), so you will easily lose your tickets. By buying Artifact, you receive 5 tickets. Spend 1 ticket to (maybe) win a reward:\n",
            "[list][*]Win 3 games (with maximum 1 defeat) to win 1 ticket.\n",
            "[*]Win 4 games (with maximum 1 defeat) to win 1 ticket + 1 booster cards.\n",
            "[*]Win 5 games (with maximum 1 defeat) to win 1 ticket + 2 booster cards.\n",
            "[*]Lose 2 times, and your run stops.[/list]\n",
            "Finally, yes, you can play with all the cards in the game for free. This game mode is called the [i]Casual Phantom Draft[/i]. But the cards drawn are random, and will never belong to you. Once your deck is built with these cards, you participate for free in a run, in the same way as paid runs with tickets, except that you will never win anything. Once a condition of end of run occurs (5 victories for 1 maximum defeat, or 2 defeats), the run ends. You will need to redo a new deck with other cards.\n",
            "The reflection is long, if you lose a lot, you will spend a lot of time creating a deck against little time to play. You will be quickly disgusted with the game.\n",
            "I cannot recommend the game. It is riddled with RNG and I think it really suffers from poor design choices.\n",
            "I did enjoy my time with it for the first few days where I was immersed in the game, learning the mechanics and just enjoying the polished visuals and sound design which I think are better than any other card game I have played.\n",
            "However it didn't take long until the cracks started to appear. Almost every single thing that happens in the game has an underlying coin flip/dice roll that can decide an outcome. Creep spawns, hero deployment positions, random damage effects of cards like plague ward that could be the difference between upkeep-killing a hero or dealing 2 damage to a creep... Not to mention fundamentally poorly designed cards like Cheating Death whose existence alone proves that the game is just not very well thought-out.\n",
            "All in all, I might come back to it if the game receives a complete overhaul to its core mechanics or at the very least an interesting expansion. The problem is with the way that the economy is designed, Valve has left themselves in a position where they can't really balance cards...\n",
            "So really I don't know what can save this game from itself.\n",
            "TL;DR - I have mixed feelings about the game. Don't like the cost of playing / time investment. I don't think I would buy / play it, even if it were free to play. I also think that if this game came from any other developer, it would never get off the ground...But that's my opinion.\n",
            "For those wondering, I had a beta key, which translated into a free copy of the game.\n",
            "*Updated the review to try to reflect the game release.*\n",
            "What follows is my own opinion. I cannot speak for everyone, and believe everyone is entitled to their own opinion.\n",
            "I've dabbled in a few card games in the past few years (now that they're popular), and by no means an expert. I've played MTG, Hearthstone, Elder Scrolls: Legends and a few others here and there, including some table tops with some personal friends. I will try not to compare Artifact too much to other games, but they also tend to be the baseline for comparison.\n",
            "Without further ado...\n",
            "Artifact brings its own spin on the electronic card game genre. It pulls from other card games like the colours + varying playstyles from MTG and the lanes function from Elder Scrolls: Legends, all the while implementing core concepts from Dota like lanes, item purchasing, heroes, creeps and abilities.\n",
            "Pros:\n",
            "+ Visuals are really nice. If you like the visual style from Dota, you'll feel right at home.\n",
            "+ Unique card mechanics you don't see in other card games (like Cleave), while implementing traditional mechanics like deathtouch (insta-kill) and trample (additional damage to lifepoints).\n",
            "+ Win condition in the game is pretty cool. Destroy two of three towers in different lanes or Destroy the tower + Core in one lane.\n",
            "+ Deckbuilding is nice. Minimum of 40 cards (no limit) and 9 items. The two are distinct from one another one\n",
            "====================\n",
            "\n",
            "P, Valve, do not release game with all the information about average players and do not allow players to win tickets without paying money.\n",
            "The game is not free to play, it is kindred to a dota shop in that you can buy and sell cards, and have good cards in common (Creep & Hero placement, Trading Card Game, all have nice features).\n",
            "The poor graphics are also bizarre, with the most recent cards being a joke.\n",
            "All in all, I think I would have said no update now.\n",
            "It's kind of like the real Dota community, except without the achievements.\n",
            "Problem 3: The game isn't perfect.\n",
            "Problem 3.1: There is no leaderboard or ladder ranking system for competition and rewards, aside from just gaining levels.\n",
            "Solution: institute a fresh style of play that rewards with rewards like beer and wine.\n",
            "Problem 3.2: There is no visible progression system for achievements, no virtual one to measure progress, no hidden rank system, not even player rankings.\n",
            "Solution: institute a fresh style of play that rewards with experience, not just points.\n",
            "4. The Game:\n",
            "5. Unofficial App: Hearthstone\n",
            "6. Rigor Mortis:\n",
            "7. Many thanks to everyone who played, and gave feedback, about 5 months after launch.\n",
            "As always, we appreciate your patience and understanding.\n",
            "As always, the developers of this game have released 4 under the last 2 weeks.\n",
            "The game was very close in nature, with all the good cards being perfectly fine. There are some cards that got lost in the shuffle, and even magic ones that need to be changed. As great as it feels pulling off some creative creative things, there are some very deep flaws in the overall design.\n",
            "I'm not sure how they plan to make the game run on mobile - I hope they add it as a free to play game.\n",
            "I think the game is fun for a few reasons.\n",
            "The cards are good, the gameplay interesting, the characters are great, replayability is high.\n",
            "The current player count is 50 people, with 10 more before we have a chance to fully enjoy the game.\n",
            "I think the game is fun for a few reasons.\n",
            "The cards are good, the gameplay interesting, the gameplay is really good, and the price is justified.\n",
            "The game costabillities make the game almost impossible to acquire.\n",
            "Other than that one \"free\" game, there is no other way to obtain cards than as a free update. And as a free update, you get a chance to play with some really good cards. Unique cards are also well crafted and look fantastic, making them particularly compelling with regard to gameplay.\n",
            "Playing the game is fun, but involved for a while. Then they came up with the concept of the game, and it's really all about skill and coordination. You need to be prepared as to which cards you're going to get after youload a bit, and which are going to get you where you are going wrong.\n",
            "Having said all that, the game is a very fun game, and I think it has a lot of potential. With practice and practice ends well, the game is all about skill and initiative.\n",
            "Playing the game is very straightforward, and I can say that is indeed the case. There are plenty of things to keep track of without being too overwhelming, and the cards are fun to play around with even if there's a lack of fancy visual effects to everything.\n",
            "The game takes a lot of strategy to play well, and while I appreciate the efforts, they just don't work well together.\n",
            "The two biggest pains points for me: Imbalance and Randomness.\n",
            "Card games do not have perfectly balanced cards, it's the nature of the beast and what ends up making draft formats funs. But Hearthstone has a much more balanced look to it, with a more balanced look at what goes into making and distributing cards.\n",
            "Randomness is also huge in Artifact, it's undeniable that there are going to be things that are too random for your average player to keep up with, and that is one of the biggest reasons I don't recommend it. Especially when its competitors provide some pretty awesome random effects, like Gaussian blur, which is awesome and surprising given the sheer amount of randomness in nature, but doesn't seem to bring anything close to its potential.\n",
            "Artifact is a good game for a certain kind of player, I'm on the fence on whether or not I'm that kind of player. I'm enjoying Casual Phantom Draft for now but each time I run through a draft, I just find myself not wanting to touch the game for a few days.\n",
            "Artifact might be for you, but it's certainly not for everyone.\n",
            "The worst buy I made last year, for sure.\n",
            "Not only is the game devoid of any progression or anything to earn you cards (at least at launch, it seems they added it now, too little too late for me though), but it\n",
            "====================\n",
            "\n"
          ],
          "name": "stdout"
        }
      ]
    }
  ]
}
{
  "nbformat": 4,
  "nbformat_minor": 0,
  "metadata": {
    "colab": {
      "name": "gpt_2_for_reviews.ipynb",
      "version": "0.3.2",
      "provenance": [],
      "collapsed_sections": []
    },
    "kernelspec": {
      "name": "python3",
      "display_name": "Python 3"
    },
    "accelerator": "GPU"
  },
  "cells": [
    {
      "cell_type": "markdown",
      "metadata": {
        "id": "5u6MjGQAuzWN",
        "colab_type": "text"
      },
      "source": [
        "# Sample Steam Reviews with GPT-2\n",
        "Code inspired from https://github.com/woctezuma/sample-steam-reviews-with-gpt-2"
      ]
    },
    {
      "cell_type": "markdown",
      "metadata": {
        "id": "2KjP9yVVveN1",
        "colab_type": "text"
      },
      "source": [
        "## Setting the GPT-2 model"
      ]
    },
    {
      "cell_type": "markdown",
      "metadata": {
        "colab_type": "text",
        "id": "A1zEYHxh304_"
      },
      "source": [
        "Install the Python package\n",
        "\n",
        "Reference: https://github.com/minimaxir/gpt-2-simple"
      ]
    },
    {
      "cell_type": "code",
      "metadata": {
        "id": "_1ruwgwCuEHd",
        "colab_type": "code",
        "colab": {
          "base_uri": "https://localhost:8080/",
          "height": 348
        },
        "outputId": "5fafa9a0-5494-422a-f1d1-460981c7375d"
      },
      "source": [
        "!pip install gpt_2_simple"
      ],
      "execution_count": 1,
      "outputs": [
        {
          "output_type": "stream",
          "text": [
            "Collecting gpt_2_simple\n",
            "  Downloading https://files.pythonhosted.org/packages/bc/7d/1ea4c2a54ecdda5e57e45686e5cdf1ccc45809841ab50c89bc63638c5553/gpt_2_simple-0.5.tar.gz\n",
            "Requirement already satisfied: regex in /usr/local/lib/python3.6/dist-packages (from gpt_2_simple) (2018.1.10)\n",
            "Requirement already satisfied: requests in /usr/local/lib/python3.6/dist-packages (from gpt_2_simple) (2.21.0)\n",
            "Requirement already satisfied: tqdm in /usr/local/lib/python3.6/dist-packages (from gpt_2_simple) (4.28.1)\n",
            "Requirement already satisfied: numpy in /usr/local/lib/python3.6/dist-packages (from gpt_2_simple) (1.16.3)\n",
            "Collecting toposort (from gpt_2_simple)\n",
            "  Downloading https://files.pythonhosted.org/packages/e9/8a/321cd8ea5f4a22a06e3ba30ef31ec33bea11a3443eeb1d89807640ee6ed4/toposort-1.5-py2.py3-none-any.whl\n",
            "Requirement already satisfied: urllib3<1.25,>=1.21.1 in /usr/local/lib/python3.6/dist-packages (from requests->gpt_2_simple) (1.24.3)\n",
            "Requirement already satisfied: idna<2.9,>=2.5 in /usr/local/lib/python3.6/dist-packages (from requests->gpt_2_simple) (2.8)\n",
            "Requirement already satisfied: certifi>=2017.4.17 in /usr/local/lib/python3.6/dist-packages (from requests->gpt_2_simple) (2019.3.9)\n",
            "Requirement already satisfied: chardet<3.1.0,>=3.0.2 in /usr/local/lib/python3.6/dist-packages (from requests->gpt_2_simple) (3.0.4)\n",
            "Building wheels for collected packages: gpt-2-simple\n",
            "  Building wheel for gpt-2-simple (setup.py) ... \u001b[?25l\u001b[?25hdone\n",
            "  Stored in directory: /root/.cache/pip/wheels/0a/0d/50/166d4caecc4bb1820ce1b7d8e68ce12f9839c919a5c530cc60\n",
            "Successfully built gpt-2-simple\n",
            "Installing collected packages: toposort, gpt-2-simple\n",
            "Successfully installed gpt-2-simple-0.5 toposort-1.5\n"
          ],
          "name": "stdout"
        }
      ]
    },
    {
      "cell_type": "markdown",
      "metadata": {
        "id": "nTkq7wEQwEkZ",
        "colab_type": "text"
      },
      "source": [
        "Download the pre-trained model"
      ]
    },
    {
      "cell_type": "code",
      "metadata": {
        "id": "_pdkhHU6wd12",
        "colab_type": "code",
        "colab": {}
      },
      "source": [
        "import gpt_2_simple as gpt2\n",
        "from datetime import datetime\n",
        "from google.colab import files"
      ],
      "execution_count": 0,
      "outputs": []
    },
    {
      "cell_type": "markdown",
      "metadata": {
        "id": "0ggC2Mc75BnB",
        "colab_type": "text"
      },
      "source": [
        "## Downloading GPT-2"
      ]
    },
    {
      "cell_type": "markdown",
      "metadata": {
        "id": "6r3939YUqT9K",
        "colab_type": "text"
      },
      "source": [
        "Choose between `117M` and `345M` models"
      ]
    },
    {
      "cell_type": "code",
      "metadata": {
        "id": "NW4vZzlyqOnc",
        "colab_type": "code",
        "colab": {}
      },
      "source": [
        "# model_name = '117M'\n",
        "model_name = '345M'"
      ],
      "execution_count": 0,
      "outputs": []
    },
    {
      "cell_type": "markdown",
      "metadata": {
        "id": "4_hrBy2DqR5M",
        "colab_type": "text"
      },
      "source": [
        "Download"
      ]
    },
    {
      "cell_type": "code",
      "metadata": {
        "id": "_-If30nT4ZCb",
        "colab_type": "code",
        "colab": {
          "base_uri": "https://localhost:8080/",
          "height": 146
        },
        "outputId": "fbd453ac-a68c-47cd-ca88-6ba690ec55b3"
      },
      "source": [
        "gpt2.download_gpt2(model_name=model_name)"
      ],
      "execution_count": 4,
      "outputs": [
        {
          "output_type": "stream",
          "text": [
            "Fetching checkpoint: 1.00kit [00:00, 257kit/s]                                                      \n",
            "Fetching encoder.json: 1.04Mit [00:00, 42.4Mit/s]                                                   \n",
            "Fetching hparams.json: 1.00kit [00:00, 300kit/s]                                                    \n",
            "Fetching model.ckpt.data-00000-of-00001: 1.42Git [00:22, 62.7Mit/s]                                 \n",
            "Fetching model.ckpt.index: 11.0kit [00:00, 2.14Mit/s]                                               \n",
            "Fetching model.ckpt.meta: 927kit [00:00, 39.0Mit/s]                                                 \n",
            "Fetching vocab.bpe: 457kit [00:00, 30.9Mit/s]                                                       \n"
          ],
          "name": "stderr"
        }
      ]
    },
    {
      "cell_type": "markdown",
      "metadata": {
        "id": "e9sI2rah5OyB",
        "colab_type": "text"
      },
      "source": [
        "## Uploading a Text File to be Trained to Colaboratory"
      ]
    },
    {
      "cell_type": "markdown",
      "metadata": {
        "id": "r82T8yOm8jyL",
        "colab_type": "text"
      },
      "source": [
        "### Either get the data by yourself"
      ]
    },
    {
      "cell_type": "code",
      "metadata": {
        "id": "CsEEvL5b8IDE",
        "colab_type": "code",
        "colab": {
          "base_uri": "https://localhost:8080/",
          "height": 72
        },
        "outputId": "2916e55f-2b4f-42e0-82e8-a8c94bd4997a"
      },
      "source": [
        "!curl -O https://raw.githubusercontent.com/woctezuma/sample-steam-reviews-with-gpt-2/master/export_review_data.py"
      ],
      "execution_count": 5,
      "outputs": [
        {
          "output_type": "stream",
          "text": [
            "  % Total    % Received % Xferd  Average Speed   Time    Time     Time  Current\n",
            "                                 Dload  Upload   Total   Spent    Left  Speed\n",
            "\r  0     0    0     0    0     0      0      0 --:--:-- --:--:-- --:--:--     0\r100  7198  100  7198    0     0  33324      0 --:--:-- --:--:-- --:--:-- 33324\n"
          ],
          "name": "stdout"
        }
      ]
    },
    {
      "cell_type": "code",
      "metadata": {
        "id": "zJLNxAhg8IQz",
        "colab_type": "code",
        "colab": {
          "base_uri": "https://localhost:8080/",
          "height": 72
        },
        "outputId": "9c9a14cd-61f5-41e1-bbb5-f7bef041ee8a"
      },
      "source": [
        "!curl -O https://raw.githubusercontent.com/woctezuma/sample-steam-reviews-with-gpt-2/master/requirements.txt"
      ],
      "execution_count": 6,
      "outputs": [
        {
          "output_type": "stream",
          "text": [
            "  % Total    % Received % Xferd  Average Speed   Time    Time     Time  Current\n",
            "                                 Dload  Upload   Total   Spent    Left  Speed\n",
            "\r  0     0    0     0    0     0      0      0 --:--:-- --:--:-- --:--:--     0\r100    37  100    37    0     0    213      0 --:--:-- --:--:-- --:--:--   213\n"
          ],
          "name": "stdout"
        }
      ]
    },
    {
      "cell_type": "code",
      "metadata": {
        "id": "HMhEG1Xi8UZF",
        "colab_type": "code",
        "colab": {
          "base_uri": "https://localhost:8080/",
          "height": 329
        },
        "outputId": "ddd79fe4-55d2-47cd-c676-269a39ce12ce"
      },
      "source": [
        "!pip install -r requirements.txt"
      ],
      "execution_count": 7,
      "outputs": [
        {
          "output_type": "stream",
          "text": [
            "Collecting steamreviews==0.8.0 (from -r requirements.txt (line 1))\n",
            "  Downloading https://files.pythonhosted.org/packages/c9/2c/556162233faa4c854f66d5f3e4a4495dc294c72e897711aa83c6fa742a86/steamreviews-0.8.0-py3-none-any.whl\n",
            "Collecting langdetect==1.0.7 (from -r requirements.txt (line 2))\n",
            "\u001b[?25l  Downloading https://files.pythonhosted.org/packages/59/59/4bc44158a767a6d66de18c4136c8aa90491d56cc951c10b74dd1e13213c9/langdetect-1.0.7.zip (998kB)\n",
            "\u001b[K     |████████████████████████████████| 1.0MB 9.2MB/s \n",
            "\u001b[?25hRequirement already satisfied: requests in /usr/local/lib/python3.6/dist-packages (from steamreviews==0.8.0->-r requirements.txt (line 1)) (2.21.0)\n",
            "Requirement already satisfied: six in /usr/local/lib/python3.6/dist-packages (from langdetect==1.0.7->-r requirements.txt (line 2)) (1.12.0)\n",
            "Requirement already satisfied: chardet<3.1.0,>=3.0.2 in /usr/local/lib/python3.6/dist-packages (from requests->steamreviews==0.8.0->-r requirements.txt (line 1)) (3.0.4)\n",
            "Requirement already satisfied: urllib3<1.25,>=1.21.1 in /usr/local/lib/python3.6/dist-packages (from requests->steamreviews==0.8.0->-r requirements.txt (line 1)) (1.24.3)\n",
            "Requirement already satisfied: certifi>=2017.4.17 in /usr/local/lib/python3.6/dist-packages (from requests->steamreviews==0.8.0->-r requirements.txt (line 1)) (2019.3.9)\n",
            "Requirement already satisfied: idna<2.9,>=2.5 in /usr/local/lib/python3.6/dist-packages (from requests->steamreviews==0.8.0->-r requirements.txt (line 1)) (2.8)\n",
            "Building wheels for collected packages: langdetect\n",
            "  Building wheel for langdetect (setup.py) ... \u001b[?25l\u001b[?25hdone\n",
            "  Stored in directory: /root/.cache/pip/wheels/ec/0c/a9/1647275e7ef5014e7b83ff30105180e332867d65e7617ddafe\n",
            "Successfully built langdetect\n",
            "Installing collected packages: steamreviews, langdetect\n",
            "Successfully installed langdetect-1.0.7 steamreviews-0.8.0\n"
          ],
          "name": "stdout"
        }
      ]
    },
    {
      "cell_type": "code",
      "metadata": {
        "id": "LWekXOQGBD1j",
        "colab_type": "code",
        "colab": {}
      },
      "source": [
        "app_id = 203770 # Artifact: 583950\n",
        "\n",
        "# num_days = 28*3 # slightly less than 3 months\n",
        "num_days = -1 # if negative, then no time limit"
      ],
      "execution_count": 0,
      "outputs": []
    },
    {
      "cell_type": "code",
      "metadata": {
        "id": "A9sMp0WC8aP7",
        "colab_type": "code",
        "colab": {
          "base_uri": "https://localhost:8080/",
          "height": 3123
        },
        "outputId": "b904bec4-e2cc-4e0b-96a6-9e2278d9440a"
      },
      "source": [
        "from export_review_data import apply_workflow_for_app_id\n",
        "\n",
        "apply_workflow_for_app_id(app_id,\n",
        "                          num_days=num_days)"
      ],
      "execution_count": 9,
      "outputs": [
        {
          "output_type": "stream",
          "text": [
            "[appID = 203770] expected #reviews = 24077\n",
            "Number of queries 150 reached. Cooldown: 310 seconds\n",
            "#reviews = 24071\n",
            "Filtering out reviews which were not written in english.\n",
            "#reviews = 24071\n",
            "Filtering out reviews with strictly fewer than 150 characters.\n",
            "#reviews = 11011\n",
            "[review n°49661536] https://steamcommunity.com/profiles/76561198173075417/recommended/203770/\n",
            "░░░░░░░░░░░░░░░░░░░░░░░░░░░░░░\n",
            "░░░░░░████░░████░░░████░░░░░░\n",
            "░░░░░░░████░░████░░░░░░░░░░░░░\n",
            "░░░░░░████░░████░░░████░░░░░░\n",
            "░░░░░░░████▄▄████░░░████░░░░░░\n",
            "░░░░░░██████████░░░████░░░░░░\n",
            "░░░░░░░████▀▀████░░░████░░░░░░\n",
            "░░░░░░░████░░████░░░████░░░░░░\n",
            "░░░░░░████░░████░░░████░░░░░░\n",
            "░░░░░░░████░░████░░░████░░░░░░\n",
            "░░░░░░░░░░░░░░░░░░░░░░░░░░░░░░\n",
            "_______________$\n",
            " ___________$$$$$_________________________$$\n",
            " ________$$$$$$$$$$$______________________$$\n",
            " ______$$$$$$$$$$$$$$$____________________$$\n",
            " _____$$$$$$$$$$$$$$$$____________________$$\n",
            " ____$$$$$$$$$$$$$$$$$$$__________________$$\n",
            " ___$$$$$$$$$$$$$$$$$$$$$_________________$$\n",
            " __$$$$$$$$$$$$$$$$$$$$$$__________________$\n",
            " __$$$$$$$$$$$$$$$$$$$$$$$_________________$\n",
            " _$$$$$$$$$$$$$$$$$$$$$$$$_____$$$$$$$$$$$$$\n",
            " _$$$$$$$$$$$$$$$$$$$$$$$$___$$$$$$$$$$$$$$$\n",
            " _$$$$$$$$$$$$$$$$$$$$$$$$$_$$$$$$$$$$$_____\n",
            " _$$$$$$$$$$$$$$$$$$$$$$$$$$$$$$$$$$$___$$$$\n",
            " _$$$$$$$$$$$$$$$$$$$$$$$$$$$_____$$$__$____\n",
            " __$$$$$$$$$$$$$$$$$$$$$$$$___$$$__$$_______\n",
            " ___$$$$$$$$$$$$$$$$$$$$$$___$______$_______\n",
            " ___$$$$$$$$$$$$$$$$$$$$$$__$___________$$$$\n",
            " ____$$$$$$$$$$$$$$$$$$$$___$__$$$$$___$____\n",
            " _____$$$$$$$$$$$$$$_$$$$_____$_____$_$_____\n",
            " _______$$$$$$$$$$__$$$$$____$______$_$_____\n",
            " _________$$$$$$___$$$$$$____$_______$_$_$$$\n",
            " __________________$$$$$$____$___$$$$$_$$$$$\n",
            " __________________$$$$$$$____$_$$$$$$__$$$$\n",
            " __________________$$$$$$$$___$__$$$$$__$$$$\n",
            " ___________________$$$$$$$____$$$$$$$$$$$$$\n",
            " ___________________$$$$$$$$____$$$$_$$$$$$$\n",
            " ___________________$$$$$$$$____$___$$$$$$$$\n",
            " ___________________$$$$$___$$_$$__$$$$$$$$$\n",
            " ___________________$_________$____$$$$$$$$$\n",
            " __________________$_______________$$$$$$$$$\n",
            " __________________$_________$$______$$$$$$$\n",
            " __________________$________$$_______$$$$$$_\n",
            " ___________________$______$__$_____________\n",
            " ___________________$__________$___________$\n",
            " ____________________$__________$$______$$$$\n",
            " _____________________$$__________$$$$$$$$$_\n",
            " ______________________$______$_____$$$$____\n",
            " ________________________$$$$$$$$____$__$___\n",
            " ___________________________$$$$$$____$$$$$$\n",
            " _______________________$$$$$$$$$$$$$______$\n",
            " ___________________$$$$$$$$$$$$$$$$$$$$$$$$\n",
            " _________________$$$$$$$$__$$$$$$$$$$$$$$$$\n",
            " ________________$$$$$$$$__$$$$$$$$$$$$$$$$$\n",
            " _______________$$$$$$$$__$$$$$$$$$$$$$$$$$$\n",
            " _______________$$$$$$_______________$$$$$$$\n",
            " _______________$$$$$___________________$$$$\n",
            " ________________$$$____________________$$$$\n",
            " ________________$$$___$$$$_____$$$________$\n",
            " _________________$___$$$$$$___$$$$$________\n",
            " _________________$___$$$$$$__$$$$$$________\n",
            " ________________$___$$$$$$__$$$$$$$________\n",
            " ________________$___$$$$$$__$$$$$$$________\n",
            " ________________$____$$$$___$$$$$$$________\n",
            " ________________$____$$$____$$$$$$_________\n",
            " _________________$___________$$$$__________\n",
            " _________________$_________________________\n",
            " _________________$_________________________\n",
            " _________________$_________________________\n",
            "Reviews processed by langdetect: 1000/11011.\n",
            "[review n°46083358] https://steamcommunity.com/profiles/76561198059195630/recommended/203770/\n",
            "░░░░░░░░░░░░▄▄░░░░░░░░░\n",
            "░░░░░░░░░░░█░░█░░░░░░░░\n",
            "░░░░░░░░░░░█░░█░░░░░░░░\n",
            "░░░░░░░░░░█░░░█░░░░░░░░\n",
            "░░░░░░░░░█░░░░█░░░░░░░░\n",
            "███████▄▄█░░░░░██████▄░░\n",
            "▓▓▓▓▓▓█░░░░░░░░░░░░░░█░\n",
            "▓▓▓▓▓▓█░░░░░░░░░░░░░░█░\n",
            "▓▓▓▓▓▓█░░░░░░░░░░░░░░█░\n",
            "▓▓▓▓▓▓█░░░░░░░░░░░░░░█░\n",
            "▓▓▓▓▓▓█░░░░░░░░░░░░░░█░\n",
            "▓▓▓▓▓▓█████░░░░░░░░░█░░\n",
            "██████▀░░░░▀▀██████▀░░░\n",
            "Reviews processed by langdetect: 2000/11011.\n",
            "[review n°41334739] https://steamcommunity.com/profiles/76561198077301235/recommended/203770/\n",
            "_ͥͥͥͥͥͥͥͥͥͥͥͥͥͥͥͥͥͥͥͥͥͥͥͥͥͥͥͥͥͥͥͥͥͥͥͥͥͥͥͥͥͥͥͥͥͥͥͥͥͥͥͥͥͥͥͥͥͥͥͥͥͥͥͥͥͥͥͥͥͥͥͥͥͥͥͥͥͥͥͥͥͥͥͥͥͥͥͥͥͥͥͥͥͥͥͥͥͥͥͥͥͥͥͥͥͥͥͥͥͥͥͥͥͥͥͥͥͥͥͥͥͥͥͥͥͥͥͥͥͥͥͥͥͥͥͥͥͥͥͥͥͥͥͥͥͥͥͥͥͥͥͥͥͥͥͥͥͥͥͥͥͥͥͥͥͥͥͥͥͥͥͥͥͥͥͥͥͥͥͥͥͥͥͥͥͥͥͥͥͥͥͥͥͥͥͥ\"_ͥͥͥͥͥͥͥͥͥͥͥͥͥͥͥͥͥͥͥͥͥͥͥͥͥͥͥͥͥͥͥͥͥͥͥͥͥͥͥͥͥͥͥͥͥͥͥͥͥͥͥͥͥͥͥͥͥͥͥͥͥͥͥͥͥͥͥͥͥͥͥͥͥͥͥͥͥͥͥͥͥͥͥͥͥͥͥͥͥͥͥͥͥͥͥͥͥͥͥͥͥͥͥͥͥͥͥͥͥͥͥͥͥͥͥͥͥͥͥͥͥͥͥͥͥͥͥͥͥͥͥͥͥͥͥͥͥͥͥͥͥͥͥͥͥͥͥͥͥͥͥͥͥͥͥͥͥͥͥͥͥͥͥͥͥͥͥͥͥͥͥͥͥͥͥͥͥͥͥͥͥͥͥͥͥͥͥͥͥͥͥͥͥͥͥͥ\"_ͥͥͥͥͥͥͥͥͥͥͥͥͥͥͥͥͥͥͥͥͥͥͥͥͥͥͥͥͥͥͥͥͥͥͥͥͥͥͥͥͥͥͥͥͥͥͥͥͥͥͥͥͥͥͥͥͥͥͥͥͥͥͥͥͥͥͥͥͥͥͥͥͥͥͥͥͥͥͥͥͥͥͥͥͥͥͥͥͥͥͥͥͥͥͥͥͥͥͥͥͥͥͥͥͥͥͥͥͥͥͥͥͥͥͥͥͥͥͥͥͥͥͥͥͥͥͥͥͥͥͥͥͥͥͥͥͥͥͥͥͥͥͥͥͥͥͥͥͥͥͥͥͥͥͥͥͥͥͥͥͥͥͥͥͥͥͥͥͥͥͥͥͥͥͥͥͥͥͥͥͥͥͥͥͥͥͥͥͥͥͥͥͥͥͥͥ\"_ͥͥͥͥͥͥͥͥͥͥͥͥͥͥͥͥͥͥͥͥͥͥͥͥͥͥͥͥͥͥͥͥͥͥͥͥͥͥͥͥͥͥͥͥͥͥͥͥͥͥͥͥͥͥͥͥͥͥͥͥͥͥͥͥͥͥͥͥͥͥͥͥͥͥͥͥͥͥͥͥͥͥͥͥͥͥͥͥͥͥͥͥͥͥͥͥͥͥͥͥͥͥͥͥͥͥͥͥͥͥͥͥͥͥͥͥͥͥͥͥͥͥͥͥͥͥͥͥͥͥͥͥͥͥͥͥͥͥͥͥͥͥͥͥͥͥͥͥͥͥͥͥͥͥͥͥͥͥͥͥͥͥͥͥͥͥͥͥͥͥͥͥͥͥͥͥͥͥͥͥͥͥͥͥͥͥͥͥͥͥͥͥͥͥͥͥ\"_ͥͥͥͥͥͥͥͥͥͥͥͥͥͥͥͥͥͥͥͥͥͥͥͥͥͥͥͥͥͥͥͥͥͥͥͥͥͥͥͥͥͥͥͥͥͥͥͥͥͥͥͥͥͥͥͥͥͥͥͥͥͥͥͥͥͥͥͥͥͥͥͥͥͥͥͥͥͥͥͥͥͥͥͥͥͥͥͥͥͥͥͥͥͥͥͥͥͥͥͥͥͥͥͥͥͥͥͥͥͥͥͥͥͥͥͥͥͥͥͥͥͥͥͥͥͥͥͥͥͥͥͥͥͥͥͥͥͥͥͥͥͥͥͥͥͥͥͥͥͥͥͥͥͥͥͥͥͥͥͥͥͥͥͥͥͥͥͥͥͥͥͥͥͥͥͥͥͥͥͥͥͥͥͥͥͥͥͥͥͥͥͥͥͥͥͥ\"_ͥͥͥͥͥͥͥͥͥͥͥͥͥͥͥͥͥͥͥͥͥͥͥͥͥͥͥͥͥͥͥͥͥͥͥͥͥͥͥͥͥͥͥͥͥͥͥͥͥͥͥͥͥͥͥͥͥͥͥͥͥͥͥͥͥͥͥͥͥͥͥͥͥͥͥͥͥͥͥͥͥͥͥͥͥͥͥͥͥͥͥͥͥͥͥͥͥͥͥͥͥͥͥͥͥͥͥͥͥͥͥͥͥͥͥͥͥͥͥͥͥͥͥͥͥͥͥͥͥͥͥͥͥͥͥͥͥͥͥͥͥͥͥͥͥͥͥͥͥͥͥͥͥͥͥͥͥͥͥͥͥͥͥͥͥͥͥͥͥͥͥͥͥͥͥͥͥͥͥͥͥͥͥͥͥͥͥͥͥͥͥͥͥͥͥͥ\"_ͥͥͥͥͥͥͥͥͥͥͥͥͥͥͥͥͥͥͥͥͥͥͥͥͥͥͥͥͥͥͥͥͥͥͥͥͥͥͥͥͥͥͥͥͥͥͥͥͥͥͥͥͥͥͥͥͥͥͥͥͥͥͥͥͥͥͥͥͥͥͥͥͥͥͥͥͥͥͥͥͥͥͥͥͥͥͥͥͥͥͥͥͥͥͥͥͥͥͥͥͥͥͥͥͥͥͥͥͥͥͥͥͥͥͥͥͥͥͥͥͥͥͥͥͥͥͥͥͥͥͥͥͥͥͥͥͥͥͥͥͥͥͥͥͥͥͥͥͥͥͥͥͥͥͥͥͥͥͥͥͥͥͥͥͥͥͥͥͥͥͥͥͥͥͥͥͥͥͥͥͥͥͥͥͥͥͥͥͥͥͥͥͥͥͥͥ\"_ͥͥͥͥͥͥͥͥͥͥͥͥͥͥͥͥͥͥͥͥͥͥͥͥͥͥͥͥͥͥͥͥͥͥͥͥͥͥͥͥͥͥͥͥͥͥͥͥͥͥͥͥͥͥͥͥͥͥͥͥͥͥͥͥͥͥͥͥͥͥͥͥͥͥͥͥͥͥͥͥͥͥͥͥͥͥͥͥͥͥͥͥͥͥͥͥͥͥͥͥͥͥͥͥͥͥͥͥͥͥͥͥͥͥͥͥͥͥͥͥͥͥͥͥͥͥͥͥͥͥͥͥͥͥͥͥͥͥͥͥͥͥͥͥͥͥͥͥͥͥͥͥͥͥͥͥͥͥͥͥͥͥͥͥͥͥͥͥͥͥͥͥͥͥͥͥͥͥͥͥͥͥͥͥͥͥͥͥͥͥͥͥͥͥͥͥ\"\n",
            "[review n°38598222] https://steamcommunity.com/profiles/76561198102705401/recommended/203770/\n",
            "░░█▀░░░░░░░░░░░▀▀███████░░░░ \n",
            "░░█▌░░░░░░░░░░░░░░░▀██████░░░ \n",
            "░█▌░░░░░░░░░░░░░░░░███████▌░░ \n",
            "░█░░░░░░░░░░░░░░░░░████████░░ \n",
            "▐▌░░░░░░░░░░░░░░░░░▀██████▌░░ \n",
            "░▌▄███▌░░░░▀████▄░░░░▀████▌░░ \n",
            "▐▀▀▄█▄░▌░░░▄██▄▄▄▀░░░░████▄▄░ \n",
            "▐░▀░░═▐░░░░░░══░░▀░░░░▐▀░▄▀▌▌ \n",
            "▐░░░░░▌░░░░░░░░░░░░░░░▀░▀░░▌▌ \n",
            "▐░░░▄▀░░░▀░▌░░░░░░░░░░░░▌█░▌▌ \n",
            "░▌░░▀▀▄▄▀▀▄▌▌░░░░░░░░░░▐░▀▐▐░ \n",
            "░▌░░▌░▄▄▄▄░░░▌░░░░░░░░▐░░▀▐░░ \n",
            "░█░▐▄██████▄░▐░░░░░░░░█▀▄▄▀░░ \n",
            "░▐░▌▌░░░░░░▀▀▄▐░░░░░░█▌░░░░░░ \n",
            "░░█░░▄▀▀▀▀▄░▄═╝▄░░░▄▀░▌░░░░░░ \n",
            "░░░▌▐░░░░░░▌░▀▀░░▄▀░░▐░░░░░░░ \n",
            "░░░▀▄░░░░░░░░░▄▀▀░░░░█░░░░░░░ \n",
            "░░░▄█▄▄▄▄▄▄▄▀▀░░░░░░░▌▌░░░░░░ \n",
            "░░▄▀▌▀▌░░░░░░░░░░░░░▄▀▀▄░░░░░ \n",
            "▄▀░░▌░▀▄░░░░░░░░░░▄▀░░▌░▀▄░░░ \n",
            "░░░░▌█▄▄▀▄░░░░░░▄▀░░░░▌░░░▌▄▄ \n",
            "░░░▄▐██████▄▄░▄▀░░▄▄▄▄▌░░░░▄░ \n",
            "░░▄▌████████▄▄▄███████▌░░░░░▄ \n",
            "░▄▀░██████████████████▌▀▄░░░░ \n",
            "▀░░░█████▀▀░░░▀███████░░░▀▄░░ \n",
            "░░░░▐█▀░░░▐░░░░░▀████▌░░░░▀▄░ \n",
            "░░░░░░▌░░░▐░░░░▐░░▀▀█░░░░░░░▀ \n",
            "░░░░░░▐░░░░▌░░░▐░░░░░▌░░░░░░░ \n",
            "░╔╗║░╔═╗░═╦═░░░░░╔╗░░╔═╗░╦═╗░ \n",
            "░║║║░║░║░░║░░░░░░╠╩╗░╠═╣░║░║░ \n",
            "░║╚╝░╚═╝░░║░░░░░░╚═╝░║░║░╩═╝░\n",
            "Reviews processed by langdetect: 3000/11011.\n",
            "Reviews processed by langdetect: 4000/11011.\n",
            "Reviews processed by langdetect: 5000/11011.\n",
            "Reviews processed by langdetect: 6000/11011.\n",
            "[review n°15783866] https://steamcommunity.com/profiles/76561198067437454/recommended/203770/\n",
            "░░░░░░░▄▄▄▄▄▄▄▄▄▄▄▄\n",
            "░░░▄█▀▀▀░░░░░░░░░░▀▀▀█▄\n",
            "░░░▀█▄▄▄░░░░░░░░░░▄▄▄█▀\n",
            "░░░░░░░▀▀▀▀▀▀▀▀▀▀▀▀\n",
            "░░░░░░░▄▄█████████▄▄ \n",
            "░░░░▄██▄▄▀███████████▄ \n",
            "░░▄██████▀░░░░░░░░░░▀██ \n",
            "░▐██████▌░░░░░░░░░░░░░▐▌\n",
            "░███████▌░░░░░░░░░░░░░░█ \n",
            "▐████████░░░░░░░░░░░░░░░█\n",
            "▐██████▌░░░░▄▀▀▀▀▀▄░░▄▀▀▀▌\n",
            "░█▀▀███▀░░░░░▄▀█▀░░░▐░▀█▀▌\n",
            "▐░▌▀▄▀░░░░░░░░▄▄▄▀░░░▌▀▄▄▌ ♥\n",
            "░▌▐░░▌░░░░░░░░░░░░░░░▐░░░▌\n",
            "░▐░▀▄▐░░░░░░░░░░▌▌░░░░▌░░▌\n",
            "░░▀█░▄▀░░░░░░░░▐░▐▄▄▄▄▌▌▐ \n",
            "░░▌▀░▐░░░░░░░▄▀░░███░░░▐▌\n",
            "░░▐░░░░░░░░▌░░░▀▄▄▄▄▄▀░▐ \n",
            "░░░▌░░░░░░░░▐░░░░░░░░░░▌\n",
            "░░█▀▄░░▐░▐░░░░░░░░░░░░█ \n",
            "░█░█░▀▀▄░▌░█░░░▀▀▄▄▄▄▀ \n",
            "█░░░▀▄░░▀▀▄▄█░░░░░▄▀ \n",
            "░░░░░░▀▄░░░░▀▀▄▄▄▀▐\n",
            "█░░░░░░░▀▄░░░░░▐░▌▐▄\n",
            "░█░░░░░░░░▀▄░░░▌░▐▌▐▄\n",
            "░░░█░░░░░░░░▀█░▐░▄▄▌░█▀▄\n",
            "░░░░█░░░░░░░░░█▌▐░▄▐░░▀▄▀▀▄▄\n",
            "░░░░█░░░░░░░░░▀▄░░▐░░░▀▄░░░▀▀▄▄\n",
            "░░░░░░▀▄░▄▀█░░░░░█░░▌░░░░▀▄░░░░▀▀▄\n",
            "Reviews processed by langdetect: 7000/11011.\n",
            "Reviews processed by langdetect: 8000/11011.\n",
            "Reviews processed by langdetect: 9000/11011.\n",
            "Reviews processed by langdetect: 10000/11011.\n",
            "Reviews processed by langdetect: 11000/11011.\n",
            "Filtering out reviews which were not detected as written in en.\n",
            "#reviews = 10950\n"
          ],
          "name": "stdout"
        }
      ]
    },
    {
      "cell_type": "markdown",
      "metadata": {
        "id": "7LPbkB998g-B",
        "colab_type": "text"
      },
      "source": [
        "### Or get a data snapshot from me\n",
        "\n",
        "Currently only possible for Artifact, as an example, because the recommended way is to run the code above for the game of your choice instead."
      ]
    },
    {
      "cell_type": "code",
      "metadata": {
        "id": "FIR9fBid5U2w",
        "colab_type": "code",
        "colab": {}
      },
      "source": [
        "!mkdir -p data/\n",
        "\n",
        "## Either Artifact (only the recent English reviews):\n",
        "# !curl -O https://raw.githubusercontent.com/woctezuma/sample-steam-reviews-with-gpt-2/master/data/with_delimiters/583950.txt\n",
        "# !mv 583950.txt data/\n",
        "\n",
        "## Or Crusader Kings II (all the English reviews):\n",
        "# !curl -O https://raw.githubusercontent.com/wiki/woctezuma/sample-steam-reviews-with-gpt-2/data/with_delimiters/203770.txt\n",
        "# !mv 203770.txt data/"
      ],
      "execution_count": 0,
      "outputs": []
    },
    {
      "cell_type": "markdown",
      "metadata": {
        "id": "AjmpOgoa5y7Q",
        "colab_type": "text"
      },
      "source": [
        "## Finetune GPT-2"
      ]
    },
    {
      "cell_type": "code",
      "metadata": {
        "id": "cu5ctG0DBLIe",
        "colab_type": "code",
        "colab": {}
      },
      "source": [
        "file_name = 'data/' + str(app_id) + '.txt'\n",
        "\n",
        "run_name = model_name + '_reviews_' + str(app_id)"
      ],
      "execution_count": 0,
      "outputs": []
    },
    {
      "cell_type": "code",
      "metadata": {
        "id": "Bfg4HYZl56JJ",
        "colab_type": "code",
        "colab": {
          "base_uri": "https://localhost:8080/",
          "height": 3490
        },
        "outputId": "a7e8cd02-597a-43a0-e35d-22d6b93ca446"
      },
      "source": [
        "sess = gpt2.start_tf_sess()\n",
        "\n",
        "gpt2.finetune(sess,\n",
        "              run_name=run_name,\n",
        "              dataset=file_name,\n",
        "              model_name=model_name,\n",
        "              steps=1000,\n",
        "              restore_from='fresh', # change to 'latest' to resume training\n",
        "              print_every=10,       # how many steps between printing progress\n",
        "              sample_every=200,     # how many steps to print a demo sample\n",
        "              save_every=500        # how many steps between saving checkpoint              \n",
        "              )"
      ],
      "execution_count": 12,
      "outputs": [
        {
          "output_type": "stream",
          "text": [
            "WARNING:tensorflow:From /usr/local/lib/python3.6/dist-packages/tensorflow/python/framework/op_def_library.py:263: colocate_with (from tensorflow.python.framework.ops) is deprecated and will be removed in a future version.\n",
            "Instructions for updating:\n",
            "Colocations handled automatically by placer.\n",
            "WARNING:tensorflow:From /usr/local/lib/python3.6/dist-packages/gpt_2_simple/src/sample.py:71: to_float (from tensorflow.python.ops.math_ops) is deprecated and will be removed in a future version.\n",
            "Instructions for updating:\n",
            "Use tf.cast instead.\n",
            "WARNING:tensorflow:From /usr/local/lib/python3.6/dist-packages/gpt_2_simple/src/sample.py:77: multinomial (from tensorflow.python.ops.random_ops) is deprecated and will be removed in a future version.\n",
            "Instructions for updating:\n",
            "Use tf.random.categorical instead.\n",
            "WARNING:tensorflow:From /usr/local/lib/python3.6/dist-packages/tensorflow/python/ops/math_ops.py:3066: to_int32 (from tensorflow.python.ops.math_ops) is deprecated and will be removed in a future version.\n",
            "Instructions for updating:\n",
            "Use tf.cast instead.\n",
            "WARNING:tensorflow:From /usr/local/lib/python3.6/dist-packages/tensorflow/python/ops/math_grad.py:102: div (from tensorflow.python.ops.math_ops) is deprecated and will be removed in a future version.\n",
            "Instructions for updating:\n",
            "Deprecated in favor of operator or tf.math.divide.\n",
            "Loading checkpoint models/345M/model.ckpt\n",
            "WARNING:tensorflow:From /usr/local/lib/python3.6/dist-packages/tensorflow/python/training/saver.py:1266: checkpoint_exists (from tensorflow.python.training.checkpoint_management) is deprecated and will be removed in a future version.\n",
            "Instructions for updating:\n",
            "Use standard file APIs to check for files with this prefix.\n",
            "INFO:tensorflow:Restoring parameters from models/345M/model.ckpt\n"
          ],
          "name": "stdout"
        },
        {
          "output_type": "stream",
          "text": [
            "\r  0%|          | 0/1 [00:00<?, ?it/s]"
          ],
          "name": "stderr"
        },
        {
          "output_type": "stream",
          "text": [
            "Loading dataset...\n"
          ],
          "name": "stdout"
        },
        {
          "output_type": "stream",
          "text": [
            "\r100%|██████████| 1/1 [00:10<00:00, 10.78s/it]\n"
          ],
          "name": "stderr"
        },
        {
          "output_type": "stream",
          "text": [
            "dataset has 1776101 tokens\n",
            "Training...\n",
            "[10 | 23.78] loss=3.41 avg=3.41\n",
            "[20 | 39.55] loss=3.51 avg=3.46\n",
            "[30 | 55.78] loss=3.01 avg=3.31\n",
            "[40 | 72.56] loss=3.17 avg=3.27\n",
            "[50 | 89.01] loss=2.93 avg=3.20\n",
            "[60 | 105.15] loss=3.03 avg=3.17\n",
            "[70 | 121.22] loss=3.13 avg=3.17\n",
            "[80 | 137.35] loss=2.85 avg=3.13\n",
            "[90 | 153.60] loss=2.81 avg=3.09\n",
            "[100 | 169.93] loss=2.65 avg=3.04\n",
            "[110 | 186.23] loss=2.58 avg=3.00\n",
            "[120 | 202.52] loss=2.78 avg=2.98\n",
            "[130 | 218.79] loss=2.87 avg=2.97\n",
            "[140 | 234.97] loss=2.67 avg=2.95\n",
            "[150 | 251.21] loss=3.26 avg=2.97\n",
            "[160 | 267.51] loss=2.68 avg=2.95\n",
            "[170 | 283.86] loss=2.97 avg=2.95\n",
            "[180 | 300.14] loss=3.18 avg=2.97\n",
            "[190 | 316.38] loss=3.05 avg=2.97\n",
            "[200 | 332.60] loss=2.84 avg=2.96\n",
            "======== SAMPLE 1 ========\n",
            " the game is very complex, the learning curve is very steep, and it takes quite a few hours to become adept at it.\n",
            "After you understand the basics and how it works, you may feel like you can start playing anything and everything. Of course this is not accurate by any stretch of the imagination, because you need a certain amount of research to figure out how things work! I suggest you start with an AI as an example of what you want to do.\n",
            "Another issue that comes up is that there is some very important DLC (such as the ones that are addons) that cannot be played properly, which are like a \"hardware issue\" when compared to a Steam sale. For example, if a game was on sale and came with the \"Crusader Kings 2\" DLC, you are out of luck as to which DLC you can play it on its own with the DLCs disabled. Therefore, you will have to buy both, and try to play with the DLCs enabled. I really recommend it! :)<|endoftext|>\n",
            "<|startoftext|>For the price: 1,000x a DLC, for 500x a single DLC (1.6 GB, 1.2 GB, 1.0 GB, 1.0 GB, 1.0 GB)... This is by far the best game I've ever played I recommend it to everyone, not only for the history lesson, but also for the endless replayability and game play value of this game, it really is the reason why I have continued to play this game, and continue to make it playable! There will never be a time when I want to play another strategy game.\n",
            "If you love grand strategy/military sim and the need to develop a personal dynast (as opposed to a family one) you will find yourself spending hours upon hours researching stuff like \"How do my characters win wars\". Or, \"How do I defeat a dragon\".\n",
            "I'll have fun playing this game as well.<|endoftext|>\n",
            "<|startoftext|>This is a great game. the DLC are really nice. If your trying to make your own dynasty take over the world, then you should get this game as it allows you to play all types of different religions which helps greatly with playing as a member of a family. You can play your own character or an empire.\n",
            "I play as the vikings, I play as the caliphs. So you can play as a Viking and have him marry the daughter of the caliph, or a Muslim and have him marry your wife. All of these can be used on you character's traits, or traits to an average of your character, then you will eventually get the trait of you character and be you character will naturally die at the age of 80. With the DLC's DLCs can also change that to an average character age (this was done in CKII) and there is more than enough content to play a game of this depth. You cannot play as an entire nation on the first try, so i advise that people not get this if their looking to play a multiplayer game, not only for a multiplayer game, but also for a multiplayer game you won't have as much time to play as a single player, but will end up watching a stream of people, play other parts of your game that you may play through the whole time. That being said I highly recommend this. If you get the extra cash to buy the DLC's to be able to play a character of any type, this is a very good game.\n",
            "And there are many, many more things to come with this game, so keep your wallet loaded<|endoftext|>\n",
            "<|startoftext|>[h1][b][i][j][/b][/i][/h1][/b][/b][/b][/h1][/h1][/b][/b][/b][/h1][/b][/b][/h1][/b][/h1][/b][/b][/h1][/b][/b][/h1][/b][/h1][/b][/b][/h1][/b][/h1][/b][/h1][/b][/b][/h1][/b][/ch][/h1][/b][/sp][/n][/sp][/h1][/c][/div][/div][/h1][/div][/div][/h1][/div][/div][/div][/div][/div][/div][/div][/div][/div][/div][/div][/div][/div][/div][/div][/div][/div..][div class=\"lider-container \"><h1>I started with [url=http://steamcommunity.com/p/SteamMarketplace/]Steam Market[/url],[/h1], as a very lazy young man of 19. I quickly began to find how to become a real money pauper by accumulating a lot of money by selling of my assets to pay for a nice new car.\n",
            "When I started trading in, selling, or otherwise making a\n",
            "\n",
            "[210 | 373.87] loss=3.08 avg=2.97\n",
            "[220 | 390.15] loss=2.97 avg=2.97\n",
            "[230 | 406.44] loss=2.84 avg=2.96\n",
            "[240 | 422.80] loss=2.98 avg=2.96\n",
            "[250 | 439.15] loss=2.88 avg=2.96\n",
            "[260 | 455.43] loss=2.96 avg=2.96\n",
            "[270 | 471.68] loss=2.95 avg=2.96\n",
            "[280 | 487.89] loss=3.79 avg=2.99\n",
            "[290 | 504.13] loss=2.87 avg=2.99\n",
            "[300 | 520.41] loss=2.86 avg=2.98\n",
            "[310 | 536.71] loss=3.11 avg=2.99\n",
            "[320 | 553.04] loss=2.66 avg=2.98\n",
            "[330 | 569.38] loss=2.61 avg=2.96\n",
            "[340 | 585.68] loss=2.91 avg=2.96\n",
            "[350 | 601.98] loss=2.99 avg=2.96\n",
            "[360 | 618.26] loss=3.10 avg=2.97\n",
            "[370 | 634.53] loss=2.84 avg=2.96\n",
            "[380 | 650.79] loss=3.02 avg=2.96\n",
            "[390 | 667.06] loss=2.54 avg=2.95\n",
            "[400 | 683.32] loss=2.83 avg=2.95\n",
            "======== SAMPLE 1 ========\n",
            " German.<|endoftext|>\n",
            "<|startoftext|>I can't write about how awesome this game is just yet. It's complex and difficult to learn the most, and I think that would've been fine had there been a simpler way of showing what's going on in this game. The tutorial is really awful so to make up for those awful tutorials you're given, you have to have a video tutorial (video tutorial or otherwise).\n",
            "I have no idea how to make this a better game as the tutorials are terrible, honestly that's not a bad game, but even if you do, you'll find out that there's nothing to do in this game just yet. There is a \"Game of Thrones\" styled mini game that you need to play before you can have any sort of success, the game is very hard to learn, there are multiple tutorials and the game isn't very organized.\n",
            "I'm not able to put a date or any sort of price on this game or show any sort of price for this game, but I think this is a really amazing game and that this game is incredibly complex.\n",
            "I personally really like this game because Crusader Kings II is not about building up civilization. The game is, and is about playing to gain power and then trying to gain control over other countries.\n",
            "That's a very interesting mechanic for a game on Civilization. The game does a good job of simulating that, I don't think there is an equivalent game for \"me\", as opposed to the \"me who owns empires\"- game or the \"me who kills other countries\" game, but I think in a way that it doesn't look so bad unless that is not what you want to do. As I've said, I have no idea how to make this a really great game, so that kind of makes the game look bad. So if you want to play for \"me\" there isn't much you can do. What you do is to play for someone else, otherwise a guy with no military, who is controlling all the land with no way of getting around them holding the title. I can't say enough. The game will ask you to have a lot of land, so you want to get at least a percentage, though that doesn't seem to be important until a war goes down.\n",
            "I don't have the actual money to buy a game when it comes out, but I am going to show that they offer great discounts and freebies at time of release and that makes the game even more good. I'll start with the game and then I'll go through the list of a few of my favorite DLC, then the price tags for DLC.\n",
            "This DLC is one that I have bought. In the same year (2010) that the game came out there was about $80, and that DLC has not changed a bit. The year the DLC came out there was $260 and that has not changed since then.\n",
            "CK2: EUIV and its DLC is the most important DLC of the game that I have used up all my money so far. It adds content to the game. The reason for that is it adds many major features including new religions and cultures and new types of characters. I was not happy with the DLC (I was able to get them on sale, and in some cases cheaper, but I am not as greedy as these are, and I am sure that many others who buy the DLC will also like them, and then buy the expansion packs for those) but EUIV and some of the new civs that are on that DLC make up for the price tag (and it includes the DLC they don't add to the game, I am not getting a list of the religions on EUIV if you are going to make such a list). Other DLC adds new types of characters and new religions. You can play as one of these character types as a non-christians. It includes the same religions and cultures that I am playing as and they are all just fine with me playing as non-christians. Some of the religions aren't so good on EUIV, but they are all fine with me playing as non-christians.\n",
            "The DLC I get (and what I think I get is the DLC I currently play and how much I value them) as well as DLCs (especially the expansions for the expansion packs for the game) are all pretty good in my opinion. All worth it, and many are worth it in their own right as they add interesting new content, but EUIV is the most significant DLC. It is the DLC that allows you to play as people who are different faiths. For example, Norse, non-Christian religions don't appear on EUIV so I'm not playing as a non-Christian Norse in this game. I still value them, as I have already played with both of the Pagans I'm currently playing as. I have the DLC for the Hindu religions for now.\n",
            "The other DLC I have used up money for is the DLC\n",
            "\n",
            "[410 | 721.52] loss=2.62 avg=2.94\n",
            "[420 | 737.76] loss=2.82 avg=2.93\n",
            "[430 | 754.00] loss=2.91 avg=2.93\n",
            "[440 | 770.26] loss=2.66 avg=2.93\n",
            "[450 | 786.52] loss=2.29 avg=2.91\n",
            "[460 | 802.80] loss=3.10 avg=2.91\n",
            "[470 | 819.12] loss=2.58 avg=2.91\n",
            "[480 | 835.46] loss=2.84 avg=2.90\n",
            "[490 | 851.78] loss=2.76 avg=2.90\n",
            "[500 | 868.10] loss=2.68 avg=2.89\n",
            "Saving checkpoint/345M_reviews_203770/model-500\n",
            "[510 | 896.13] loss=2.74 avg=2.89\n",
            "[520 | 912.91] loss=2.78 avg=2.89\n",
            "[530 | 929.40] loss=2.82 avg=2.89\n",
            "[540 | 945.62] loss=3.46 avg=2.90\n",
            "[550 | 961.75] loss=3.35 avg=2.91\n",
            "[560 | 977.93] loss=2.57 avg=2.90\n",
            "[570 | 994.29] loss=2.44 avg=2.89\n",
            "[580 | 1010.67] loss=2.36 avg=2.88\n",
            "[590 | 1026.94] loss=3.04 avg=2.88\n",
            "[600 | 1043.16] loss=2.61 avg=2.88\n",
            "======== SAMPLE 1 ========\n",
            " brilliant the game will be, it's worth keeping an eye on DLCs in order to be able to play the whole game. For a first start, I would recommend the following titles:\n",
            "- Crusader Kings II, The Republic and The Old Gods. If you can get past the mechanics to be able to play them, it's a good game.\n",
            "Crusader kings is a grand strategy game with a ton of replay, as you would expect from a Paradox title. There are a ton of strategy games to choose from, so pick what works best for you.<|endoftext|>\n",
            "<|startoftext|>It's honestly a game that should be on Steam. If you get past the first minute things should get a lot out of this game and I am confident you'll not be disappointed. It's very difficult to get the hang of the game at the start. There are some great tutorials on YouTube, but they only explain a tiny part of it. The base game isn't as rewarding as its competitors but then again, if you're willing to start that first game, you've already invested $25. That being said, I haven't had ANY trouble getting a decent kingdom and being king and have found my way through an almost infinite gameworld. The only downfall is the learning curve, and I'd advise watching some of the game's \"help\" videos on YouTube before deciding on something.\n",
            "This is a great strategy set in the modern era and with endless replayability. In my opinion, it's one of the best games I've ever played, and Paradox has done an excellent job on their current titles. I absolutely recommend this title to ANY strategy player who's willing to learn how to play a game.<|endoftext|>\n",
            "<|startoftext|>This game is the best game I have ever purchased. I have a lot of fond memories of this game and i will not soon forget it! This game has a lot of things that make you want to play more but in the end it makes you want to stop playing too. You will not be dissapointed in any way. It's a hard game when you first play it, but after you get past the first few difficulties it becomes very rewarding. I would recommend getting this game early because its just that simple, it's just a shame those mechanics don't work properly in multiplayer. You will never run into anything like that, the game is incredibly fun even if the multiplayer options are limited in what you can do before you start getting invaded by armies every time you attempt a conquest. I would recommend getting the dlc for the game during pre-sale but you shouldn't worry about that as it's only a little to do if you're buying it. The only thing I would change is to get a dlc to play as non-christians, the muslims are the worst in terms of mechanics. Also be sure for the game you will only get the game in its release as it's sold at a very great discount.\n",
            "My only gripe about this game is that the tutorial is awful and is completely broken. The tutorial is just a joke. You should watch a player explain their plans to you before you start playing the game. I've watched a bunch of tutorials and they have all been terrible. They also only teach the basics, and they don't let you make real hard decisions and it ruins a great first step.\n",
            "All in all the best strategy game I think ever.<|endoftext|>\n",
            "<|startoftext|>This game is GREAT, and this is my first review! I absolutely love this game, both strategy and roleplay style, and in the time I've put into this I've been a huge fan of the series, but this is my first review in the review section of any game I've reviewed, so please let me know if I'm missing something if anything!\n",
            "The most difficult part of this game, if you are not used to this type of game, is the learning curve. You will see your friends, your grandpa, and other players online play this game; so if that's the type of person you are, get this game before anyone else, because you WILL have a blast!\n",
            "The games other than the ones I mentioned are all hard. I'd suggest either buying the game in a deluxe version ($80) or on a sale when it goes on sale (and don't miss the time when the game goes on sale). Buy it in a deluxe version, and start in Denmark, and see how long you can survive at being King and Emperor before you die. Buy it on a sale, and start in England, and see how long you can survive there before you die; just get this game before you start this game on a sale because a couple of the DLCs are really overpriced and should just be avoided.\n",
            "My favorite game of all time, but this game is what the majority of my games are. You can have the\n",
            "\n",
            "[610 | 1081.14] loss=3.12 avg=2.88\n",
            "[620 | 1097.38] loss=3.37 avg=2.89\n",
            "[630 | 1113.60] loss=2.04 avg=2.87\n",
            "[640 | 1129.84] loss=3.47 avg=2.89\n",
            "[650 | 1146.08] loss=3.06 avg=2.89\n",
            "[660 | 1162.31] loss=3.18 avg=2.90\n",
            "[670 | 1178.54] loss=2.96 avg=2.90\n",
            "[680 | 1194.78] loss=2.86 avg=2.90\n",
            "[690 | 1211.02] loss=2.88 avg=2.90\n",
            "[700 | 1227.25] loss=2.70 avg=2.89\n",
            "[710 | 1243.50] loss=2.44 avg=2.88\n",
            "[720 | 1259.75] loss=2.49 avg=2.88\n",
            "[730 | 1276.00] loss=3.09 avg=2.88\n",
            "[740 | 1292.25] loss=3.23 avg=2.89\n",
            "[750 | 1308.52] loss=2.85 avg=2.89\n",
            "[760 | 1324.78] loss=3.08 avg=2.89\n",
            "[770 | 1341.03] loss=2.37 avg=2.88\n",
            "[780 | 1357.28] loss=2.77 avg=2.88\n",
            "[790 | 1373.54] loss=2.73 avg=2.88\n",
            "[800 | 1389.78] loss=2.74 avg=2.87\n",
            "======== SAMPLE 1 ========\n",
            "?\n",
            "What are you waiting for?\n",
            "This game will have you on edge from the first game, or just get old and leave you out in the cold. Either way, you'll have to pick it or leave you out in the cold.<|endoftext|>\n",
            "<|startoftext|>So I bought it because a friend recommended it and it was new and it wasn't in sale. I downloaded it, had fun with it for a bit and then it crashed, then the game crashed after that, so it was not working and I gave up. After that, it was not working and I got an error message because there was no way to install the game. After a few hours went by and I ignored this error and I finally ran it, found out there was no way to run the game, no option to start it, no way to uninstall it for a minute, tried to use the \"Savegame Manager\" to remove it, then it crashed, and I had to reboot. After that, I tried other games but it didn't work either. Maybe there was something in my computer I had to fix.<|endoftext|>\n",
            "<|startoftext|>Crusader Kings II is probably my favorite game of all time, and I've had over 350 hours of gameplay time on it, and even at this point, I can say I'm not done. I've had a lot to learn and the tutorials are broken now, so be careful with your spending and look up some other video tutorials before reading this.\n",
            "The DLCs, especially in the later stages of the game's lifespan have made the game somewhat costlier with time, but they're worth it.\n",
            "The game is fairly open-ended, you start in some distant corner of the continent, for example, somewhere between Sweden and Norway, and you play for as long as two decades, gaining new events and expanding your territory.\n",
            "You can play as Pagan religions, or you can play as Christian one. I've been an Atheist (I got the religion modifier) and it was a challenge. The AI does have many choices in its decisions in battles, and even when you defeat the AI, the results are different depending if you have a Protestant or Catholic character. That is also true when there is no Catholic character in a Holy Roman Empire.\n",
            "After playing for some time, starting to feel like a Medieval history student, I decided to look more at historical real-world events, and what a world of history has to offer. I've played this game quite a bit without DLC and it's fun.\n",
            "The best thing you can do is to read a few guides online before putting it all together, to make a map and map a more personal map, or to buy a video guide during a sale. It's nice to look at the characters of the countries you play and decide which of them you like the most, and then decide your choices for the game.\n",
            "Another aspect of the game that has become more important in the years, which you'll probably need to learn, is the AI - and it's pretty hard. It'll probably take you years.\n",
            "This may look a bit intimidating, but it's not. A good guide to starting as a count or duke and becoming Emperor after the death of your ruler will help.\n",
            "There are quite a few DLCs. There was one that came a while back with some improvements, but some people aren't happy that it was taken out of the game (The game has been around for so long now, even though I'm not playing that much), but there's more and more. There are a lot of different countries you're allowed to play as, and those countries also have DLCs. These are all worth it if you don't mind the learning curve. It can take you a long time, but you should eventually learn the game after you get past the learning phase.\n",
            "The most important DLC, however, is probably Legacy Of Rome, which is a very expensive DLC for new players. It changes the UI - and frankly, it can be quite confusing to a new player. You don't want all of your vassals to be your vassals? You want to play as one of many religions that are supported by the game? The DLCs are very useful for this player.\n",
            "The game itself is very open-ended, and there aren't really any rules to it. You can play as anyone from any region, and there are a lot of playable countries with different characteristics. Most of them are either very hard to reach or very easy to conquer.\n",
            "You can go back and forth between playing as an Irish count and as a vassal from an enemy count, and it feels as though there are so many characters competing for your attention that it feels like you're not playing a computer simulation at all, you're playing a family or a village.\n",
            "This game has a certain complexity to it. If you're not familiar, you may find\n",
            "\n",
            "[810 | 1428.00] loss=2.48 avg=2.87\n",
            "[820 | 1444.23] loss=2.73 avg=2.86\n",
            "[830 | 1460.47] loss=2.36 avg=2.85\n",
            "[840 | 1476.70] loss=3.12 avg=2.86\n",
            "[850 | 1492.94] loss=0.84 avg=2.82\n",
            "[860 | 1509.20] loss=2.90 avg=2.83\n",
            "[870 | 1525.47] loss=3.20 avg=2.83\n",
            "[880 | 1541.74] loss=2.26 avg=2.82\n",
            "[890 | 1558.00] loss=2.46 avg=2.82\n",
            "[900 | 1574.28] loss=3.09 avg=2.82\n",
            "[910 | 1590.55] loss=2.70 avg=2.82\n",
            "[920 | 1606.84] loss=2.67 avg=2.82\n",
            "[930 | 1623.14] loss=2.34 avg=2.81\n",
            "[940 | 1639.44] loss=2.61 avg=2.80\n",
            "[950 | 1655.71] loss=2.97 avg=2.81\n",
            "[960 | 1672.00] loss=2.39 avg=2.80\n",
            "[970 | 1688.29] loss=2.11 avg=2.79\n",
            "[980 | 1704.59] loss=2.81 avg=2.79\n",
            "[990 | 1720.88] loss=3.01 avg=2.79\n",
            "[1000 | 1737.19] loss=2.92 avg=2.80\n",
            "Saving checkpoint/345M_reviews_203770/model-1000\n",
            "WARNING:tensorflow:From /usr/local/lib/python3.6/dist-packages/tensorflow/python/training/saver.py:966: remove_checkpoint (from tensorflow.python.training.checkpoint_management) is deprecated and will be removed in a future version.\n",
            "Instructions for updating:\n",
            "Use standard file APIs to delete files with this prefix.\n"
          ],
          "name": "stdout"
        }
      ]
    },
    {
      "cell_type": "markdown",
      "metadata": {
        "id": "-BK1U2dRuR6I",
        "colab_type": "text"
      },
      "source": [
        "## Save a Trained Model Checkpoint"
      ]
    },
    {
      "cell_type": "code",
      "metadata": {
        "id": "csfQ7zoi5gWu",
        "colab_type": "code",
        "colab": {}
      },
      "source": [
        "# gpt2.mount_gdrive()"
      ],
      "execution_count": 0,
      "outputs": []
    },
    {
      "cell_type": "code",
      "metadata": {
        "id": "XheLKHQYePP_",
        "colab_type": "code",
        "colab": {}
      },
      "source": [
        "# gpt2.copy_checkpoint_to_gdrive(run_name=run_name)"
      ],
      "execution_count": 0,
      "outputs": []
    },
    {
      "cell_type": "markdown",
      "metadata": {
        "id": "buHDxtUIfikS",
        "colab_type": "text"
      },
      "source": [
        "## Load a Trained Model Checkpoint"
      ]
    },
    {
      "cell_type": "code",
      "metadata": {
        "id": "shTR7bzRgTkS",
        "colab_type": "code",
        "colab": {}
      },
      "source": [
        "# gpt2.mount_gdrive()"
      ],
      "execution_count": 0,
      "outputs": []
    },
    {
      "cell_type": "code",
      "metadata": {
        "id": "uy9od04seNhK",
        "colab_type": "code",
        "colab": {}
      },
      "source": [
        "# gpt2.copy_checkpoint_from_gdrive(run_name=run_name)"
      ],
      "execution_count": 0,
      "outputs": []
    },
    {
      "cell_type": "markdown",
      "metadata": {
        "id": "vX8KFoKR6g-o",
        "colab_type": "text"
      },
      "source": [
        "## Generate Text From The Trained Model"
      ]
    },
    {
      "cell_type": "code",
      "metadata": {
        "id": "R2RBA9hMIFlQ",
        "colab_type": "code",
        "colab": {}
      },
      "source": [
        "temperature=1.0 # Default is 0.7, but you may want to increase the temperature, especially if your dataset is small, to avoid copying text.\n",
        "top_k = 40      # Default: 0   ; Recommended: 40  ; useless parameter if top_p > 0.0\n",
        "top_p = 0.9     # Default: 0.0 ; Recommended: 0.9 ; no need for top_k if top_p > 0.0"
      ],
      "execution_count": 0,
      "outputs": []
    },
    {
      "cell_type": "code",
      "metadata": {
        "id": "l_C_i_q7hZ8k",
        "colab_type": "code",
        "colab": {}
      },
      "source": [
        "num_samples = 3\n",
        "num_batches = 3 # Unique to GPT-2, you can pass a batch_size to generate multiple samples in parallel, giving a massive speedup."
      ],
      "execution_count": 0,
      "outputs": []
    },
    {
      "cell_type": "code",
      "metadata": {
        "id": "KYC30GEi6kPv",
        "colab_type": "code",
        "colab": {
          "base_uri": "https://localhost:8080/",
          "height": 3233
        },
        "outputId": "37c402d4-6e59-4384-f5d7-2afa30f36ec2"
      },
      "source": [
        "gen_texts_A = gpt2.generate(sess,\n",
        "              run_name=run_name,\n",
        "              nsamples=num_samples,\n",
        "              batch_size=num_batches,              \n",
        "              temperature=temperature,\n",
        "              top_k=top_k,\n",
        "              top_p=top_p,\n",
        "              truncate='<|endoftext|>',                            \n",
        "              return_as_list=True)\n",
        "\n",
        "print('\\n\\n--- SEPARATOR ---\\n\\n'.join(gen_texts_A))"
      ],
      "execution_count": 19,
      "outputs": [
        {
          "output_type": "stream",
          "text": [
            "We were expecting something like Lord of the Rings, but we weren't surprised. It's a very sandboxish gameplay and the depth is quite excellent. It has a very huge learning curve, but once you learn how to play the game, it's fantastic.\n",
            "I might be spoiled by Paradox, but you will definitely like this game. It can be quite complex, but it is very rewarding when you understand the basics. Even if you don't, playing it will keep you busy for many years. If you haven't played the base game or a similar game, I highly recommend it.\n",
            "It isn't an exact replica of the Total War series, but it's very close. Battles are a bit too intricate for most people to handle, but the concept of managing your personal armies is good. A more realistic version of Crusader kings 2 is also highly recommended. You can tailor your army even further, with various improvements and additions. It's fantastic and it's also very difficult to learn. Just be prepared to wait for a large fortune (Puerto Rican divorcees are extremely expensive) or wait for a couple of sales to purchase. The DLC are a bit on the pricey side at first, but I still recommend this game. It's pretty fun, and really does provide a very unique experience, and I definitely recommend it.\n",
            "This review is written by a player with over 200 hours, who recommends it to people who are curious about the genre. If you enjoy it, I would highly recommend it. It's worth the price, but not necessarily a necessary purchase.\n",
            "My game was as follows:\n",
            "-War of Kings II\n",
            "-The Old Gods DLC\n",
            "-Reaper's Due\n",
            "-Charlemagne\n",
            "-Sword of Islam DLC\n",
            "-Reaper's Due DLC\n",
            "-Charlemagne DLC\n",
            "-Charlemagne DLC DLC\n",
            "-Charlemagne DLC\n",
            "-Charlemagne DLC\n",
            "-Charlemagne DLC\n",
            "-Charlemagne DLC\n",
            "-Charlemagne DLC\n",
            "-Charlemagne DLC\n",
            "-Charlemagne DLC\n",
            "-Charlemagne DLC\n",
            "-Charlemagne DLC\n",
            "-Charlemagne DLC\n",
            "-Charlemagne DLC\n",
            "-Charlemagne DLC\n",
            "-Charlemagne DLC\n",
            "-Charlemagne DLC\n",
            "-Charlemagne DLC\n",
            "-Charlemagne DLC\n",
            "-Charlemagne DLC\n",
            "-Charlemagne DLC\n",
            "-Charlemagne DLC\n",
            "-Charlemagne DLC\n",
            "-Charlemagne DLC\n",
            "-Charlemagne DLC\n",
            "-Charlemagne DLC\n",
            "-Charlemagne DLC\n",
            "-Charlemagne DLC\n",
            "-Charlemagne DLC\n",
            "-Charlemagne DLC\n",
            "-Charlemagne DLC\n",
            "-Charlemagne DLC\n",
            "-Charlemagne DLC\n",
            "-Charlemagne DLC\n",
            "-Charlemagne DLC\n",
            "-Charlemagne DLC\n",
            "-Charlemagne DLC\n",
            "-Charlemagne DLC\n",
            "-Charlemagne DLC\n",
            "-Charlemagne DLC\n",
            "-Charlemagne DLC\n",
            "-Charlemagne DLC\n",
            "-Charlemagne DLC\n",
            "-Charlemagne DLC\n",
            "-Charlemagne DLC\n",
            "-Charlemagne DLC\n",
            "-Charlemagne DLC\n",
            "-Charlemagne DLC\n",
            "-Charlemagne DLC\n",
            "-Charlemagne DLC\n",
            "-Charlemagne DLC\n",
            "-Charlemagne DLC\n",
            "-Charlemagne DLC\n",
            "-Charlemagne DLC\n",
            "-Charlemagne DLC\n",
            "-Charlemagne DLC\n",
            "-Charlemagne DLC\n",
            "-Charlemagne DLC\n",
            "-Charlemagne DLC\n",
            "-Charlemagne DLC\n",
            "-Charlemagne DLC\n",
            "-Charlemagne DLC\n",
            "-Charlemagne DLC\n",
            "-Charlemagne DLC\n",
            "-Charlemagne DLC\n",
            "-Charlemagne DLC\n",
            "-Charlemagne DLC\n",
            "-Charlemagne DLC\n",
            "-Charlemagne DLC\n",
            "-Charlemagne DLC\n",
            "-Charlemagne DLC\n",
            "-Charlemagne DLC\n",
            "-Charlemagne DLC\n",
            "-Charlemagne DLC\n",
            "-Charlemagne DLC\n",
            "-Charlemagne DLC\n",
            "-Charlemagne DLC\n",
            "-Charlemagne DLC\n",
            "-Charlemagne DLC\n",
            "-Charlemagne DLC\n",
            "-Charlemagne DLC\n",
            "-Charlemagne DLC\n",
            "-Charlemagne DLC\n",
            "-Charlemagne DLC\n",
            "-Charlemagne DLC\n",
            "-Charlemagne DLC\n",
            "-Charlemagne DLC\n",
            "-Charlemagne DLC\n",
            "-Charlemagne DLC\n",
            "-Charlemagne DLC\n",
            "-Charlemagne DLC\n",
            "-Charlemagne DLC\n",
            "-Charlemagne DLC\n",
            "-Charlemagne DLC\n",
            "-Charlemagne DLC\n",
            "-Charlemagne DLC\n",
            "-Charlemagne DLC\n",
            "-Charlemagne DLC\n",
            "-Charlemagne DLC\n",
            "-Charlemagne DLC\n",
            "-Charlemagne DLC\n",
            "-Charlemagne DLC\n",
            "-Charlemagne DLC\n",
            "-Charlemagne DLC\n",
            "-Charlemagne DLC\n",
            "-Charlemagne DLC\n",
            "-Charlemagne DLC\n",
            "-Charlemagne DLC\n",
            "-Charlemagne DLC\n",
            "-Charlemagne DLC\n",
            "-Charlemagne DLC\n",
            "\n",
            "\n",
            "--- SEPARATOR ---\n",
            "\n",
            "Paradox has published some interesting and historical facts regarding Crusader Kings 2 as of recently. Some of the key ones:\n",
            "(1) As of October 2013, there are 26 playable nations in total Crusader Kings 2. You can play as as nearly any combination of British (Normandie) or Germanic tribes in Europe, Middle East and North Africa. All of which IRL voted as the \"sultans\" in Crusader Kings II.\n",
            "(2) In 3.0 (just released) there is a form of ISR for the several playable nations in Crusader Kings 2: Checklist, a 3-step step procedure. The primary purpose of the checklist is for players to pick a single character they want to represent and a single nation. The player must then enter a few personal details, such as household names, places of birth and even dates of birth and death. Once a character has been chosen and their personal information entered into the checklist, the player has a title, such as duke, king, count, or duke-cousin. When a character reaches the age of twenty (or even eighteen) there are several physical attributes to their character that can be tracked with a hat. These are they ability to land (swing), dodge (swing), and carry (hop).\n",
            "(3) Theis a faction of characters that represent the opinion of the player as to what they think of their character's decisions. It is run by the characters and factions, each of which usually has a chitat of three or four players. These players give the player character a negative opinion (dissapointment) of its own. This opinion is summed up in a five points of three.\n",
            "(4) The Reaction (dismissed to be a simple positive opinion of yourself), is a trait. This trait consists of two components. First of all, is whether you trust the character (or faction) that is representing you. Second, is whether or not you will obey the character or faction that is representing you. Third, is whether or not your fellow players will rebel against you. The following are the basic traits of the characters you can play as in Crusader Kings 2:\n",
            "(5) The Belief (i.e., Your Faith), is a single character's opinion of the abilities of his/her character. The factors that determine whether or not this trait is positive include whether your character is charismatic, intelligent, or benevolent; income; the prestige of the person who instils your character with your beliefs; the prestige of the person who is helping your character; and, the kind of family the character will be.\n",
            "(6) Personality (you, yourself), and Position (you, your characters position, relationships, your rulers titles, titles, kingdoms, empires, duchies, empires, kingdoms, cultures, religions, cultures, faiths, monasteries, monasteries, religions, religions, religions, religions) is another trait. This trait consists of several factors. First of all, is whether the character has a standing (non-university) opinion of yourself. Second, is whether or not he/she is afraid of the world and whether or not he/she thinks that he/she could be overpowered (i.e., being overpowered is hard to believe, or whatnot)\n",
            "(7) Natural Sciences (they, they sciences, the research that the character has), and Dexterity (the player's stats, Dexterity, Dexterity, Dexterity, Dexterity) are the other two factors. These are two aspects of the character-initiative part of the same component called  Performance (IQ, Performance, Intelligence, Intelligence, Intelligence, Intelligence, Charisma, Charisma, Intelligence, Intelligence).\n",
            "(8) Fame (fame, fame, fame, fame), which is what the player plays with on a level playing-level, that is, the level of the person, and those who represent him/her, is the most important of the three components. Every time the player plays as a character of a certain religion, custom faction, or culture of a certain country, that the player decides he/she wants to become a member of, that he/she chooses a primary character (his/her character) who belongs to the group, and the number of other characters that he/she is related to, on the level, or representation of the religion, custom faction, or culture (country, culture, polity, duchy, empire, empire) is another important factor.\n",
            "(9) The Luck (Luck, Luck, Luck, Luck, Luck), is the quality of ability possessed by a character, and is evaluated by the player with factors such as Luck (general) and Intelligence (Intelligence, Intelligence, Intelligence, Intelligence, Intelligence, Intelligence, Intelligence, Intelligence, Intelligence, Intelligence, Intelligence, Intelligence, Intelligence, Intelligence, Intelligence, Intelligence, Intelligence, Intelligence, Intelligence, Intelligence, Intelligence, Intelligence, Intelligence, Intelligence, Intelligence, Intelligence, Intelligence, Intelligence, Intelligence, Intelligence\n",
            "\n",
            "--- SEPARATOR ---\n",
            "\n",
            "dynasty building\n",
            "\n",
            "no detail controls\n",
            "\n",
            "the idea is great, the game seems for not with DLC or overpriced DLC.\n",
            "For example:-\n",
            "Go to any player and chat with him or her.\n",
            "Talk in diplomacy; marriage; empire building; plotting, intrigue and blah, blah, blah blah.\n",
            "Create a dynasty; re-marry to have children (when the real one is born you choose to marry him or her).\n",
            "Create a kingdom.\n",
            "Assasinating of his heir.\n",
            "Birth of new heir.\n",
            "Off to see how his kingdom develops.\n",
            "End of game\n",
            "I should say this because it is a personal experience:\n",
            "All you have to do is decide to start and make some decisions and you have to do it for the gameplay, so a lot of things you should definitely think about for your own happiness, happiness and happiness.\n",
            "The thing that makes this game quite unique is the world and history that the players can form and develop.\n",
            "It is based around each time period from the 400s to the 1200s, right up to the start of the middle ages.\n",
            "So for example:-\n",
            "Go to the 700s and you can become a Viking.\n",
            "Go to the 8th Century and you can become a Catholic Count.\n",
            "Go to the 9th Century and you can become a Byzantine Emperor.\n",
            "Enjoy the endless possibilities; do some of the most horrific and horrible things you can imagine with it.\n",
            "I own all of the DLC and I will say it is good to buy if you like history, role-playing, and role-playing in the world.\n",
            "Do you own all of the DLCs? Or do you play the multiplayer only, which is compatible with all of them?\n",
            "You have to buy everything to play as any church and you don't play as the player-character.\n",
            "If you like the DLCs, and really want to play as a Castile, Huesca, Muslim, Pagan or one of the Byzantian Emperors, then yes, you need all of the DLCs, otherwise you can play as some of the same Byzantium lands as other nations in the Medieval Age, such as Spain and Poland, and one of the nations whose cultures and religions the player can choose to emulate.\n",
            "However, if you like the base game, and really want to play the game as a sovereign or as a game of some kind, then you may want to get the base game, at the same price as the one from Steam. It is a must buy.\n",
            "Definitely recommended, but also must buy in case you're craving an alternative to playing as Rome, Milan or Genoa!<|endoftext|>\n",
            "<|startoftext|>I'm pretty sure this is one of the games that will start your studies or your youth as a matter of life. Even if you don't know the ropes yet it will take you some time before you find out and it will get you admitedly excited and very fast.\n",
            "I have to add that this is not another CRUSADER KINGS, CK2 is like the typical \"Don't let anyone tell you that this is the most beautiful game possible.\" There are the myriad of fully fleshed out characters with tons of events, awesome races and cultures, but then you need to stop right with ck2 and play as a nation for a while before you can start as a king.<|endoftext|>\n",
            "<|startoftext|>I can already recommend this game to people because it's excellent and very playable.\n",
            "Now for the most annoying part, the rules and policies that are so alien to European democracies. In the wake of the EU expansion, the Swedish government has begun the process of abolishing the welfare state. Everyone who has children must now pay tax and everyone living in a household with no unreadably superfluous debts to maintain has to play a system of inheritance laws. So much for the Nordic and Europes Union of the west.<|endoftext|>\n",
            "<|startoftext|>So, I played a game of Crusader Kings II a couple weeks ago and I loved it. This is a extremely deep strategy game and I have played other strategy games such as Total War but I never expected to spend six hours playing this game on a game. This is no exception, my friend has a nice French plot to kill me, it's written in French and I'll never figure out what the damn language actually is but after one playthrough I'm happy to have figured it out. First play through was purely a practicality: it is well documented that you can make your family strong but ruthless families are simply not enough.\n",
            "Game 2:\n",
            "First of all, the idea that there is no good/bad, good/bad, good/evil. There is no good/bad, good/evil, good/bad. However, there is one, and that is one can be good/evil. If you can\n"
          ],
          "name": "stdout"
        }
      ]
    },
    {
      "cell_type": "code",
      "metadata": {
        "id": "jrZBWas662k_",
        "colab_type": "code",
        "colab": {
          "base_uri": "https://localhost:8080/",
          "height": 459
        },
        "outputId": "e564a9d9-cb96-4130-93e7-6d7936d7a4e5"
      },
      "source": [
        "gen_texts_B = gpt2.generate(sess,\n",
        "              run_name=run_name,\n",
        "              nsamples=num_samples,\n",
        "              batch_size=num_batches,\n",
        "              temperature=temperature,\n",
        "              top_k=top_k,\n",
        "              top_p=top_p,                            \n",
        "              prefix='<|startoftext|>I love',\n",
        "              truncate='<|endoftext|>',\n",
        "              return_as_list=True)\n",
        "\n",
        "print('\\n\\n--- SEPARATOR ---\\n\\n'.join(gen_texts_B))"
      ],
      "execution_count": 20,
      "outputs": [
        {
          "output_type": "stream",
          "text": [
            "<|startoftext|>I love this game, but would recommend it with caution.\n",
            "If you want to just play as a count and form the kingdom of France, that is fine, but then you can play as some random German tribes, or to put a ruler in a westerland and name him Duke of Württemberg, although that will happen again. And don't buy it if you've played another Paradox game, or can get the dlc's faster, but don't put off getting them as well.\n",
            "Also, you could change the time zone of the game, while that is also fine, you need to make sure that your steam client is not set to the UK time zone, otherwise you might be losing your game, as different time zones can have different political issues. If you do try it, it might work for awhile.\n",
            "It's a great game, but I wouldn't recommend it as a gift to give to friends. Also, I can't recommend it to buy without the DLC's, so they have to be purchased separately from the base game as well.\n",
            "\n",
            "--- SEPARATOR ---\n",
            "\n",
            "<|startoftext|>I love the game and with the Expansion Packs for Crusader Kings 2 I can recreate some of the storylines of medieval Europe, though with a little luck my king will die under suspicious circumstances that leave me with a succession of dukedom/duchy/kingdom/kingdom on the balcony and 20/20-Dynasty vs Dynasty vs Kingdom vs kingdom. The only downside to the game is that it can be very pricey, but there are some huge investments to put into it that I find worth it and can't recommend that.\n",
            "Crusader Kings 2 is an incredibly addictive and interesting game, but remember that a lot of the actions have a amount of politics at play that you're not aware of. If your heir doesn't become the new ruler when your current character dies then the game can end on a cliffhanger that could potentially be resolved in hundreds of years. If your heir becomes the new ruler you'll have to keep in whatever you're doing as before until your heir is born and you either have to play this game again or get a new ruler.\n",
            "If you like this game then you may want to try Crusader Kings 2 out and keep your eye on the Map but unlike CK2 in CK2 if your ruler dies out while on a large scale campaign (like a crusade or conquest) then your realm will be divided into a series of smaller kingdoms/empires. In CK2 you will play as the ruler and your realm, in this game you play as the person you choose, and your character with realfide true attribute's. This means that unlike CK2 in CK2 in CK2 in CK2 in CK2 in CK2 in CK2 in CK2 in CK2 in CK2 in CK2 in CK2 in CK2 in CK2 in CK2 in CK2 in CK2 in CK2 in CK2 in CK2 in CK2 in CK2 in CK2 in CK2 in CK2 in CK2 in CK2 in CK2 in CK2 in CK2 in CK2 in CK2 in CK2 in CK2 in CK2 in CK2 in CK2 in CK2 in CK2 in CK2 in CK2 in CK2 in CK2 in CK2 in CK2 in CK2 in CK2 in CK2 in CK2 in CK2 in CK2 in CK2 in CK2 in CK2 in CK2 in CK2 in CK2 in CK2 in CK2 in CK2 in CK2 in CK2 in CK2 in CK2 in CK2 in CK2 in CK2 in CK2 in CK2 in CK2 in CK2 in CK2 in CK2 in CK2 in CK2 in CK2 in CK2 in CK2 in CK2 in CK2 in CK2 in CK2 in CK2 in CK2 in CK2 in CK2 in CK2 in CK2 in CK2 in CK2 in CK2 in CK2 in CK2 in CK2 in CK2 in CK2 in CK2 in CK2 in CK2 in CK2 in CK2 in CK2 in CK2 in CK2 in CK2 in CK2 in CK2 in CK2 in CK2 in CK2 in CK2 in CK2 in CK2 in CK2 in CK2 in CK2 in CK2 in CK2 in CK2 in CK2 in CK2 in CK2 in CK2 in CK2 in CK2 in CK2 in CK2 in CK2 in CK2 in CK2 in CK2 in CK2 in CK2 in CK2 in CK2 in CK2 in CK2 in CK2 in CK2 in CK2 in CK2 in CK2 in CK2 in CK2 in CK2 in CK2 in CK2 in CK2 in CK2 in CK2 in CK2 in CK2 in CK2 in CK2 in CK2 in CK2 in CK2 in CK2 in CK2 in CK2 in CK2 in CK2 in CK2 in CK2 in CK2 in CK2 in CK2 in CK2 in CK2 in CK2 in CK2 in CK2 in CK2 in CK2 in CK2 in CK2 in CK2 in CK2 in CK2 in CK2 in CK2 in CK2 in CK2 in CK2 in CK2 in CK2 in CK2 in CK2 in CK2 in CK2 in CK2 in CK2 in CK2 in CK2 in CK2 in CK2 in CK2 in CK2 in CK2 in CK2 in CK2 in CK2 in CK2 in CK2 in CK2 in CK2 in CK2 in CK2 in CK2 in CK2 in CK2 in CK2 in CK2 in CK2 in CK2 in CK2 in CK2 in CK2 in CK2 in CK2 in CK2 in CK2 in CK2 in CK2 in CK2 in CK2 in CK2 in CK2 in CK2 in CK2 in CK2 in CK2 in CK2 in CK2 in CK2 in CK\n",
            "\n",
            "--- SEPARATOR ---\n",
            "\n",
            "<|startoftext|>I love this game.\n",
            "For people that like grand strategy games and really can make decisions in a game, this is the right game for them.\n",
            "In my final game, I uninstalled everything except for EU4 and CK2, then started a new game.\n",
            "The start of the game was full of interesting choices, and as soon as I put my first character into the game, my wife died from the plague (possibly due to an illness that he had). Later I decided to marry the daughter of the king of England who my wife had had a son with.\n",
            "The family of the king of England lived in a castle in England where my wife and son were held prisoner.\n",
            "My eldest son, Aethelred was killed by an assassin who managed to escape. Aethelred's son succeeded the King as his councilor, and the newly formed kingdom of England became the other core of my dynasty.\n",
            "The reason why I picked this game over EU4, or any other is because, unlike EU4, it does not include conquering other realms. You have to start as a duke or a count and make your own way to become king or queen of a vast empire.\n",
            "The other part that makes this game great, besides the historical storylines, is the historical detail.\n",
            "For example, you are able to take your sons to the Tower of London to take the Tower of London. It was there that I first saw Alice. I am so happy I took her to the Tower of London. After I captured Alice and enslaved her, I captured her and then began the gradual process of turning her into my heir.\n",
            "10/10 Would capture Alice again. (Another playthrough of my own).\n"
          ],
          "name": "stdout"
        }
      ]
    },
    {
      "cell_type": "code",
      "metadata": {
        "id": "VEAeBOlS7eCY",
        "colab_type": "code",
        "colab": {
          "base_uri": "https://localhost:8080/",
          "height": 496
        },
        "outputId": "c053827b-16e5-4af1-94a1-f33bd590f850"
      },
      "source": [
        "gen_texts_C = gpt2.generate(sess,\n",
        "              run_name=run_name,\n",
        "              nsamples=num_samples,\n",
        "              batch_size=num_batches,\n",
        "              temperature=temperature,\n",
        "              top_k=top_k,\n",
        "              top_p=top_p,                            \n",
        "              prefix='<|startoftext|>I hate',\n",
        "              truncate='<|endoftext|>',\n",
        "              return_as_list=True)\n",
        "\n",
        "print('\\n\\n--- SEPARATOR ---\\n\\n'.join(gen_texts_C))"
      ],
      "execution_count": 21,
      "outputs": [
        {
          "output_type": "stream",
          "text": [
            "<|startoftext|>I hate this game. The interface is clunky, the is a very large learning curve.\n",
            "If you are not willing to take the time to learn the game it will be a hard slog to learn.\n",
            "Update, I understand the interface issues and I have manually created a video tutorial for those who are interested in how to play it.\n",
            "\n",
            "--- SEPARATOR ---\n",
            "\n",
            "<|startoftext|>I hate the tutorial.\n",
            "The game is simple and easy.\n",
            "When you play it, you just wait, almost 100 hours of gameplay never even gets started.\n",
            "The game doesn't take long, it can be fast paced or slow.\n",
            "You can almost spend a day in the game itself, only to get bored.\n",
            "When you want to play a different type of game, try Crusader Kings 2 because it's on the same level with Total War and is a bit easier to learn.\n",
            "I'm addicted!\n",
            "\n",
            "--- SEPARATOR ---\n",
            "\n",
            "<|startoftext|>I hate this game.  I've spent hundreds of hours in it playing, modding, and teaching myself everything I know, and it still doesn't understand how to play it.  I've seen more info than I've played this game, and I am very disappointed.\n",
            "Even after playing the tutorial, I still don't fully understand it, and I am still learning new things (e.g., it's a combination of a narrative simulator and a roleplaying game).   It sucks that I have to do so much reading and watching all of the information in YouTube to learn how to play, but I will give it a solid 10/10 (don't judge a game without taking the time!).\n",
            "10/10: Needs a couple of the following DLCs, to really be a great game, but if you buy this game, you will experience a very enjoyable experience.\n",
            "[b]Battleship Kings (by Matthias)[/b]\n",
            "This is a comprehensive mod for a game like this, with tens of thousands of +05 minutes worth of video play, built after the same patch (No key expansion required).\n",
            "Simply put, this is a game with many more dimensions, but also with many simple, yet solid elements.  Daddies can act as sort of ally-magnificent allies to oppress your foes.  Your pawns are created just for you, and they act just for you.\n",
            "One point I might make is the level of play.  In some games, each new county will likely have multiple dynasties.  Not in Crusader Kings 2, since there's no ability to establish a duchy or kingdom independent.  In most games, monarchs come in an initial reign, while dukes, barons, and (just you know, barons!) kings all play under the same leader.  When a new character comes into the game, you choose a ruler.  There are several different types of rulers, which can be very different kinds of leaders.\n",
            "There is the traditional setup for a monarchy (dynasty or alliance).  You have a state, to try and keep your realm stable, or even just run your realm.  If your ruler is able to raise enough wealth, you can send them to your allies.  Then, you will have the option of a statesman, who will act to aid you in any way possible.  This would be any of the Noble Blood or Tauren Samurai.  These factions tend to be friendly to all, other than getting heavily into wars.  You can of course form alliances with them, however.  Another type of ruler is the Titleholder, who becomes your vassal.  This ruler will generally act in the interests of your lord.  This is the duke of Gwyn, the Duke of Aelwin, the Seer of the Waters and Fylkir of the Darkmoonfate/Darkmoon.\n",
            "In the Middle Ages, the pope decreed an end to the crusades, as evidenced by the massive crusades that took place in the North.  Though the Game of Thrones mod comes in, CK2 has not yet received the same level of impact from the same mod.  But it's a good thing, that this mod has been uploaded by a moddable leader.  A notable example of this mod is \"Ruler Designer 2\" (http://www.moddb.com/downloads/a-menu-2/mod_node_text_ck2_paradox_play4_has-and-now-includes-a-plastic-seat-for-my-hand).  The downside of this mod is the difficulty of the game, however.  You will have to endure the discovery of potential titles, after the children of your family were made into rulers.  This can be intimidating at first, as most rulers have a large learning curve, but once you learn how to play it will become second nature.  This is especially true in the Western territories, as a variety of fiefs are created along the thrones, this lead to an exciting and challenging battle pattern in the game.  It is worth noting that you can use gold and titles, as well as piety to pay military mercenaries against your enemies, but in most cases they're too low-cost to really justify having them.  Lastly, you can choose to spawn in a plot of land, or, you can choose to play as a noble of the Aztecs.  You can choose either a Pagan, or a Dark House.  You can choose your point of origin, which is the Eastern side.  You can choose a lower-taxed realm, or play in a superior position, such as Jerusalem.  As a Dark House, you will have to try and maintain alliances with various kingdoms that will try and invade you.  This is why the Aztecs and Muslims are created, and in general, a stance against you. \n"
          ],
          "name": "stdout"
        }
      ]
    },
    {
      "cell_type": "code",
      "metadata": {
        "id": "jX8KxDY27hJ0",
        "colab_type": "code",
        "colab": {
          "base_uri": "https://localhost:8080/",
          "height": 661
        },
        "outputId": "cc3c39fe-a5a2-44cf-efca-663183bca316"
      },
      "source": [
        "gen_texts_D = gpt2.generate(sess,\n",
        "              run_name=run_name,\n",
        "              nsamples=num_samples,\n",
        "              batch_size=num_batches,\n",
        "              temperature=temperature,\n",
        "              top_k=top_k,\n",
        "              top_p=top_p,                            \n",
        "              prefix='<|startoftext|>Please',\n",
        "              truncate='<|endoftext|>',\n",
        "              return_as_list=True)\n",
        "\n",
        "print('\\n\\n--- SEPARATOR ---\\n\\n'.join(gen_texts_D))"
      ],
      "execution_count": 22,
      "outputs": [
        {
          "output_type": "stream",
          "text": [
            "<|startoftext|>Please wait a few weeks for me to decide I want to play this game because the price isn't worth it and it has kind of sucked my life away.\n",
            "If you like RTS type games, like Europa Universalis you won't like this game.\n",
            "I wish I had a little more of my life and had it because I can't get it, but if it does help you keep your attention and start a family or do some hard riding and backstabs then I can recommend this game to you.\n",
            "Recommended for people who have a love of history.\n",
            "Buy, let me just say if you like Strategy games then it should be the most popular FPS game.\n",
            "Just like Civilization you can adopt other history-based facets of your character.\n",
            "I didn't play as a Mongol, but I liked the history aspect, and the Mongol Tocchu and his bronze waves were a nice change of pace from the Europa Universalis series.\n",
            "Be warned though it's a daunting game, the learning curve is pretty high, but once you figure out the basics it's a fun game.\n",
            "A game that can remind you a bit of tabletop role playing games but can also be been educational.\n",
            "Just make sure you get the DLC's. It's worth the price, but they're all pretty expensive if you only have the base game.\n",
            "\n",
            "--- SEPARATOR ---\n",
            "\n",
            "<|startoftext|>Please your mind be free of the influence of this guy you know (Damien Pryde), who you have and I know to be a manipulator.\n",
            "And to think, this is the chavIng nation, let's be positive.\n",
            "When I installed the warsren first, I could see that the warrents would be held long after the borders were pacified. I wanted to simply add a note that the Duchy of Dubrange was in line to join the Kingdom of Ostlanders. He got on the list with great words.\n",
            "Those young Saxons, excellent followers!\n",
            "Just to be sure, as we were making plans, a strange column appeared that changed the reality for the first time ever. The Kingdom of Ostlanders had appeared in the sea of redness in the distance.\n",
            "Very quickly, I clicked on the map. There the Kingdom of Ostlanders reached its southern coastal border and the Danish King was marching across the unknown terrain towards me, onto a peaceful gully and tree-covered patch of land. In the distance, I could hear a distant drumbeat and the low, almost whine of a train with the red crest up over its green treads.\n",
            "I looked up at the unfamiliar sea and the heavy smell of rotting fish.\n",
            "I wiped my face on the soft part of my cheek, being a coward like me. But there it was again, that strange column, roaring with fire and excitement, with the direction I had just ignored.\n",
            "With one last glance at the map, I pulled out a rusty knife and stabbed my peopleman. He fought back fiercely and blew his top. I leaned back in my chair and shivered in a cold sweat as I steeled myself to deal with the obvious threat. I picked up the empty lump of meat from the ground and stabbed it. The tattered flakes lodged in his reddened flesh. I felt relief as the steward dropped dead in his mid-winter sleep.\n",
            "I reassembled the tribal council and grabbed the jagged sprig of sage, as they had served me well during the weeks before my life. The wild tribesmen returned to the mideval streams for the winter months. I tore up the remnants of the dutchy and rebuilt it as the Aedlas Empire of Syria.\n",
            "As we piled into a tenacious march across the Levant to conquer all that we could see, my nation held steady. The warren came to life. The other nations and their armies of war raged in my back yard and across my frozen flatlands. The handful of merchant republics we had conquered reached their rocky waters and swamped the coastlines with troops from my armies.\n",
            "My revolts were crushed. Every attempt to shake off my watchful eye was met with an axe.\n",
            "This enemy has been defeated. Your last stronghold is in sight. The dutchy of Orcon is his final resting place. Your children are king and queen.\n",
            "The land is ours.\n",
            "This was what happened.\n",
            "I thought that day would come as I opened my window, holding onto a scent of fresh snow. When it did, I ran outside for a swim.\n",
            "10/10 Would be thrown off window again.\n",
            "\n",
            "--- SEPARATOR ---\n",
            "\n",
            "<|startoftext|>Please make sure to buy this game and I still recommend it.\n"
          ],
          "name": "stdout"
        }
      ]
    },
    {
      "cell_type": "code",
      "metadata": {
        "id": "ppNhFzjPIVZN",
        "colab_type": "code",
        "colab": {
          "base_uri": "https://localhost:8080/",
          "height": 313
        },
        "outputId": "32fe93ab-7252-4c8a-8c1c-f042a6f8b7bd"
      },
      "source": [
        "gen_texts_E = gpt2.generate(sess,\n",
        "              run_name=run_name,\n",
        "              nsamples=num_samples,\n",
        "              batch_size=num_batches,\n",
        "              temperature=temperature,\n",
        "              top_k=top_k,\n",
        "              top_p=top_p,                            \n",
        "              prefix='<|startoftext|>This game has near infinite replay value',\n",
        "              truncate='<|endoftext|>',\n",
        "              return_as_list=True)\n",
        "\n",
        "print('\\n\\n--- SEPARATOR ---\\n\\n'.join(gen_texts_E))"
      ],
      "execution_count": 23,
      "outputs": [
        {
          "output_type": "stream",
          "text": [
            "<|startoftext|>This game has near infinite replay value, as long as you can stay with it for a few months before your character dies, your future becomes uncertain. As a new character you'll keep trying to keep your marriage healthy, while the first ruler you play as makes mistakes and dukes are weak or evil. There is so much to keep track of and watch the relationships between your characters, their children and surrounding dukes. It's a unique and interesting take on the whole medieval (and indeed medieval history) world.\n",
            "If you find your love of historical re-playability, political intrigue and history soothing, this game may just be for you!\n",
            "9.8/10 is recommended to anyone who enjoys using their imagination and imagination to rule through tough times.\n",
            "But don't let the silly, discordant, and complex nature of the game scare you away. You'll have a blast in the magic of the role playing and backstabbing that is CK2.\n",
            "\n",
            "--- SEPARATOR ---\n",
            "\n",
            "<|startoftext|>This game has near infinite replay value. It's hard to get into and seems pretty pointless in the beginning, but once you get the hang of it it's a fantastic experience in every playthrough.\n",
            "Seems like a challenge, but really is one of the games for the game addicts in my office.\n",
            "\n",
            "--- SEPARATOR ---\n",
            "\n",
            "<|startoftext|>This game has near infinite replay value and all it is, that's not even half of it. If you are a history buff (I am) and you like this game you will LOVE it. It allows you to \"change the game forever\" In a heartbeat.\n",
            "Please buy it. I have too much. I have friends who have bought it over 500 times. I have also seen it on the Steam Workshop (Reddit) while researching it. I highly recommend it to everyone interested in the historical world of this time period.\n",
            "Also, do buy the DLC's. Some of them are really good and some are just hilarious.\n"
          ],
          "name": "stdout"
        }
      ]
    },
    {
      "cell_type": "markdown",
      "metadata": {
        "id": "JMlAC87jkZkx",
        "colab_type": "text"
      },
      "source": [
        "## Copy the Generated Text to Google Drive"
      ]
    },
    {
      "cell_type": "code",
      "metadata": {
        "id": "nyL0qToNjhG5",
        "colab_type": "code",
        "colab": {}
      },
      "source": [
        "temperature_suffixe = '_temperature_' + str(temperature)"
      ],
      "execution_count": 0,
      "outputs": []
    },
    {
      "cell_type": "code",
      "metadata": {
        "id": "q1W36OQxgkj9",
        "colab_type": "code",
        "colab": {}
      },
      "source": [
        "if top_p > 0.0:\n",
        "  file_name_suffixe = temperature_suffixe + '_top_p_' + str(top_p)\n",
        "elif top_k > 0:\n",
        "  file_name_suffixe = temperature_suffixe + '_top_k_' + str(top_k)\n",
        "else:\n",
        "  file_name_suffixe = temperature_suffixe"
      ],
      "execution_count": 0,
      "outputs": []
    },
    {
      "cell_type": "code",
      "metadata": {
        "id": "UkjbmwyxeqEa",
        "colab_type": "code",
        "colab": {
          "base_uri": "https://localhost:8080/",
          "height": 35
        },
        "outputId": "38a45e11-bd74-491d-e5b7-13e3f0f4592c"
      },
      "source": [
        "output_file_name = 'output_' + str(app_id) + file_name_suffixe + '.md'\n",
        "\n",
        "print(output_file_name)"
      ],
      "execution_count": 26,
      "outputs": [
        {
          "output_type": "stream",
          "text": [
            "output_203770_temperature_1.0_top_p_0.9.md\n"
          ],
          "name": "stdout"
        }
      ]
    },
    {
      "cell_type": "code",
      "metadata": {
        "id": "joHIx0aaYVKr",
        "colab_type": "code",
        "colab": {}
      },
      "source": [
        "with open(output_file_name, 'w') as f:\n",
        "  \n",
        "  f.write('## Game\\n\\n')\n",
        "  f.write('[<img alt=\"game name\" src=\"https://steamcdn-a.akamaihd.net/steam/apps/{}/header.jpg\" width=\"150\">](https://store.steampowered.com/app/{})\\n\\n'.format(app_id, app_id))\n",
        "  \n",
        "  f.write('## Reviews generated unconditionally\\n\\n')\n",
        "  for (i, gen_text) in enumerate(gen_texts_A):\n",
        "    f.write('{}.\\n\\n'.format(i+1))\n",
        "    f.write('> {}\\n\\n'.format(gen_text))\n",
        "    \n",
        "  f.write('## Reviews starting with I love\\n\\n')\n",
        "  for (i, gen_text) in enumerate(gen_texts_B):\n",
        "    f.write('{}.\\n\\n'.format(i+1))\n",
        "    f.write('> {}\\n\\n'.format(gen_text))\n",
        "    \n",
        "  f.write('## Reviews starting with I hate\\n\\n')    \n",
        "  for (i, gen_text) in enumerate(gen_texts_C):\n",
        "    f.write('{}.\\n\\n'.format(i+1))\n",
        "    f.write('> {}\\n\\n'.format(gen_text))\n",
        "  \n",
        "  f.write('## Reviews starting with Please\\n\\n')  \n",
        "  for (i, gen_text) in enumerate(gen_texts_D):\n",
        "    f.write('{}.\\n\\n'.format(i+1))\n",
        "    f.write('> {}\\n\\n'.format(gen_text))\n",
        "  \n",
        "  f.write('## Reviews starting with This game has near infinite replay value\\n\\n')  \n",
        "  for (i, gen_text) in enumerate(gen_texts_E):\n",
        "    f.write('{}.\\n\\n'.format(i+1))\n",
        "    f.write('> {}\\n\\n'.format(gen_text))\n",
        "   "
      ],
      "execution_count": 0,
      "outputs": []
    },
    {
      "cell_type": "code",
      "metadata": {
        "id": "hcLRTVI1bBon",
        "colab_type": "code",
        "colab": {}
      },
      "source": [
        "gpt2.mount_gdrive()"
      ],
      "execution_count": 0,
      "outputs": []
    },
    {
      "cell_type": "code",
      "metadata": {
        "id": "yTsKdSSIajwK",
        "colab_type": "code",
        "colab": {
          "base_uri": "https://localhost:8080/",
          "height": 35
        },
        "outputId": "3b57a387-d559-4481-8de9-aee1e718b0f8"
      },
      "source": [
        "import shutil\n",
        "\n",
        "shutil.copyfile(output_file_name, '/content/drive/My Drive/' + output_file_name)"
      ],
      "execution_count": 29,
      "outputs": [
        {
          "output_type": "execute_result",
          "data": {
            "text/plain": [
              "'/content/drive/My Drive/output_203770_temperature_1.0_top_p_0.9.md'"
            ]
          },
          "metadata": {
            "tags": []
          },
          "execution_count": 29
        }
      ]
    }
  ]
}
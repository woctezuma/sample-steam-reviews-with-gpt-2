{
  "nbformat": 4,
  "nbformat_minor": 0,
  "metadata": {
    "colab": {
      "name": "gpt_2_for_reviews.ipynb",
      "version": "0.3.2",
      "provenance": [],
      "collapsed_sections": []
    },
    "kernelspec": {
      "name": "python3",
      "display_name": "Python 3"
    },
    "accelerator": "GPU"
  },
  "cells": [
    {
      "metadata": {
        "id": "5u6MjGQAuzWN",
        "colab_type": "text"
      },
      "cell_type": "markdown",
      "source": [
        "# Sample Steam Reviews with GPT-2\n",
        "Code inspired from https://github.com/woctezuma/sample-steam-reviews-with-gpt-2"
      ]
    },
    {
      "metadata": {
        "id": "2KjP9yVVveN1",
        "colab_type": "text"
      },
      "cell_type": "markdown",
      "source": [
        "## Setting the GPT-2 model"
      ]
    },
    {
      "metadata": {
        "colab_type": "text",
        "id": "A1zEYHxh304_"
      },
      "cell_type": "markdown",
      "source": [
        "Install the Python package\n",
        "\n",
        "Reference: https://github.com/minimaxir/gpt-2-simple"
      ]
    },
    {
      "metadata": {
        "id": "_1ruwgwCuEHd",
        "colab_type": "code",
        "outputId": "834dbde8-b342-40fa-c479-1d68889a74ed",
        "colab": {
          "base_uri": "https://localhost:8080/",
          "height": 182
        }
      },
      "cell_type": "code",
      "source": [
        "!pip install gpt_2_simple"
      ],
      "execution_count": 0,
      "outputs": [
        {
          "output_type": "stream",
          "text": [
            "Requirement already satisfied: gpt_2_simple in /usr/local/lib/python3.6/dist-packages (0.2)\n",
            "Requirement already satisfied: regex in /usr/local/lib/python3.6/dist-packages (from gpt_2_simple) (2018.1.10)\n",
            "Requirement already satisfied: requests in /usr/local/lib/python3.6/dist-packages (from gpt_2_simple) (2.18.4)\n",
            "Requirement already satisfied: tqdm in /usr/local/lib/python3.6/dist-packages (from gpt_2_simple) (4.28.1)\n",
            "Requirement already satisfied: numpy in /usr/local/lib/python3.6/dist-packages (from gpt_2_simple) (1.16.2)\n",
            "Requirement already satisfied: idna<2.7,>=2.5 in /usr/local/lib/python3.6/dist-packages (from requests->gpt_2_simple) (2.6)\n",
            "Requirement already satisfied: certifi>=2017.4.17 in /usr/local/lib/python3.6/dist-packages (from requests->gpt_2_simple) (2019.3.9)\n",
            "Requirement already satisfied: urllib3<1.23,>=1.21.1 in /usr/local/lib/python3.6/dist-packages (from requests->gpt_2_simple) (1.22)\n",
            "Requirement already satisfied: chardet<3.1.0,>=3.0.2 in /usr/local/lib/python3.6/dist-packages (from requests->gpt_2_simple) (3.0.4)\n"
          ],
          "name": "stdout"
        }
      ]
    },
    {
      "metadata": {
        "id": "nTkq7wEQwEkZ",
        "colab_type": "text"
      },
      "cell_type": "markdown",
      "source": [
        "Download the pre-trained model"
      ]
    },
    {
      "metadata": {
        "id": "_pdkhHU6wd12",
        "colab_type": "code",
        "colab": {}
      },
      "cell_type": "code",
      "source": [
        "import gpt_2_simple as gpt2\n",
        "from datetime import datetime\n",
        "from google.colab import files"
      ],
      "execution_count": 0,
      "outputs": []
    },
    {
      "metadata": {
        "id": "0ggC2Mc75BnB",
        "colab_type": "text"
      },
      "cell_type": "markdown",
      "source": [
        "## Downloading GPT-2"
      ]
    },
    {
      "metadata": {
        "id": "_-If30nT4ZCb",
        "colab_type": "code",
        "outputId": "6ce12c87-260d-4f0b-ca22-d5f813bdb71d",
        "colab": {
          "base_uri": "https://localhost:8080/",
          "height": 146
        }
      },
      "cell_type": "code",
      "source": [
        "gpt2.download_gpt2()"
      ],
      "execution_count": 0,
      "outputs": [
        {
          "output_type": "stream",
          "text": [
            "Fetching checkpoint: 1.00kit [00:00, 827kit/s]                                                      \n",
            "Fetching encoder.json: 1.04Mit [00:00, 47.6Mit/s]                                                   \n",
            "Fetching hparams.json: 1.00kit [00:00, 317kit/s]                                                    \n",
            "Fetching model.ckpt.data-00000-of-00001: 498Mit [00:07, 66.1Mit/s]                                  \n",
            "Fetching model.ckpt.index: 6.00kit [00:00, 1.46Mit/s]                                               \n",
            "Fetching model.ckpt.meta: 472kit [00:00, 35.4Mit/s]                                                 \n",
            "Fetching vocab.bpe: 457kit [00:00, 33.8Mit/s]                                                       \n"
          ],
          "name": "stderr"
        }
      ]
    },
    {
      "metadata": {
        "id": "AkpviYXh4tHL",
        "colab_type": "text"
      },
      "cell_type": "markdown",
      "source": [
        "## Mounting Google Drive"
      ]
    },
    {
      "metadata": {
        "id": "0D4hzKfk4rIp",
        "colab_type": "code",
        "colab": {}
      },
      "cell_type": "code",
      "source": [
        "gpt2.mount_gdrive()"
      ],
      "execution_count": 0,
      "outputs": []
    },
    {
      "metadata": {
        "id": "e9sI2rah5OyB",
        "colab_type": "text"
      },
      "cell_type": "markdown",
      "source": [
        "## Uploading a Text File to be Trained to Colaboratory"
      ]
    },
    {
      "metadata": {
        "id": "r82T8yOm8jyL",
        "colab_type": "text"
      },
      "cell_type": "markdown",
      "source": [
        "#### Either get the data by yourself"
      ]
    },
    {
      "metadata": {
        "id": "CsEEvL5b8IDE",
        "colab_type": "code",
        "outputId": "121a324d-8c1c-4bfe-9fdd-a60438d2c80b",
        "colab": {
          "base_uri": "https://localhost:8080/",
          "height": 72
        }
      },
      "cell_type": "code",
      "source": [
        "!curl -O https://raw.githubusercontent.com/woctezuma/sample-steam-reviews-with-gpt-2/master/export_review_data.py"
      ],
      "execution_count": 0,
      "outputs": [
        {
          "output_type": "stream",
          "text": [
            "  % Total    % Received % Xferd  Average Speed   Time    Time     Time  Current\n",
            "                                 Dload  Upload   Total   Spent    Left  Speed\n",
            "\r  0     0    0     0    0     0      0      0 --:--:-- --:--:-- --:--:--     0\r100  5303  100  5303    0     0  43467      0 --:--:-- --:--:-- --:--:-- 43467\n"
          ],
          "name": "stdout"
        }
      ]
    },
    {
      "metadata": {
        "id": "zJLNxAhg8IQz",
        "colab_type": "code",
        "outputId": "77241855-8236-43c7-97f3-a5b26305e460",
        "colab": {
          "base_uri": "https://localhost:8080/",
          "height": 72
        }
      },
      "cell_type": "code",
      "source": [
        "!curl -O https://raw.githubusercontent.com/woctezuma/sample-steam-reviews-with-gpt-2/master/requirements.txt"
      ],
      "execution_count": 0,
      "outputs": [
        {
          "output_type": "stream",
          "text": [
            "  % Total    % Received % Xferd  Average Speed   Time    Time     Time  Current\n",
            "                                 Dload  Upload   Total   Spent    Left  Speed\n",
            "\r  0     0    0     0    0     0      0      0 --:--:-- --:--:-- --:--:--     0\r100    37  100    37    0     0    313      0 --:--:-- --:--:-- --:--:--   313\n"
          ],
          "name": "stdout"
        }
      ]
    },
    {
      "metadata": {
        "id": "HMhEG1Xi8UZF",
        "colab_type": "code",
        "outputId": "fd34bcd0-df8f-46ad-8554-9a26f74e097e",
        "colab": {
          "base_uri": "https://localhost:8080/",
          "height": 329
        }
      },
      "cell_type": "code",
      "source": [
        "!pip install -r requirements.txt"
      ],
      "execution_count": 0,
      "outputs": [
        {
          "output_type": "stream",
          "text": [
            "Collecting steamreviews==0.7.0 (from -r requirements.txt (line 1))\n",
            "  Downloading https://files.pythonhosted.org/packages/9d/32/96401f528f0c13f3750eb5e87ef47fcc473f9b940cf217ce69d6f9e448ad/steamreviews-0.7.0-py3-none-any.whl\n",
            "Collecting langdetect==1.0.7 (from -r requirements.txt (line 2))\n",
            "\u001b[?25l  Downloading https://files.pythonhosted.org/packages/59/59/4bc44158a767a6d66de18c4136c8aa90491d56cc951c10b74dd1e13213c9/langdetect-1.0.7.zip (998kB)\n",
            "\u001b[K    100% |████████████████████████████████| 1.0MB 23.8MB/s \n",
            "\u001b[?25hRequirement already satisfied: requests in /usr/local/lib/python3.6/dist-packages (from steamreviews==0.7.0->-r requirements.txt (line 1)) (2.18.4)\n",
            "Requirement already satisfied: six in /usr/local/lib/python3.6/dist-packages (from langdetect==1.0.7->-r requirements.txt (line 2)) (1.11.0)\n",
            "Requirement already satisfied: idna<2.7,>=2.5 in /usr/local/lib/python3.6/dist-packages (from requests->steamreviews==0.7.0->-r requirements.txt (line 1)) (2.6)\n",
            "Requirement already satisfied: certifi>=2017.4.17 in /usr/local/lib/python3.6/dist-packages (from requests->steamreviews==0.7.0->-r requirements.txt (line 1)) (2019.3.9)\n",
            "Requirement already satisfied: urllib3<1.23,>=1.21.1 in /usr/local/lib/python3.6/dist-packages (from requests->steamreviews==0.7.0->-r requirements.txt (line 1)) (1.22)\n",
            "Requirement already satisfied: chardet<3.1.0,>=3.0.2 in /usr/local/lib/python3.6/dist-packages (from requests->steamreviews==0.7.0->-r requirements.txt (line 1)) (3.0.4)\n",
            "Building wheels for collected packages: langdetect\n",
            "  Building wheel for langdetect (setup.py) ... \u001b[?25ldone\n",
            "\u001b[?25h  Stored in directory: /root/.cache/pip/wheels/ec/0c/a9/1647275e7ef5014e7b83ff30105180e332867d65e7617ddafe\n",
            "Successfully built langdetect\n",
            "Installing collected packages: steamreviews, langdetect\n",
            "Successfully installed langdetect-1.0.7 steamreviews-0.7.0\n"
          ],
          "name": "stdout"
        }
      ]
    },
    {
      "metadata": {
        "id": "LWekXOQGBD1j",
        "colab_type": "code",
        "colab": {}
      },
      "cell_type": "code",
      "source": [
        "app_id = 583950"
      ],
      "execution_count": 0,
      "outputs": []
    },
    {
      "metadata": {
        "id": "A9sMp0WC8aP7",
        "colab_type": "code",
        "outputId": "02eb1026-3c6e-4b96-880a-3ec00ebb111f",
        "colab": {
          "base_uri": "https://localhost:8080/",
          "height": 182
        }
      },
      "cell_type": "code",
      "source": [
        "from export_review_data import apply_workflow_for_app_id\n",
        "\n",
        "apply_workflow_for_app_id(app_id)"
      ],
      "execution_count": 0,
      "outputs": [
        {
          "output_type": "stream",
          "text": [
            "A command-line argument is detected. AppID set to 583950.\n",
            "[appID = 583950] expected #reviews = 8701\n",
            "#reviews = 180\n",
            "Filtering out reviews which were not written in english.\n",
            "#reviews = 180\n",
            "Filtering out reviews with strictly fewer than 150 characters.\n",
            "#reviews = 101\n",
            "Filtering out reviews which were not detected as written in en.\n",
            "#reviews = 101\n"
          ],
          "name": "stdout"
        }
      ]
    },
    {
      "metadata": {
        "id": "7LPbkB998g-B",
        "colab_type": "text"
      },
      "cell_type": "markdown",
      "source": [
        "#### Or get a data snapshot from me"
      ]
    },
    {
      "metadata": {
        "id": "FIR9fBid5U2w",
        "colab_type": "code",
        "outputId": "5a018cbb-101c-4dd3-efcb-691f9fbac60f",
        "colab": {
          "base_uri": "https://localhost:8080/",
          "height": 72
        }
      },
      "cell_type": "code",
      "source": [
        "#!curl -O https://raw.githubusercontent.com/woctezuma/sample-steam-reviews-with-gpt-2/master/data/583950.txt"
      ],
      "execution_count": 0,
      "outputs": [
        {
          "output_type": "stream",
          "text": [
            "  % Total    % Received % Xferd  Average Speed   Time    Time     Time  Current\n",
            "                                 Dload  Upload   Total   Spent    Left  Speed\n",
            "\r  0     0    0     0    0     0      0      0 --:--:-- --:--:-- --:--:--     0\r100  118k  100  118k    0     0   758k      0 --:--:-- --:--:-- --:--:--  758k\n"
          ],
          "name": "stdout"
        }
      ]
    },
    {
      "metadata": {
        "id": "AjmpOgoa5y7Q",
        "colab_type": "text"
      },
      "cell_type": "markdown",
      "source": [
        "## Finetune GPT-2"
      ]
    },
    {
      "metadata": {
        "id": "cu5ctG0DBLIe",
        "colab_type": "code",
        "colab": {}
      },
      "cell_type": "code",
      "source": [
        "file_name = str(app_id) + '.txt'"
      ],
      "execution_count": 0,
      "outputs": []
    },
    {
      "metadata": {
        "id": "Bfg4HYZl56JJ",
        "colab_type": "code",
        "outputId": "87eff06e-bbb1-4067-bd49-b26efbbc9c1b",
        "colab": {
          "base_uri": "https://localhost:8080/",
          "height": 661
        }
      },
      "cell_type": "code",
      "source": [
        "sess = gpt2.start_tf_sess()\n",
        "\n",
        "gpt2.finetune(sess,\n",
        "              run_name='reviews',\n",
        "              dataset=file_name,\n",
        "              steps=1000,\n",
        "              restore_from='fresh',   # change to 'latest' to resume training\n",
        "              print_every=10,   # how many steps between printing progress\n",
        "              sample_every=200,   # how many steps to print a demo sample\n",
        "              save_every=500   # how many steps between saving checkpoint              \n",
        "              )"
      ],
      "execution_count": 0,
      "outputs": [
        {
          "output_type": "stream",
          "text": [
            "WARNING:tensorflow:From /usr/local/lib/python3.6/dist-packages/tensorflow/python/framework/op_def_library.py:263: colocate_with (from tensorflow.python.framework.ops) is deprecated and will be removed in a future version.\n",
            "Instructions for updating:\n",
            "Colocations handled automatically by placer.\n",
            "WARNING:tensorflow:From /usr/local/lib/python3.6/dist-packages/gpt_2_simple/src/sample.py:51: to_float (from tensorflow.python.ops.math_ops) is deprecated and will be removed in a future version.\n",
            "Instructions for updating:\n",
            "Use tf.cast instead.\n",
            "WARNING:tensorflow:From /usr/local/lib/python3.6/dist-packages/gpt_2_simple/src/sample.py:53: multinomial (from tensorflow.python.ops.random_ops) is deprecated and will be removed in a future version.\n",
            "Instructions for updating:\n",
            "Use tf.random.categorical instead.\n",
            "WARNING:tensorflow:From /usr/local/lib/python3.6/dist-packages/tensorflow/python/ops/math_ops.py:3066: to_int32 (from tensorflow.python.ops.math_ops) is deprecated and will be removed in a future version.\n",
            "Instructions for updating:\n",
            "Use tf.cast instead.\n",
            "WARNING:tensorflow:From /usr/local/lib/python3.6/dist-packages/tensorflow/python/ops/math_grad.py:102: div (from tensorflow.python.ops.math_ops) is deprecated and will be removed in a future version.\n",
            "Instructions for updating:\n",
            "Deprecated in favor of operator or tf.math.divide.\n",
            "Loading checkpoint models/117M/model.ckpt\n",
            "WARNING:tensorflow:From /usr/local/lib/python3.6/dist-packages/tensorflow/python/training/saver.py:1266: checkpoint_exists (from tensorflow.python.training.checkpoint_management) is deprecated and will be removed in a future version.\n",
            "Instructions for updating:\n",
            "Use standard file APIs to check for files with this prefix.\n",
            "INFO:tensorflow:Restoring parameters from models/117M/model.ckpt\n"
          ],
          "name": "stdout"
        },
        {
          "output_type": "stream",
          "text": [
            "\r  0%|          | 0/1 [00:00<?, ?it/s]"
          ],
          "name": "stderr"
        },
        {
          "output_type": "stream",
          "text": [
            "Loading dataset...\n"
          ],
          "name": "stdout"
        },
        {
          "output_type": "stream",
          "text": [
            "\r100%|██████████| 1/1 [00:00<00:00,  3.46it/s]\n"
          ],
          "name": "stderr"
        },
        {
          "output_type": "stream",
          "text": [
            "dataset has 27698 tokens\n",
            "Training...\n",
            "[10 | 29.03] loss=3.19 avg=3.19\n",
            "[20 | 51.91] loss=3.12 avg=3.16\n",
            "[30 | 75.73] loss=2.13 avg=2.81\n",
            "[40 | 99.69] loss=1.83 avg=2.56\n",
            "[50 | 123.14] loss=1.73 avg=2.39\n",
            "[60 | 146.52] loss=1.22 avg=2.19\n",
            "[70 | 170.17] loss=0.85 avg=2.00\n",
            "[80 | 193.87] loss=0.47 avg=1.80\n",
            "[90 | 217.50] loss=0.23 avg=1.62\n",
            "Saving checkpoint/run1/model-100\n"
          ],
          "name": "stdout"
        }
      ]
    },
    {
      "metadata": {
        "id": "NAyu3yNP6Uls",
        "colab_type": "code",
        "colab": {}
      },
      "cell_type": "code",
      "source": [
        "gpt2.copy_checkpoint_to_gdrive()"
      ],
      "execution_count": 0,
      "outputs": []
    },
    {
      "metadata": {
        "id": "BEwkRvCn6XZW",
        "colab_type": "text"
      },
      "cell_type": "markdown",
      "source": [
        "## Load a Trained Model Checkpoint"
      ]
    },
    {
      "metadata": {
        "id": "dELSgpoC6Z-O",
        "colab_type": "code",
        "colab": {}
      },
      "cell_type": "code",
      "source": [
        "gpt2.copy_checkpoint_from_gdrive()"
      ],
      "execution_count": 0,
      "outputs": []
    },
    {
      "metadata": {
        "id": "dqDaWVAo6cn9",
        "colab_type": "code",
        "colab": {}
      },
      "cell_type": "code",
      "source": [
        "sess = gpt2.start_tf_sess()\n",
        "\n",
        "gpt2.load_gpt2(sess,\n",
        "               run_name='reviews')"
      ],
      "execution_count": 0,
      "outputs": []
    },
    {
      "metadata": {
        "id": "vX8KFoKR6g-o",
        "colab_type": "text"
      },
      "cell_type": "markdown",
      "source": [
        "## Generate Text From The Trained Model"
      ]
    },
    {
      "metadata": {
        "id": "KYC30GEi6kPv",
        "colab_type": "code",
        "outputId": "0ec81cd6-7d5d-4820-b311-5fa382efe3bc",
        "colab": {
          "base_uri": "https://localhost:8080/",
          "height": 1580
        }
      },
      "cell_type": "code",
      "source": [
        "num_samples = 3\n",
        "num_batches = 3 # Unique to GPT-2, you can pass a batch_size to generate multiple samples in parallel, giving a massive speedup.\n",
        "\n",
        "gpt2.generate(sess,\n",
        "              nsamples=num_samples,\n",
        "              batch_size=num_batches)"
      ],
      "execution_count": 0,
      "outputs": [
        {
          "output_type": "stream",
          "text": [
            "A common thread runs throughout all of this: Why not just buy the game from the start? And what if the outcome of the game weren't so damn clear cut? What if Honest Abe failed? What if Honest Abe was somehow fundamentally flawed?\n",
            "Let me put it this way, if Honest Abe failed, how would you justify buying a game if you actually got the game...\n",
            "You guessed it, it actually was better than the fucking game you just purchased.\n",
            "Seriously, though, what would you buy if you were only going to be playing for a few minutes?\n",
            "\"Holy cow that was better than the fucking game you actually bought...\"\n",
            "\"Holy cow that was better than the card game you actually played...wait for the answer...it's literally the WORST PAIR IN THE ENTIRE GAME\"\n",
            "I know, mentioned just to name some players. But damn did I hope that all the good cards, sounds and mechanics would be here in this game. Not just one or two, but three or four.\n",
            "If you're the best player in the game, why can't you play for free? Don't you want to throw money into the ocean somewhere good and worthy of the best player in the game? Then why don't you give it to me here:\n",
            "*Artifact card game\n",
            "*Honest Abe card game\n",
            "*The entire game is a scam\n",
            "*Does not have any redeemable currency,\n",
            "*Has no monetization policy, and\n",
            "*Does not have any ticket revenue structure.\n",
            "*Holds over 2.5 billion cards, and therefore\n",
            "*Holds withdraws of\n",
            "*Hearthstone\n",
            "*CantLoot\n",
            "Wait for the answer!* in the comments below\n",
            "[via Kotaku]<|endoftext|>The UK and other non-EU countries have a duty to act in such a way that the digital economy cannot be manipulated, and that is unacceptable. This is the purpose of the Visa Waiver Program (VWP), which, as you might guess, is designed to ensure that not only will the UK and other non-EU countries refuse to grant Visa Waivers, they will also refuse to accept Visa Cards, which is a huge step backward in terms of ensuring that not only can the digital economy be manipulated, but also the non-UK companies that rely on it.\n",
            "In effect, the VWP is designed to keep the UK in the digital economy, and that is exactly what they have decided to do.\n",
            "The UK Government, at the time of writing, and the Visa Waiver Program participants, have not commented.\n",
            "What is particularly galling to me is the way that these companies and their cronies have managed to get ahold of the situation in the first place, and still not understand what is going on. They claim that the program is designed to \"silence\" them and that is something that has to be factored in to understand, but then they conveniently ignore this large and well intentioned media circus that is the digital economy.\n",
            "To sum it up - I have absolutely NO respect for any company or company lobby group that does business with a foreign power or that provides financial advice to a client that they are sure is outside the purview of the company they work for. I have NO sympathy for companies that believe themselves to be so innocent of any wrongdoing, let alone those that profit from their practices.\n",
            "If this were a company, they would immediately improve their products and services, and as a result, I have no confidence in my purchase. I also believe that they have the best interests of the product and service above their own, which is unacceptable. (And yes, I own a house in Essex.)\n",
            "However, they stand in the way of many of the same positive changes that have been made to the product, such as, but not limited to, a complete overhaul of the customer experience, a complete overhaul of the shopping experience, a complete revamp of the shopping cart, a complete revamp of the shopping card game, a complete revamp of the Trading Card Game, a complete overhaul of the in-game Market, with a few other exciting things...\n",
            "I will leave them to do what is right for the product, and for what I believe is best for the customers.\n",
            "The change to the customer experience has been fantastic. Having to wait more than a few days for the new cards is a huge relief. The colour-neutral Trading Card Game has received some very positive reviews, and the newly-added Trading Cards have performed admirably. The problem with this strategy of changing the target of a effect every time you change the game is that the cards become more and more important, and your chance of getting them back is dwindling. You could make a very significant investment in the product, and make substantial investments in the future, and the problem is that you don't.\n",
            "I hope the Journey update brings some kind of schedule into the game. This means that you can more easily spend money on cards that increase your chance of getting a card that\n",
            "====================\n",
            "\n",
            "You can use the filters to filter out keywords that are not related to the business you're trying to market. You can also filter out keywords that you believe to be bad for the business you're trying to market.\n",
            "The market itself can be harmful to your business. It can determent from the way other people can build businesses around them. It can even make it much more difficult for you to expand your business.\n",
            "If you're successful selling the game, and you get lots of positive reviews, then why are you still playing the game? You were making a good game, and people were really enjoying it. You can't argue that.\n",
            "I won't spend any more money on the game now, can't! I really, really hoped somebody would do something meaningful with it. It's a dull, almost deterministic game.\n",
            "I should have known better.\n",
            "It's a shame, because this game is a must for gamertags purists.\n",
            "Amazing game that never got a chance to play with the serious players. The monetization model is so bad and it's not even worth paying for the full game. (I know, I know, you can buy the whole game for 99$). The beggining of this game is the fact that it doesn't even have a marketplace, trading/buying is super expensive here, you need to sell 5 cards to get the job done, and once you lose 2+ games in a row, well then you're done.\n",
            "Also the cards that incentivize playing here are pretty worthless. Cheap cards like ugliest of cards: a card pack. Want to explain? Yes you can get these cards for 99$ which is awesome because many cards that are incentivized to play are worthless. Like Axe, they're just worthless. cards that you can't grind 100% because of the grind mechanic are those that are going to get you killed. like taunt, they give no reward for playing, even after adding them to the already bloated collection.\n",
            "cons:\n",
            "- Population - There is zero human potential here. 90% of what is going on in this game is going down the drain on a global scale, and it's really just a very mobile game (unfortunately) where a tiny percentage of potential comes from.\n",
            "- No progression system whatsoever. Sure, you can get super lucky and ends are up in the air, but can't get super bad endings. Just something to keep in mind from all games.\n",
            "If you're looking into buying this game, be sure to read our review before buying.\n",
            "This game isn't Free2Play. It's DOTA, and it's trying to exploit a flawed model to its advantage. Don't buy it, it will never have a future as a game, even if it became popular, it shouldn't be considered a failure.\n",
            "Artifact really should shut the hell up and call it what it is: a paid-for TCG (that is, without any compensation structure). This is a great card game, it has great mechanics, but it's a bloated, in-your-face card game that doesn't know how to improve. It's an extremely complex and rewarding game, one that many people spent more than they paid for.\n",
            "I would not recommend this game for these 4 main reasons\n",
            "[*] It's a Pay-to-Win Game. The game requires you to OUTREACH your bank in order to PLAY, and it does that by bringing down the bar on your right and causing your opponent to eventually run out of ways to escape the game. This is against the spirit of the game, and in my opinion is a huge step backwards in terms of ensuring that no one can take advantage of the experience provided by the game.\n",
            "[*] It's An Rant Based Game. While discussing what is wrong with this game, I felt a few of the comments were being facetious and out of context. These comments came as no surprise, as this game has been around for a while, and has a good core set of mechanics, but they (proposalally) were not considered significant issues to address.\n",
            "[*] The Game Is Rant AHEAD OF ALLIANCE. \"Rant AHEAD OF RANTING\" is actually the word that comes to my mouth most often, because it says it all. From the moment I open the game, I immediately see the featureset of the game. I scroll through my decks, my decks are visible in the comments below. I will go into detail about these features in a future post, because theming another game from the perspective of a player is not an issue.\n",
            "[*] The Game Is RantING A BILLY CASH. This is an issue that needs to be addressed, because the game is RANTING A BILLY CASH. CASH is a payment model, whereby you pay for content and access to the game, with the intention of eventually unlocking content packs. As of now, the\n",
            "====================\n",
            "\n",
            "You are logged out. Login | Sign up\n",
            "Selling and buying cards\n",
            "There are currently no Gwent events going on (with a minimum of 3 scheduled apropos)\n",
            "Card packs are being sold out (because there is no incentive to buy packs)\n",
            "There is currently no one unlockable steam card game (until someone gives them a steam key, unlock the urge).\n",
            "The pricing of a card game is in contradiction to the gameplay, which is essentially a collection of unlockable packs.\n",
            "Releasing cards with no progression means that you are basically stuck for a very long time, and you have very little hope to get all the cards you need other than to find an open market. This is particularly true when it comes to cards that improve upon your collection, such as the previously mentioned steam cards.\n",
            "The virtual card game market is already saturated with good cards, and many are really just cosmetic items for those who are looking to grab a handle on the game. The fact that you can't just buy a bunch of cards on the market means that many people are turning to virtual card game stores to get their hands on the cards, instead of blindly buying the packs themselves.\n",
            "The virtual card game store model is not new, and it's only natural that this article would be about it. However, since Valve has long since abandoned the cause of creating a \"game\", there is a lack of articles that can properly critique the business model of this company, and its decision to allow users to buy in to the virtual card game market.\n",
            "To start, there is no selling or trading cards, and in order to buy or sell an item, you need to spend a certain amount of money. For instance, suppose you want to buy a house in Clockwork Empires, but the player doesn't like the system, you have to spend 10 gold.\n",
            "Rant Section - Suggestions & Frustrations\n",
            "\n",
            "If you're looking into purchasing this game, make no promises that it will replace a death roll as your starting hand, or even that it will fix every single problem in the game (like it does every other existing card game).\n",
            "\n",
            "It's a great game, but it's a shadow game with many flaws.\n",
            "Flavorwise:\n",
            "\n",
            "Calm down when playing.\n",
            "There are a lot of nice cards in this game. One of them being the steam overlay, which is a nice little effect that brings your friends together in the games by allowing them to see what's going on in the world.\n",
            "Next comes the chat function, which is nice, but it's basically a deadzone now, with nothing but deadpan and dead conversation sequences.\n",
            "Now comes the side quests, which are fun, but they take a bit to build around, and while they do bring people to the game, they're mostly to earn more experience, not more card packs.\n",
            "Card Packs: There is a 0.5% tax on each card pack sold, and it's going to take a bit to get used to, but it's basically just a blank canvas for a tutorial on how to get card packs, so don't be too hard on yourself.\n",
            "Packaging:\n",
            "\n",
            "This game is very box art, and for all of you who have seen the trailers, you are aware that it's a box art company. This is a motion picture based on a videogame, and the gameplay is entirely based on the game. In fact, nearly all of the game mechanics are already implemented, and the only change is for a single target target action, which is a lot of LIGHTBAG! Your pack will be revealed automatically, and you'll know when it's time to open it. This is going to take some doing something, and doing it well will be very difficult.\n",
            "The short version is that you don't have access to the game beta, and you don't have access to the game product. So you will probably never get an invite to the beta, even after you opening your free game (assuming you plan to play the game). This means that if you ever get nostalgic for the golden days of card games, you better make an ammount of preparations to keep up.\n",
            "The exciting part? You keep getting invites and playing the game for free! That's it! The invite and playing have been birthed, and it's time for exciting new quests!\n",
            "The quests are… well, quests. They generally take some introduction, and some practice. They generally don't involve you opening your card pack, but rather opening your deck, which takes some practice, but consists in putting cards in your deck that are assigned to a specific card type. Your task in these quests is to… well,… find out what the hell is going on in the world.\n",
            "[olist]\n",
            "[*] There's a lot of randomness to these quests, with their own set of rewards. Some quests have rewards of 500 gold, while other quests have rewards of 500. You can earn these rewards by playing\n",
            "====================\n",
            "\n"
          ],
          "name": "stdout"
        }
      ]
    },
    {
      "metadata": {
        "id": "jrZBWas662k_",
        "colab_type": "code",
        "outputId": "e4dc2764-5b26-4b62-b333-5afb14a67743",
        "colab": {
          "base_uri": "https://localhost:8080/",
          "height": 1268
        }
      },
      "cell_type": "code",
      "source": [
        "gpt2.generate(sess,\n",
        "              nsamples=num_samples,\n",
        "              batch_size=num_batches,\n",
        "              prefix='I love Artifact')"
      ],
      "execution_count": 0,
      "outputs": [
        {
          "output_type": "stream",
          "text": [
            "I love Artifact, I played it in draft on rng, I won the premade 8k MMR with it and am going to continue to do so.\n",
            "Artifact is fun, plays pretty sweet game with a decent amount of microtransactions, there are perks that you can get that are worth it, and the fact that you have to open packs to access them, that makes me a hardcore CCG player.\n",
            "However, I think the point of this game is to throw cards out the window, and have a casual game for kids. That is all.\n",
            "TL;DR - I like Artifact, I played it in draft on rng, I won the premade 8k MMR with it and am going to continue to do so.\n",
            "\n",
            "P.S. If you've made it this far, thank you so much for reading my story, and I hope you'll agree that I am an interesting person with a passion for card games and DC. I look forward to learning more about your business as usual!\n",
            "As always, I appreciate your time and appreciate the efforts!\n",
            "As always, I will be adding as much as I can as soon as I have time, so if you have time, please do! :)\n",
            "Cheers,\n",
            "The Man\n",
            "(Visited 5,543 times, 0 visits today)<|endoftext|>The Best Secret Wars Card Game Ever\n",
            "By Spencer . November 5, 2016 . 5:43am\n",
            "Since its launch in Early November, Secret Wars: Legends has had a positive reception. There have been reports of positive reviews, of which there have been many, many in the past few days. Many people have already purchased the game, and the market will surely fill with those with pre-order bonuses. However, many of those people have already purchased the game, and the market will surely fill with those who purchased the game only a few days after its release.\n",
            "As a result, the market for cards with abilities is already saturated, and many are already planning raids to obtain the cards. There is no way that Artifact can survive without its players, and if it does not, it will only increase as more people become aware of the market and the plans they can have for acquiring cards, including by purchasing the card packs they have already purchased, as well.\n",
            "Pro players: you are assigned a slot in the middle right hand corner while the rest of the players are assigned to the left.\n",
            "*Consumers: You will be assigned a new card slot.\n",
            "*Raiders and other similar opportunities: You will be randomly assigned a card and a first-come, first-served access to the market.\n",
            "*Lootable Card Game Objects: Influenced by Netrunner and other digital card games.\n",
            "*Card Packs/Events: A variety of card games provide withisers that can be assigned to gain access to these, many of which are non-trivial and are completely out of your budget.\n",
            "Consolidate all this into one sumptuous card game, and you have it. Amen.\n",
            "It's a sad day when digital card games become reality. But card games need to get creative.\n",
            "Too Many Rules Discussions, Too Many Games, the Game Is Dead and Developers Are Dead\n",
            "Game runs well, UI looks good and all, but the game market is already saturated with good looking cards games with cute characters and a high fidelity UI. Game could've used some more polish, more strategy, but the devs didn't.\n",
            "Game is dead and it's probably because of Blizzard's greedy business model.\n",
            "I think the game is dead because the cards never really came into their own in any of the cards related games. From my experiences with other card games, the chances of them ever being a good game are very slim.  Their cheapest card game is probably not going to break the bank, heres just the list he has available right now:\n",
            "cheap card game: archery, cricket, dota 2, dota 3, cardhoof, cardtraveller, cardtraveller minifigures, scewed card, scewed card related, cardtech, cardtraveller, scewed card related, cardtraveller, cardtech, cardtraveller, cardtraveller, cardtech, cardtire, cardtire, cardtire, card, card, card, card, card, card, card, card, card, card, card, card, card, card, card, card, card, card, card, card, card, card, card, card, card, card, card, card, card, card, card, card, card, card, card, card, card, card, card, card, card, card, card, card, card, card, card, card, card, card, card, card, card, card, card, card, card, card, card, card, card, card, card, card, card, card, card, card\n",
            "====================\n",
            "\n",
            "I love Artifact, the cards are good and fun to play, but the gameplay is a little unintuitive at times. For example, if you have ever played Netrunner you will understand. The three colour metagame is what makes it so competitive. You have the potential to win premade cards that are wasted on a poor random chance in the format. You do not have the luxury of buying a second chance ticket to make your next run. You do, however, have the potential to lose a premade card that you could potentially win the whole game over with just by taking a few extra damage. The easy way out for the super easy. The card pack adds this potential to the deck, which in turn brings down the cost of taking a card. This in turn brings down the cost of taking a card, which in turn brings down the cost of making a run. With the card packs add this balance, but also the fact that the game can be played almost entirely online, which in turn brings down the cost of taking a card. This in turn brings down the cost of making a run. With the monthly subscription you get, which in turn brings down the cost of taking a card. This in turn brings down the cost of making a run. With the in-game currency, which in turn brings down the cost of taking a card. This in turn brings down the cost of making a run. With the in-game emote, which in turn brings down the cost of taking a card. In my opinion, the most important aspect of the game for both players. The visual and auditory aspects. The overall experience for both players. At times, it feels like a chore. In my time playing card games, the strategic aspects of the game are so poorly suited to a modern user interface. For example, there is no ability to change the deck order, instead, each game is decided by a single roll and once a player's ship passes a critical hit, they've forfeited their slot in the game. That's a shame because this game has potential but... it's so barebones at this point. Overall, I think Artifact is a very good game. It's a great game, in every way. I'm hoping they can do something with it.\n",
            "As to the monetization, I don't see a way for me to enjoy it without paying more money. The simple monetization will drain my wallet of all my money's worth in just a few short months. I do intend to sell all my cards now, and that's just to get cards that weren't there when they were rendered.\n",
            "The game didn't do much for the community, other than increase attrition. I'm still in the early days, but it's certainly not a bad time to be a digital card gamer.\n",
            "At this point, I don't recommend buying the game. It's a mess, completely unbalanced and in every way, a flop. The resources in it are so useless, you are toast.\n",
            "For those who have played MTG, know me as a person. In order to play, you have to expend a massive amount of time and resources. The resources that make up our economy are very limited, and therefore, vulnerable to attack. And with each passing game update, we see that While YOU are creating and maximizing value in this game, you are constantly being pushed down a rabbit hole of unacceptable and extremely unbalanced behaviors.\n",
            "As it is right now, I cannot recommend buying the game. It is inimical to a successful digital card game, and while it may be the most fun and innovative product on the market, it is also THE most stressful job I have EVER had, and I've had it for 5+ years.\n",
            "With every passing day, I come to the conclusion that yes, sometimes, there is balance. And there is no matter what path you take, or how much money you have, you will never really know what you have.\n",
            "That's why I am here to talk about:\n",
            "(1) The \"hype\" factor.\n",
            "(2) The \"it just wasn't possible for me to invest so much time\" number-crunching that has to be made to find out if it is really for the best and that is the biggest reason I don't recommend buying it.\n",
            "(3) The marketing.\n",
            "(4) The word of mouth.\n",
            "(5) The negative reviews.\n",
            "(6) The fact that it's a tactical card game that many consider blasphemous.\n",
            "(7) The fact that it's a late-game card game that many consider to be blasphemous.\n",
            "(8) The fact that it has a large RNG element to it.\n",
            "(9) The fact that it's fundamentally flawed.\n",
            "(10) The fact that it is unpopular with the general public.\n",
            "(11) The fact that it is not only poorly designed and done poorly for a non-profit, but also fundamentally flawed in every aspect of its functioning.\n",
            "====================\n",
            "\n",
            "I love Artifact, really I do. I bought all the cards in the set and I'm still playing. I played MTG for the first time last year and OMG it's not fucking fluff. I also bought the cardset of the game which is aplenty for those times when I really wanna vomit. But that's just me.\n",
            "Rant Section - Suggestions & Frustrations (feel free to skip):\n",
            "If I had to sum it up, the only people who plugging the hell out of this game are streamers and people willing to play by the 'real card game economy' type structure because they believe that it works, because they have enough extraneous money to just not give a damn about it. Yes, if card packs and events were, say, 10% of the economy, card value *would* be cut, because card packs would be much more valuable because of it. But instead they are androids* only* interested in profit, not recognition or favour. And that's about it.\n",
            "Seriously? This game is not a 'pay to win' game. Game jams are about recognition and recognition is having a great time. Game events are almost entirely driven by money so there really isn't any point in getting excited about anything. There is no other option but to gamble. Because if you don't, you are screwed.\n",
            "For those wondering, I had a beta key, which translated into a free copy of the game. I suppose I'm the only one who doesn't own the cards, but I feel a lot of people didn't like the fact that they had to plug the game in on a loss and constantly have to choose between paying £40 to get the game. The payment version is free, but as I said there is no progression system, no honest to god draft mode, and the chat overlay isn't particularly interesting.\n",
            "I don't really have any other choice but to recommend this game. I guess Valve really didn't want to lose money by adding a beta key, but then again, you can't really compete without losing money.\n",
            "If you enjoy the game, do not buy it, it is a scam, you can continue to play after getting rid of the 3 beta keys, and you will regret it.\n",
            "I enjoyed the beta but at the time when i am playing the game, it is not(no monetization, no community manager, no updates, very few games have player count of 10, that is, 10 out of 10)\n",
            "I also appreciate the fact that the game was designed this way, and that the players have incentive to complete quests and keep playing even after all the unnecessary RNG is eliminated.\n",
            "I did enjoy the game aplenty, but at the time when i am playing the game, it is not(no monetization, no community manager, no updates, very few games have player count of 10, that is, 10 out of 10)\n",
            "It's a great game, but it's a scam. Now if you bring back the dead cats and make them play by their own design, that's a big step backwards. — Richard Garfield (@RichardGCC) January 20, 2017\n",
            "It's a beautiful game, but it's a scam. Now if you bring back the dead cats and make them play by their own design, that's a big step backwards. — Richard Garfield (@RichardGCC) January 20, 2017\n",
            "It's fun, but not something I can really sit myself down for often enough. Also, the three lane thing is a bit of a letdown. If you're building a deck and you have the resources, you can play around it a bit, but if you don't, you're basically stuck. — Richard Garfield (@RichardGCC) January 20, 2017\n",
            "It's a shame because this game is a lot of fun. If you want to throw some cash away, you can for free. But you don't have to bring back the dead cats and make them play by their own design. This game is actually very easy to learn, and while there may be hidden strategies you can exploit to your advantage, you're not really a player. Unless you pay, you're just playing for laughs. The three lane thing is also a bit of a joke, as is the way you can play against other players (minus your own playername). But the overall experience of the three lanes is pretty boring. If you're a Magic player, play well. If you're a DCM, be strategic. But mostly boring.\n",
            "If you're thinking about investing in this game, think again. You're going to want to make room for a fully fledged full fledged live DCG in draft mode. I know it's just a casual card game for kids, but a lot of people are going to be playing it. You'll make an informed decision on whether or not to buy cards. And you're going to want to make sure you buy the cards you need to build your deck.\n",
            "I'm\n",
            "====================\n",
            "\n"
          ],
          "name": "stdout"
        }
      ]
    },
    {
      "metadata": {
        "id": "VEAeBOlS7eCY",
        "colab_type": "code",
        "outputId": "5367810a-29d6-48e0-c626-e3c41817e9c1",
        "colab": {
          "base_uri": "https://localhost:8080/",
          "height": 753
        }
      },
      "cell_type": "code",
      "source": [
        "gpt2.generate(sess,\n",
        "              nsamples=num_samples,\n",
        "              batch_size=num_batches,\n",
        "              prefix='I hate Artifact')"
      ],
      "execution_count": 0,
      "outputs": [
        {
          "output_type": "stream",
          "text": [
            "I hate Artifact. I despise the idea of a good hero ever being able to expand his or her library, even if he or she ultimately does, I don't see a way for this to happen here.\n",
            "The three lane thing might be cool, but how do you make an opponent understand that you have three cards that can potentially affect the game? When it comes to deciding the pros and cons of each, there's just not a lot to discuss. There's just a single card that fundamentally affects the game in its current state. Even after adding and adjusting cards, an opponent still won't be able to undo the damage that was done to their deck due to only one card. This is one of the biggest reasons why Artifact has gotten so popular, it's hard to ignore the fact that it is one of the best cards series in existence.\n",
            "Having said all that, I'm a big RNG fan. Every game I do ends in a draw of the three hero round, which is utterly infuriating and out of my 10 on this game, it's probably the least infuriating. Artifact is a neat card, in every way. There are still a ton of possible cards for every matchup, even with all the new abilities and improvements. But the new ways to play cards is so far out-of-reach that I have little hope of keeping up with the pace of the game anymore, aside from a few friends becoming players in a few days. But I'm done with this game for now.\n",
            "As a longtime CCG player, I've experienced a lot of games.  Been through a lot of situations and played a decent aces including Geralf and the rest of the gang.  All the while maintaining a fairly high level of fidelity and being perfectly honest with myself and my friends.  It's pretty amazing to think that of all the CCG's out there today, only two are completely free to play and they are… well, let me just say that I've never been a huge Star Wars fan but this is something. I mean it. I'm learning more and more to play and enjoy a game and accept payment for playing a game is something I've never done before. But it's fucking awesome to be able to play through a bunch of cards and not have to pay for a new card every time you need a mana die or something. The three lane thing might be a little restrictive but I can't go that far.\n",
            "The fact alone I'm a CCG player.\n",
            "As a CCG beginner, you get 9 card packs which is a nice sum of money for the three packs that I would not consider a huge deal even for a beginner.\n",
            "However, the three lane thing does add another £5 to the cost of a full deck. which is a shame as £5X the card pack price is almost certainly a mistake because this new card pack gives players access to the many different heros, cards, mechanics, consumables and consumable items they need from the start of the game. And while you can pick up a copy of every single card from around the world at major EB store and even build your deck from scratch, what you don't get is the range of cards, items and consumable items the three lanes concept allows. Here are some of the items you will be able to buy from:\n",
            "Artifact: An electronic card game in card form.\n",
            "* *IF YOU WANT TO PICK A GALACTICA, THAT'S WHY.\n",
            "* *IF YOU'RE PRO, YOU HAVED A GALACTIC ADVANCE, AND THAT'S WHY.\n",
            "* *IF YOU'RE A GAMES MAN, YOU HAVED A GAMES MAN. THAT'S WHY.\n",
            "* *IF YOU PAID FOR A PAALLEGATE FULL OF SCARIEST BONES, YOU PAID.\n",
            "* *IF YOU PAID, YOU PAID. Wasted GAME.\n",
            "All this and you still have absolutely no idea what the hell is going on in this game...not even the developers. Yes, this is going to be a wild west ride. Some of the mechanics you could expect from a CCG, from a before and after photo of your deck. And...it is crazy.\n",
            "As a CCG beginner, you get 9 card packs. That's £5 worth of content. Not only is this game completely unrewarding and completely unbalanced, it even amounts to gambling with your credit card in your spare time. It is downright disgusting. You are given no choice but to accept or reject the card packs you make. You can't even buy new cards, you can only buy cards you want to buy the game, and that's ok, and that's all you need to play it fine.\n",
            "It's kind of sad when you consider how much money you have. (And how much you will be spending on travel, food and other expenses)\n",
            "So...Grow Up Mystical Scavenger Hunt!? I have to go\n",
            "====================\n",
            "\n",
            "I hate Artifact. I hate the mechanics. I even hate how random the draws are. I really do. I love the fact that you can curve the game in any direction and still have fun, even if you have zero control on the game, which is a beautiful thing in itself, considering how severely underachieved control decks can be on a given hero and hero color. I don't even care how good Arguably, the best cards in the game are NOT Arguables. Artifact has Terrestrial intelligence, to boot. It's a good thing, because it makes playing the game much less tedious. You can theoretically build a deck around it, but it's not going to be that simple. You need to figure out which of a set of cards enable your playstyle, which cards (or sometimes more specifically, which cards + 1 card per lane) which cards (or sometimes more specifically, which cards + 2 or more + cards per lane) player can activate which cards. Which cards (or sometimes more specifically, which cards + 3 or more + cards per lane) player can activate which cards(or sometimes more specifically, which cards + 4 or more + cards per lane) player can control the game state, and which player can control the game state + (depending on what you mean by \"control\" here) what cards (or sometimes more specifically, what cards + 5 or more + cards per lane) player can control. Depending on what you mean by \"control\" here, there are going to be a lot of potentially malicious cards, a lot of which are illegal to obtain, a lot of which are good cards, and you might just end up in a situation where your Fountain of Dreams and/or your Priest's Banner and Axe and Phantom Hand and all of the above are all illegal to obtain, even for the cheapest card game. And then there are some potentially more lucrative cards (in various currency classes) that are genuinely compelling cards (for now) and you can spend them on various cards that improve the game, some of which are genuinely compelling (but expensive) cards (for now) and you can spend them on cards that improve the game (for now) enhance the feel of the card game (for now) By extension, the game is about experiences. The cards are there to give the player an experience level, but they also have an inherent negative side effect of making the game less fun. The negative side effect of making the game less fun is that it's very difficult to get all the cards that you want, even if you're on the fence about whether or not to buy cards. The positive side effect of making the game less fun is that you can get cards like never before (and you should), and cards like never before in hard to obtain cards (such as in this set, which is mostly made of white and has relatively cheap rare cards). If the market for such cards runs out, and if there is a way to get all the hard cards, expensive and rare cards, but just. Anything that makes you take a lot of long distance transport (like the wooden palaces in Shadowverse) that don't involve taking a lot of long distance road (like the shops in Artifact) is just barely imaginable. The card games in particular are unique because they don't try to duplicate the game mechanics of traditional card games, such as buying and selling cards. Artifact does this, in part, because the cards in its games are very common, and often associated with a particular color (such as in the case of the Trader's Market in Artifact), and the players tend to be of color. The game mechanics of such a game as a whole are pretty much unchanged, although the card plays become a bit more difficult. The main thrust of the talk here is that the game is inherently complex and therefore a lot of the design decisions involved in creating a game consisting of a single, interdependent, multi-layered system of cards and resources were essentially random. In other games, for example, mechanics such as cost, ability, and redraw cards are relatively straightforward to model and understand. In Artifact, however, there is a hierarchy of decisions that needs to be taken carefully. For instance, can you afford to expand the library of cards you play, or will you have to switch cards between games? If so, what are your options? In short, what is clear in Artifact is that a lot of the work is being done by very few people, and very little is being done by many people at all. And that's a mixed blessing.\n",
            "For one, the game is inherently complex. In theory, you could make a good deck out of this bad. You could make a meta-game out of it. But the outcome of those are completely random. And that's a shame because it is.\n",
            "In practice, however, it's a very accomplished Magic design, having made some of the best decks of all time come from the community he or she has built, and who they have turned into after twenty years as a professional\n",
            "====================\n",
            "\n",
            "I hate Artifact, it sucks the deep down but at least I got to see what they have in common with Valve's, which is bringing in 3D game engine Expertise to the table to make their game.\n",
            "I have played a lot of card games and they definitely have a good game design philosophy and well done company. I look forward to the rest of the card games to follow soon.\n",
            "tl;dr: Very visual, well done engine, well done community, i think i'll come back to it after 5 years\n",
            "Next Game: What about Artifact?\n",
            "I enjoyed playing card games when they existed, but when they went live in 2011 they went out of their way to the point where there weren't any real games for kids to play. And that's a shame as there are really fun games for everyone to play.\n",
            "I bought Artifact in 2011 as a gift from a friend and have been playing since. I have played various formats and and played Magic for a bit now and have a great time. However, I also highly recommend Artifact to people who enjoy a game driven by fun and full of promise. Ive had a fair bit of subscription games in the past few years and by no means an exhaustive review - some of them have some really great mechanics to keep my review under wraps - but I felt they didn't have enough potential in this game to sink my game.\n",
            "The game itself is fantastic. It's a beautiful colour scheme and overall look. The three boards on the right have varying heights and colours that you can add to your deck. Your deck in Artifact is essentially a deck of cards that you can add to the game. You can add items and resources, change the colours of your decks and so on.\n",
            "However, the three colours scheme does have an advantage over what other colours have - stone. Because of this, the three colour scheme does tend to limit your options in the cards. For example, if you have 5% flesh and blood and you have 4% fire, your deck will look like this:\n",
            "This results in the game being a little on the hardier side of things - mostly. But that's ok, it's just a roughand-tumble version of human nature. The three colours scheme does make a huge difference in terms of which colour you have available to you in the end. But how do you choose the right combination of elements for a game like this? Well, you start out by choosing the right colour. Well, you have 4 skills to choose from. Pick one that you think is most closely related to the gameplay. And that's colour... stone.\n",
            "The three colours scheme also severely limits your options in your early turns. You have 4 moves per colour, 4 starting abilities per colour, so starting out on 5 characters and adding them all up takes a lot of patience and planning. But you have 4 base colours, 2 of which are white and 3 are red. You can probably imagine how much planning goes into that 3 levels. But what makes it so hard to choose the right one? Well, you have to spend a minimum of 2 turns. In this mode, you start the game with the strongest card in your deck. Nothing ruins a good game like a hand of stones. You can fix any issue with your cards with the addition of labour, but I'd say it's the biggest mistake I've made as a designer.\n",
            "The minimum required to start the game is 2 stars. Now, I am talking about Valve product, but that's not even mentioning the administrative cost. 2 stars for a system that's designed to make games of chance look bad? That's not even close. 3 stars is the potential financial gain? 4+ wins out of 5 cards in? You know the microtransaction system? You can't even buy your own clothes yet? Don't you want to reward yourself with better things?\n",
            "I've said it before and I'll say it again - you can't recommend Artifact with open lettering and no regard. The only way to redeem the game is to play it, repeatedly, and if you get busted, charged with a Fraudulent Transaction (which I have never been), you know it. You can also can't recommend it without first obtaining the game's official ticket, which is the only way to obtain cards. Yes, you can buy cards on the market, but you must first obtain the cards themselves. And yes, you can only buy and sell cards on the market through active and active player tickets, which are non-refundable. Oh, and by the way, you can only buy cards from the official website and shop at amazon.com/tickets, which are non-refundable.\n",
            "TL;DR - I have 2 weeks left until the game is cancelled/early closed (after all, a game that's already lost more than makes up for any lost players). I have NO other choice but to buy cards than back into the game. And that's just one game, there are many. And with that being\n",
            "====================\n",
            "\n"
          ],
          "name": "stdout"
        }
      ]
    },
    {
      "metadata": {
        "id": "jX8KxDY27hJ0",
        "colab_type": "code",
        "outputId": "4217f3ca-c100-4c63-8e9d-bc7b1f8b8733",
        "colab": {
          "base_uri": "https://localhost:8080/",
          "height": 790
        }
      },
      "cell_type": "code",
      "source": [
        "gpt2.generate(sess,\n",
        "              nsamples=num_samples,\n",
        "              batch_size=num_batches,\n",
        "              prefix='Please, Valve')"
      ],
      "execution_count": 0,
      "outputs": [
        {
          "output_type": "stream",
          "text": [
            "P, Valve give us a fair shake, because for all of you saying that this game doesn't have much depth or variety, it's actually pretty deep and diverse.  There are a lot of skills to learn, and a lot of ways to learn to master them.  Some of them are the strongest: bluff, pass, etc.\n",
            "However, there are some skills that really stand out.  One of them is her incredible multitasking.  She can do almost anything.  Can edit her profile, change her spells, add her subclasses, etc.\n",
            "Her unique deck building mechanics are awesome.  I have two main drafts left in the draft game.  I have a draft chamber that I can play cards from, and a bunch of other cards that I can trade with friends.  Some of them are just amazing: salvaging cards drawn from your library for new spells, artifacts, etc.\n",
            "Rng neutralize+foe+ignition+the enemy can copy these abilities and play with them.  And in some cases, even bring them as an add-on.  It's a whole lot of fun.\n",
            "But just for the sake of argument and argument (as much as I can get my hands on), let's talk about.  Artifacts?  Yes.  Yes they are a type of ability that can be buffed/increased.  Yes they are FX's.  Yes they are/are.\n",
            "However, Artifact has some really strong mechanics that just shouldn't be present in a 2 mana card game.  The stats boosters are a bit of a flop, but they don't seem to be making the game less Fun.  The spells themselves are just terrible.  The best spells come from a very niche genre (TES:L Artifact) and they just aren't worth $$$. The cards that matter are so expensive (roughly half the cost of a card pack) that most players just buy the best cards from the market and hope they will get a good deal on a card, which is simply not the case. Sure, some of the abilities come with powerful mechanics that make playing them very fun, but those are the kind of cards that matter.\n",
            "Throw these cards out the window and you have an extremely unbalanced card game. It's like having a terrible house in which you can't build any good decks.\n",
            "I would not recommend this game to people with a history of alcohol abuse or those who are currently in rehab.\n",
            "A must have for any Blood Bowl aficionado.\n",
            "            Magic the Gathering  and its expansions are awesome.   Magic the Gathering  are like a big brother to this game.  The three main races can play and interact in awesome game styles.  The +1 to communitymentions allows you to roam the community, OR you can completely ignore the game altogether.\n",
            "Great card game that fundamentally doesn't appeal to everyone, but has an awesome gameplay and a good lore.\n",
            "My review:\n",
            "\"awesome card game with awesome interactions\".\n",
            "That is a good review, because the game itself is just terrible. It's deeply flawed, for one. It's heavily influenced heavily by Hearthstone, and for one is profoundly disappointed.\n",
            "The game is poorly designed, for one. The three lanes are renderedin 3 colours, each of which has its own unique play style and lore. The four lanes, on the other hand, are composed of a Circle, a Unique Attackable Unit, and a Unique Defenseable Unit. They interact only rarely, if at all, far out from their central playerbase, which makes for a really frustrating time when one or two of your units can effectively kill your opponent.\n",
            "The game even has a way to prevent enemy heroes from getting to see the game, which is neat, but it also amounts to nothing more than a very bad marketing move for a game designed to appeal to a particular group of people.\n",
            "The game is fun, in and of itself, and the ones that stay are simply immense fun. The three lane meta-game is perhaps the most famous example of this, in part because of the dozens of cards the game has to offer. Many of the mechanics employed in the game today are relatively new to the game, and a large portion of their functionality is still being developed. However, the implementation of fixed base rate of XP for purchases of cards/roadmaps is something the community has been talking about for a long time, and the positive response has only grown.\n",
            "However, the game is ultimately a multi-faceted game, and each of the three lanes of play provides opportunities for cards and play cards cards, respectively. Each lane has its own unique attack and defense options, and each of them affects a different target area in the game. Each of these can potentially kill a different targetable unit, or outright destroy a targetable unit. Depending on the target, different lanes of play can be assigned, with different lanes assigned to different lanes of play, or destroyed\n",
            "====================\n",
            "\n",
            "P, Valve provide us with the following information regarding your use of the Steam Market. We do not warrant or warrant that the information on this page is accurate: 1. The date and time of your purchase. 2. The date and time of any future changes to the market. 3. The message on the Steam Market that you are \"seriously considering\" a future version. See the \"About Us\" section below for more information. 54 55 56 57 58 59 60 61 62 3. TERMS AND CONDITIONS 3.1 \"Termination of the Agreement\" (the \"Agreement\"). This \"Agreement\" requires the following to apply to your continued use of the Market, and the continued use of the Market by you: (i) Your continued use of the Market to engage in, promote, market and otherwise engage in, engage for profit, (ii) Your continued possession of, or other right to use, the Market, including, but not limited to, mods, replays, deck drafts, deckbuilding, market prices, card packs, tournaments, profile pictures, and, of course, your own voice and/or likenesses. 4. The possibility that the Market will, in your opinion, be used in an illegal or abusive manner, even if that use is not considered a crime under state or local law. 5. The possibility of your use of the Market being used to commit a criminal act, such as distributing or attempting to distribute child pornography. 6. The possibility of prosecution for, and, in some jurisdictions, imprisonment for, engaging in, participating in, or participating in: (i) The possession of, or the commission of, child pornography; or (ii) The distribution of, or the commission of, child pornography; or (iii) The purchase, possession or use of, or the commission of, any content that: (I) Is for, or is being sold, for, directly or indirectly through the Market (or another third-party marketplace, such as a credit card market or similar marketplace); (II) Is specifically designed to (i) GIVE you access to or engage in the Trading Card Game (or its components); or (III) \"sell\" the Market to you. 7. The possibility that the Market will (in your opinion, TYPESITES, of which there are a great many; see below);;; (IV) BE used to (i) GIVE you access to, or engage in, the following content: (aa) A Profile Photo; (bb) A Card; (cc) A Card image (with description that says what it does); (dd) A Card text (with description that says what it does); (e0) A Profile Card; (f0) A Card image (with description that says what it does); (g0) A Profile Card; (h0) A Card image; (i1) Tree; (2) Icon; (4) Card Text;; or; and; and; and; and. The Market will close, you will be left with no way to purchase content on the Market (other than by paying for it through the Market, of course); and. Valve will try to address these negative comments with forward-thinking plans and content, but with the heavy-handed tactics of a developer. With every passing day, the silent majority calls the market, they will continue to call it what it is: a scam. Their silence is deafening.\n",
            "This is going to be a long and lengthy review, but before I start I want to give myself some credibility.\n",
            "First of all, I have never written a game before. I don't own any cards, books, or other property.\n",
            "Secondly, the price is so expensive, you'll spend money to build a bad card game. And because you don't own any cards, you don't own the cards you draft with them, either. So yes, you'll spend money to have good cards for draft. And yes, you'll also break even on draft if you run over 50% of the market rate.\n",
            "Finally, Valve made cards useless in this game. Valve made useless. Bad idea.\n",
            "I have to drop this game now. I have to learn the hard way what card games like Hearthstone, Magic, Arcanum, etc do. Do they (or they don't) make cards? I have to look into the legality of those as well.\n",
            "This game is fun. Tried to be like a regular card game, but unlike a regular draft, it keeps getting better and better, and it's going to get ugly pretty soon.\n",
            "I purchased the game about a year ago. Nothing feels better than losing a 3k euro on the shop floor in a foils roll than the loss of a good friend. I love my city and its people but I also love the game, and I will not buy it now.\n",
            "I bought this game to play foils day. Ill play if I'm not doing\n",
            "====================\n",
            "\n",
            "P, Valve, don't do that to you. You are an entity of dust and joy.\n",
            "You were once capable of greatness, Valve. You alone can make it happen.\n",
            "Oh, and by the way, what about the 500 most played WoW games? What about them? Valve made no changes to them beyond the stated stated stated purpose of counting down ranked matches, or the fact that they were a bot, or both.\n",
            "You're just mad.\n",
            "Congratulations! You currently have the most played game in terms of playerbase in WoW. Congratulations, however, are under assault. How can you be optimistic? There is currently an effort made to fix several large issues with the game, and while there may be greater fixes than were suggested, the impact on game play remains to be seen. There is a high chance that some form of competitive ladder will be added to the game, which will substantially affect game play. There is also a high chance that some form of in-game currency will be changed, to the detriment of the game. Due to the nature of digital CCGs, the impact on gameplay will be felt for the very first time. There is a very real chance that this game will become a currency scam, where high-end collectable card games are available to be traded for in-game currency in-game items. This will be extremely disheartening for many, but especially those who have spent more than they're worth, and for those who have not, the game is indeed great. It has an interesting story to tell, and if you're a hardcore CCG player, you'll be thoroughly entertained. But if you're not, steer away. The game itself is engaging and engaging, deeply engaging and fascinating. But the way you earn experience points through card packs by playing and participating in local multiplayer events - those are only partially offset by the game's substantial decline - makes me skeptical about my chances of ever getting a full deck of cards extended the normal amount of times a player(s) joins the game. By comparison, The Division is a far better game, with more replayability and at its core more interesting gameplay.\n",
            "I've played many card games, some have been for real. Hearthstone has mechanics which allow for more variety in your games. while others provide for more of a rigid 'whole deck' structure, in essence all cards in the game are fundamentally your own individualised collection of cards.'.''. which in effect means that what you see in the game is inherently your own individualisation'. It's this sort of view that makes the game such a hit, and makes me skeptical at times. But overall, I think I've enjoyed much of the game. The game itself is engaging and engaging, with its own voice acting and visualisations which really brought out the rambunctiousness of the game itself. But the range of personalities in the game makes it something to be admired even by those who make up its core audience. This, combined with the fact that each game has its own gameplay style makes for a really fun game. And I'm sure many of you are familiar with the series, and would be happy to learn our little secret about the game - that you can play with the people who control your destiny. Well done, fellow player, and well worth a try. And with a tip from your Redditors, follow us on Twitter @GUN_IN_the_ANDROIDINDIA to 'tolerateile' comments and 'Unfair' ranking systems.\n",
            "In summary, I think Artifact is a fantastic game. It has a fantastic gameplay, lots of strategy and fun, but a lot of really heavy lifting done by the hand-drawn characters. It does that by having the distinct feature set of having to interact with the game world in different ways than a normal game. For example, there's the game world, which is a vast physical space, has 4 lanes (2 for heroes and 1 for cards), 5 lanes random card effects, and a random chance at which card that gets your lane selected plays in that lane. There are also cards which get your lane selected randomly, such as Hero Power cards. Other cards which get your pick randomly are cards which get assigned to you by your friends, family or other players. Overall, the overall experience of the game is very good, and I can't say I am a huge fan.\n",
            "However, I do find the way of thinking and the way that the game is played to be very interesting. There is a lot of guesswork in the drafting and manipulating the cards, and the cards which seem to have the strongest impact on the outcome of the game are those which really draw my attention. In theory make your own lanes easier to find, easier to deal damage to since you're dealing with such a large number of cards, and this will help you find cards which, in theory, favour you with the higher chance of success, but which, in practice, favour you with lower chance. But there is a glaring lack of direction\n",
            "====================\n",
            "\n"
          ],
          "name": "stdout"
        }
      ]
    }
  ]
}
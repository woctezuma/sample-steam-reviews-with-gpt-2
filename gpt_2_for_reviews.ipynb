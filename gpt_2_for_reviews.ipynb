{
  "nbformat": 4,
  "nbformat_minor": 0,
  "metadata": {
    "colab": {
      "name": "gpt_2_for_reviews.ipynb",
      "version": "0.3.2",
      "provenance": [],
      "collapsed_sections": []
    },
    "kernelspec": {
      "name": "python3",
      "display_name": "Python 3"
    },
    "accelerator": "GPU"
  },
  "cells": [
    {
      "cell_type": "markdown",
      "metadata": {
        "id": "5u6MjGQAuzWN",
        "colab_type": "text"
      },
      "source": [
        "# Sample Steam Reviews with GPT-2\n",
        "Code inspired from https://github.com/woctezuma/sample-steam-reviews-with-gpt-2"
      ]
    },
    {
      "cell_type": "markdown",
      "metadata": {
        "id": "2KjP9yVVveN1",
        "colab_type": "text"
      },
      "source": [
        "## Setting the GPT-2 model"
      ]
    },
    {
      "cell_type": "markdown",
      "metadata": {
        "colab_type": "text",
        "id": "A1zEYHxh304_"
      },
      "source": [
        "Install the Python package\n",
        "\n",
        "Reference: https://github.com/minimaxir/gpt-2-simple"
      ]
    },
    {
      "cell_type": "code",
      "metadata": {
        "id": "_1ruwgwCuEHd",
        "colab_type": "code",
        "outputId": "47ac0b6c-3080-45d8-af5d-cff2d93125bf",
        "colab": {
          "base_uri": "https://localhost:8080/",
          "height": 201
        }
      },
      "source": [
        "!pip install gpt_2_simple"
      ],
      "execution_count": 1,
      "outputs": [
        {
          "output_type": "stream",
          "text": [
            "Requirement already satisfied: gpt_2_simple in /usr/local/lib/python3.6/dist-packages (0.4.2)\n",
            "Requirement already satisfied: requests in /usr/local/lib/python3.6/dist-packages (from gpt_2_simple) (2.21.0)\n",
            "Requirement already satisfied: regex in /usr/local/lib/python3.6/dist-packages (from gpt_2_simple) (2018.1.10)\n",
            "Requirement already satisfied: toposort in /usr/local/lib/python3.6/dist-packages (from gpt_2_simple) (1.5)\n",
            "Requirement already satisfied: numpy in /usr/local/lib/python3.6/dist-packages (from gpt_2_simple) (1.16.3)\n",
            "Requirement already satisfied: tqdm in /usr/local/lib/python3.6/dist-packages (from gpt_2_simple) (4.28.1)\n",
            "Requirement already satisfied: idna<2.9,>=2.5 in /usr/local/lib/python3.6/dist-packages (from requests->gpt_2_simple) (2.8)\n",
            "Requirement already satisfied: urllib3<1.25,>=1.21.1 in /usr/local/lib/python3.6/dist-packages (from requests->gpt_2_simple) (1.24.2)\n",
            "Requirement already satisfied: chardet<3.1.0,>=3.0.2 in /usr/local/lib/python3.6/dist-packages (from requests->gpt_2_simple) (3.0.4)\n",
            "Requirement already satisfied: certifi>=2017.4.17 in /usr/local/lib/python3.6/dist-packages (from requests->gpt_2_simple) (2019.3.9)\n"
          ],
          "name": "stdout"
        }
      ]
    },
    {
      "cell_type": "markdown",
      "metadata": {
        "id": "nTkq7wEQwEkZ",
        "colab_type": "text"
      },
      "source": [
        "Download the pre-trained model"
      ]
    },
    {
      "cell_type": "code",
      "metadata": {
        "id": "_pdkhHU6wd12",
        "colab_type": "code",
        "colab": {}
      },
      "source": [
        "import gpt_2_simple as gpt2\n",
        "from datetime import datetime\n",
        "from google.colab import files"
      ],
      "execution_count": 0,
      "outputs": []
    },
    {
      "cell_type": "markdown",
      "metadata": {
        "id": "0ggC2Mc75BnB",
        "colab_type": "text"
      },
      "source": [
        "## Downloading GPT-2"
      ]
    },
    {
      "cell_type": "markdown",
      "metadata": {
        "id": "6r3939YUqT9K",
        "colab_type": "text"
      },
      "source": [
        "Choose between `117M` and `345M` models"
      ]
    },
    {
      "cell_type": "code",
      "metadata": {
        "id": "NW4vZzlyqOnc",
        "colab_type": "code",
        "colab": {}
      },
      "source": [
        "# model_name = '117M'\n",
        "model_name = '345M'"
      ],
      "execution_count": 0,
      "outputs": []
    },
    {
      "cell_type": "markdown",
      "metadata": {
        "id": "4_hrBy2DqR5M",
        "colab_type": "text"
      },
      "source": [
        "Download"
      ]
    },
    {
      "cell_type": "code",
      "metadata": {
        "id": "_-If30nT4ZCb",
        "colab_type": "code",
        "outputId": "eaa21581-6378-40c0-8583-98c697adaaa9",
        "colab": {
          "base_uri": "https://localhost:8080/",
          "height": 146
        }
      },
      "source": [
        "gpt2.download_gpt2(model_name=model_name)"
      ],
      "execution_count": 4,
      "outputs": [
        {
          "output_type": "stream",
          "text": [
            "Fetching checkpoint: 1.00kit [00:00, 731kit/s]                                                      \n",
            "Fetching encoder.json: 1.04Mit [00:00, 40.7Mit/s]                                                   \n",
            "Fetching hparams.json: 1.00kit [00:00, 581kit/s]                                                    \n",
            "Fetching model.ckpt.data-00000-of-00001: 1.42Git [00:21, 64.8Mit/s]                                 \n",
            "Fetching model.ckpt.index: 11.0kit [00:00, 2.49Mit/s]                                               \n",
            "Fetching model.ckpt.meta: 927kit [00:00, 32.7Mit/s]                                                 \n",
            "Fetching vocab.bpe: 457kit [00:00, 38.9Mit/s]                                                       \n"
          ],
          "name": "stderr"
        }
      ]
    },
    {
      "cell_type": "markdown",
      "metadata": {
        "id": "e9sI2rah5OyB",
        "colab_type": "text"
      },
      "source": [
        "## Uploading a Text File to be Trained to Colaboratory"
      ]
    },
    {
      "cell_type": "markdown",
      "metadata": {
        "id": "r82T8yOm8jyL",
        "colab_type": "text"
      },
      "source": [
        "#### Either get the data by yourself"
      ]
    },
    {
      "cell_type": "code",
      "metadata": {
        "id": "CsEEvL5b8IDE",
        "colab_type": "code",
        "outputId": "68b2ee3c-17ec-46e8-ae9b-ebf10d537d97",
        "colab": {
          "base_uri": "https://localhost:8080/",
          "height": 72
        }
      },
      "source": [
        "!curl -O https://raw.githubusercontent.com/woctezuma/sample-steam-reviews-with-gpt-2/master/export_review_data.py"
      ],
      "execution_count": 5,
      "outputs": [
        {
          "output_type": "stream",
          "text": [
            "  % Total    % Received % Xferd  Average Speed   Time    Time     Time  Current\n",
            "                                 Dload  Upload   Total   Spent    Left  Speed\n",
            "\r  0     0    0     0    0     0      0      0 --:--:-- --:--:-- --:--:--     0\r100  7198  100  7198    0     0   125k      0 --:--:-- --:--:-- --:--:--  125k\n"
          ],
          "name": "stdout"
        }
      ]
    },
    {
      "cell_type": "code",
      "metadata": {
        "id": "zJLNxAhg8IQz",
        "colab_type": "code",
        "outputId": "7dc33fde-4ec8-4707-954d-b83fa0fc78f0",
        "colab": {
          "base_uri": "https://localhost:8080/",
          "height": 72
        }
      },
      "source": [
        "!curl -O https://raw.githubusercontent.com/woctezuma/sample-steam-reviews-with-gpt-2/master/requirements.txt"
      ],
      "execution_count": 6,
      "outputs": [
        {
          "output_type": "stream",
          "text": [
            "  % Total    % Received % Xferd  Average Speed   Time    Time     Time  Current\n",
            "                                 Dload  Upload   Total   Spent    Left  Speed\n",
            "\r  0     0    0     0    0     0      0      0 --:--:-- --:--:-- --:--:--     0\r100    37  100    37    0     0   1275      0 --:--:-- --:--:-- --:--:--  1275\n"
          ],
          "name": "stdout"
        }
      ]
    },
    {
      "cell_type": "code",
      "metadata": {
        "id": "HMhEG1Xi8UZF",
        "colab_type": "code",
        "outputId": "cac79a71-fc37-41b5-e3c5-eb01fb6a39fe",
        "colab": {
          "base_uri": "https://localhost:8080/",
          "height": 164
        }
      },
      "source": [
        "!pip install -r requirements.txt"
      ],
      "execution_count": 7,
      "outputs": [
        {
          "output_type": "stream",
          "text": [
            "Requirement already satisfied: steamreviews==0.8.0 in /usr/local/lib/python3.6/dist-packages (from -r requirements.txt (line 1)) (0.8.0)\n",
            "Requirement already satisfied: langdetect==1.0.7 in /usr/local/lib/python3.6/dist-packages (from -r requirements.txt (line 2)) (1.0.7)\n",
            "Requirement already satisfied: requests in /usr/local/lib/python3.6/dist-packages (from steamreviews==0.8.0->-r requirements.txt (line 1)) (2.21.0)\n",
            "Requirement already satisfied: six in /usr/local/lib/python3.6/dist-packages (from langdetect==1.0.7->-r requirements.txt (line 2)) (1.12.0)\n",
            "Requirement already satisfied: idna<2.9,>=2.5 in /usr/local/lib/python3.6/dist-packages (from requests->steamreviews==0.8.0->-r requirements.txt (line 1)) (2.8)\n",
            "Requirement already satisfied: urllib3<1.25,>=1.21.1 in /usr/local/lib/python3.6/dist-packages (from requests->steamreviews==0.8.0->-r requirements.txt (line 1)) (1.24.2)\n",
            "Requirement already satisfied: certifi>=2017.4.17 in /usr/local/lib/python3.6/dist-packages (from requests->steamreviews==0.8.0->-r requirements.txt (line 1)) (2019.3.9)\n",
            "Requirement already satisfied: chardet<3.1.0,>=3.0.2 in /usr/local/lib/python3.6/dist-packages (from requests->steamreviews==0.8.0->-r requirements.txt (line 1)) (3.0.4)\n"
          ],
          "name": "stdout"
        }
      ]
    },
    {
      "cell_type": "code",
      "metadata": {
        "id": "LWekXOQGBD1j",
        "colab_type": "code",
        "colab": {}
      },
      "source": [
        "app_id = 583950\n",
        "# app_id = 203770\n",
        "\n",
        "num_days = 28*3 # slightly less than 3 months"
      ],
      "execution_count": 0,
      "outputs": []
    },
    {
      "cell_type": "code",
      "metadata": {
        "id": "A9sMp0WC8aP7",
        "colab_type": "code",
        "colab": {}
      },
      "source": [
        "from export_review_data import apply_workflow_for_app_id\n",
        "\n",
        "apply_workflow_for_app_id(app_id,\n",
        "                          num_days=num_days)"
      ],
      "execution_count": 0,
      "outputs": []
    },
    {
      "cell_type": "markdown",
      "metadata": {
        "id": "7LPbkB998g-B",
        "colab_type": "text"
      },
      "source": [
        "#### Or get a data snapshot from me\n",
        "\n",
        "Currently only possible for Artifact, as an example, because the recommended way is to run the code above for the game of your choice instead."
      ]
    },
    {
      "cell_type": "code",
      "metadata": {
        "id": "FIR9fBid5U2w",
        "colab_type": "code",
        "colab": {}
      },
      "source": [
        "!mkdir -p data/\n",
        "\n",
        "## Either Artifact (recent reviews):\n",
        "# !curl -O https://raw.githubusercontent.com/woctezuma/sample-steam-reviews-with-gpt-2/master/data/with_delimiters/583950.txt\n",
        "# !mv 583950.txt data/\n",
        "\n",
        "## Or Crusader Kings II (all the English reviews):\n",
        "# !curl -O https://raw.githubusercontent.com/wiki/woctezuma/sample-steam-reviews-with-gpt-2/data/with_delimiters/203770.txt\n",
        "# !mv 203770.txt data/"
      ],
      "execution_count": 0,
      "outputs": []
    },
    {
      "cell_type": "markdown",
      "metadata": {
        "id": "AjmpOgoa5y7Q",
        "colab_type": "text"
      },
      "source": [
        "## Finetune GPT-2"
      ]
    },
    {
      "cell_type": "code",
      "metadata": {
        "id": "cu5ctG0DBLIe",
        "colab_type": "code",
        "colab": {}
      },
      "source": [
        "file_name = 'data/' + str(app_id) + '.txt'\n",
        "\n",
        "run_name = model_name + '_reviews_' + str(app_id)"
      ],
      "execution_count": 0,
      "outputs": []
    },
    {
      "cell_type": "code",
      "metadata": {
        "id": "Bfg4HYZl56JJ",
        "colab_type": "code",
        "outputId": "f1d56dda-232a-4fca-bfbf-2b2dba5660e6",
        "colab": {
          "base_uri": "https://localhost:8080/",
          "height": 5933
        }
      },
      "source": [
        "sess = gpt2.start_tf_sess()\n",
        "\n",
        "gpt2.finetune(sess,\n",
        "              run_name=run_name,\n",
        "              dataset=file_name,\n",
        "              model_name=model_name,\n",
        "              steps=1000,\n",
        "              restore_from='fresh',   # change to 'latest' to resume training\n",
        "              print_every=10,   # how many steps between printing progress\n",
        "              sample_every=200,   # how many steps to print a demo sample\n",
        "              save_every=500   # how many steps between saving checkpoint              \n",
        "              )"
      ],
      "execution_count": 12,
      "outputs": [
        {
          "output_type": "stream",
          "text": [
            "WARNING:tensorflow:From /usr/local/lib/python3.6/dist-packages/tensorflow/python/framework/op_def_library.py:263: colocate_with (from tensorflow.python.framework.ops) is deprecated and will be removed in a future version.\n",
            "Instructions for updating:\n",
            "Colocations handled automatically by placer.\n",
            "WARNING:tensorflow:From /usr/local/lib/python3.6/dist-packages/gpt_2_simple/src/sample.py:51: to_float (from tensorflow.python.ops.math_ops) is deprecated and will be removed in a future version.\n",
            "Instructions for updating:\n",
            "Use tf.cast instead.\n",
            "WARNING:tensorflow:From /usr/local/lib/python3.6/dist-packages/gpt_2_simple/src/sample.py:53: multinomial (from tensorflow.python.ops.random_ops) is deprecated and will be removed in a future version.\n",
            "Instructions for updating:\n",
            "Use tf.random.categorical instead.\n",
            "WARNING:tensorflow:From /usr/local/lib/python3.6/dist-packages/tensorflow/python/ops/math_ops.py:3066: to_int32 (from tensorflow.python.ops.math_ops) is deprecated and will be removed in a future version.\n",
            "Instructions for updating:\n",
            "Use tf.cast instead.\n",
            "WARNING:tensorflow:From /usr/local/lib/python3.6/dist-packages/tensorflow/python/ops/math_grad.py:102: div (from tensorflow.python.ops.math_ops) is deprecated and will be removed in a future version.\n",
            "Instructions for updating:\n",
            "Deprecated in favor of operator or tf.math.divide.\n",
            "Loading checkpoint checkpoint/345M_reviews_203770/model-5000\n",
            "WARNING:tensorflow:From /usr/local/lib/python3.6/dist-packages/tensorflow/python/training/saver.py:1266: checkpoint_exists (from tensorflow.python.training.checkpoint_management) is deprecated and will be removed in a future version.\n",
            "Instructions for updating:\n",
            "Use standard file APIs to check for files with this prefix.\n",
            "INFO:tensorflow:Restoring parameters from checkpoint/345M_reviews_203770/model-5000\n"
          ],
          "name": "stdout"
        },
        {
          "output_type": "stream",
          "text": [
            "\r  0%|          | 0/1 [00:00<?, ?it/s]"
          ],
          "name": "stderr"
        },
        {
          "output_type": "stream",
          "text": [
            "Loading dataset...\n"
          ],
          "name": "stdout"
        },
        {
          "output_type": "stream",
          "text": [
            "\r100%|██████████| 1/1 [00:09<00:00,  9.95s/it]\n"
          ],
          "name": "stderr"
        },
        {
          "output_type": "stream",
          "text": [
            "dataset has 1767161 tokens\n",
            "Training...\n",
            "Saving checkpoint/345M_reviews_203770/model-5000\n",
            "======== SAMPLE 1 ========\n",
            "of tumblr and twitter sooo much stuff :3<|endoftext|>\n",
            "<|startoftext|>Great Game. Great Game Review.  But beware that there is a high learning curve and you MUST watch some YouTube let's plays of the game before you do anything.\n",
            "Best game I never played. Would have to kill my wife and marry my cousin again.<|endoftext|>\n",
            "<|startoftext|>I would definitely recommend the game if you are into strategy games of that era. You can play as anyone from a minor vassal to the ruler of an empire. Not only can you command armies and control kingdoms, but you also have to look after your family, who will make the more interesting characters, and so on.\n",
            "A lot of the game is scripted, but that's part of the fun, and there are some great mods available, such as the AGOT and After the End mod, as well as fan made mods, such as the game of thrones mod.\n",
            "There's also a Game of Thrones fan made mod available that will recreate the world of AGOT, which is AMAZING.\n",
            "I cannot recommend the game enough, in fact I have more than 1,400 hours play time, since I spent most of it playing the Nordic countries. Playing the different cultures is so interesting and makes the game so replayable because you can't really expect to only control one big game for a long time.<|endoftext|>\n",
            "<|startoftext|>The absolute best game I have ever played! Very in-depth and very satisfying if you are a fan of the grand strategy genre. Also, you can be anything: from a lowly petty lord to an emperor of vast realms.\n",
            "All the DLC is very good and enhances the gameplay a lot. A must buy for fans of the genre.<|endoftext|>\n",
            "<|startoftext|>This is Game of thrones in a nutshell.\n",
            "You play as a land-holding duke, rather than a feudal lord. You cannot just invade, and conquer land like you would in other games. Instead, this game is about the legacy, where you decide how your family members (children) live their lives.\n",
            "The best thing about this game is that it can be transferred over to other grand strategy games, such as EU4, without any issues.\n",
            "Also, the mod community is very big, and super helpful.\n",
            "8/10<|endoftext|>\n",
            "<|startoftext|>One of the best games I have ever played.  It can be difficult to get the hang of at first, as there is a lot of information to take in.\n",
            "Still an ongoing project, and new content keeps coming.  Some major flaws remain: the interface is very clunky; there isn't really a way to group players with superior graphics; the tutorial is useless; and the game doesn't really explore geo-politics (although many mod creators offer excellent solutions).<|endoftext|>\n",
            "<|startoftext|>Crusader Kings II is a strategy game where you play as a noble family rather than an entire nation. While it has a steep learning curve, once you get the hang of it you can have hundreds of hours of fun playing the game.  And as time goes, so will you... though there are a few glitches that are notable. First of all, the game has a very erratic number of update/download/replace options that break/break parts of the gameplay. That and there are no native soundtracks for the games. So, if you are an avid LP or want to spend some time exploring this game before buying it, things might be hard to enjoy when you aren't downloading new soundtracks.<|endoftext|>\n",
            "<|startoftext|>I have lost many playthroughs to this game and I like that most of the mechanics are different between different types of religions (non-christians for example, muslims for example). There should also be some sort of generic policy that players can select for playing different types of factions.\n",
            "However, I do think there is just so many DLC packs, so that there is much more to do.  Many players request that the base game be taken over and downloaded as a standalone piece instead of as DLC. That would also be a positive thing, especially since most of the DLC is almost entirely cosmetic in nature.\n",
            "My overall rating has changed slightly when playing with or without DLC, so I will stay on the fence about whether or not it is worth the asking price.<|endoftext|>\n",
            "<|startoftext|>In a nutshell this game is awesome. You can play as any medieval lord from the late middle ages right up to the end of the high middle ages. There are so many facets to the game that I simply love it.<|endoftext|>\n",
            "<|startoftext|>The\n",
            "\n",
            "[5010 | 59.88] loss=2.96 avg=2.96\n",
            "[5020 | 76.97] loss=1.96 avg=2.46\n",
            "[5030 | 93.55] loss=2.17 avg=2.36\n",
            "[5040 | 109.84] loss=2.69 avg=2.44\n",
            "[5050 | 126.10] loss=2.03 avg=2.36\n",
            "[5060 | 142.53] loss=2.68 avg=2.41\n",
            "[5070 | 159.11] loss=2.27 avg=2.39\n",
            "[5080 | 175.66] loss=1.83 avg=2.32\n",
            "[5090 | 192.11] loss=1.81 avg=2.26\n",
            "[5100 | 208.49] loss=2.10 avg=2.24\n",
            "[5110 | 224.91] loss=1.30 avg=2.15\n",
            "[5120 | 241.36] loss=1.57 avg=2.10\n",
            "[5130 | 257.83] loss=1.29 avg=2.04\n",
            "[5140 | 274.31] loss=1.85 avg=2.02\n",
            "[5150 | 290.80] loss=0.46 avg=1.91\n",
            "[5160 | 307.29] loss=2.84 avg=1.97\n",
            "[5170 | 323.79] loss=1.67 avg=1.95\n",
            "[5180 | 340.29] loss=1.36 avg=1.92\n",
            "[5190 | 356.79] loss=1.47 avg=1.89\n",
            "[5200 | 373.29] loss=1.42 avg=1.87\n",
            "======== SAMPLE 1 ========\n",
            " the      it   and the   i  (\n",
            "   [  \"   of    . x < \n",
            "\n",
            "\n",
            " .\n",
            "      [ {    \n",
            "  x ,, the \n",
            "\n",
            " - u u?     \n",
            ",  i    | (   and, you is the, \n",
            " a ( < \n",
            ", \" : i, the n- \" '  !\n",
            "!   x \n",
            " and, your and the and?,  \n",
            "   the, in. and? \n",
            " \n",
            "  ,!  of,   \n",
            "/. The  of  *   I I   1 \n",
            "\n",
            "\n",
            " and \n",
            "    A\n",
            " \n",
            "! of and  it  I  I  of you it in  \n",
            "    < ( x>\n",
            "   i\n",
            ":\n",
            " \n",
            "  \n",
            " \n",
            "  \n",
            " the \n",
            " to  a  and\n",
            "\n",
            " I ( is    the n  \n",
            ". *.       : in/\n",
            " \n",
            " .\n",
            "\n",
            " > the    and  x     and you? \n",
            " > a   A 2 [ I I of my        |\n",
            "\n",
            "       \n",
            "\n",
            "    I  *   \n",
            " \n",
            "  the I! The,  <-   and    I     \n",
            "\n",
            "  ,   , i\n",
            "\n",
            "\n",
            "  (    x     . A  the         . The  you   , I      u < of    \n",
            " \n",
            ".  and I,     \n",
            "\n",
            "              , is  '\n",
            " ?  <|endoftext|> the       \n",
            " (        I < you are.               ,         '\n",
            "  \"      [?\n",
            " \n",
            "  < \n",
            " u      , \n",
            " |\n",
            "      the \n",
            "  I   and  and\n",
            " \n",
            "    : <\n",
            "\n",
            "          < or, x <' A         =  \n",
            "  ?   and The   A < 3  i\n",
            " \n",
            "      <   \n",
            "    x,  and in the  a  or   and x.\n",
            " < x u      ,   \n",
            "  a    I A    x [ or  of The         I      (      i t A.\n",
            " \n",
            "\n",
            "  |   I   (  !     <    \n",
            "  , I i be? <|endoftext|>    \n",
            "    >    I?   \n",
            " > \n",
            "\n",
            "\n",
            "\n",
            "  '\n",
            "     \n",
            "     *     i .   a    The .\n",
            " <  \n",
            "\n",
            "   I   i     \n",
            " \n",
            "   and-  = \n",
            "\n",
            "\n",
            "      , to and is not   = 't\n",
            "   <, , u   \n",
            " \n",
            "   (\n",
            " A  in\n",
            "   \"  (  of     * \n",
            ", \n",
            "\n",
            "    I '   (\" \n",
            " \n",
            "\n",
            " The  and and, or   ?\n",
            " < \n",
            "  \n",
            "  \n",
            " i i  the get  . and   ?\n",
            "     a that i      \n",
            ",.?    the it   I have but the \n",
            "      x x      \n",
            "\n",
            "'  ( <\n",
            "  \n",
            "   !\n",
            "   I  i a\n",
            "\n",
            " \n",
            "\n",
            "     ?  I    I i   it   ,  The ,!     <\n",
            "\n",
            "     < a    \n",
            "  \" \n",
            " the < [\n",
            "    ' u ,   \n",
            "\n",
            "[5210 | 411.47] loss=2.55 avg=1.90\n",
            "[5220 | 427.85] loss=1.80 avg=1.90\n",
            "[5230 | 444.29] loss=3.85 avg=1.99\n",
            "[5240 | 460.80] loss=1.30 avg=1.96\n",
            "[5250 | 477.31] loss=2.58 avg=1.99\n",
            "[5260 | 493.78] loss=1.41 avg=1.96\n",
            "[5270 | 510.18] loss=1.14 avg=1.93\n",
            "[5280 | 526.60] loss=1.42 avg=1.91\n",
            "[5290 | 542.98] loss=1.52 avg=1.89\n",
            "[5300 | 559.38] loss=1.64 avg=1.88\n",
            "[5310 | 575.80] loss=1.67 avg=1.87\n",
            "[5320 | 592.23] loss=1.30 avg=1.85\n",
            "[5330 | 608.68] loss=2.71 avg=1.88\n",
            "[5340 | 625.12] loss=3.26 avg=1.93\n",
            "[5350 | 641.56] loss=2.17 avg=1.94\n",
            "[5360 | 658.01] loss=0.88 avg=1.90\n",
            "[5370 | 674.49] loss=1.13 avg=1.88\n",
            "[5380 | 690.96] loss=1.21 avg=1.86\n",
            "[5390 | 707.42] loss=0.71 avg=1.82\n",
            "[5400 | 723.88] loss=1.91 avg=1.83\n",
            "======== SAMPLE 1 ========\n",
            " U, I'm gonna play CKII now!<|endoftext|>\n",
            "<|startoftext|>Crusader Kings is hands down my favourite game and I honestly cannot think of any better way to put it then this. It's so fun to mess with medieval history like so many times throughout Medieval Times, it may not be historically accurate, but this game still has so much fun doing it. It's like game of thrones: you choose a character from Europe to play and then build off of that character's life until the character dies.\n",
            "As a history lover like me, I honestly can't get enough of this game, so if you're like me and love being a part of a dynasty in and game of thrones world, this is one to look out for.\n",
            "10!<|endoftext|>\n",
            "<|startoftext|>Very complex and time consuming, with no true goal except to keep your family alive for as long as possible. Very different from Europa Uni 4 or Hearts of Iron, this game offers diplomacy, intrigue, and conquest through landed and naval warfare. 10/10<|endoftext|>\n",
            "<|startoftext|>A great mix of RTS and RPG:\n",
            "-Great graphics and amazing soundtrack\n",
            "-Medieval religion to control your Kingdom\n",
            "-Medieval to play as characters of your choice,\n",
            "-Become a monk or a leper\n",
            "-Worship Satan\n",
            "-Fight off the Muslims\n",
            "-Worship Satan and other religions\n",
            "-Tumble into inocent eating the fam (or should i say the family)\n",
            "-Form your own religion and be a leper\n",
            "-Make your own custom character with a low starting character count then eat him if you have enough STRENGTH\n",
            "-Conquer lands through force\n",
            "-Liege, Aragon, Egypt, Persia, India, and other lands\n",
            "-Marry your sister whom you got married to and then have affairs with her for extra bonuses (or are that rumors)\n",
            "-Go forth to war and create your own kingdoms and become immortal.\n",
            "-Go forth to war then get sick and die and you play as your weak 3 year old heir and then kill all your previous wives relatives then get assassinated for being gay as hell.\n",
            "-Go forth and war to become strong and so have lots of kids then you die and play as your old imbecile loser brother and then kill him then marry your mother so everyone likes you then laugh at him having so much kids then go forth to war to reclaim the Holy Lands and create more of a kingdom then die and be weak and have lots of kids then you become ill then you die soon and be weak so you are like \"woe is me\" then you just watch your fat king die and be replaced by some other imbecile then you be killed by the Muslims and you play as your weak 2 year old imbecile then your son is a leper so you laugh at him and then you realize if you ever get yourself a decent sized army of 10,000 men he'll die in your arms so you have to play as all the other fat imbecile kings then you become the king of scotland and everyone hates you so you resort to seducing them and go \"screw the pope for a good tuck\" and find him having many children (which you are going to play the rest of your life as) so then you realize you are one of 2 super powers that the world has never seen before so you form your own empire then you have to get the pope to give him more land and then you seduce everyone in the world then they give you their titles and you become the emporer of the Holy Roman Empire then you bend over backwards to please him then you learn to do just about anything you want then you die\n",
            "10/10 would mess with the Pope and become an immortal leper again\n",
            "but its still a fun game\n",
            "P.S. if you are looking for the best game that doesn't suck energy drinks then you should try out EU4 even the achievements are in EU4 for you to get as a history lovers.\n",
            "PS PS this game has fantastic multiplayer, it really does have so much fun doing what multiplayer does it can't do, like party invites or making the horse your chancellor then you get murdered if the enemy you invited to drink your wine has grown up\n",
            "like a game of thrones game on iron man mode<|endoftext|>\n",
            "<|startoftext|>This game has a high learning curve but eventually, you will get invested in your dynasty and understand its goals. Intrigue, politics, scheming, war, politics, Intrigue. This game is not only strategic but also human. Your wife is a cheating bastard. I've only played for 30 minutes but already, understand what makes this game so great. 10/10.<|endoftext|>\n",
            "<|startoftext|>A game where you can\n",
            "\n",
            "[5410 | 762.34] loss=0.99 avg=1.80\n",
            "[5420 | 778.71] loss=0.69 avg=1.77\n",
            "[5430 | 795.12] loss=0.38 avg=1.73\n",
            "[5440 | 811.55] loss=1.26 avg=1.72\n",
            "[5450 | 828.00] loss=0.77 avg=1.69\n",
            "[5460 | 844.48] loss=0.98 avg=1.67\n",
            "[5470 | 860.97] loss=1.30 avg=1.66\n",
            "[5480 | 877.47] loss=1.00 avg=1.64\n",
            "[5490 | 893.95] loss=1.03 avg=1.63\n",
            "[5500 | 910.45] loss=1.03 avg=1.61\n",
            "Saving checkpoint/345M_reviews_203770/model-5500\n",
            "WARNING:tensorflow:From /usr/local/lib/python3.6/dist-packages/tensorflow/python/training/saver.py:966: remove_checkpoint (from tensorflow.python.training.checkpoint_management) is deprecated and will be removed in a future version.\n",
            "Instructions for updating:\n",
            "Use standard file APIs to delete files with this prefix.\n",
            "[5510 | 937.47] loss=1.52 avg=1.61\n",
            "[5520 | 954.39] loss=1.29 avg=1.60\n",
            "[5530 | 971.05] loss=1.67 avg=1.60\n",
            "[5540 | 987.46] loss=1.28 avg=1.60\n",
            "[5550 | 1003.79] loss=1.17 avg=1.59\n",
            "[5560 | 1020.17] loss=1.70 avg=1.59\n",
            "[5570 | 1036.66] loss=1.31 avg=1.58\n",
            "[5580 | 1053.18] loss=1.11 avg=1.57\n",
            "[5590 | 1069.67] loss=0.45 avg=1.55\n",
            "[5600 | 1086.13] loss=1.60 avg=1.55\n",
            "======== SAMPLE 1 ========\n",
            " it                                                                                                                                                                                                                                                                                                                                                                                                                                                                                                                                                                                                                                                                                                                                                                                                                                                                                                                                                                                                                                                               \n",
            "\n",
            "[5610 | 1124.47] loss=1.30 avg=1.54\n",
            "[5620 | 1140.93] loss=3.14 avg=1.58\n",
            "[5630 | 1157.36] loss=1.11 avg=1.57\n",
            "[5640 | 1173.79] loss=1.70 avg=1.57\n",
            "[5650 | 1190.23] loss=1.73 avg=1.57\n",
            "[5660 | 1206.67] loss=0.51 avg=1.55\n",
            "[5670 | 1223.10] loss=0.77 avg=1.54\n",
            "[5680 | 1239.51] loss=1.69 avg=1.54\n",
            "[5690 | 1255.93] loss=1.29 avg=1.53\n",
            "[5700 | 1272.37] loss=1.39 avg=1.53\n",
            "[5710 | 1288.79] loss=0.84 avg=1.52\n",
            "[5720 | 1305.23] loss=1.21 avg=1.51\n",
            "[5730 | 1321.65] loss=1.68 avg=1.51\n",
            "[5740 | 1338.06] loss=0.84 avg=1.50\n",
            "[5750 | 1354.48] loss=2.24 avg=1.52\n",
            "[5760 | 1370.89] loss=1.43 avg=1.51\n",
            "[5770 | 1387.31] loss=2.46 avg=1.53\n",
            "[5780 | 1403.70] loss=1.02 avg=1.52\n",
            "[5790 | 1420.09] loss=2.04 avg=1.53\n",
            "[5800 | 1436.50] loss=1.19 avg=1.52\n",
            "======== SAMPLE 1 ========\n",
            "\n",
            "                                                                                                                                                                                                                                                                                                                                                                                                                                                                                                                                                                                                                                                                                                                                                                                                                                                                                                                                                                                                                                                                \n",
            "\n",
            "[5810 | 1475.18] loss=1.07 avg=1.52\n",
            "[5820 | 1491.60] loss=0.67 avg=1.50\n",
            "[5830 | 1508.02] loss=1.87 avg=1.51\n",
            "[5840 | 1524.42] loss=1.14 avg=1.50\n",
            "[5850 | 1540.83] loss=1.97 avg=1.51\n",
            "[5860 | 1557.23] loss=0.98 avg=1.50\n",
            "[5870 | 1573.64] loss=2.42 avg=1.52\n",
            "[5880 | 1590.04] loss=2.15 avg=1.53\n",
            "[5890 | 1606.48] loss=0.75 avg=1.51\n",
            "[5900 | 1622.91] loss=1.49 avg=1.51\n",
            "[5910 | 1639.33] loss=1.64 avg=1.52\n",
            "[5920 | 1655.74] loss=1.38 avg=1.51\n",
            "[5930 | 1672.16] loss=1.19 avg=1.51\n",
            "[5940 | 1688.59] loss=0.96 avg=1.50\n",
            "[5950 | 1705.02] loss=1.69 avg=1.50\n",
            "[5960 | 1721.45] loss=1.09 avg=1.50\n",
            "[5970 | 1737.87] loss=2.35 avg=1.51\n",
            "[5980 | 1754.31] loss=0.64 avg=1.50\n",
            "[5990 | 1770.74] loss=0.51 avg=1.48\n",
            "[6000 | 1787.17] loss=0.67 avg=1.47\n",
            "Saving checkpoint/345M_reviews_203770/model-6000\n"
          ],
          "name": "stdout"
        }
      ]
    },
    {
      "cell_type": "markdown",
      "metadata": {
        "id": "-BK1U2dRuR6I",
        "colab_type": "text"
      },
      "source": [
        "## Save a Trained Model Checkpoint"
      ]
    },
    {
      "cell_type": "code",
      "metadata": {
        "id": "csfQ7zoi5gWu",
        "colab_type": "code",
        "colab": {
          "base_uri": "https://localhost:8080/",
          "height": 35
        },
        "outputId": "51265bea-1ab8-44c6-fcc2-440603b8ce69"
      },
      "source": [
        "# gpt2.mount_gdrive()"
      ],
      "execution_count": 25,
      "outputs": [
        {
          "output_type": "stream",
          "text": [
            "Drive already mounted at /content/drive; to attempt to forcibly remount, call drive.mount(\"/content/drive\", force_remount=True).\n"
          ],
          "name": "stdout"
        }
      ]
    },
    {
      "cell_type": "code",
      "metadata": {
        "id": "OHD_aIEhMVcI",
        "colab_type": "code",
        "colab": {
          "base_uri": "https://localhost:8080/",
          "height": 237
        },
        "outputId": "d75054de-f80a-4206-86b9-22e15a03e107"
      },
      "source": [
        "# !tar -cvf review-model-checkpoint.tar checkpoint/345M_reviews_203770/"
      ],
      "execution_count": 26,
      "outputs": [
        {
          "output_type": "stream",
          "text": [
            "checkpoint/345M_reviews_203770/\n",
            "checkpoint/345M_reviews_203770/events.out.tfevents.1557293346.a0969606a7f4\n",
            "checkpoint/345M_reviews_203770/hparams.json\n",
            "checkpoint/345M_reviews_203770/counter\n",
            "checkpoint/345M_reviews_203770/model-6000.index\n",
            "checkpoint/345M_reviews_203770/encoder.json\n",
            "checkpoint/345M_reviews_203770/checkpoint\n",
            "checkpoint/345M_reviews_203770/model-6000.meta\n",
            "checkpoint/345M_reviews_203770/model-6000.data-00000-of-00001\n",
            "checkpoint/345M_reviews_203770/events.out.tfevents.1557298585.a0969606a7f4\n",
            "checkpoint/345M_reviews_203770/vocab.bpe\n",
            "checkpoint/345M_reviews_203770/events.out.tfevents.1557307383.a0969606a7f4\n"
          ],
          "name": "stdout"
        }
      ]
    },
    {
      "cell_type": "code",
      "metadata": {
        "id": "fdiJ9ZumMoho",
        "colab_type": "code",
        "colab": {}
      },
      "source": [
        "# !scp review-model-checkpoint.tar '/content/drive/My Drive/'"
      ],
      "execution_count": 0,
      "outputs": []
    },
    {
      "cell_type": "markdown",
      "metadata": {
        "id": "buHDxtUIfikS",
        "colab_type": "text"
      },
      "source": [
        "## Load a Trained Model Checkpoint"
      ]
    },
    {
      "cell_type": "code",
      "metadata": {
        "id": "shTR7bzRgTkS",
        "colab_type": "code",
        "colab": {}
      },
      "source": [
        "# gpt2.mount_gdrive()"
      ],
      "execution_count": 0,
      "outputs": []
    },
    {
      "cell_type": "code",
      "metadata": {
        "id": "JILs1rBXfiEA",
        "colab_type": "code",
        "colab": {}
      },
      "source": [
        "# !scp '/content/drive/My Drive/review-model-checkpoint.tar' ."
      ],
      "execution_count": 0,
      "outputs": []
    },
    {
      "cell_type": "code",
      "metadata": {
        "id": "pL0sD3oTfqil",
        "colab_type": "code",
        "colab": {}
      },
      "source": [
        "# !tar -xvf review-model-checkpoint.tar"
      ],
      "execution_count": 0,
      "outputs": []
    },
    {
      "cell_type": "markdown",
      "metadata": {
        "id": "vX8KFoKR6g-o",
        "colab_type": "text"
      },
      "source": [
        "## Generate Text From The Trained Model"
      ]
    },
    {
      "cell_type": "code",
      "metadata": {
        "id": "R2RBA9hMIFlQ",
        "colab_type": "code",
        "colab": {}
      },
      "source": [
        "temperature=0.7 # Default is 0.7, but you may want to increase the temperature, especially if your dataset is small, to avoid copying text.\n",
        "\n",
        "num_samples = 3\n",
        "num_batches = 3 # Unique to GPT-2, you can pass a batch_size to generate multiple samples in parallel, giving a massive speedup."
      ],
      "execution_count": 0,
      "outputs": []
    },
    {
      "cell_type": "code",
      "metadata": {
        "id": "KYC30GEi6kPv",
        "colab_type": "code",
        "outputId": "1db16707-0d3e-4a6f-8158-336d30e26f13",
        "colab": {
          "base_uri": "https://localhost:8080/",
          "height": 202
        }
      },
      "source": [
        "gpt2.generate(sess,\n",
        "              run_name=run_name,\n",
        "              nsamples=num_samples,\n",
        "              batch_size=num_batches,\n",
        "              temperature=temperature)              "
      ],
      "execution_count": 20,
      "outputs": [
        {
          "output_type": "stream",
          "text": [
            "                                                                                                                                                                                                                                                                                                                                                                                                                                                                                                                                                                                                                                                                                                                                                                                                                                                                                                                                                                                                                                                               \n",
            "====================\n",
            "\n",
            "                                                                                                                                                                                                                                                                                                                                                                                                                                                                                                                                                                                                                                                                                                                                                                                                                                                                                                                                                                                                                                                               \n",
            "====================\n",
            "\n",
            "                                                                                                                                                                                                                                                                                                                                                                                                                                                                                                                                                                                                                                                                                                                                                                                                                                                                                                                                                                                                                                                               \n",
            "====================\n",
            "\n"
          ],
          "name": "stdout"
        }
      ]
    },
    {
      "cell_type": "code",
      "metadata": {
        "id": "jrZBWas662k_",
        "colab_type": "code",
        "outputId": "4108d386-d164-4e70-9469-9d56b47be42e",
        "colab": {
          "base_uri": "https://localhost:8080/",
          "height": 239
        }
      },
      "source": [
        "gpt2.generate(sess,\n",
        "              run_name=run_name,\n",
        "              nsamples=num_samples,\n",
        "              batch_size=num_batches,\n",
        "              temperature=temperature,\n",
        "              prefix='<|startoftext|>I love',\n",
        "              truncate='<|endoftext|>')"
      ],
      "execution_count": 21,
      "outputs": [
        {
          "output_type": "stream",
          "text": [
            "<|startoftext|>I love this game, I have put over 300 hours into it. It is one of my most played games, but I do not play it enough to recommend it.\n",
            "This game is, in my opinion, one of the least developed games out there. The whole game is a spreadsheet with pretty much just a map and stats.  You move your army around the world trying to keep up with the rapid changes in technology.  The game doesn't really have a story or a character development, it is more like a giant sim where the player simulates the rise and fall of a dynasty over hundreds of years.  The only story that really happens is the one you create for yourself.  If you want to try creating your own story, and expand your empire, and lose everything because your dynasty is fucking screwed up, that is the story.\n",
            "I do not reccomend this game to anyone.  There are too many DLCs and each of them costs too much.  I have bought some DLC, but I only have about 30 hours into the game so I cannot say how the full experience is like.  It is just too bad since it is a great game otherwise.\n",
            "====================\n",
            "\n",
            "<|startoftext|>I love this game and I am not going to complain about the dlc. I played like 600 hours before even got the game on steam, so it is a bit expensive for what you get.  I still bought some dlc on steam, just because of the fact that some are not in steam, and others are on sale a lot.  I think the game is worth it, but for what you get, it is way too expensive.  I am not gluttonous, so I ate some meat and cheese, but I regret it.  I never go back to the game.  I would give it a 10/10 just because of how enjoyable it was.\n",
            "====================\n",
            "\n",
            "<|startoftext|>I love this game, it's deep and rich and keeps me coming back time and time again just to see what happens. The possibilities are endless and the joy of building a dynasty and then seeing it all come to an end because your current leader died in combat.\n",
            "====================\n",
            "\n"
          ],
          "name": "stdout"
        }
      ]
    },
    {
      "cell_type": "code",
      "metadata": {
        "id": "VEAeBOlS7eCY",
        "colab_type": "code",
        "outputId": "c124db8f-ed1f-4873-cab4-9e5b9784dbc9",
        "colab": {
          "base_uri": "https://localhost:8080/",
          "height": 239
        }
      },
      "source": [
        "gpt2.generate(sess,\n",
        "              run_name=run_name,\n",
        "              nsamples=num_samples,\n",
        "              batch_size=num_batches,\n",
        "              temperature=temperature,\n",
        "              prefix='<|startoftext|>I hate',\n",
        "              truncate='<|endoftext|>')              "
      ],
      "execution_count": 22,
      "outputs": [
        {
          "output_type": "stream",
          "text": [
            "<|startoftext|>I hate how some of the game comments refer to you as just \"CK2\", insinuating that you are anything but a humble king. This game is nothing like any strategy games you have played, and even playing as a lowly count is a challenge. There are so many facets to this game, and it is one of the most complex games I have ever played. Even if you somehow manage to become the Emperor of Byzantium, it will still be a game of strategy.\n",
            "10/10\n",
            "====================\n",
            "\n",
            "<|startoftext|>I hate to give bad reviews for a game that is really good, but the DLC policy for all of paradox's games really makes this a bad game. All of the DLC for this game are really overpriced and really change the game (of which I only example) in a bad way. I can not recommend this game at all, I would rather get one for free.\n",
            "====================\n",
            "\n",
            "<|startoftext|>I hate to give negative reviews for a game that I, personally, love, but it has cost me a ton of money and time to enjoy it.  I have to admit, after the base game was released, I was a bit underwhelmed.  I didn't think I would like it beyond the learning curb.  Then I saw the DLC.  It's complete rip offs. $200 for the complete edition of the game with all the DLC.  I would rather spend that money on Dunkle Infinity, Tomb Raider, or whatever the newest title is.  I would rather spend it on Tomb Raider!\n",
            "I would not even blink when it comes to the amount of time these games consume my life, or the amount of enjoyment they can give me.  I work long hours, play multiplayer, have multiple accounts, pay for DLC's, play Ironman mode, and overall, I enjoy these titles.  I understand how they may be making $200 dollars an hour, but it's better than working 40+ hours a week at a job I, personally, love.  I wouldnt even trade my shitty computer for a promotion, especially since they, in my opinion, sell the software for much cheaper than they' actual price.\n",
            "====================\n",
            "\n"
          ],
          "name": "stdout"
        }
      ]
    },
    {
      "cell_type": "code",
      "metadata": {
        "id": "jX8KxDY27hJ0",
        "colab_type": "code",
        "outputId": "316a22e3-fc61-43d5-f374-11dbfe4ad673",
        "colab": {
          "base_uri": "https://localhost:8080/",
          "height": 202
        }
      },
      "source": [
        "gpt2.generate(sess,\n",
        "              run_name=run_name,\n",
        "              nsamples=num_samples,\n",
        "              batch_size=num_batches,\n",
        "              temperature=temperature,\n",
        "              prefix='<|startoftext|>Please',\n",
        "              truncate='<|endoftext|>')"
      ],
      "execution_count": 23,
      "outputs": [
        {
          "output_type": "stream",
          "text": [
            "<|startoftext|>Please note that the game has a HUGE learning curve. If you want to play this game, you have to put in many hours and DO a LOT of reading. If you want a game that lets you kill a family member, to take their place as king of a huge empire, to run a kingdom that covers all of Europe and northern Africa, to design your own character and history, it's not for you. If you do buy it, you will get an addiction like no other game.\n",
            "====================\n",
            "\n",
            "<|startoftext|>Please make a sequel to this gem. The constant updates and DLCs for it is what makes it great. I'm not a fan of DLC, but I know many people who think it's worth it. I think it's more than worth it, though I think I'd wait for a sale before getting it.\n",
            "====================\n",
            "\n",
            "<|startoftext|>Please make a better medieval politics game. I spent a couple hundred hours in EU4 and I'm not bored. Please make a CK3.\n",
            "====================\n",
            "\n"
          ],
          "name": "stdout"
        }
      ]
    },
    {
      "cell_type": "code",
      "metadata": {
        "id": "ppNhFzjPIVZN",
        "colab_type": "code",
        "outputId": "b93d929d-bb95-4551-898c-b1c7b15e149e",
        "colab": {
          "base_uri": "https://localhost:8080/",
          "height": 478
        }
      },
      "source": [
        "gpt2.generate(sess,\n",
        "              run_name=run_name,\n",
        "              nsamples=num_samples,\n",
        "              batch_size=num_batches,\n",
        "              temperature=temperature,\n",
        "              prefix='<|startoftext|>This game has near infinite replay value',\n",
        "              truncate='<|endoftext|>')              "
      ],
      "execution_count": 24,
      "outputs": [
        {
          "output_type": "stream",
          "text": [
            "<|startoftext|>This game has near infinite replay value. It is more about the story you create than it is about military conquest.\n",
            "I have played for hundreds of hours and I still feel like I have a lot to learn. If you are a history buff, this game is essential.\n",
            "The mechanics are hard to master, but once you get over the learning curb, it will be a ton of fun.\n",
            "The graphics are nothing spectacular, but they are functional.\n",
            "9/10\n",
            "OVERALL REVIEW: 8.5/10\n",
            "GRAPHICS: 8/10\n",
            "CREATION MECHANISM: 7/10\n",
            "INTEGRATION: 8/10\n",
            "LENGTH: 9/10\n",
            "CREATION MECHANISM: 9/10\n",
            "PUNISHMENT: 9/10\n",
            "REASON: 8/10\n",
            "REASONABLE: 9/10\n",
            "RATING: 8.5/10\n",
            "[b]OVERALL SCORE: 8.5/10[/b]\n",
            "====================\n",
            "\n",
            "<|startoftext|>This game has near infinite replay value. I have hundreds of hours invested and still finding new ways to play. If you are a fan of grand strategy this is definitely a must have. I rate it a 8/10\n",
            "====================\n",
            "\n",
            "<|startoftext|>This game has near infinite replay value, and with the great game of thrones mod this game can be even better. It can be hard to learn at first but after you figure out most of the mechanics you begin to enjoy playing this game. I would reccomend this game to anyone who enjoys strategy type games.\n",
            "====================\n",
            "\n"
          ],
          "name": "stdout"
        }
      ]
    }
  ]
}